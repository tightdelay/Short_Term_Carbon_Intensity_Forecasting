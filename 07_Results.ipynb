{
 "cells": [
  {
   "cell_type": "code",
   "execution_count": 37,
   "metadata": {},
   "outputs": [
    {
     "data": {
      "text/html": [
       "<style>.container { width:90% !important; }</style>"
      ],
      "text/plain": [
       "<IPython.core.display.HTML object>"
      ]
     },
     "metadata": {},
     "output_type": "display_data"
    }
   ],
   "source": [
    "#optional width adjustment\n",
    "from IPython.display import display, HTML\n",
    "display(HTML(\"<style>.container { width:90% !important; }</style>\"))"
   ]
  },
  {
   "cell_type": "code",
   "execution_count": 2,
   "metadata": {},
   "outputs": [],
   "source": [
    "import pandas as pd\n",
    "from sklearn.metrics import mean_absolute_percentage_error\n",
    "\n",
    "import matplotlib.pyplot as plt"
   ]
  },
  {
   "cell_type": "code",
   "execution_count": 3,
   "metadata": {},
   "outputs": [],
   "source": [
    "# Template for repeated structure\n",
    "result = {\n",
    "    \"results_arima\": None,\n",
    "    \"results_sarima\": None,\n",
    "    \"results_tft\": None,\n",
    "    \"mape_arima\": None,\n",
    "    \"mape_sarima\":None,\n",
    "    \"mape_tft\": None\n",
    "}\n",
    "\n",
    "# Main dictionary using the template\n",
    "TSO_dict = {\n",
    "    \"50HZ\": {\n",
    "        \"name\": \"50hz\",\n",
    "        **result\n",
    "    },\n",
    "    \"Amprion\": {\n",
    "        \"name\": \"amprion\",\n",
    "        **result\n",
    "    },\n",
    "    \"Tennet\": {\n",
    "        \"name\": \"tennet\",\n",
    "        **result\n",
    "    },\n",
    "    \"TransnetBW\": {\n",
    "        \"name\": \"transnet\",\n",
    "        **result\n",
    "    }\n",
    "}\n"
   ]
  },
  {
   "cell_type": "code",
   "execution_count": 31,
   "metadata": {},
   "outputs": [],
   "source": [
    "# \n",
    "for i in TSO_dict:\n",
    "  TSO_dict[i]['results_arima'] = pd.read_parquet(f\"data/arima_results_test_{TSO_dict[i]['name']}.parquet\")\n",
    "  TSO_dict[i]['results_sarima'] = pd.read_parquet(f\"data/sarima_results_test_{TSO_dict[i]['name']}_400_40024.parquet\")\n",
    "  TSO_dict[i]['results_tft'] = pd.read_parquet(f\"data/tft_results_test_{TSO_dict[i]['name']}.parquet\")\n",
    "  TSO_dict[i]['mape_arima'] = mean_absolute_percentage_error(TSO_dict[i]['results_arima']['actual'],TSO_dict[i]['results_arima']['forecast'])\n",
    "  TSO_dict[i]['mape_sarima'] = mean_absolute_percentage_error(TSO_dict[i]['results_sarima']['actual'],TSO_dict[i]['results_sarima']['forecast'])\n",
    "  TSO_dict[i]['mape_tft'] = mean_absolute_percentage_error(TSO_dict[i]['results_tft']['target'],TSO_dict[i]['results_tft']['forecast'])\n",
    "  #TSO_dict[i]['results_arima']['mape'] = mean_absolute_percentage_error(TSO_dict[i]['results_arima']['actual'],TSO_dict[i]['results_arima']['forecast'])\n",
    "  #TSO_dict[i]['results_sarima']['mape'] = mean_absolute_percentage_error(TSO_dict[i]['results_arima']['actual'],TSO_dict[i]['results_arima']['forecast'])  \n",
    "  #TSO_dict[i]['results_tft']['mape'] = mean_absolute_percentage_error(TSO_dict[i]['results_tft']['target'],TSO_dict[i]['results_tft']['forecast'])"
   ]
  },
  {
   "cell_type": "markdown",
   "metadata": {},
   "source": [
    "## Performance Results of ARIMA, SARIMA and TFT for each TSO zone"
   ]
  },
  {
   "cell_type": "code",
   "execution_count": 17,
   "metadata": {},
   "outputs": [
    {
     "name": "stdout",
     "output_type": "stream",
     "text": [
      "MAPE 50HZ       ARIMA: 0.2486          SARIMA: 0.1841          TFT: 0.2897         \n",
      "MAPE Amprion    ARIMA: 0.1965          SARIMA: 0.1539          TFT: 0.2279         \n",
      "MAPE Tennet     ARIMA: 0.3655          SARIMA: 0.2733          TFT: 0.3743         \n",
      "MAPE TransnetBW ARIMA: 0.2604          SARIMA: 0.1885          TFT: 0.2303         \n"
     ]
    }
   ],
   "source": [
    "for i in TSO_dict:\n",
    "    print(f\"MAPE {i:<10} ARIMA: {round(TSO_dict[i]['mape_arima'], 4):<15} SARIMA: {round(TSO_dict[i]['mape_sarima'], 4):<15} TFT: {round(TSO_dict[i]['mape_tft'], 4):<15}\")\n"
   ]
  },
  {
   "cell_type": "markdown",
   "metadata": {},
   "source": [
    "## Performance Results of ARIMA, SARIMA and TFT for each TSO zone divided by Summer and Winter 2023"
   ]
  },
  {
   "cell_type": "code",
   "execution_count": 24,
   "metadata": {},
   "outputs": [
    {
     "data": {
      "text/html": [
       "<div>\n",
       "<style scoped>\n",
       "    .dataframe tbody tr th:only-of-type {\n",
       "        vertical-align: middle;\n",
       "    }\n",
       "\n",
       "    .dataframe tbody tr th {\n",
       "        vertical-align: top;\n",
       "    }\n",
       "\n",
       "    .dataframe thead th {\n",
       "        text-align: right;\n",
       "    }\n",
       "</style>\n",
       "<table border=\"1\" class=\"dataframe\">\n",
       "  <thead>\n",
       "    <tr style=\"text-align: right;\">\n",
       "      <th></th>\n",
       "      <th>Model</th>\n",
       "      <th>TSO</th>\n",
       "      <th>Overall MAPE</th>\n",
       "      <th>MAPE Summer</th>\n",
       "      <th>MAPE Winter</th>\n",
       "      <th>Improvement</th>\n",
       "    </tr>\n",
       "  </thead>\n",
       "  <tbody>\n",
       "    <tr>\n",
       "      <th>0</th>\n",
       "      <td>ARIMA</td>\n",
       "      <td>50HZ</td>\n",
       "      <td>0.2486</td>\n",
       "      <td>0.3038</td>\n",
       "      <td>0.1774</td>\n",
       "      <td>-0.4161</td>\n",
       "    </tr>\n",
       "    <tr>\n",
       "      <th>1</th>\n",
       "      <td>ARIMA</td>\n",
       "      <td>Amprion</td>\n",
       "      <td>0.1965</td>\n",
       "      <td>0.2126</td>\n",
       "      <td>0.1530</td>\n",
       "      <td>-0.2802</td>\n",
       "    </tr>\n",
       "    <tr>\n",
       "      <th>2</th>\n",
       "      <td>ARIMA</td>\n",
       "      <td>Tennet</td>\n",
       "      <td>0.3655</td>\n",
       "      <td>0.4248</td>\n",
       "      <td>0.2535</td>\n",
       "      <td>-0.4033</td>\n",
       "    </tr>\n",
       "    <tr>\n",
       "      <th>3</th>\n",
       "      <td>ARIMA</td>\n",
       "      <td>TransnetBW</td>\n",
       "      <td>0.2604</td>\n",
       "      <td>0.3065</td>\n",
       "      <td>0.1762</td>\n",
       "      <td>-0.4253</td>\n",
       "    </tr>\n",
       "    <tr>\n",
       "      <th>4</th>\n",
       "      <td>SARIMA</td>\n",
       "      <td>50HZ</td>\n",
       "      <td>0.2486</td>\n",
       "      <td>0.1773</td>\n",
       "      <td>0.1825</td>\n",
       "      <td>0.0294</td>\n",
       "    </tr>\n",
       "    <tr>\n",
       "      <th>5</th>\n",
       "      <td>SARIMA</td>\n",
       "      <td>Amprion</td>\n",
       "      <td>0.1965</td>\n",
       "      <td>0.1489</td>\n",
       "      <td>0.1589</td>\n",
       "      <td>0.0675</td>\n",
       "    </tr>\n",
       "    <tr>\n",
       "      <th>6</th>\n",
       "      <td>SARIMA</td>\n",
       "      <td>Tennet</td>\n",
       "      <td>0.3655</td>\n",
       "      <td>0.2519</td>\n",
       "      <td>0.2560</td>\n",
       "      <td>0.0162</td>\n",
       "    </tr>\n",
       "    <tr>\n",
       "      <th>7</th>\n",
       "      <td>SARIMA</td>\n",
       "      <td>TransnetBW</td>\n",
       "      <td>0.2604</td>\n",
       "      <td>0.1946</td>\n",
       "      <td>0.1699</td>\n",
       "      <td>-0.1269</td>\n",
       "    </tr>\n",
       "    <tr>\n",
       "      <th>8</th>\n",
       "      <td>TFT</td>\n",
       "      <td>50HZ</td>\n",
       "      <td>0.2486</td>\n",
       "      <td>0.2947</td>\n",
       "      <td>0.3433</td>\n",
       "      <td>0.1648</td>\n",
       "    </tr>\n",
       "    <tr>\n",
       "      <th>9</th>\n",
       "      <td>TFT</td>\n",
       "      <td>Amprion</td>\n",
       "      <td>0.1965</td>\n",
       "      <td>0.2396</td>\n",
       "      <td>0.2494</td>\n",
       "      <td>0.0409</td>\n",
       "    </tr>\n",
       "    <tr>\n",
       "      <th>10</th>\n",
       "      <td>TFT</td>\n",
       "      <td>Tennet</td>\n",
       "      <td>0.3655</td>\n",
       "      <td>0.3365</td>\n",
       "      <td>0.4325</td>\n",
       "      <td>0.2851</td>\n",
       "    </tr>\n",
       "    <tr>\n",
       "      <th>11</th>\n",
       "      <td>TFT</td>\n",
       "      <td>TransnetBW</td>\n",
       "      <td>0.2604</td>\n",
       "      <td>0.2430</td>\n",
       "      <td>0.2025</td>\n",
       "      <td>-0.1665</td>\n",
       "    </tr>\n",
       "  </tbody>\n",
       "</table>\n",
       "</div>"
      ],
      "text/plain": [
       "     Model         TSO  Overall MAPE  MAPE Summer  MAPE Winter  Improvement\n",
       "0    ARIMA        50HZ        0.2486       0.3038       0.1774      -0.4161\n",
       "1    ARIMA     Amprion        0.1965       0.2126       0.1530      -0.2802\n",
       "2    ARIMA      Tennet        0.3655       0.4248       0.2535      -0.4033\n",
       "3    ARIMA  TransnetBW        0.2604       0.3065       0.1762      -0.4253\n",
       "4   SARIMA        50HZ        0.2486       0.1773       0.1825       0.0294\n",
       "5   SARIMA     Amprion        0.1965       0.1489       0.1589       0.0675\n",
       "6   SARIMA      Tennet        0.3655       0.2519       0.2560       0.0162\n",
       "7   SARIMA  TransnetBW        0.2604       0.1946       0.1699      -0.1269\n",
       "8      TFT        50HZ        0.2486       0.2947       0.3433       0.1648\n",
       "9      TFT     Amprion        0.1965       0.2396       0.2494       0.0409\n",
       "10     TFT      Tennet        0.3655       0.3365       0.4325       0.2851\n",
       "11     TFT  TransnetBW        0.2604       0.2430       0.2025      -0.1665"
      ]
     },
     "metadata": {},
     "output_type": "display_data"
    }
   ],
   "source": [
    "import pandas as pd\n",
    "\n",
    "data = []\n",
    "\n",
    "# ARIMA Results\n",
    "for i in TSO_dict:\n",
    "    TSO_dict[i][\"file\"] = pd.read_parquet(f\"data/arima_results_test_{TSO_dict[i]['name']}.parquet\")\n",
    "    TSO_dict[i][\"mape\"] = mean_absolute_percentage_error(TSO_dict[i][\"file\"][\"actual\"], TSO_dict[i][\"file\"][\"forecast\"])\n",
    "    result_summer = TSO_dict[i][\"file\"].loc[\"2023-06\":\"2023-08\"]\n",
    "    result_winter = TSO_dict[i][\"file\"].loc[\"2023-12\":\"2024-02\"]\n",
    "    mape_summer = mean_absolute_percentage_error(result_summer[\"actual\"], result_summer[\"forecast\"])\n",
    "    mape_winter = mean_absolute_percentage_error(result_winter[\"actual\"], result_winter[\"forecast\"])\n",
    "    mape_improvement = (mape_winter - mape_summer) / mape_summer\n",
    "    data.append({'Model': 'ARIMA', 'TSO': i, 'Overall MAPE': round(TSO_dict[i][\"mape\"], 4),\n",
    "                 'MAPE Summer': round(mape_summer, 4), 'MAPE Winter': round(mape_winter, 4),\n",
    "                 'Improvement': round(mape_improvement, 4)})\n",
    "\n",
    "# SARIMA Results\n",
    "for i in TSO_dict:\n",
    "    result_summer = TSO_dict[i]['results_sarima'].loc[\"2023-06\":\"2023-08\"]\n",
    "    result_winter = TSO_dict[i]['results_sarima'].loc[\"2023-12\":\"2024-02\"]\n",
    "    mape_summer = mean_absolute_percentage_error(result_summer[\"actual\"], result_summer[\"forecast\"])\n",
    "    mape_winter = mean_absolute_percentage_error(result_winter[\"actual\"], result_winter[\"forecast\"])\n",
    "    mape_improvement = (mape_winter - mape_summer) / mape_summer\n",
    "    data.append({'Model': 'SARIMA', 'TSO': i, 'Overall MAPE': round(TSO_dict[i][\"mape\"], 4),\n",
    "                 'MAPE Summer': round(mape_summer, 4), 'MAPE Winter': round(mape_winter, 4),\n",
    "                 'Improvement': round(mape_improvement, 4)})\n",
    "\n",
    "# TFT Results\n",
    "for i in TSO_dict:\n",
    "    result_summer = TSO_dict[i]['results_tft'].loc[\"2023-06\":\"2023-08\"]\n",
    "    result_winter = TSO_dict[i]['results_tft'].loc[\"2023-12\":\"2024-02\"]\n",
    "    mape_summer = mean_absolute_percentage_error(result_summer[\"target\"], result_summer[\"forecast\"])\n",
    "    mape_winter = mean_absolute_percentage_error(result_winter[\"target\"], result_winter[\"forecast\"])\n",
    "    mape_improvement = (mape_winter - mape_summer) / mape_summer\n",
    "    data.append({'Model': 'TFT', 'TSO': i, 'Overall MAPE': round(TSO_dict[i][\"mape\"], 4),\n",
    "                 'MAPE Summer': round(mape_summer, 4), 'MAPE Winter': round(mape_winter, 4),\n",
    "                 'Improvement': round(mape_improvement, 4)})\n",
    "\n",
    "\n",
    "results_df = pd.DataFrame(data)\n",
    "\n",
    "# Display the DataFrame\n",
    "display(results_df)"
   ]
  },
  {
   "cell_type": "markdown",
   "metadata": {},
   "source": [
    "---------"
   ]
  },
  {
   "cell_type": "code",
   "execution_count": null,
   "metadata": {},
   "outputs": [],
   "source": []
  },
  {
   "cell_type": "code",
   "execution_count": null,
   "metadata": {},
   "outputs": [],
   "source": []
  },
  {
   "cell_type": "code",
   "execution_count": null,
   "metadata": {},
   "outputs": [],
   "source": []
  },
  {
   "cell_type": "code",
   "execution_count": null,
   "metadata": {},
   "outputs": [],
   "source": []
  },
  {
   "cell_type": "code",
   "execution_count": null,
   "metadata": {},
   "outputs": [],
   "source": []
  }
 ],
 "metadata": {
  "kernelspec": {
   "display_name": "MasterEnv",
   "language": "python",
   "name": "masterenv"
  },
  "language_info": {
   "codemirror_mode": {
    "name": "ipython",
    "version": 3
   },
   "file_extension": ".py",
   "mimetype": "text/x-python",
   "name": "python",
   "nbconvert_exporter": "python",
   "pygments_lexer": "ipython3",
   "version": "3.11.7"
  }
 },
 "nbformat": 4,
 "nbformat_minor": 4
}

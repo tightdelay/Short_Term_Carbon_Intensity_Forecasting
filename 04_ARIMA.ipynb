{
 "cells": [
  {
   "cell_type": "code",
   "execution_count": 38,
   "metadata": {},
   "outputs": [],
   "source": [
    "# import packages\n",
    "import pandas as pd\n",
    "import numpy as np\n",
    "\n",
    "from pmdarima import auto_arima\n",
    "from statsmodels.tsa.arima.model import ARIMA\n",
    "\n",
    "import time"
   ]
  },
  {
   "cell_type": "code",
   "execution_count": 27,
   "metadata": {},
   "outputs": [],
   "source": [
    "# define name list to loop through test data sets\n",
    "liste = [\"test_50hz\",\n",
    "\"test_amprion\",\n",
    "\"test_tennet\",\n",
    "\"test_transnet\"]"
   ]
  },
  {
   "cell_type": "code",
   "execution_count": 49,
   "metadata": {
    "scrolled": true
   },
   "outputs": [
    {
     "name": "stdout",
     "output_type": "stream",
     "text": [
      "23\n"
     ]
    },
    {
     "data": {
      "text/html": [
       "<div>\n",
       "<style scoped>\n",
       "    .dataframe tbody tr th:only-of-type {\n",
       "        vertical-align: middle;\n",
       "    }\n",
       "\n",
       "    .dataframe tbody tr th {\n",
       "        vertical-align: top;\n",
       "    }\n",
       "\n",
       "    .dataframe thead th {\n",
       "        text-align: right;\n",
       "    }\n",
       "</style>\n",
       "<table border=\"1\" class=\"dataframe\">\n",
       "  <thead>\n",
       "    <tr style=\"text-align: right;\">\n",
       "      <th></th>\n",
       "      <th>target</th>\n",
       "      <th>Total_Emissions_in_kg</th>\n",
       "      <th>Total_Generation</th>\n",
       "      <th>Biomass</th>\n",
       "      <th>Fossil Brown coal/Lignite</th>\n",
       "      <th>Fossil Gas</th>\n",
       "      <th>Fossil Hard coal</th>\n",
       "      <th>Fossil Oil</th>\n",
       "      <th>Geothermal</th>\n",
       "      <th>Hydro Pumped Storage</th>\n",
       "      <th>...</th>\n",
       "      <th>share_ren</th>\n",
       "      <th>hour_of_day</th>\n",
       "      <th>day_of_month</th>\n",
       "      <th>day_of_year</th>\n",
       "      <th>month_of_year</th>\n",
       "      <th>week_of_year</th>\n",
       "      <th>day_of_week</th>\n",
       "      <th>quarter_of_year</th>\n",
       "      <th>time_idx</th>\n",
       "      <th>50HZ</th>\n",
       "    </tr>\n",
       "  </thead>\n",
       "  <tbody>\n",
       "    <tr>\n",
       "      <th>71472</th>\n",
       "      <td>711.130926</td>\n",
       "      <td>40008937.0</td>\n",
       "      <td>56261.0</td>\n",
       "      <td>4135.0</td>\n",
       "      <td>31670.0</td>\n",
       "      <td>5260.0</td>\n",
       "      <td>4193.0</td>\n",
       "      <td>1140.0</td>\n",
       "      <td>0.0</td>\n",
       "      <td>79.0</td>\n",
       "      <td>...</td>\n",
       "      <td>0.210854</td>\n",
       "      <td>0</td>\n",
       "      <td>2</td>\n",
       "      <td>61</td>\n",
       "      <td>3</td>\n",
       "      <td>9</td>\n",
       "      <td>3</td>\n",
       "      <td>1</td>\n",
       "      <td>71472</td>\n",
       "      <td>50HZ</td>\n",
       "    </tr>\n",
       "  </tbody>\n",
       "</table>\n",
       "<p>1 rows × 40 columns</p>\n",
       "</div>"
      ],
      "text/plain": [
       "           target  Total_Emissions_in_kg  Total_Generation  Biomass  \\\n",
       "71472  711.130926             40008937.0           56261.0   4135.0   \n",
       "\n",
       "       Fossil Brown coal/Lignite  Fossil Gas  Fossil Hard coal  Fossil Oil  \\\n",
       "71472                    31670.0      5260.0            4193.0      1140.0   \n",
       "\n",
       "       Geothermal  Hydro Pumped Storage  ...  share_ren  hour_of_day  \\\n",
       "71472         0.0                  79.0  ...   0.210854            0   \n",
       "\n",
       "       day_of_month  day_of_year  month_of_year  week_of_year  day_of_week  \\\n",
       "71472             2           61              3             9            3   \n",
       "\n",
       "       quarter_of_year  time_idx  50HZ  \n",
       "71472                1     71472  50HZ  \n",
       "\n",
       "[1 rows x 40 columns]"
      ]
     },
     "metadata": {},
     "output_type": "display_data"
    },
    {
     "name": "stdout",
     "output_type": "stream",
     "text": [
      "2023-03-30 01:00:00+02:00 672 (2, 1, 0)\n",
      "2023-03-31 01:00:00+02:00 672 (2, 1, 0)\n",
      "2023-04-01 01:00:00+02:00 672 (3, 1, 3)\n"
     ]
    },
    {
     "name": "stderr",
     "output_type": "stream",
     "text": [
      "/home/RDC/tramburc/.conda/envs/stock_tft/lib/python3.10/site-packages/statsmodels/base/model.py:607: ConvergenceWarning: Maximum Likelihood optimization failed to converge. Check mle_retvals\n",
      "  warnings.warn(\"Maximum Likelihood optimization failed to \"\n"
     ]
    },
    {
     "name": "stdout",
     "output_type": "stream",
     "text": [
      "2023-04-02 01:00:00+02:00 672 (2, 1, 0)\n",
      "2023-04-03 01:00:00+02:00 672 (2, 1, 0)\n",
      "2023-04-04 01:00:00+02:00 672 (2, 1, 0)\n",
      "2023-04-05 01:00:00+02:00 672 (2, 1, 0)\n",
      "2023-04-06 01:00:00+02:00 672 (3, 0, 2)\n",
      "2023-04-07 01:00:00+02:00 672 (2, 1, 2)\n"
     ]
    },
    {
     "name": "stderr",
     "output_type": "stream",
     "text": [
      "/home/RDC/tramburc/.conda/envs/stock_tft/lib/python3.10/site-packages/statsmodels/tsa/statespace/sarimax.py:966: UserWarning: Non-stationary starting autoregressive parameters found. Using zeros as starting parameters.\n",
      "  warn('Non-stationary starting autoregressive parameters'\n",
      "/home/RDC/tramburc/.conda/envs/stock_tft/lib/python3.10/site-packages/statsmodels/tsa/statespace/sarimax.py:978: UserWarning: Non-invertible starting MA parameters found. Using zeros as starting parameters.\n",
      "  warn('Non-invertible starting MA parameters found.'\n"
     ]
    },
    {
     "name": "stdout",
     "output_type": "stream",
     "text": [
      "2023-04-08 01:00:00+02:00 672 (2, 1, 2)\n"
     ]
    },
    {
     "name": "stderr",
     "output_type": "stream",
     "text": [
      "/home/RDC/tramburc/.conda/envs/stock_tft/lib/python3.10/site-packages/statsmodels/tsa/statespace/sarimax.py:966: UserWarning: Non-stationary starting autoregressive parameters found. Using zeros as starting parameters.\n",
      "  warn('Non-stationary starting autoregressive parameters'\n",
      "/home/RDC/tramburc/.conda/envs/stock_tft/lib/python3.10/site-packages/statsmodels/tsa/statespace/sarimax.py:978: UserWarning: Non-invertible starting MA parameters found. Using zeros as starting parameters.\n",
      "  warn('Non-invertible starting MA parameters found.'\n"
     ]
    },
    {
     "name": "stdout",
     "output_type": "stream",
     "text": [
      "2023-04-09 01:00:00+02:00 672 (2, 1, 2)\n"
     ]
    },
    {
     "name": "stderr",
     "output_type": "stream",
     "text": [
      "/home/RDC/tramburc/.conda/envs/stock_tft/lib/python3.10/site-packages/statsmodels/tsa/statespace/sarimax.py:966: UserWarning: Non-stationary starting autoregressive parameters found. Using zeros as starting parameters.\n",
      "  warn('Non-stationary starting autoregressive parameters'\n",
      "/home/RDC/tramburc/.conda/envs/stock_tft/lib/python3.10/site-packages/statsmodels/tsa/statespace/sarimax.py:978: UserWarning: Non-invertible starting MA parameters found. Using zeros as starting parameters.\n",
      "  warn('Non-invertible starting MA parameters found.'\n"
     ]
    },
    {
     "name": "stdout",
     "output_type": "stream",
     "text": [
      "2023-04-10 01:00:00+02:00 672 (2, 1, 2)\n"
     ]
    },
    {
     "name": "stderr",
     "output_type": "stream",
     "text": [
      "/home/RDC/tramburc/.conda/envs/stock_tft/lib/python3.10/site-packages/statsmodels/tsa/statespace/sarimax.py:966: UserWarning: Non-stationary starting autoregressive parameters found. Using zeros as starting parameters.\n",
      "  warn('Non-stationary starting autoregressive parameters'\n",
      "/home/RDC/tramburc/.conda/envs/stock_tft/lib/python3.10/site-packages/statsmodels/tsa/statespace/sarimax.py:978: UserWarning: Non-invertible starting MA parameters found. Using zeros as starting parameters.\n",
      "  warn('Non-invertible starting MA parameters found.'\n"
     ]
    },
    {
     "name": "stdout",
     "output_type": "stream",
     "text": [
      "2023-04-11 01:00:00+02:00 672 (2, 1, 0)\n",
      "2023-04-12 01:00:00+02:00 672 (2, 1, 0)\n",
      "2023-04-13 01:00:00+02:00 672 (2, 1, 2)\n"
     ]
    },
    {
     "name": "stderr",
     "output_type": "stream",
     "text": [
      "/home/RDC/tramburc/.conda/envs/stock_tft/lib/python3.10/site-packages/statsmodels/tsa/statespace/sarimax.py:966: UserWarning: Non-stationary starting autoregressive parameters found. Using zeros as starting parameters.\n",
      "  warn('Non-stationary starting autoregressive parameters'\n",
      "/home/RDC/tramburc/.conda/envs/stock_tft/lib/python3.10/site-packages/statsmodels/tsa/statespace/sarimax.py:978: UserWarning: Non-invertible starting MA parameters found. Using zeros as starting parameters.\n",
      "  warn('Non-invertible starting MA parameters found.'\n"
     ]
    },
    {
     "name": "stdout",
     "output_type": "stream",
     "text": [
      "2023-04-14 01:00:00+02:00 672 (4, 1, 1)\n",
      "2023-04-15 01:00:00+02:00 672 (3, 1, 3)\n"
     ]
    },
    {
     "name": "stderr",
     "output_type": "stream",
     "text": [
      "/home/RDC/tramburc/.conda/envs/stock_tft/lib/python3.10/site-packages/statsmodels/base/model.py:607: ConvergenceWarning: Maximum Likelihood optimization failed to converge. Check mle_retvals\n",
      "  warnings.warn(\"Maximum Likelihood optimization failed to \"\n"
     ]
    },
    {
     "name": "stdout",
     "output_type": "stream",
     "text": [
      "2023-04-16 01:00:00+02:00 672 (3, 1, 3)\n"
     ]
    },
    {
     "name": "stderr",
     "output_type": "stream",
     "text": [
      "/home/RDC/tramburc/.conda/envs/stock_tft/lib/python3.10/site-packages/statsmodels/base/model.py:607: ConvergenceWarning: Maximum Likelihood optimization failed to converge. Check mle_retvals\n",
      "  warnings.warn(\"Maximum Likelihood optimization failed to \"\n"
     ]
    },
    {
     "name": "stdout",
     "output_type": "stream",
     "text": [
      "2023-04-17 01:00:00+02:00 672 (2, 1, 0)\n",
      "2023-04-18 01:00:00+02:00 672 (3, 1, 3)\n"
     ]
    },
    {
     "name": "stderr",
     "output_type": "stream",
     "text": [
      "/home/RDC/tramburc/.conda/envs/stock_tft/lib/python3.10/site-packages/statsmodels/base/model.py:607: ConvergenceWarning: Maximum Likelihood optimization failed to converge. Check mle_retvals\n",
      "  warnings.warn(\"Maximum Likelihood optimization failed to \"\n"
     ]
    },
    {
     "name": "stdout",
     "output_type": "stream",
     "text": [
      "2023-04-19 01:00:00+02:00 672 (3, 1, 3)\n"
     ]
    },
    {
     "name": "stderr",
     "output_type": "stream",
     "text": [
      "/home/RDC/tramburc/.conda/envs/stock_tft/lib/python3.10/site-packages/statsmodels/base/model.py:607: ConvergenceWarning: Maximum Likelihood optimization failed to converge. Check mle_retvals\n",
      "  warnings.warn(\"Maximum Likelihood optimization failed to \"\n"
     ]
    },
    {
     "name": "stdout",
     "output_type": "stream",
     "text": [
      "2023-04-20 01:00:00+02:00 672 (3, 1, 3)\n"
     ]
    },
    {
     "name": "stderr",
     "output_type": "stream",
     "text": [
      "/home/RDC/tramburc/.conda/envs/stock_tft/lib/python3.10/site-packages/statsmodels/base/model.py:607: ConvergenceWarning: Maximum Likelihood optimization failed to converge. Check mle_retvals\n",
      "  warnings.warn(\"Maximum Likelihood optimization failed to \"\n"
     ]
    },
    {
     "name": "stdout",
     "output_type": "stream",
     "text": [
      "2023-04-21 01:00:00+02:00 672 (2, 1, 2)\n"
     ]
    },
    {
     "name": "stderr",
     "output_type": "stream",
     "text": [
      "/home/RDC/tramburc/.conda/envs/stock_tft/lib/python3.10/site-packages/statsmodels/tsa/statespace/sarimax.py:966: UserWarning: Non-stationary starting autoregressive parameters found. Using zeros as starting parameters.\n",
      "  warn('Non-stationary starting autoregressive parameters'\n",
      "/home/RDC/tramburc/.conda/envs/stock_tft/lib/python3.10/site-packages/statsmodels/tsa/statespace/sarimax.py:978: UserWarning: Non-invertible starting MA parameters found. Using zeros as starting parameters.\n",
      "  warn('Non-invertible starting MA parameters found.'\n"
     ]
    },
    {
     "name": "stdout",
     "output_type": "stream",
     "text": [
      "2023-04-22 01:00:00+02:00 672 (2, 1, 2)\n"
     ]
    },
    {
     "name": "stderr",
     "output_type": "stream",
     "text": [
      "/home/RDC/tramburc/.conda/envs/stock_tft/lib/python3.10/site-packages/statsmodels/tsa/statespace/sarimax.py:966: UserWarning: Non-stationary starting autoregressive parameters found. Using zeros as starting parameters.\n",
      "  warn('Non-stationary starting autoregressive parameters'\n",
      "/home/RDC/tramburc/.conda/envs/stock_tft/lib/python3.10/site-packages/statsmodels/tsa/statespace/sarimax.py:978: UserWarning: Non-invertible starting MA parameters found. Using zeros as starting parameters.\n",
      "  warn('Non-invertible starting MA parameters found.'\n"
     ]
    },
    {
     "name": "stdout",
     "output_type": "stream",
     "text": [
      "2023-04-23 01:00:00+02:00 672 (4, 1, 1)\n",
      "2023-04-24 01:00:00+02:00 672 (3, 0, 0)\n",
      "2023-04-25 01:00:00+02:00 672 (4, 1, 1)\n",
      "2023-04-26 01:00:00+02:00 672 (2, 1, 2)\n"
     ]
    },
    {
     "name": "stderr",
     "output_type": "stream",
     "text": [
      "/home/RDC/tramburc/.conda/envs/stock_tft/lib/python3.10/site-packages/statsmodels/tsa/statespace/sarimax.py:978: UserWarning: Non-invertible starting MA parameters found. Using zeros as starting parameters.\n",
      "  warn('Non-invertible starting MA parameters found.'\n"
     ]
    },
    {
     "name": "stdout",
     "output_type": "stream",
     "text": [
      "2023-04-27 01:00:00+02:00 672 (2, 1, 2)\n"
     ]
    },
    {
     "name": "stderr",
     "output_type": "stream",
     "text": [
      "/home/RDC/tramburc/.conda/envs/stock_tft/lib/python3.10/site-packages/statsmodels/tsa/statespace/sarimax.py:978: UserWarning: Non-invertible starting MA parameters found. Using zeros as starting parameters.\n",
      "  warn('Non-invertible starting MA parameters found.'\n"
     ]
    },
    {
     "name": "stdout",
     "output_type": "stream",
     "text": [
      "2023-04-28 01:00:00+02:00 672 (3, 1, 1)\n",
      "2023-04-29 01:00:00+02:00 672 (4, 1, 1)\n",
      "2023-04-30 01:00:00+02:00 672 (4, 1, 1)\n"
     ]
    },
    {
     "name": "stderr",
     "output_type": "stream",
     "text": [
      "/home/RDC/tramburc/.conda/envs/stock_tft/lib/python3.10/site-packages/pmdarima/arima/_auto_solvers.py:524: ModelFitWarning: Error fitting  ARIMA(4,1,1)(0,0,0)[0] intercept (if you do not want to see these warnings, run with error_action=\"ignore\").\n",
      "Traceback:\n",
      "Traceback (most recent call last):\n",
      "  File \"/home/RDC/tramburc/.conda/envs/stock_tft/lib/python3.10/site-packages/pmdarima/arima/_auto_solvers.py\", line 508, in _fit_candidate_model\n",
      "    fit.fit(y, X=X, **fit_params)\n",
      "  File \"/home/RDC/tramburc/.conda/envs/stock_tft/lib/python3.10/site-packages/pmdarima/arima/arima.py\", line 603, in fit\n",
      "    self._fit(y, X, **fit_args)\n",
      "  File \"/home/RDC/tramburc/.conda/envs/stock_tft/lib/python3.10/site-packages/pmdarima/arima/arima.py\", line 524, in _fit\n",
      "    fit, self.arima_res_ = _fit_wrapper()\n",
      "  File \"/home/RDC/tramburc/.conda/envs/stock_tft/lib/python3.10/site-packages/pmdarima/arima/arima.py\", line 510, in _fit_wrapper\n",
      "    fitted = arima.fit(\n",
      "  File \"/home/RDC/tramburc/.conda/envs/stock_tft/lib/python3.10/site-packages/statsmodels/tsa/statespace/mlemodel.py\", line 703, in fit\n",
      "    mlefit = super().fit(start_params, method=method,\n",
      "  File \"/home/RDC/tramburc/.conda/envs/stock_tft/lib/python3.10/site-packages/statsmodels/base/model.py\", line 566, in fit\n",
      "    xopt, retvals, optim_settings = optimizer._fit(f, score, start_params,\n",
      "  File \"/home/RDC/tramburc/.conda/envs/stock_tft/lib/python3.10/site-packages/statsmodels/base/optimizer.py\", line 243, in _fit\n",
      "    xopt, retvals = func(objective, gradient, start_params, fargs, kwargs,\n",
      "  File \"/home/RDC/tramburc/.conda/envs/stock_tft/lib/python3.10/site-packages/statsmodels/base/optimizer.py\", line 660, in _fit_lbfgs\n",
      "    retvals = optimize.fmin_l_bfgs_b(func, start_params, maxiter=maxiter,\n",
      "  File \"/home/RDC/tramburc/.conda/envs/stock_tft/lib/python3.10/site-packages/scipy/optimize/_lbfgsb_py.py\", line 237, in fmin_l_bfgs_b\n",
      "    res = _minimize_lbfgsb(fun, x0, args=args, jac=jac, bounds=bounds,\n",
      "  File \"/home/RDC/tramburc/.conda/envs/stock_tft/lib/python3.10/site-packages/scipy/optimize/_lbfgsb_py.py\", line 407, in _minimize_lbfgsb\n",
      "    f, g = func_and_grad(x)\n",
      "  File \"/home/RDC/tramburc/.conda/envs/stock_tft/lib/python3.10/site-packages/scipy/optimize/_differentiable_functions.py\", line 296, in fun_and_grad\n",
      "    self._update_fun()\n",
      "  File \"/home/RDC/tramburc/.conda/envs/stock_tft/lib/python3.10/site-packages/scipy/optimize/_differentiable_functions.py\", line 262, in _update_fun\n",
      "    self._update_fun_impl()\n",
      "  File \"/home/RDC/tramburc/.conda/envs/stock_tft/lib/python3.10/site-packages/scipy/optimize/_differentiable_functions.py\", line 163, in update_fun\n",
      "    self.f = fun_wrapped(self.x)\n",
      "  File \"/home/RDC/tramburc/.conda/envs/stock_tft/lib/python3.10/site-packages/scipy/optimize/_differentiable_functions.py\", line 145, in fun_wrapped\n",
      "    fx = fun(np.copy(x), *args)\n",
      "  File \"/home/RDC/tramburc/.conda/envs/stock_tft/lib/python3.10/site-packages/statsmodels/base/model.py\", line 534, in f\n",
      "    return -self.loglike(params, *args) / nobs\n",
      "  File \"/home/RDC/tramburc/.conda/envs/stock_tft/lib/python3.10/site-packages/statsmodels/tsa/statespace/mlemodel.py\", line 938, in loglike\n",
      "    loglike = self.ssm.loglike(complex_step=complex_step, **kwargs)\n",
      "  File \"/home/RDC/tramburc/.conda/envs/stock_tft/lib/python3.10/site-packages/statsmodels/tsa/statespace/kalman_filter.py\", line 1001, in loglike\n",
      "    kfilter = self._filter(**kwargs)\n",
      "  File \"/home/RDC/tramburc/.conda/envs/stock_tft/lib/python3.10/site-packages/statsmodels/tsa/statespace/kalman_filter.py\", line 921, in _filter\n",
      "    self._initialize_state(prefix=prefix, complex_step=complex_step)\n",
      "  File \"/home/RDC/tramburc/.conda/envs/stock_tft/lib/python3.10/site-packages/statsmodels/tsa/statespace/representation.py\", line 1058, in _initialize_state\n",
      "    self._statespaces[prefix].initialize(self.initialization,\n",
      "  File \"statsmodels/tsa/statespace/_representation.pyx\", line 1373, in statsmodels.tsa.statespace._representation.dStatespace.initialize\n",
      "  File \"statsmodels/tsa/statespace/_representation.pyx\", line 1362, in statsmodels.tsa.statespace._representation.dStatespace.initialize\n",
      "  File \"statsmodels/tsa/statespace/_initialization.pyx\", line 288, in statsmodels.tsa.statespace._initialization.dInitialization.initialize\n",
      "  File \"statsmodels/tsa/statespace/_initialization.pyx\", line 406, in statsmodels.tsa.statespace._initialization.dInitialization.initialize_stationary_stationary_cov\n",
      "  File \"statsmodels/tsa/statespace/_tools.pyx\", line 1626, in statsmodels.tsa.statespace._tools._dsolve_discrete_lyapunov\n",
      "numpy.linalg.LinAlgError: Schur decomposition solver error.\n",
      "\n",
      "  warnings.warn(warning_str, ModelFitWarning)\n"
     ]
    },
    {
     "name": "stdout",
     "output_type": "stream",
     "text": [
      "2023-05-01 01:00:00+02:00 672 (4, 1, 1)\n",
      "2023-05-02 01:00:00+02:00 672 (4, 1, 1)\n",
      "2023-05-03 01:00:00+02:00 672 (4, 1, 1)\n",
      "2023-05-04 01:00:00+02:00 672 (3, 0, 0)\n",
      "2023-05-05 01:00:00+02:00 672 (2, 0, 1)\n",
      "2023-05-06 01:00:00+02:00 672 (3, 0, 0)\n",
      "2023-05-07 01:00:00+02:00 672 (3, 0, 0)\n",
      "2023-05-08 01:00:00+02:00 672 (3, 0, 0)\n",
      "2023-05-09 01:00:00+02:00 672 (3, 0, 2)\n",
      "2023-05-10 01:00:00+02:00 672 (3, 1, 3)\n"
     ]
    },
    {
     "name": "stderr",
     "output_type": "stream",
     "text": [
      "/home/RDC/tramburc/.conda/envs/stock_tft/lib/python3.10/site-packages/statsmodels/base/model.py:607: ConvergenceWarning: Maximum Likelihood optimization failed to converge. Check mle_retvals\n",
      "  warnings.warn(\"Maximum Likelihood optimization failed to \"\n"
     ]
    },
    {
     "name": "stdout",
     "output_type": "stream",
     "text": [
      "2023-05-11 01:00:00+02:00 672 (2, 1, 2)\n",
      "2023-05-12 01:00:00+02:00 672 (5, 1, 1)\n",
      "2023-05-13 01:00:00+02:00 672 (2, 1, 2)\n",
      "2023-05-14 01:00:00+02:00 672 (3, 0, 0)\n",
      "2023-05-15 01:00:00+02:00 672 (3, 0, 0)\n",
      "2023-05-16 01:00:00+02:00 672 (3, 0, 0)\n",
      "2023-05-17 01:00:00+02:00 672 (3, 0, 0)\n",
      "2023-05-18 01:00:00+02:00 672 (3, 0, 0)\n",
      "2023-05-19 01:00:00+02:00 672 (2, 0, 2)\n",
      "2023-05-20 01:00:00+02:00 672 (3, 0, 0)\n",
      "2023-05-21 01:00:00+02:00 672 (3, 1, 1)\n",
      "2023-05-22 01:00:00+02:00 672 (3, 1, 5)\n",
      "2023-05-23 01:00:00+02:00 672 (3, 1, 5)\n",
      "2023-05-24 01:00:00+02:00 672 (2, 1, 2)\n",
      "2023-05-25 01:00:00+02:00 672 (3, 1, 2)\n"
     ]
    },
    {
     "name": "stderr",
     "output_type": "stream",
     "text": [
      "/home/RDC/tramburc/.conda/envs/stock_tft/lib/python3.10/site-packages/statsmodels/tsa/statespace/sarimax.py:966: UserWarning: Non-stationary starting autoregressive parameters found. Using zeros as starting parameters.\n",
      "  warn('Non-stationary starting autoregressive parameters'\n",
      "/home/RDC/tramburc/.conda/envs/stock_tft/lib/python3.10/site-packages/statsmodels/tsa/statespace/sarimax.py:978: UserWarning: Non-invertible starting MA parameters found. Using zeros as starting parameters.\n",
      "  warn('Non-invertible starting MA parameters found.'\n"
     ]
    },
    {
     "name": "stdout",
     "output_type": "stream",
     "text": [
      "2023-05-26 01:00:00+02:00 672 (2, 1, 2)\n",
      "2023-05-27 01:00:00+02:00 672 (3, 0, 0)\n",
      "2023-05-28 01:00:00+02:00 672 (3, 0, 0)\n",
      "2023-05-29 01:00:00+02:00 672 (3, 0, 0)\n",
      "2023-05-30 01:00:00+02:00 672 (3, 0, 0)\n",
      "2023-05-31 01:00:00+02:00 672 (3, 0, 0)\n",
      "2023-06-01 01:00:00+02:00 672 (2, 0, 2)\n",
      "2023-06-02 01:00:00+02:00 672 (3, 0, 0)\n",
      "2023-06-03 01:00:00+02:00 672 (3, 0, 0)\n",
      "2023-06-04 01:00:00+02:00 672 (2, 0, 2)\n",
      "2023-06-05 01:00:00+02:00 672 (2, 0, 4)\n",
      "2023-06-06 01:00:00+02:00 672 (3, 0, 0)\n",
      "2023-06-07 01:00:00+02:00 672 (3, 0, 0)\n",
      "2023-06-08 01:00:00+02:00 672 (3, 0, 0)\n",
      "2023-06-09 01:00:00+02:00 672 (2, 0, 2)\n",
      "2023-06-10 01:00:00+02:00 672 (3, 0, 0)\n",
      "2023-06-11 01:00:00+02:00 672 (3, 0, 0)\n",
      "2023-06-12 01:00:00+02:00 672 (3, 0, 0)\n",
      "2023-06-13 01:00:00+02:00 672 (3, 0, 0)\n",
      "2023-06-14 01:00:00+02:00 672 (3, 0, 0)\n",
      "2023-06-15 01:00:00+02:00 672 (3, 0, 0)\n",
      "2023-06-16 01:00:00+02:00 672 (3, 0, 0)\n",
      "2023-06-17 01:00:00+02:00 672 (4, 0, 1)\n",
      "2023-06-18 01:00:00+02:00 672 (4, 0, 1)\n",
      "2023-06-19 01:00:00+02:00 672 (2, 0, 4)\n",
      "2023-06-20 01:00:00+02:00 672 (3, 1, 5)\n"
     ]
    },
    {
     "name": "stderr",
     "output_type": "stream",
     "text": [
      "/home/RDC/tramburc/.conda/envs/stock_tft/lib/python3.10/site-packages/statsmodels/tsa/statespace/sarimax.py:966: UserWarning: Non-stationary starting autoregressive parameters found. Using zeros as starting parameters.\n",
      "  warn('Non-stationary starting autoregressive parameters'\n",
      "/home/RDC/tramburc/.conda/envs/stock_tft/lib/python3.10/site-packages/statsmodels/tsa/statespace/sarimax.py:978: UserWarning: Non-invertible starting MA parameters found. Using zeros as starting parameters.\n",
      "  warn('Non-invertible starting MA parameters found.'\n",
      "/home/RDC/tramburc/.conda/envs/stock_tft/lib/python3.10/site-packages/statsmodels/base/model.py:607: ConvergenceWarning: Maximum Likelihood optimization failed to converge. Check mle_retvals\n",
      "  warnings.warn(\"Maximum Likelihood optimization failed to \"\n"
     ]
    },
    {
     "name": "stdout",
     "output_type": "stream",
     "text": [
      "2023-06-21 01:00:00+02:00 672 (3, 1, 1)\n",
      "2023-06-22 01:00:00+02:00 672 (3, 1, 0)\n",
      "2023-06-23 01:00:00+02:00 672 (3, 1, 0)\n",
      "2023-06-24 01:00:00+02:00 672 (3, 1, 1)\n",
      "2023-06-25 01:00:00+02:00 672 (3, 1, 1)\n",
      "2023-06-26 01:00:00+02:00 672 (2, 1, 3)\n",
      "2023-06-27 01:00:00+02:00 672 (2, 1, 3)\n",
      "2023-06-28 01:00:00+02:00 672 (3, 1, 0)\n",
      "2023-06-29 01:00:00+02:00 672 (3, 1, 0)\n",
      "2023-06-30 01:00:00+02:00 672 (3, 1, 0)\n",
      "2023-07-01 01:00:00+02:00 672 (3, 1, 1)\n",
      "2023-07-02 01:00:00+02:00 672 (3, 1, 1)\n",
      "2023-07-03 01:00:00+02:00 672 (4, 0, 1)\n",
      "2023-07-04 01:00:00+02:00 672 (4, 0, 1)\n",
      "2023-07-05 01:00:00+02:00 672 (3, 1, 1)\n",
      "2023-07-06 01:00:00+02:00 672 (3, 1, 1)\n",
      "2023-07-07 01:00:00+02:00 672 (3, 1, 1)\n",
      "2023-07-08 01:00:00+02:00 672 (3, 1, 1)\n",
      "2023-07-09 01:00:00+02:00 672 (3, 1, 1)\n",
      "2023-07-10 01:00:00+02:00 672 (3, 1, 1)\n",
      "2023-07-11 01:00:00+02:00 672 (3, 1, 1)\n",
      "2023-07-12 01:00:00+02:00 672 (3, 1, 1)\n",
      "2023-07-13 01:00:00+02:00 672 (3, 1, 1)\n",
      "2023-07-14 01:00:00+02:00 672 (3, 1, 1)\n",
      "2023-07-15 01:00:00+02:00 672 (3, 1, 1)\n",
      "2023-07-16 01:00:00+02:00 672 (2, 1, 1)\n",
      "2023-07-17 01:00:00+02:00 672 (3, 1, 1)\n",
      "2023-07-18 01:00:00+02:00 672 (3, 1, 1)\n",
      "2023-07-19 01:00:00+02:00 672 (3, 0, 0)\n",
      "2023-07-20 01:00:00+02:00 672 (2, 0, 3)\n",
      "2023-07-21 01:00:00+02:00 672 (2, 0, 3)\n",
      "2023-07-22 01:00:00+02:00 672 (2, 0, 5)\n",
      "2023-07-23 01:00:00+02:00 672 (2, 0, 3)\n",
      "2023-07-24 01:00:00+02:00 672 (3, 0, 0)\n",
      "2023-07-25 01:00:00+02:00 672 (3, 0, 0)\n",
      "2023-07-26 01:00:00+02:00 672 (3, 0, 0)\n",
      "2023-07-27 01:00:00+02:00 672 (3, 0, 0)\n",
      "2023-07-28 01:00:00+02:00 672 (3, 0, 0)\n",
      "2023-07-29 01:00:00+02:00 672 (2, 1, 2)\n",
      "2023-07-30 01:00:00+02:00 672 (3, 0, 0)\n",
      "2023-07-31 01:00:00+02:00 672 (3, 0, 0)\n",
      "2023-08-01 01:00:00+02:00 672 (3, 0, 0)\n",
      "2023-08-02 01:00:00+02:00 672 (2, 1, 2)\n",
      "2023-08-03 01:00:00+02:00 672 (2, 1, 2)\n",
      "2023-08-04 01:00:00+02:00 672 (2, 1, 2)\n",
      "2023-08-05 01:00:00+02:00 672 (2, 1, 2)\n",
      "2023-08-06 01:00:00+02:00 672 (2, 1, 2)\n",
      "2023-08-07 01:00:00+02:00 672 (2, 1, 2)\n",
      "2023-08-08 01:00:00+02:00 672 (2, 1, 2)\n",
      "2023-08-09 01:00:00+02:00 672 (2, 1, 2)\n",
      "2023-08-10 01:00:00+02:00 672 (3, 1, 3)\n",
      "2023-08-11 01:00:00+02:00 672 (3, 1, 3)\n",
      "2023-08-12 01:00:00+02:00 672 (3, 1, 3)\n",
      "2023-08-13 01:00:00+02:00 672 (5, 1, 1)\n",
      "2023-08-14 01:00:00+02:00 672 (4, 1, 5)\n"
     ]
    },
    {
     "name": "stderr",
     "output_type": "stream",
     "text": [
      "/home/RDC/tramburc/.conda/envs/stock_tft/lib/python3.10/site-packages/statsmodels/tsa/statespace/sarimax.py:978: UserWarning: Non-invertible starting MA parameters found. Using zeros as starting parameters.\n",
      "  warn('Non-invertible starting MA parameters found.'\n",
      "/home/RDC/tramburc/.conda/envs/stock_tft/lib/python3.10/site-packages/statsmodels/base/model.py:607: ConvergenceWarning: Maximum Likelihood optimization failed to converge. Check mle_retvals\n",
      "  warnings.warn(\"Maximum Likelihood optimization failed to \"\n"
     ]
    },
    {
     "name": "stdout",
     "output_type": "stream",
     "text": [
      "2023-08-15 01:00:00+02:00 672 (3, 1, 3)\n",
      "2023-08-16 01:00:00+02:00 672 (4, 1, 2)\n"
     ]
    },
    {
     "name": "stderr",
     "output_type": "stream",
     "text": [
      "/home/RDC/tramburc/.conda/envs/stock_tft/lib/python3.10/site-packages/statsmodels/tsa/statespace/sarimax.py:966: UserWarning: Non-stationary starting autoregressive parameters found. Using zeros as starting parameters.\n",
      "  warn('Non-stationary starting autoregressive parameters'\n",
      "/home/RDC/tramburc/.conda/envs/stock_tft/lib/python3.10/site-packages/statsmodels/tsa/statespace/sarimax.py:978: UserWarning: Non-invertible starting MA parameters found. Using zeros as starting parameters.\n",
      "  warn('Non-invertible starting MA parameters found.'\n"
     ]
    },
    {
     "name": "stdout",
     "output_type": "stream",
     "text": [
      "2023-08-17 01:00:00+02:00 672 (2, 1, 2)\n",
      "2023-08-18 01:00:00+02:00 672 (2, 1, 2)\n",
      "2023-08-19 01:00:00+02:00 672 (2, 1, 2)\n",
      "2023-08-20 01:00:00+02:00 672 (2, 1, 2)\n",
      "2023-08-21 01:00:00+02:00 672 (2, 1, 2)\n",
      "2023-08-22 01:00:00+02:00 672 (2, 1, 2)\n",
      "2023-08-23 01:00:00+02:00 672 (2, 1, 2)\n",
      "2023-08-24 01:00:00+02:00 672 (2, 1, 5)\n"
     ]
    },
    {
     "name": "stderr",
     "output_type": "stream",
     "text": [
      "/home/RDC/tramburc/.conda/envs/stock_tft/lib/python3.10/site-packages/statsmodels/tsa/statespace/sarimax.py:978: UserWarning: Non-invertible starting MA parameters found. Using zeros as starting parameters.\n",
      "  warn('Non-invertible starting MA parameters found.'\n"
     ]
    },
    {
     "name": "stdout",
     "output_type": "stream",
     "text": [
      "2023-08-25 01:00:00+02:00 672 (2, 1, 5)\n"
     ]
    },
    {
     "name": "stderr",
     "output_type": "stream",
     "text": [
      "/home/RDC/tramburc/.conda/envs/stock_tft/lib/python3.10/site-packages/statsmodels/tsa/statespace/sarimax.py:978: UserWarning: Non-invertible starting MA parameters found. Using zeros as starting parameters.\n",
      "  warn('Non-invertible starting MA parameters found.'\n"
     ]
    },
    {
     "name": "stdout",
     "output_type": "stream",
     "text": [
      "2023-08-26 01:00:00+02:00 672 (5, 1, 1)\n",
      "2023-08-27 01:00:00+02:00 672 (5, 1, 1)\n",
      "2023-08-28 01:00:00+02:00 672 (4, 1, 5)\n"
     ]
    },
    {
     "name": "stderr",
     "output_type": "stream",
     "text": [
      "/home/RDC/tramburc/.conda/envs/stock_tft/lib/python3.10/site-packages/statsmodels/base/model.py:607: ConvergenceWarning: Maximum Likelihood optimization failed to converge. Check mle_retvals\n",
      "  warnings.warn(\"Maximum Likelihood optimization failed to \"\n"
     ]
    },
    {
     "name": "stdout",
     "output_type": "stream",
     "text": [
      "2023-08-29 01:00:00+02:00 672 (5, 1, 1)\n",
      "2023-08-30 01:00:00+02:00 672 (5, 1, 1)\n",
      "2023-08-31 01:00:00+02:00 672 (5, 1, 1)\n",
      "2023-09-01 01:00:00+02:00 672 (5, 1, 1)\n",
      "2023-09-02 01:00:00+02:00 672 (5, 1, 1)\n",
      "2023-09-03 01:00:00+02:00 672 (5, 1, 1)\n",
      "2023-09-04 01:00:00+02:00 672 (5, 1, 1)\n",
      "2023-09-05 01:00:00+02:00 672 (5, 1, 1)\n",
      "2023-09-06 01:00:00+02:00 672 (5, 1, 1)\n",
      "2023-09-07 01:00:00+02:00 672 (5, 1, 1)\n",
      "2023-09-08 01:00:00+02:00 672 (5, 1, 1)\n",
      "2023-09-09 01:00:00+02:00 672 (5, 1, 1)\n",
      "2023-09-10 01:00:00+02:00 672 (2, 0, 1)\n",
      "2023-09-11 01:00:00+02:00 672 (2, 0, 1)\n",
      "2023-09-12 01:00:00+02:00 672 (2, 0, 1)\n",
      "2023-09-13 01:00:00+02:00 672 (2, 0, 1)\n",
      "2023-09-14 01:00:00+02:00 672 (2, 0, 1)\n",
      "2023-09-15 01:00:00+02:00 672 (2, 0, 1)\n",
      "2023-09-16 01:00:00+02:00 672 (5, 0, 0)\n",
      "2023-09-17 01:00:00+02:00 672 (5, 0, 0)\n",
      "2023-09-18 01:00:00+02:00 672 (4, 0, 0)\n",
      "2023-09-19 01:00:00+02:00 672 (2, 0, 1)\n",
      "2023-09-20 01:00:00+02:00 672 (4, 1, 1)\n",
      "2023-09-21 01:00:00+02:00 672 (2, 1, 2)\n",
      "2023-09-22 01:00:00+02:00 672 (2, 1, 2)\n",
      "2023-09-23 01:00:00+02:00 672 (4, 1, 1)\n",
      "2023-09-24 01:00:00+02:00 672 (4, 1, 1)\n",
      "2023-09-25 01:00:00+02:00 672 (2, 1, 2)\n",
      "2023-09-26 01:00:00+02:00 672 (4, 1, 1)\n",
      "2023-09-27 01:00:00+02:00 672 (4, 1, 1)\n",
      "2023-09-28 01:00:00+02:00 672 (4, 1, 1)\n",
      "2023-09-29 01:00:00+02:00 672 (4, 1, 1)\n",
      "2023-09-30 01:00:00+02:00 672 (4, 1, 1)\n",
      "2023-10-01 01:00:00+02:00 672 (4, 1, 1)\n",
      "2023-10-02 01:00:00+02:00 672 (4, 1, 1)\n",
      "2023-10-03 01:00:00+02:00 672 (2, 1, 2)\n"
     ]
    },
    {
     "name": "stderr",
     "output_type": "stream",
     "text": [
      "/home/RDC/tramburc/.conda/envs/stock_tft/lib/python3.10/site-packages/statsmodels/tsa/statespace/sarimax.py:978: UserWarning: Non-invertible starting MA parameters found. Using zeros as starting parameters.\n",
      "  warn('Non-invertible starting MA parameters found.'\n"
     ]
    },
    {
     "name": "stdout",
     "output_type": "stream",
     "text": [
      "2023-10-04 01:00:00+02:00 672 (4, 1, 1)\n",
      "2023-10-05 01:00:00+02:00 672 (2, 1, 1)\n",
      "2023-10-06 01:00:00+02:00 672 (2, 1, 2)\n",
      "2023-10-07 01:00:00+02:00 672 (2, 1, 2)\n",
      "2023-10-08 01:00:00+02:00 672 (2, 1, 2)\n",
      "2023-10-09 01:00:00+02:00 672 (2, 1, 2)\n",
      "2023-10-10 01:00:00+02:00 672 (2, 1, 2)\n",
      "2023-10-11 01:00:00+02:00 672 (3, 0, 2)\n",
      "2023-10-12 01:00:00+02:00 672 (4, 1, 1)\n",
      "2023-10-13 01:00:00+02:00 672 (3, 0, 2)\n",
      "2023-10-14 01:00:00+02:00 672 (3, 0, 2)\n",
      "2023-10-15 01:00:00+02:00 672 (2, 1, 2)\n",
      "2023-10-16 01:00:00+02:00 672 (4, 1, 3)\n"
     ]
    },
    {
     "name": "stderr",
     "output_type": "stream",
     "text": [
      "/home/RDC/tramburc/.conda/envs/stock_tft/lib/python3.10/site-packages/statsmodels/base/model.py:607: ConvergenceWarning: Maximum Likelihood optimization failed to converge. Check mle_retvals\n",
      "  warnings.warn(\"Maximum Likelihood optimization failed to \"\n"
     ]
    },
    {
     "name": "stdout",
     "output_type": "stream",
     "text": [
      "2023-10-17 01:00:00+02:00 672 (2, 1, 0)\n",
      "2023-10-18 01:00:00+02:00 672 (5, 1, 2)\n"
     ]
    },
    {
     "name": "stderr",
     "output_type": "stream",
     "text": [
      "/home/RDC/tramburc/.conda/envs/stock_tft/lib/python3.10/site-packages/statsmodels/base/model.py:607: ConvergenceWarning: Maximum Likelihood optimization failed to converge. Check mle_retvals\n",
      "  warnings.warn(\"Maximum Likelihood optimization failed to \"\n"
     ]
    },
    {
     "name": "stdout",
     "output_type": "stream",
     "text": [
      "2023-10-19 01:00:00+02:00 672 (2, 1, 1)\n",
      "2023-10-20 01:00:00+02:00 672 (2, 1, 1)\n",
      "2023-10-21 01:00:00+02:00 672 (2, 1, 1)\n",
      "2023-10-22 01:00:00+02:00 672 (2, 1, 3)\n",
      "2023-10-23 01:00:00+02:00 672 (3, 1, 1)\n",
      "2023-10-24 01:00:00+02:00 672 (4, 1, 1)\n",
      "2023-10-25 01:00:00+02:00 672 (3, 0, 0)\n",
      "2023-10-26 01:00:00+02:00 672 (3, 0, 2)\n",
      "2023-10-27 01:00:00+02:00 672 (2, 1, 0)\n",
      "2023-10-28 01:00:00+02:00 672 (2, 1, 0)\n",
      "2023-10-29 01:00:00+02:00 672 (2, 1, 0)\n",
      "2023-10-30 00:00:00+01:00 672 (2, 1, 0)\n",
      "2023-10-31 00:00:00+01:00 672 (2, 1, 0)\n",
      "2023-11-01 00:00:00+01:00 672 (2, 1, 0)\n",
      "2023-11-02 00:00:00+01:00 672 (2, 1, 0)\n",
      "2023-11-03 00:00:00+01:00 672 (3, 0, 0)\n",
      "2023-11-04 00:00:00+01:00 672 (3, 0, 2)\n",
      "2023-11-05 00:00:00+01:00 672 (2, 1, 0)\n",
      "2023-11-06 00:00:00+01:00 672 (2, 1, 0)\n",
      "2023-11-07 00:00:00+01:00 672 (2, 1, 0)\n",
      "2023-11-08 00:00:00+01:00 672 (2, 1, 0)\n",
      "2023-11-09 00:00:00+01:00 672 (2, 1, 0)\n",
      "2023-11-10 00:00:00+01:00 672 (2, 1, 5)\n",
      "2023-11-11 00:00:00+01:00 672 (5, 1, 4)\n"
     ]
    },
    {
     "name": "stderr",
     "output_type": "stream",
     "text": [
      "/home/RDC/tramburc/.conda/envs/stock_tft/lib/python3.10/site-packages/statsmodels/base/model.py:607: ConvergenceWarning: Maximum Likelihood optimization failed to converge. Check mle_retvals\n",
      "  warnings.warn(\"Maximum Likelihood optimization failed to \"\n"
     ]
    },
    {
     "name": "stdout",
     "output_type": "stream",
     "text": [
      "2023-11-12 00:00:00+01:00 672 (2, 1, 5)\n"
     ]
    },
    {
     "name": "stderr",
     "output_type": "stream",
     "text": [
      "/home/RDC/tramburc/.conda/envs/stock_tft/lib/python3.10/site-packages/statsmodels/base/model.py:607: ConvergenceWarning: Maximum Likelihood optimization failed to converge. Check mle_retvals\n",
      "  warnings.warn(\"Maximum Likelihood optimization failed to \"\n"
     ]
    },
    {
     "name": "stdout",
     "output_type": "stream",
     "text": [
      "2023-11-13 00:00:00+01:00 672 (4, 1, 2)\n"
     ]
    },
    {
     "name": "stderr",
     "output_type": "stream",
     "text": [
      "/home/RDC/tramburc/.conda/envs/stock_tft/lib/python3.10/site-packages/statsmodels/base/model.py:607: ConvergenceWarning: Maximum Likelihood optimization failed to converge. Check mle_retvals\n",
      "  warnings.warn(\"Maximum Likelihood optimization failed to \"\n"
     ]
    },
    {
     "name": "stdout",
     "output_type": "stream",
     "text": [
      "2023-11-14 00:00:00+01:00 672 (4, 1, 0)\n",
      "2023-11-15 00:00:00+01:00 672 (4, 1, 0)\n",
      "2023-11-16 00:00:00+01:00 672 (3, 1, 3)\n",
      "2023-11-17 00:00:00+01:00 672 (4, 1, 0)\n",
      "2023-11-18 00:00:00+01:00 672 (4, 1, 0)\n",
      "2023-11-19 00:00:00+01:00 672 (2, 1, 1)\n",
      "2023-11-20 00:00:00+01:00 672 (3, 1, 3)\n",
      "2023-11-21 00:00:00+01:00 672 (2, 1, 1)\n",
      "2023-11-22 00:00:00+01:00 672 (2, 1, 1)\n",
      "2023-11-23 00:00:00+01:00 672 (2, 1, 1)\n",
      "2023-11-24 00:00:00+01:00 672 (2, 1, 1)\n",
      "2023-11-25 00:00:00+01:00 672 (5, 1, 2)\n"
     ]
    },
    {
     "name": "stderr",
     "output_type": "stream",
     "text": [
      "/home/RDC/tramburc/.conda/envs/stock_tft/lib/python3.10/site-packages/statsmodels/base/model.py:607: ConvergenceWarning: Maximum Likelihood optimization failed to converge. Check mle_retvals\n",
      "  warnings.warn(\"Maximum Likelihood optimization failed to \"\n"
     ]
    },
    {
     "name": "stdout",
     "output_type": "stream",
     "text": [
      "2023-11-26 00:00:00+01:00 672 (2, 1, 0)\n",
      "2023-11-27 00:00:00+01:00 672 (2, 1, 0)\n",
      "2023-11-28 00:00:00+01:00 672 (2, 1, 0)\n",
      "2023-11-29 00:00:00+01:00 672 (2, 1, 0)\n",
      "2023-11-30 00:00:00+01:00 672 (2, 1, 0)\n",
      "2023-12-01 00:00:00+01:00 672 (2, 1, 0)\n",
      "2023-12-02 00:00:00+01:00 672 (2, 1, 0)\n",
      "2023-12-03 00:00:00+01:00 672 (2, 1, 1)\n",
      "2023-12-04 00:00:00+01:00 672 (2, 1, 0)\n",
      "2023-12-05 00:00:00+01:00 672 (2, 1, 0)\n",
      "2023-12-06 00:00:00+01:00 672 (3, 1, 0)\n",
      "2023-12-07 00:00:00+01:00 672 (3, 1, 0)\n",
      "2023-12-08 00:00:00+01:00 672 (2, 1, 0)\n",
      "2023-12-09 00:00:00+01:00 672 (2, 1, 0)\n",
      "2023-12-10 00:00:00+01:00 672 (2, 1, 0)\n",
      "2023-12-11 00:00:00+01:00 672 (2, 1, 0)\n",
      "2023-12-12 00:00:00+01:00 672 (2, 1, 0)\n",
      "2023-12-13 00:00:00+01:00 672 (3, 1, 0)\n",
      "2023-12-14 00:00:00+01:00 672 (2, 1, 0)\n",
      "2023-12-15 00:00:00+01:00 672 (2, 1, 0)\n",
      "2023-12-16 00:00:00+01:00 672 (2, 1, 0)\n",
      "2023-12-17 00:00:00+01:00 672 (2, 1, 0)\n",
      "2023-12-18 00:00:00+01:00 672 (2, 1, 0)\n",
      "2023-12-19 00:00:00+01:00 672 (3, 1, 0)\n",
      "2023-12-20 00:00:00+01:00 672 (3, 1, 0)\n",
      "2023-12-21 00:00:00+01:00 672 (3, 1, 0)\n",
      "2023-12-22 00:00:00+01:00 672 (3, 1, 2)\n"
     ]
    },
    {
     "name": "stderr",
     "output_type": "stream",
     "text": [
      "/home/RDC/tramburc/.conda/envs/stock_tft/lib/python3.10/site-packages/statsmodels/base/model.py:607: ConvergenceWarning: Maximum Likelihood optimization failed to converge. Check mle_retvals\n",
      "  warnings.warn(\"Maximum Likelihood optimization failed to \"\n"
     ]
    },
    {
     "name": "stdout",
     "output_type": "stream",
     "text": [
      "2023-12-23 00:00:00+01:00 672 (3, 1, 0)\n",
      "2023-12-24 00:00:00+01:00 672 (3, 1, 2)\n",
      "2023-12-25 00:00:00+01:00 672 (3, 1, 2)\n",
      "2023-12-26 00:00:00+01:00 672 (3, 1, 2)\n",
      "2024-01-11 00:00:00+01:00 672 (5, 1, 3)\n"
     ]
    },
    {
     "name": "stderr",
     "output_type": "stream",
     "text": [
      "/home/RDC/tramburc/.conda/envs/stock_tft/lib/python3.10/site-packages/statsmodels/base/model.py:607: ConvergenceWarning: Maximum Likelihood optimization failed to converge. Check mle_retvals\n",
      "  warnings.warn(\"Maximum Likelihood optimization failed to \"\n"
     ]
    },
    {
     "name": "stdout",
     "output_type": "stream",
     "text": [
      "2024-01-12 00:00:00+01:00 672 (5, 1, 3)\n"
     ]
    },
    {
     "name": "stderr",
     "output_type": "stream",
     "text": [
      "/home/RDC/tramburc/.conda/envs/stock_tft/lib/python3.10/site-packages/statsmodels/tsa/statespace/sarimax.py:966: UserWarning: Non-stationary starting autoregressive parameters found. Using zeros as starting parameters.\n",
      "  warn('Non-stationary starting autoregressive parameters'\n",
      "/home/RDC/tramburc/.conda/envs/stock_tft/lib/python3.10/site-packages/statsmodels/tsa/statespace/sarimax.py:978: UserWarning: Non-invertible starting MA parameters found. Using zeros as starting parameters.\n",
      "  warn('Non-invertible starting MA parameters found.'\n",
      "/home/RDC/tramburc/.conda/envs/stock_tft/lib/python3.10/site-packages/statsmodels/base/model.py:607: ConvergenceWarning: Maximum Likelihood optimization failed to converge. Check mle_retvals\n",
      "  warnings.warn(\"Maximum Likelihood optimization failed to \"\n"
     ]
    },
    {
     "name": "stdout",
     "output_type": "stream",
     "text": [
      "2024-01-13 00:00:00+01:00 672 (4, 1, 4)\n"
     ]
    },
    {
     "name": "stderr",
     "output_type": "stream",
     "text": [
      "/home/RDC/tramburc/.conda/envs/stock_tft/lib/python3.10/site-packages/statsmodels/base/model.py:607: ConvergenceWarning: Maximum Likelihood optimization failed to converge. Check mle_retvals\n",
      "  warnings.warn(\"Maximum Likelihood optimization failed to \"\n"
     ]
    },
    {
     "name": "stdout",
     "output_type": "stream",
     "text": [
      "2024-01-14 00:00:00+01:00 672 (4, 1, 4)\n"
     ]
    },
    {
     "name": "stderr",
     "output_type": "stream",
     "text": [
      "/home/RDC/tramburc/.conda/envs/stock_tft/lib/python3.10/site-packages/statsmodels/base/model.py:607: ConvergenceWarning: Maximum Likelihood optimization failed to converge. Check mle_retvals\n",
      "  warnings.warn(\"Maximum Likelihood optimization failed to \"\n"
     ]
    },
    {
     "name": "stdout",
     "output_type": "stream",
     "text": [
      "2024-01-15 00:00:00+01:00 672 (3, 1, 3)\n"
     ]
    },
    {
     "name": "stderr",
     "output_type": "stream",
     "text": [
      "/home/RDC/tramburc/.conda/envs/stock_tft/lib/python3.10/site-packages/statsmodels/base/model.py:607: ConvergenceWarning: Maximum Likelihood optimization failed to converge. Check mle_retvals\n",
      "  warnings.warn(\"Maximum Likelihood optimization failed to \"\n"
     ]
    },
    {
     "name": "stdout",
     "output_type": "stream",
     "text": [
      "2024-01-16 00:00:00+01:00 672 (3, 1, 3)\n"
     ]
    },
    {
     "name": "stderr",
     "output_type": "stream",
     "text": [
      "/home/RDC/tramburc/.conda/envs/stock_tft/lib/python3.10/site-packages/statsmodels/base/model.py:607: ConvergenceWarning: Maximum Likelihood optimization failed to converge. Check mle_retvals\n",
      "  warnings.warn(\"Maximum Likelihood optimization failed to \"\n"
     ]
    },
    {
     "name": "stdout",
     "output_type": "stream",
     "text": [
      "2024-01-17 00:00:00+01:00 672 (3, 1, 3)\n"
     ]
    },
    {
     "name": "stderr",
     "output_type": "stream",
     "text": [
      "/home/RDC/tramburc/.conda/envs/stock_tft/lib/python3.10/site-packages/statsmodels/base/model.py:607: ConvergenceWarning: Maximum Likelihood optimization failed to converge. Check mle_retvals\n",
      "  warnings.warn(\"Maximum Likelihood optimization failed to \"\n"
     ]
    },
    {
     "name": "stdout",
     "output_type": "stream",
     "text": [
      "2024-01-18 00:00:00+01:00 672 (2, 1, 0)\n",
      "2024-01-19 00:00:00+01:00 672 (2, 1, 0)\n",
      "2024-01-20 00:00:00+01:00 672 (2, 1, 0)\n",
      "2024-01-21 00:00:00+01:00 672 (2, 1, 0)\n",
      "2024-01-22 00:00:00+01:00 672 (2, 1, 0)\n",
      "2024-01-23 00:00:00+01:00 672 (2, 1, 0)\n",
      "2024-01-24 00:00:00+01:00 672 (2, 1, 0)\n",
      "2024-01-25 00:00:00+01:00 672 (2, 1, 0)\n",
      "2024-01-26 00:00:00+01:00 672 (2, 1, 0)\n",
      "2024-01-27 00:00:00+01:00 672 (2, 1, 0)\n",
      "2024-01-28 00:00:00+01:00 672 (2, 1, 0)\n",
      "2024-01-29 00:00:00+01:00 672 (2, 1, 0)\n",
      "2024-01-30 00:00:00+01:00 672 (2, 1, 0)\n",
      "2024-01-31 00:00:00+01:00 672 (2, 1, 0)\n",
      "2024-02-01 00:00:00+01:00 672 (2, 1, 0)\n",
      "2024-02-02 00:00:00+01:00 672 (3, 1, 0)\n",
      "2024-02-03 00:00:00+01:00 672 (2, 1, 1)\n",
      "2024-02-04 00:00:00+01:00 672 (2, 1, 1)\n",
      "2024-02-05 00:00:00+01:00 672 (3, 1, 2)\n"
     ]
    },
    {
     "name": "stderr",
     "output_type": "stream",
     "text": [
      "/home/RDC/tramburc/.conda/envs/stock_tft/lib/python3.10/site-packages/statsmodels/base/model.py:607: ConvergenceWarning: Maximum Likelihood optimization failed to converge. Check mle_retvals\n",
      "  warnings.warn(\"Maximum Likelihood optimization failed to \"\n"
     ]
    },
    {
     "name": "stdout",
     "output_type": "stream",
     "text": [
      "2024-02-06 00:00:00+01:00 672 (2, 1, 1)\n",
      "2024-02-07 00:00:00+01:00 672 (2, 1, 1)\n",
      "2024-02-08 00:00:00+01:00 672 (2, 1, 0)\n",
      "2024-02-09 00:00:00+01:00 672 (2, 1, 0)\n",
      "2024-02-10 00:00:00+01:00 672 (2, 1, 0)\n",
      "2024-02-11 00:00:00+01:00 672 (2, 1, 0)\n",
      "2024-02-12 00:00:00+01:00 672 (2, 1, 0)\n",
      "2024-02-13 00:00:00+01:00 672 (2, 1, 0)\n",
      "2024-02-14 00:00:00+01:00 672 (2, 1, 0)\n",
      "2024-02-15 00:00:00+01:00 672 (2, 1, 0)\n",
      "2024-02-16 00:00:00+01:00 672 (2, 1, 0)\n",
      "2024-02-17 00:00:00+01:00 672 (2, 1, 1)\n",
      "2024-02-18 00:00:00+01:00 672 (2, 1, 0)\n",
      "2024-02-19 00:00:00+01:00 672 (2, 1, 0)\n",
      "2024-02-20 00:00:00+01:00 672 (2, 1, 1)\n",
      "2024-02-21 00:00:00+01:00 672 (2, 1, 1)\n",
      "2024-02-22 00:00:00+01:00 672 (3, 1, 4)\n"
     ]
    },
    {
     "name": "stderr",
     "output_type": "stream",
     "text": [
      "/home/RDC/tramburc/.conda/envs/stock_tft/lib/python3.10/site-packages/statsmodels/base/model.py:607: ConvergenceWarning: Maximum Likelihood optimization failed to converge. Check mle_retvals\n",
      "  warnings.warn(\"Maximum Likelihood optimization failed to \"\n"
     ]
    },
    {
     "name": "stdout",
     "output_type": "stream",
     "text": [
      "2024-02-23 00:00:00+01:00 672 (3, 1, 3)\n",
      "2024-02-24 00:00:00+01:00 672 (3, 1, 3)\n"
     ]
    },
    {
     "name": "stderr",
     "output_type": "stream",
     "text": [
      "/home/RDC/tramburc/.conda/envs/stock_tft/lib/python3.10/site-packages/statsmodels/base/model.py:607: ConvergenceWarning: Maximum Likelihood optimization failed to converge. Check mle_retvals\n",
      "  warnings.warn(\"Maximum Likelihood optimization failed to \"\n"
     ]
    },
    {
     "name": "stdout",
     "output_type": "stream",
     "text": [
      "2024-02-25 00:00:00+01:00 672 (4, 1, 0)\n",
      "2024-02-26 00:00:00+01:00 672 (3, 1, 3)\n"
     ]
    },
    {
     "name": "stderr",
     "output_type": "stream",
     "text": [
      "/home/RDC/tramburc/.conda/envs/stock_tft/lib/python3.10/site-packages/statsmodels/base/model.py:607: ConvergenceWarning: Maximum Likelihood optimization failed to converge. Check mle_retvals\n",
      "  warnings.warn(\"Maximum Likelihood optimization failed to \"\n"
     ]
    },
    {
     "name": "stdout",
     "output_type": "stream",
     "text": [
      "2024-02-27 00:00:00+01:00 672 (2, 1, 2)\n",
      "2024-02-28 00:00:00+01:00 672 (2, 1, 0)\n",
      "2024-02-29 00:00:00+01:00 672 (2, 1, 2)\n",
      "MAPE Value: 0.2486\n",
      "23\n"
     ]
    },
    {
     "data": {
      "text/html": [
       "<div>\n",
       "<style scoped>\n",
       "    .dataframe tbody tr th:only-of-type {\n",
       "        vertical-align: middle;\n",
       "    }\n",
       "\n",
       "    .dataframe tbody tr th {\n",
       "        vertical-align: top;\n",
       "    }\n",
       "\n",
       "    .dataframe thead th {\n",
       "        text-align: right;\n",
       "    }\n",
       "</style>\n",
       "<table border=\"1\" class=\"dataframe\">\n",
       "  <thead>\n",
       "    <tr style=\"text-align: right;\">\n",
       "      <th></th>\n",
       "      <th>target</th>\n",
       "      <th>Total_Emissions_in_kg</th>\n",
       "      <th>Total_Generation</th>\n",
       "      <th>Biomass</th>\n",
       "      <th>Fossil Brown coal/Lignite</th>\n",
       "      <th>Fossil Gas</th>\n",
       "      <th>Fossil Hard coal</th>\n",
       "      <th>Fossil Oil</th>\n",
       "      <th>Geothermal</th>\n",
       "      <th>Hydro Pumped Storage</th>\n",
       "      <th>...</th>\n",
       "      <th>share_ren</th>\n",
       "      <th>hour_of_day</th>\n",
       "      <th>day_of_month</th>\n",
       "      <th>day_of_year</th>\n",
       "      <th>month_of_year</th>\n",
       "      <th>week_of_year</th>\n",
       "      <th>day_of_week</th>\n",
       "      <th>quarter_of_year</th>\n",
       "      <th>time_idx</th>\n",
       "      <th>50HZ</th>\n",
       "    </tr>\n",
       "  </thead>\n",
       "  <tbody>\n",
       "    <tr>\n",
       "      <th>71472</th>\n",
       "      <td>711.130926</td>\n",
       "      <td>40008937.0</td>\n",
       "      <td>56261.0</td>\n",
       "      <td>4135.0</td>\n",
       "      <td>31670.0</td>\n",
       "      <td>5260.0</td>\n",
       "      <td>4193.0</td>\n",
       "      <td>1140.0</td>\n",
       "      <td>0.0</td>\n",
       "      <td>79.0</td>\n",
       "      <td>...</td>\n",
       "      <td>0.210854</td>\n",
       "      <td>0</td>\n",
       "      <td>2</td>\n",
       "      <td>61</td>\n",
       "      <td>3</td>\n",
       "      <td>9</td>\n",
       "      <td>3</td>\n",
       "      <td>1</td>\n",
       "      <td>71472</td>\n",
       "      <td>50HZ</td>\n",
       "    </tr>\n",
       "  </tbody>\n",
       "</table>\n",
       "<p>1 rows × 40 columns</p>\n",
       "</div>"
      ],
      "text/plain": [
       "           target  Total_Emissions_in_kg  Total_Generation  Biomass  \\\n",
       "71472  711.130926             40008937.0           56261.0   4135.0   \n",
       "\n",
       "       Fossil Brown coal/Lignite  Fossil Gas  Fossil Hard coal  Fossil Oil  \\\n",
       "71472                    31670.0      5260.0            4193.0      1140.0   \n",
       "\n",
       "       Geothermal  Hydro Pumped Storage  ...  share_ren  hour_of_day  \\\n",
       "71472         0.0                  79.0  ...   0.210854            0   \n",
       "\n",
       "       day_of_month  day_of_year  month_of_year  week_of_year  day_of_week  \\\n",
       "71472             2           61              3             9            3   \n",
       "\n",
       "       quarter_of_year  time_idx  50HZ  \n",
       "71472                1     71472  50HZ  \n",
       "\n",
       "[1 rows x 40 columns]"
      ]
     },
     "metadata": {},
     "output_type": "display_data"
    },
    {
     "name": "stdout",
     "output_type": "stream",
     "text": [
      "2023-03-30 01:00:00+02:00 672 (3, 1, 3)\n",
      "2023-03-31 01:00:00+02:00 672 (3, 1, 3)\n"
     ]
    },
    {
     "name": "stderr",
     "output_type": "stream",
     "text": [
      "/home/RDC/tramburc/.conda/envs/stock_tft/lib/python3.10/site-packages/statsmodels/base/model.py:607: ConvergenceWarning: Maximum Likelihood optimization failed to converge. Check mle_retvals\n",
      "  warnings.warn(\"Maximum Likelihood optimization failed to \"\n"
     ]
    },
    {
     "name": "stdout",
     "output_type": "stream",
     "text": [
      "2023-04-01 01:00:00+02:00 672 (3, 1, 3)\n"
     ]
    },
    {
     "name": "stderr",
     "output_type": "stream",
     "text": [
      "/home/RDC/tramburc/.conda/envs/stock_tft/lib/python3.10/site-packages/statsmodels/base/model.py:607: ConvergenceWarning: Maximum Likelihood optimization failed to converge. Check mle_retvals\n",
      "  warnings.warn(\"Maximum Likelihood optimization failed to \"\n"
     ]
    },
    {
     "name": "stdout",
     "output_type": "stream",
     "text": [
      "2023-04-02 01:00:00+02:00 672 (3, 1, 2)\n"
     ]
    },
    {
     "name": "stderr",
     "output_type": "stream",
     "text": [
      "/home/RDC/tramburc/.conda/envs/stock_tft/lib/python3.10/site-packages/statsmodels/base/model.py:607: ConvergenceWarning: Maximum Likelihood optimization failed to converge. Check mle_retvals\n",
      "  warnings.warn(\"Maximum Likelihood optimization failed to \"\n"
     ]
    },
    {
     "name": "stdout",
     "output_type": "stream",
     "text": [
      "2023-04-03 01:00:00+02:00 672 (3, 1, 4)\n"
     ]
    },
    {
     "name": "stderr",
     "output_type": "stream",
     "text": [
      "/home/RDC/tramburc/.conda/envs/stock_tft/lib/python3.10/site-packages/statsmodels/base/model.py:607: ConvergenceWarning: Maximum Likelihood optimization failed to converge. Check mle_retvals\n",
      "  warnings.warn(\"Maximum Likelihood optimization failed to \"\n"
     ]
    },
    {
     "name": "stdout",
     "output_type": "stream",
     "text": [
      "2023-04-04 01:00:00+02:00 672 (5, 1, 4)\n"
     ]
    },
    {
     "name": "stderr",
     "output_type": "stream",
     "text": [
      "/home/RDC/tramburc/.conda/envs/stock_tft/lib/python3.10/site-packages/statsmodels/base/model.py:607: ConvergenceWarning: Maximum Likelihood optimization failed to converge. Check mle_retvals\n",
      "  warnings.warn(\"Maximum Likelihood optimization failed to \"\n"
     ]
    },
    {
     "name": "stdout",
     "output_type": "stream",
     "text": [
      "2023-04-05 01:00:00+02:00 672 (4, 1, 3)\n"
     ]
    },
    {
     "name": "stderr",
     "output_type": "stream",
     "text": [
      "/home/RDC/tramburc/.conda/envs/stock_tft/lib/python3.10/site-packages/statsmodels/base/model.py:607: ConvergenceWarning: Maximum Likelihood optimization failed to converge. Check mle_retvals\n",
      "  warnings.warn(\"Maximum Likelihood optimization failed to \"\n"
     ]
    },
    {
     "name": "stdout",
     "output_type": "stream",
     "text": [
      "2023-04-06 01:00:00+02:00 672 (3, 0, 1)\n",
      "2023-04-07 01:00:00+02:00 672 (3, 0, 1)\n",
      "2023-04-08 01:00:00+02:00 672 (4, 1, 3)\n"
     ]
    },
    {
     "name": "stderr",
     "output_type": "stream",
     "text": [
      "/home/RDC/tramburc/.conda/envs/stock_tft/lib/python3.10/site-packages/statsmodels/base/model.py:607: ConvergenceWarning: Maximum Likelihood optimization failed to converge. Check mle_retvals\n",
      "  warnings.warn(\"Maximum Likelihood optimization failed to \"\n"
     ]
    },
    {
     "name": "stdout",
     "output_type": "stream",
     "text": [
      "2023-04-09 01:00:00+02:00 672 (4, 1, 3)\n"
     ]
    },
    {
     "name": "stderr",
     "output_type": "stream",
     "text": [
      "/home/RDC/tramburc/.conda/envs/stock_tft/lib/python3.10/site-packages/statsmodels/base/model.py:607: ConvergenceWarning: Maximum Likelihood optimization failed to converge. Check mle_retvals\n",
      "  warnings.warn(\"Maximum Likelihood optimization failed to \"\n"
     ]
    },
    {
     "name": "stdout",
     "output_type": "stream",
     "text": [
      "2023-04-10 01:00:00+02:00 672 (5, 1, 1)\n",
      "2023-04-11 01:00:00+02:00 672 (5, 1, 1)\n",
      "2023-04-12 01:00:00+02:00 672 (5, 0, 1)\n",
      "2023-04-13 01:00:00+02:00 672 (5, 0, 1)\n",
      "2023-04-14 01:00:00+02:00 672 (4, 0, 1)\n"
     ]
    },
    {
     "name": "stderr",
     "output_type": "stream",
     "text": [
      "/home/RDC/tramburc/.conda/envs/stock_tft/lib/python3.10/site-packages/statsmodels/base/model.py:607: ConvergenceWarning: Maximum Likelihood optimization failed to converge. Check mle_retvals\n",
      "  warnings.warn(\"Maximum Likelihood optimization failed to \"\n"
     ]
    },
    {
     "name": "stdout",
     "output_type": "stream",
     "text": [
      "2023-04-15 01:00:00+02:00 672 (4, 1, 1)\n",
      "2023-04-16 01:00:00+02:00 672 (4, 1, 1)\n",
      "2023-04-17 01:00:00+02:00 672 (3, 1, 3)\n"
     ]
    },
    {
     "name": "stderr",
     "output_type": "stream",
     "text": [
      "/home/RDC/tramburc/.conda/envs/stock_tft/lib/python3.10/site-packages/statsmodels/base/model.py:607: ConvergenceWarning: Maximum Likelihood optimization failed to converge. Check mle_retvals\n",
      "  warnings.warn(\"Maximum Likelihood optimization failed to \"\n"
     ]
    },
    {
     "name": "stdout",
     "output_type": "stream",
     "text": [
      "2023-04-18 01:00:00+02:00 672 (2, 1, 2)\n"
     ]
    },
    {
     "name": "stderr",
     "output_type": "stream",
     "text": [
      "/home/RDC/tramburc/.conda/envs/stock_tft/lib/python3.10/site-packages/statsmodels/tsa/statespace/sarimax.py:966: UserWarning: Non-stationary starting autoregressive parameters found. Using zeros as starting parameters.\n",
      "  warn('Non-stationary starting autoregressive parameters'\n",
      "/home/RDC/tramburc/.conda/envs/stock_tft/lib/python3.10/site-packages/statsmodels/tsa/statespace/sarimax.py:978: UserWarning: Non-invertible starting MA parameters found. Using zeros as starting parameters.\n",
      "  warn('Non-invertible starting MA parameters found.'\n"
     ]
    },
    {
     "name": "stdout",
     "output_type": "stream",
     "text": [
      "2023-04-19 01:00:00+02:00 672 (2, 1, 2)\n"
     ]
    },
    {
     "name": "stderr",
     "output_type": "stream",
     "text": [
      "/home/RDC/tramburc/.conda/envs/stock_tft/lib/python3.10/site-packages/statsmodels/tsa/statespace/sarimax.py:966: UserWarning: Non-stationary starting autoregressive parameters found. Using zeros as starting parameters.\n",
      "  warn('Non-stationary starting autoregressive parameters'\n",
      "/home/RDC/tramburc/.conda/envs/stock_tft/lib/python3.10/site-packages/statsmodels/tsa/statespace/sarimax.py:978: UserWarning: Non-invertible starting MA parameters found. Using zeros as starting parameters.\n",
      "  warn('Non-invertible starting MA parameters found.'\n"
     ]
    },
    {
     "name": "stdout",
     "output_type": "stream",
     "text": [
      "2023-04-20 01:00:00+02:00 672 (3, 1, 4)\n"
     ]
    },
    {
     "name": "stderr",
     "output_type": "stream",
     "text": [
      "/home/RDC/tramburc/.conda/envs/stock_tft/lib/python3.10/site-packages/statsmodels/base/model.py:607: ConvergenceWarning: Maximum Likelihood optimization failed to converge. Check mle_retvals\n",
      "  warnings.warn(\"Maximum Likelihood optimization failed to \"\n"
     ]
    },
    {
     "name": "stdout",
     "output_type": "stream",
     "text": [
      "2023-04-21 01:00:00+02:00 672 (3, 1, 3)\n"
     ]
    },
    {
     "name": "stderr",
     "output_type": "stream",
     "text": [
      "/home/RDC/tramburc/.conda/envs/stock_tft/lib/python3.10/site-packages/statsmodels/base/model.py:607: ConvergenceWarning: Maximum Likelihood optimization failed to converge. Check mle_retvals\n",
      "  warnings.warn(\"Maximum Likelihood optimization failed to \"\n"
     ]
    },
    {
     "name": "stdout",
     "output_type": "stream",
     "text": [
      "2023-04-22 01:00:00+02:00 672 (4, 1, 1)\n",
      "2023-04-23 01:00:00+02:00 672 (4, 1, 1)\n",
      "2023-04-24 01:00:00+02:00 672 (5, 0, 1)\n",
      "2023-04-25 01:00:00+02:00 672 (2, 0, 1)\n",
      "2023-04-26 01:00:00+02:00 672 (2, 1, 0)\n",
      "2023-04-27 01:00:00+02:00 672 (2, 1, 0)\n",
      "2023-04-28 01:00:00+02:00 672 (4, 1, 1)\n",
      "2023-04-29 01:00:00+02:00 672 (2, 1, 0)\n",
      "2023-04-30 01:00:00+02:00 672 (2, 1, 0)\n",
      "2023-05-01 01:00:00+02:00 672 (2, 0, 2)\n",
      "2023-05-02 01:00:00+02:00 672 (2, 0, 2)\n",
      "2023-05-03 01:00:00+02:00 672 (2, 0, 2)\n",
      "2023-05-04 01:00:00+02:00 672 (1, 1, 1)\n",
      "2023-05-05 01:00:00+02:00 672 (1, 1, 1)\n",
      "2023-05-06 01:00:00+02:00 672 (1, 1, 1)\n",
      "2023-05-07 01:00:00+02:00 672 (1, 1, 1)\n",
      "2023-05-08 01:00:00+02:00 672 (4, 1, 1)\n",
      "2023-05-09 01:00:00+02:00 672 (1, 1, 1)\n",
      "2023-05-10 01:00:00+02:00 672 (1, 1, 1)\n",
      "2023-05-11 01:00:00+02:00 672 (1, 1, 1)\n",
      "2023-05-12 01:00:00+02:00 672 (2, 1, 0)\n",
      "2023-05-13 01:00:00+02:00 672 (1, 1, 1)\n",
      "2023-05-14 01:00:00+02:00 672 (1, 1, 1)\n",
      "2023-05-15 01:00:00+02:00 672 (4, 0, 0)\n",
      "2023-05-16 01:00:00+02:00 672 (4, 0, 0)\n",
      "2023-05-17 01:00:00+02:00 672 (4, 0, 0)\n",
      "2023-05-18 01:00:00+02:00 672 (4, 0, 0)\n",
      "2023-05-19 01:00:00+02:00 672 (1, 1, 1)\n",
      "2023-05-20 01:00:00+02:00 672 (1, 1, 1)\n",
      "2023-05-21 01:00:00+02:00 672 (1, 1, 1)\n",
      "2023-05-22 01:00:00+02:00 672 (1, 1, 1)\n",
      "2023-05-23 01:00:00+02:00 672 (1, 1, 1)\n",
      "2023-05-24 01:00:00+02:00 672 (1, 1, 1)\n",
      "2023-05-25 01:00:00+02:00 672 (1, 1, 1)\n",
      "2023-05-26 01:00:00+02:00 672 (1, 1, 1)\n",
      "2023-05-27 01:00:00+02:00 672 (1, 1, 1)\n",
      "2023-05-28 01:00:00+02:00 672 (1, 1, 1)\n",
      "2023-05-29 01:00:00+02:00 672 (2, 1, 0)\n",
      "2023-05-30 01:00:00+02:00 672 (2, 1, 1)\n",
      "2023-05-31 01:00:00+02:00 672 (2, 1, 1)\n",
      "2023-06-01 01:00:00+02:00 672 (2, 1, 1)\n",
      "2023-06-02 01:00:00+02:00 672 (2, 1, 1)\n",
      "2023-06-03 01:00:00+02:00 672 (2, 1, 1)\n",
      "2023-06-04 01:00:00+02:00 672 (3, 1, 4)\n",
      "2023-06-05 01:00:00+02:00 672 (3, 1, 4)\n",
      "2023-06-06 01:00:00+02:00 672 (3, 1, 4)\n"
     ]
    },
    {
     "name": "stderr",
     "output_type": "stream",
     "text": [
      "/home/RDC/tramburc/.conda/envs/stock_tft/lib/python3.10/site-packages/statsmodels/base/model.py:607: ConvergenceWarning: Maximum Likelihood optimization failed to converge. Check mle_retvals\n",
      "  warnings.warn(\"Maximum Likelihood optimization failed to \"\n"
     ]
    },
    {
     "name": "stdout",
     "output_type": "stream",
     "text": [
      "2023-06-07 01:00:00+02:00 672 (4, 1, 2)\n"
     ]
    },
    {
     "name": "stderr",
     "output_type": "stream",
     "text": [
      "/home/RDC/tramburc/.conda/envs/stock_tft/lib/python3.10/site-packages/statsmodels/tsa/statespace/sarimax.py:966: UserWarning: Non-stationary starting autoregressive parameters found. Using zeros as starting parameters.\n",
      "  warn('Non-stationary starting autoregressive parameters'\n",
      "/home/RDC/tramburc/.conda/envs/stock_tft/lib/python3.10/site-packages/statsmodels/tsa/statespace/sarimax.py:978: UserWarning: Non-invertible starting MA parameters found. Using zeros as starting parameters.\n",
      "  warn('Non-invertible starting MA parameters found.'\n",
      "/home/RDC/tramburc/.conda/envs/stock_tft/lib/python3.10/site-packages/statsmodels/base/model.py:607: ConvergenceWarning: Maximum Likelihood optimization failed to converge. Check mle_retvals\n",
      "  warnings.warn(\"Maximum Likelihood optimization failed to \"\n"
     ]
    },
    {
     "name": "stdout",
     "output_type": "stream",
     "text": [
      "2023-06-08 01:00:00+02:00 672 (4, 1, 2)\n"
     ]
    },
    {
     "name": "stderr",
     "output_type": "stream",
     "text": [
      "/home/RDC/tramburc/.conda/envs/stock_tft/lib/python3.10/site-packages/statsmodels/tsa/statespace/sarimax.py:966: UserWarning: Non-stationary starting autoregressive parameters found. Using zeros as starting parameters.\n",
      "  warn('Non-stationary starting autoregressive parameters'\n",
      "/home/RDC/tramburc/.conda/envs/stock_tft/lib/python3.10/site-packages/statsmodels/tsa/statespace/sarimax.py:978: UserWarning: Non-invertible starting MA parameters found. Using zeros as starting parameters.\n",
      "  warn('Non-invertible starting MA parameters found.'\n",
      "/home/RDC/tramburc/.conda/envs/stock_tft/lib/python3.10/site-packages/statsmodels/base/model.py:607: ConvergenceWarning: Maximum Likelihood optimization failed to converge. Check mle_retvals\n",
      "  warnings.warn(\"Maximum Likelihood optimization failed to \"\n"
     ]
    },
    {
     "name": "stdout",
     "output_type": "stream",
     "text": [
      "2023-06-09 01:00:00+02:00 672 (3, 1, 3)\n"
     ]
    },
    {
     "name": "stderr",
     "output_type": "stream",
     "text": [
      "/home/RDC/tramburc/.conda/envs/stock_tft/lib/python3.10/site-packages/statsmodels/tsa/statespace/sarimax.py:978: UserWarning: Non-invertible starting MA parameters found. Using zeros as starting parameters.\n",
      "  warn('Non-invertible starting MA parameters found.'\n",
      "/home/RDC/tramburc/.conda/envs/stock_tft/lib/python3.10/site-packages/statsmodels/base/model.py:607: ConvergenceWarning: Maximum Likelihood optimization failed to converge. Check mle_retvals\n",
      "  warnings.warn(\"Maximum Likelihood optimization failed to \"\n"
     ]
    },
    {
     "name": "stdout",
     "output_type": "stream",
     "text": [
      "2023-06-10 01:00:00+02:00 672 (2, 0, 1)\n",
      "2023-06-11 01:00:00+02:00 672 (2, 0, 1)\n",
      "2023-06-12 01:00:00+02:00 672 (2, 0, 1)\n",
      "2023-06-13 01:00:00+02:00 672 (2, 0, 1)\n",
      "2023-06-14 01:00:00+02:00 672 (2, 0, 1)\n",
      "2023-06-15 01:00:00+02:00 672 (2, 0, 1)\n",
      "2023-06-16 01:00:00+02:00 672 (4, 1, 4)\n"
     ]
    },
    {
     "name": "stderr",
     "output_type": "stream",
     "text": [
      "/home/RDC/tramburc/.conda/envs/stock_tft/lib/python3.10/site-packages/statsmodels/base/model.py:607: ConvergenceWarning: Maximum Likelihood optimization failed to converge. Check mle_retvals\n",
      "  warnings.warn(\"Maximum Likelihood optimization failed to \"\n"
     ]
    },
    {
     "name": "stdout",
     "output_type": "stream",
     "text": [
      "2023-06-17 01:00:00+02:00 672 (4, 1, 3)\n",
      "2023-06-18 01:00:00+02:00 672 (4, 1, 1)\n",
      "2023-06-19 01:00:00+02:00 672 (4, 1, 2)\n"
     ]
    },
    {
     "name": "stderr",
     "output_type": "stream",
     "text": [
      "/home/RDC/tramburc/.conda/envs/stock_tft/lib/python3.10/site-packages/statsmodels/base/model.py:607: ConvergenceWarning: Maximum Likelihood optimization failed to converge. Check mle_retvals\n",
      "  warnings.warn(\"Maximum Likelihood optimization failed to \"\n"
     ]
    },
    {
     "name": "stdout",
     "output_type": "stream",
     "text": [
      "2023-06-20 01:00:00+02:00 672 (4, 1, 2)\n"
     ]
    },
    {
     "name": "stderr",
     "output_type": "stream",
     "text": [
      "/home/RDC/tramburc/.conda/envs/stock_tft/lib/python3.10/site-packages/statsmodels/tsa/statespace/sarimax.py:978: UserWarning: Non-invertible starting MA parameters found. Using zeros as starting parameters.\n",
      "  warn('Non-invertible starting MA parameters found.'\n",
      "/home/RDC/tramburc/.conda/envs/stock_tft/lib/python3.10/site-packages/statsmodels/base/model.py:607: ConvergenceWarning: Maximum Likelihood optimization failed to converge. Check mle_retvals\n",
      "  warnings.warn(\"Maximum Likelihood optimization failed to \"\n"
     ]
    },
    {
     "name": "stdout",
     "output_type": "stream",
     "text": [
      "2023-06-21 01:00:00+02:00 672 (4, 1, 1)\n",
      "2023-06-22 01:00:00+02:00 672 (4, 1, 2)\n"
     ]
    },
    {
     "name": "stderr",
     "output_type": "stream",
     "text": [
      "/home/RDC/tramburc/.conda/envs/stock_tft/lib/python3.10/site-packages/statsmodels/tsa/statespace/sarimax.py:966: UserWarning: Non-stationary starting autoregressive parameters found. Using zeros as starting parameters.\n",
      "  warn('Non-stationary starting autoregressive parameters'\n",
      "/home/RDC/tramburc/.conda/envs/stock_tft/lib/python3.10/site-packages/statsmodels/tsa/statespace/sarimax.py:978: UserWarning: Non-invertible starting MA parameters found. Using zeros as starting parameters.\n",
      "  warn('Non-invertible starting MA parameters found.'\n",
      "/home/RDC/tramburc/.conda/envs/stock_tft/lib/python3.10/site-packages/statsmodels/base/model.py:607: ConvergenceWarning: Maximum Likelihood optimization failed to converge. Check mle_retvals\n",
      "  warnings.warn(\"Maximum Likelihood optimization failed to \"\n"
     ]
    },
    {
     "name": "stdout",
     "output_type": "stream",
     "text": [
      "2023-06-23 01:00:00+02:00 672 (3, 1, 4)\n"
     ]
    },
    {
     "name": "stderr",
     "output_type": "stream",
     "text": [
      "/home/RDC/tramburc/.conda/envs/stock_tft/lib/python3.10/site-packages/statsmodels/base/model.py:607: ConvergenceWarning: Maximum Likelihood optimization failed to converge. Check mle_retvals\n",
      "  warnings.warn(\"Maximum Likelihood optimization failed to \"\n"
     ]
    },
    {
     "name": "stdout",
     "output_type": "stream",
     "text": [
      "2023-06-24 01:00:00+02:00 672 (4, 1, 3)\n"
     ]
    },
    {
     "name": "stderr",
     "output_type": "stream",
     "text": [
      "/home/RDC/tramburc/.conda/envs/stock_tft/lib/python3.10/site-packages/statsmodels/base/model.py:607: ConvergenceWarning: Maximum Likelihood optimization failed to converge. Check mle_retvals\n",
      "  warnings.warn(\"Maximum Likelihood optimization failed to \"\n"
     ]
    },
    {
     "name": "stdout",
     "output_type": "stream",
     "text": [
      "2023-06-25 01:00:00+02:00 672 (3, 1, 4)\n"
     ]
    },
    {
     "name": "stderr",
     "output_type": "stream",
     "text": [
      "/home/RDC/tramburc/.conda/envs/stock_tft/lib/python3.10/site-packages/statsmodels/base/model.py:607: ConvergenceWarning: Maximum Likelihood optimization failed to converge. Check mle_retvals\n",
      "  warnings.warn(\"Maximum Likelihood optimization failed to \"\n"
     ]
    },
    {
     "name": "stdout",
     "output_type": "stream",
     "text": [
      "2023-06-26 01:00:00+02:00 672 (4, 1, 2)\n"
     ]
    },
    {
     "name": "stderr",
     "output_type": "stream",
     "text": [
      "/home/RDC/tramburc/.conda/envs/stock_tft/lib/python3.10/site-packages/statsmodels/tsa/statespace/sarimax.py:966: UserWarning: Non-stationary starting autoregressive parameters found. Using zeros as starting parameters.\n",
      "  warn('Non-stationary starting autoregressive parameters'\n",
      "/home/RDC/tramburc/.conda/envs/stock_tft/lib/python3.10/site-packages/statsmodels/tsa/statespace/sarimax.py:978: UserWarning: Non-invertible starting MA parameters found. Using zeros as starting parameters.\n",
      "  warn('Non-invertible starting MA parameters found.'\n",
      "/home/RDC/tramburc/.conda/envs/stock_tft/lib/python3.10/site-packages/statsmodels/base/model.py:607: ConvergenceWarning: Maximum Likelihood optimization failed to converge. Check mle_retvals\n",
      "  warnings.warn(\"Maximum Likelihood optimization failed to \"\n"
     ]
    },
    {
     "name": "stdout",
     "output_type": "stream",
     "text": [
      "2023-06-27 01:00:00+02:00 672 (4, 1, 2)\n"
     ]
    },
    {
     "name": "stderr",
     "output_type": "stream",
     "text": [
      "/home/RDC/tramburc/.conda/envs/stock_tft/lib/python3.10/site-packages/statsmodels/tsa/statespace/sarimax.py:966: UserWarning: Non-stationary starting autoregressive parameters found. Using zeros as starting parameters.\n",
      "  warn('Non-stationary starting autoregressive parameters'\n",
      "/home/RDC/tramburc/.conda/envs/stock_tft/lib/python3.10/site-packages/statsmodels/tsa/statespace/sarimax.py:978: UserWarning: Non-invertible starting MA parameters found. Using zeros as starting parameters.\n",
      "  warn('Non-invertible starting MA parameters found.'\n",
      "/home/RDC/tramburc/.conda/envs/stock_tft/lib/python3.10/site-packages/statsmodels/base/model.py:607: ConvergenceWarning: Maximum Likelihood optimization failed to converge. Check mle_retvals\n",
      "  warnings.warn(\"Maximum Likelihood optimization failed to \"\n"
     ]
    },
    {
     "name": "stdout",
     "output_type": "stream",
     "text": [
      "2023-06-28 01:00:00+02:00 672 (5, 1, 3)\n"
     ]
    },
    {
     "name": "stderr",
     "output_type": "stream",
     "text": [
      "/home/RDC/tramburc/.conda/envs/stock_tft/lib/python3.10/site-packages/statsmodels/tsa/statespace/sarimax.py:978: UserWarning: Non-invertible starting MA parameters found. Using zeros as starting parameters.\n",
      "  warn('Non-invertible starting MA parameters found.'\n",
      "/home/RDC/tramburc/.conda/envs/stock_tft/lib/python3.10/site-packages/statsmodels/base/model.py:607: ConvergenceWarning: Maximum Likelihood optimization failed to converge. Check mle_retvals\n",
      "  warnings.warn(\"Maximum Likelihood optimization failed to \"\n"
     ]
    },
    {
     "name": "stdout",
     "output_type": "stream",
     "text": [
      "2023-06-29 01:00:00+02:00 672 (4, 1, 2)\n"
     ]
    },
    {
     "name": "stderr",
     "output_type": "stream",
     "text": [
      "/home/RDC/tramburc/.conda/envs/stock_tft/lib/python3.10/site-packages/statsmodels/tsa/statespace/sarimax.py:966: UserWarning: Non-stationary starting autoregressive parameters found. Using zeros as starting parameters.\n",
      "  warn('Non-stationary starting autoregressive parameters'\n",
      "/home/RDC/tramburc/.conda/envs/stock_tft/lib/python3.10/site-packages/statsmodels/tsa/statespace/sarimax.py:978: UserWarning: Non-invertible starting MA parameters found. Using zeros as starting parameters.\n",
      "  warn('Non-invertible starting MA parameters found.'\n",
      "/home/RDC/tramburc/.conda/envs/stock_tft/lib/python3.10/site-packages/statsmodels/base/model.py:607: ConvergenceWarning: Maximum Likelihood optimization failed to converge. Check mle_retvals\n",
      "  warnings.warn(\"Maximum Likelihood optimization failed to \"\n"
     ]
    },
    {
     "name": "stdout",
     "output_type": "stream",
     "text": [
      "2023-06-30 01:00:00+02:00 672 (3, 1, 4)\n"
     ]
    },
    {
     "name": "stderr",
     "output_type": "stream",
     "text": [
      "/home/RDC/tramburc/.conda/envs/stock_tft/lib/python3.10/site-packages/statsmodels/base/model.py:607: ConvergenceWarning: Maximum Likelihood optimization failed to converge. Check mle_retvals\n",
      "  warnings.warn(\"Maximum Likelihood optimization failed to \"\n"
     ]
    },
    {
     "name": "stdout",
     "output_type": "stream",
     "text": [
      "2023-07-01 01:00:00+02:00 672 (4, 1, 2)\n"
     ]
    },
    {
     "name": "stderr",
     "output_type": "stream",
     "text": [
      "/home/RDC/tramburc/.conda/envs/stock_tft/lib/python3.10/site-packages/statsmodels/tsa/statespace/sarimax.py:966: UserWarning: Non-stationary starting autoregressive parameters found. Using zeros as starting parameters.\n",
      "  warn('Non-stationary starting autoregressive parameters'\n",
      "/home/RDC/tramburc/.conda/envs/stock_tft/lib/python3.10/site-packages/statsmodels/tsa/statespace/sarimax.py:978: UserWarning: Non-invertible starting MA parameters found. Using zeros as starting parameters.\n",
      "  warn('Non-invertible starting MA parameters found.'\n",
      "/home/RDC/tramburc/.conda/envs/stock_tft/lib/python3.10/site-packages/statsmodels/base/model.py:607: ConvergenceWarning: Maximum Likelihood optimization failed to converge. Check mle_retvals\n",
      "  warnings.warn(\"Maximum Likelihood optimization failed to \"\n"
     ]
    },
    {
     "name": "stdout",
     "output_type": "stream",
     "text": [
      "2023-07-02 01:00:00+02:00 672 (3, 1, 4)\n"
     ]
    },
    {
     "name": "stderr",
     "output_type": "stream",
     "text": [
      "/home/RDC/tramburc/.conda/envs/stock_tft/lib/python3.10/site-packages/statsmodels/base/model.py:607: ConvergenceWarning: Maximum Likelihood optimization failed to converge. Check mle_retvals\n",
      "  warnings.warn(\"Maximum Likelihood optimization failed to \"\n"
     ]
    },
    {
     "name": "stdout",
     "output_type": "stream",
     "text": [
      "2023-07-03 01:00:00+02:00 672 (3, 1, 4)\n"
     ]
    },
    {
     "name": "stderr",
     "output_type": "stream",
     "text": [
      "/home/RDC/tramburc/.conda/envs/stock_tft/lib/python3.10/site-packages/statsmodels/base/model.py:607: ConvergenceWarning: Maximum Likelihood optimization failed to converge. Check mle_retvals\n",
      "  warnings.warn(\"Maximum Likelihood optimization failed to \"\n"
     ]
    },
    {
     "name": "stdout",
     "output_type": "stream",
     "text": [
      "2023-07-04 01:00:00+02:00 672 (5, 0, 1)\n",
      "2023-07-05 01:00:00+02:00 672 (5, 0, 1)\n",
      "2023-07-06 01:00:00+02:00 672 (5, 1, 3)\n"
     ]
    },
    {
     "name": "stderr",
     "output_type": "stream",
     "text": [
      "/home/RDC/tramburc/.conda/envs/stock_tft/lib/python3.10/site-packages/statsmodels/tsa/statespace/sarimax.py:978: UserWarning: Non-invertible starting MA parameters found. Using zeros as starting parameters.\n",
      "  warn('Non-invertible starting MA parameters found.'\n",
      "/home/RDC/tramburc/.conda/envs/stock_tft/lib/python3.10/site-packages/statsmodels/base/model.py:607: ConvergenceWarning: Maximum Likelihood optimization failed to converge. Check mle_retvals\n",
      "  warnings.warn(\"Maximum Likelihood optimization failed to \"\n"
     ]
    },
    {
     "name": "stdout",
     "output_type": "stream",
     "text": [
      "2023-07-07 01:00:00+02:00 672 (5, 1, 1)\n",
      "2023-07-08 01:00:00+02:00 672 (5, 1, 1)\n",
      "2023-07-09 01:00:00+02:00 672 (5, 1, 1)\n",
      "2023-07-10 01:00:00+02:00 672 (5, 1, 1)\n",
      "2023-07-11 01:00:00+02:00 672 (5, 1, 3)\n"
     ]
    },
    {
     "name": "stderr",
     "output_type": "stream",
     "text": [
      "/home/RDC/tramburc/.conda/envs/stock_tft/lib/python3.10/site-packages/statsmodels/base/model.py:607: ConvergenceWarning: Maximum Likelihood optimization failed to converge. Check mle_retvals\n",
      "  warnings.warn(\"Maximum Likelihood optimization failed to \"\n"
     ]
    },
    {
     "name": "stdout",
     "output_type": "stream",
     "text": [
      "2023-07-12 01:00:00+02:00 672 (5, 1, 1)\n",
      "2023-07-13 01:00:00+02:00 672 (2, 1, 1)\n",
      "2023-07-14 01:00:00+02:00 672 (2, 1, 1)\n",
      "2023-07-15 01:00:00+02:00 672 (2, 1, 2)\n",
      "2023-07-16 01:00:00+02:00 672 (2, 1, 2)\n",
      "2023-07-17 01:00:00+02:00 672 (2, 1, 2)\n",
      "2023-07-18 01:00:00+02:00 672 (2, 1, 2)\n",
      "2023-07-19 01:00:00+02:00 672 (2, 1, 2)\n",
      "2023-07-20 01:00:00+02:00 672 (2, 0, 3)\n",
      "2023-07-21 01:00:00+02:00 672 (2, 0, 3)\n",
      "2023-07-22 01:00:00+02:00 672 (2, 0, 3)\n",
      "2023-07-23 01:00:00+02:00 672 (2, 0, 3)\n",
      "2023-07-24 01:00:00+02:00 672 (2, 0, 4)\n",
      "2023-07-25 01:00:00+02:00 672 (3, 0, 1)\n",
      "2023-07-26 01:00:00+02:00 672 (2, 0, 5)\n",
      "2023-07-27 01:00:00+02:00 672 (2, 0, 5)\n",
      "2023-07-28 01:00:00+02:00 672 (2, 0, 3)\n",
      "2023-07-29 01:00:00+02:00 672 (2, 0, 3)\n",
      "2023-07-30 01:00:00+02:00 672 (3, 0, 0)\n",
      "2023-07-31 01:00:00+02:00 672 (3, 0, 0)\n",
      "2023-08-01 01:00:00+02:00 672 (2, 1, 1)\n",
      "2023-08-02 01:00:00+02:00 672 (2, 1, 1)\n",
      "2023-08-03 01:00:00+02:00 672 (2, 1, 1)\n",
      "2023-08-04 01:00:00+02:00 672 (5, 1, 3)\n"
     ]
    },
    {
     "name": "stderr",
     "output_type": "stream",
     "text": [
      "/home/RDC/tramburc/.conda/envs/stock_tft/lib/python3.10/site-packages/statsmodels/base/model.py:607: ConvergenceWarning: Maximum Likelihood optimization failed to converge. Check mle_retvals\n",
      "  warnings.warn(\"Maximum Likelihood optimization failed to \"\n"
     ]
    },
    {
     "name": "stdout",
     "output_type": "stream",
     "text": [
      "2023-08-05 01:00:00+02:00 672 (5, 1, 3)\n"
     ]
    },
    {
     "name": "stderr",
     "output_type": "stream",
     "text": [
      "/home/RDC/tramburc/.conda/envs/stock_tft/lib/python3.10/site-packages/statsmodels/base/model.py:607: ConvergenceWarning: Maximum Likelihood optimization failed to converge. Check mle_retvals\n",
      "  warnings.warn(\"Maximum Likelihood optimization failed to \"\n"
     ]
    },
    {
     "name": "stdout",
     "output_type": "stream",
     "text": [
      "2023-08-06 01:00:00+02:00 672 (5, 1, 3)\n"
     ]
    },
    {
     "name": "stderr",
     "output_type": "stream",
     "text": [
      "/home/RDC/tramburc/.conda/envs/stock_tft/lib/python3.10/site-packages/statsmodels/base/model.py:607: ConvergenceWarning: Maximum Likelihood optimization failed to converge. Check mle_retvals\n",
      "  warnings.warn(\"Maximum Likelihood optimization failed to \"\n"
     ]
    },
    {
     "name": "stdout",
     "output_type": "stream",
     "text": [
      "2023-08-07 01:00:00+02:00 672 (2, 1, 1)\n",
      "2023-08-08 01:00:00+02:00 672 (2, 1, 2)\n",
      "2023-08-09 01:00:00+02:00 672 (2, 1, 2)\n",
      "2023-08-10 01:00:00+02:00 672 (5, 1, 1)\n",
      "2023-08-11 01:00:00+02:00 672 (5, 1, 1)\n",
      "2023-08-12 01:00:00+02:00 672 (5, 1, 1)\n"
     ]
    },
    {
     "name": "stderr",
     "output_type": "stream",
     "text": [
      "/home/RDC/tramburc/.conda/envs/stock_tft/lib/python3.10/site-packages/pmdarima/arima/_auto_solvers.py:524: ModelFitWarning: Error fitting  ARIMA(5,1,2)(0,0,0)[0]           (if you do not want to see these warnings, run with error_action=\"ignore\").\n",
      "Traceback:\n",
      "Traceback (most recent call last):\n",
      "  File \"/home/RDC/tramburc/.conda/envs/stock_tft/lib/python3.10/site-packages/pmdarima/arima/_auto_solvers.py\", line 508, in _fit_candidate_model\n",
      "    fit.fit(y, X=X, **fit_params)\n",
      "  File \"/home/RDC/tramburc/.conda/envs/stock_tft/lib/python3.10/site-packages/pmdarima/arima/arima.py\", line 603, in fit\n",
      "    self._fit(y, X, **fit_args)\n",
      "  File \"/home/RDC/tramburc/.conda/envs/stock_tft/lib/python3.10/site-packages/pmdarima/arima/arima.py\", line 524, in _fit\n",
      "    fit, self.arima_res_ = _fit_wrapper()\n",
      "  File \"/home/RDC/tramburc/.conda/envs/stock_tft/lib/python3.10/site-packages/pmdarima/arima/arima.py\", line 510, in _fit_wrapper\n",
      "    fitted = arima.fit(\n",
      "  File \"/home/RDC/tramburc/.conda/envs/stock_tft/lib/python3.10/site-packages/statsmodels/tsa/statespace/mlemodel.py\", line 703, in fit\n",
      "    mlefit = super().fit(start_params, method=method,\n",
      "  File \"/home/RDC/tramburc/.conda/envs/stock_tft/lib/python3.10/site-packages/statsmodels/base/model.py\", line 566, in fit\n",
      "    xopt, retvals, optim_settings = optimizer._fit(f, score, start_params,\n",
      "  File \"/home/RDC/tramburc/.conda/envs/stock_tft/lib/python3.10/site-packages/statsmodels/base/optimizer.py\", line 243, in _fit\n",
      "    xopt, retvals = func(objective, gradient, start_params, fargs, kwargs,\n",
      "  File \"/home/RDC/tramburc/.conda/envs/stock_tft/lib/python3.10/site-packages/statsmodels/base/optimizer.py\", line 660, in _fit_lbfgs\n",
      "    retvals = optimize.fmin_l_bfgs_b(func, start_params, maxiter=maxiter,\n",
      "  File \"/home/RDC/tramburc/.conda/envs/stock_tft/lib/python3.10/site-packages/scipy/optimize/_lbfgsb_py.py\", line 237, in fmin_l_bfgs_b\n",
      "    res = _minimize_lbfgsb(fun, x0, args=args, jac=jac, bounds=bounds,\n",
      "  File \"/home/RDC/tramburc/.conda/envs/stock_tft/lib/python3.10/site-packages/scipy/optimize/_lbfgsb_py.py\", line 407, in _minimize_lbfgsb\n",
      "    f, g = func_and_grad(x)\n",
      "  File \"/home/RDC/tramburc/.conda/envs/stock_tft/lib/python3.10/site-packages/scipy/optimize/_differentiable_functions.py\", line 296, in fun_and_grad\n",
      "    self._update_fun()\n",
      "  File \"/home/RDC/tramburc/.conda/envs/stock_tft/lib/python3.10/site-packages/scipy/optimize/_differentiable_functions.py\", line 262, in _update_fun\n",
      "    self._update_fun_impl()\n",
      "  File \"/home/RDC/tramburc/.conda/envs/stock_tft/lib/python3.10/site-packages/scipy/optimize/_differentiable_functions.py\", line 163, in update_fun\n",
      "    self.f = fun_wrapped(self.x)\n",
      "  File \"/home/RDC/tramburc/.conda/envs/stock_tft/lib/python3.10/site-packages/scipy/optimize/_differentiable_functions.py\", line 145, in fun_wrapped\n",
      "    fx = fun(np.copy(x), *args)\n",
      "  File \"/home/RDC/tramburc/.conda/envs/stock_tft/lib/python3.10/site-packages/statsmodels/base/model.py\", line 534, in f\n",
      "    return -self.loglike(params, *args) / nobs\n",
      "  File \"/home/RDC/tramburc/.conda/envs/stock_tft/lib/python3.10/site-packages/statsmodels/tsa/statespace/mlemodel.py\", line 938, in loglike\n",
      "    loglike = self.ssm.loglike(complex_step=complex_step, **kwargs)\n",
      "  File \"/home/RDC/tramburc/.conda/envs/stock_tft/lib/python3.10/site-packages/statsmodels/tsa/statespace/kalman_filter.py\", line 1001, in loglike\n",
      "    kfilter = self._filter(**kwargs)\n",
      "  File \"/home/RDC/tramburc/.conda/envs/stock_tft/lib/python3.10/site-packages/statsmodels/tsa/statespace/kalman_filter.py\", line 921, in _filter\n",
      "    self._initialize_state(prefix=prefix, complex_step=complex_step)\n",
      "  File \"/home/RDC/tramburc/.conda/envs/stock_tft/lib/python3.10/site-packages/statsmodels/tsa/statespace/representation.py\", line 1058, in _initialize_state\n",
      "    self._statespaces[prefix].initialize(self.initialization,\n",
      "  File \"statsmodels/tsa/statespace/_representation.pyx\", line 1373, in statsmodels.tsa.statespace._representation.dStatespace.initialize\n",
      "  File \"statsmodels/tsa/statespace/_representation.pyx\", line 1362, in statsmodels.tsa.statespace._representation.dStatespace.initialize\n",
      "  File \"statsmodels/tsa/statespace/_initialization.pyx\", line 288, in statsmodels.tsa.statespace._initialization.dInitialization.initialize\n",
      "  File \"statsmodels/tsa/statespace/_initialization.pyx\", line 406, in statsmodels.tsa.statespace._initialization.dInitialization.initialize_stationary_stationary_cov\n",
      "  File \"statsmodels/tsa/statespace/_tools.pyx\", line 1548, in statsmodels.tsa.statespace._tools._dsolve_discrete_lyapunov\n",
      "numpy.linalg.LinAlgError: LU decomposition error.\n",
      "\n",
      "  warnings.warn(warning_str, ModelFitWarning)\n"
     ]
    },
    {
     "name": "stdout",
     "output_type": "stream",
     "text": [
      "2023-08-13 01:00:00+02:00 672 (5, 1, 3)\n"
     ]
    },
    {
     "name": "stderr",
     "output_type": "stream",
     "text": [
      "/home/RDC/tramburc/.conda/envs/stock_tft/lib/python3.10/site-packages/statsmodels/tsa/statespace/sarimax.py:978: UserWarning: Non-invertible starting MA parameters found. Using zeros as starting parameters.\n",
      "  warn('Non-invertible starting MA parameters found.'\n",
      "/home/RDC/tramburc/.conda/envs/stock_tft/lib/python3.10/site-packages/statsmodels/base/model.py:607: ConvergenceWarning: Maximum Likelihood optimization failed to converge. Check mle_retvals\n",
      "  warnings.warn(\"Maximum Likelihood optimization failed to \"\n"
     ]
    },
    {
     "name": "stdout",
     "output_type": "stream",
     "text": [
      "2023-08-14 01:00:00+02:00 672 (2, 1, 2)\n",
      "2023-08-15 01:00:00+02:00 672 (2, 1, 1)\n",
      "2023-08-16 01:00:00+02:00 672 (2, 1, 1)\n",
      "2023-08-17 01:00:00+02:00 672 (2, 1, 1)\n",
      "2023-08-18 01:00:00+02:00 672 (2, 1, 1)\n",
      "2023-08-19 01:00:00+02:00 672 (2, 1, 1)\n",
      "2023-08-20 01:00:00+02:00 672 (5, 1, 1)\n",
      "2023-08-21 01:00:00+02:00 672 (5, 1, 1)\n",
      "2023-08-22 01:00:00+02:00 672 (5, 1, 1)\n",
      "2023-08-23 01:00:00+02:00 672 (5, 1, 1)\n",
      "2023-08-24 01:00:00+02:00 672 (5, 1, 1)\n",
      "2023-08-25 01:00:00+02:00 672 (5, 1, 1)\n",
      "2023-08-26 01:00:00+02:00 672 (5, 1, 1)\n",
      "2023-08-27 01:00:00+02:00 672 (4, 1, 1)\n",
      "2023-08-28 01:00:00+02:00 672 (2, 1, 1)\n",
      "2023-08-29 01:00:00+02:00 672 (2, 1, 1)\n",
      "2023-08-30 01:00:00+02:00 672 (5, 1, 1)\n",
      "2023-08-31 01:00:00+02:00 672 (2, 1, 1)\n",
      "2023-09-01 01:00:00+02:00 672 (3, 1, 3)\n",
      "2023-09-02 01:00:00+02:00 672 (3, 1, 3)\n",
      "2023-09-03 01:00:00+02:00 672 (3, 1, 3)\n",
      "2023-09-04 01:00:00+02:00 672 (5, 1, 2)\n",
      "2023-09-05 01:00:00+02:00 672 (5, 1, 1)\n",
      "2023-09-06 01:00:00+02:00 672 (2, 0, 2)\n",
      "2023-09-07 01:00:00+02:00 672 (2, 0, 2)\n",
      "2023-09-08 01:00:00+02:00 672 (2, 0, 2)\n",
      "2023-09-09 01:00:00+02:00 672 (2, 0, 2)\n",
      "2023-09-10 01:00:00+02:00 672 (2, 0, 2)\n",
      "2023-09-11 01:00:00+02:00 672 (4, 0, 0)\n",
      "2023-09-12 01:00:00+02:00 672 (5, 0, 0)\n",
      "2023-09-13 01:00:00+02:00 672 (5, 0, 0)\n",
      "2023-09-14 01:00:00+02:00 672 (5, 0, 0)\n",
      "2023-09-15 01:00:00+02:00 672 (5, 0, 0)\n",
      "2023-09-16 01:00:00+02:00 672 (2, 0, 2)\n",
      "2023-09-17 01:00:00+02:00 672 (2, 0, 2)\n",
      "2023-09-18 01:00:00+02:00 672 (2, 0, 2)\n",
      "2023-09-19 01:00:00+02:00 672 (4, 1, 4)\n"
     ]
    },
    {
     "name": "stderr",
     "output_type": "stream",
     "text": [
      "/home/RDC/tramburc/.conda/envs/stock_tft/lib/python3.10/site-packages/statsmodels/tsa/statespace/sarimax.py:978: UserWarning: Non-invertible starting MA parameters found. Using zeros as starting parameters.\n",
      "  warn('Non-invertible starting MA parameters found.'\n",
      "/home/RDC/tramburc/.conda/envs/stock_tft/lib/python3.10/site-packages/statsmodels/base/model.py:607: ConvergenceWarning: Maximum Likelihood optimization failed to converge. Check mle_retvals\n",
      "  warnings.warn(\"Maximum Likelihood optimization failed to \"\n"
     ]
    },
    {
     "name": "stdout",
     "output_type": "stream",
     "text": [
      "2023-09-20 01:00:00+02:00 672 (4, 1, 1)\n",
      "2023-09-21 01:00:00+02:00 672 (4, 1, 1)\n",
      "2023-09-22 01:00:00+02:00 672 (4, 1, 1)\n",
      "2023-09-23 01:00:00+02:00 672 (4, 1, 1)\n",
      "2023-09-24 01:00:00+02:00 672 (4, 1, 1)\n",
      "2023-09-25 01:00:00+02:00 672 (4, 1, 1)\n",
      "2023-09-26 01:00:00+02:00 672 (4, 1, 1)\n",
      "2023-09-27 01:00:00+02:00 672 (4, 1, 1)\n",
      "2023-09-28 01:00:00+02:00 672 (2, 1, 0)\n",
      "2023-09-29 01:00:00+02:00 672 (2, 1, 0)\n",
      "2023-09-30 01:00:00+02:00 672 (2, 0, 1)\n",
      "2023-10-01 01:00:00+02:00 672 (2, 0, 1)\n",
      "2023-10-02 01:00:00+02:00 672 (2, 0, 1)\n",
      "2023-10-03 01:00:00+02:00 672 (2, 1, 4)\n",
      "2023-10-04 01:00:00+02:00 672 (4, 1, 2)\n"
     ]
    },
    {
     "name": "stderr",
     "output_type": "stream",
     "text": [
      "/home/RDC/tramburc/.conda/envs/stock_tft/lib/python3.10/site-packages/statsmodels/tsa/statespace/sarimax.py:966: UserWarning: Non-stationary starting autoregressive parameters found. Using zeros as starting parameters.\n",
      "  warn('Non-stationary starting autoregressive parameters'\n",
      "/home/RDC/tramburc/.conda/envs/stock_tft/lib/python3.10/site-packages/statsmodels/tsa/statespace/sarimax.py:978: UserWarning: Non-invertible starting MA parameters found. Using zeros as starting parameters.\n",
      "  warn('Non-invertible starting MA parameters found.'\n",
      "/home/RDC/tramburc/.conda/envs/stock_tft/lib/python3.10/site-packages/statsmodels/base/model.py:607: ConvergenceWarning: Maximum Likelihood optimization failed to converge. Check mle_retvals\n",
      "  warnings.warn(\"Maximum Likelihood optimization failed to \"\n"
     ]
    },
    {
     "name": "stdout",
     "output_type": "stream",
     "text": [
      "2023-10-05 01:00:00+02:00 672 (4, 1, 5)\n"
     ]
    },
    {
     "name": "stderr",
     "output_type": "stream",
     "text": [
      "/home/RDC/tramburc/.conda/envs/stock_tft/lib/python3.10/site-packages/statsmodels/base/model.py:607: ConvergenceWarning: Maximum Likelihood optimization failed to converge. Check mle_retvals\n",
      "  warnings.warn(\"Maximum Likelihood optimization failed to \"\n"
     ]
    },
    {
     "name": "stdout",
     "output_type": "stream",
     "text": [
      "2023-10-06 01:00:00+02:00 672 (3, 1, 4)\n"
     ]
    },
    {
     "name": "stderr",
     "output_type": "stream",
     "text": [
      "/home/RDC/tramburc/.conda/envs/stock_tft/lib/python3.10/site-packages/statsmodels/base/model.py:607: ConvergenceWarning: Maximum Likelihood optimization failed to converge. Check mle_retvals\n",
      "  warnings.warn(\"Maximum Likelihood optimization failed to \"\n"
     ]
    },
    {
     "name": "stdout",
     "output_type": "stream",
     "text": [
      "2023-10-07 01:00:00+02:00 672 (2, 1, 1)\n",
      "2023-10-08 01:00:00+02:00 672 (2, 1, 3)\n",
      "2023-10-09 01:00:00+02:00 672 (2, 1, 2)\n"
     ]
    },
    {
     "name": "stderr",
     "output_type": "stream",
     "text": [
      "/home/RDC/tramburc/.conda/envs/stock_tft/lib/python3.10/site-packages/statsmodels/tsa/statespace/sarimax.py:966: UserWarning: Non-stationary starting autoregressive parameters found. Using zeros as starting parameters.\n",
      "  warn('Non-stationary starting autoregressive parameters'\n",
      "/home/RDC/tramburc/.conda/envs/stock_tft/lib/python3.10/site-packages/statsmodels/tsa/statespace/sarimax.py:978: UserWarning: Non-invertible starting MA parameters found. Using zeros as starting parameters.\n",
      "  warn('Non-invertible starting MA parameters found.'\n"
     ]
    },
    {
     "name": "stdout",
     "output_type": "stream",
     "text": [
      "2023-10-10 01:00:00+02:00 672 (2, 1, 1)\n",
      "2023-10-11 01:00:00+02:00 672 (2, 0, 1)\n",
      "2023-10-12 01:00:00+02:00 672 (2, 0, 1)\n",
      "2023-10-13 01:00:00+02:00 672 (2, 0, 1)\n",
      "2023-10-14 01:00:00+02:00 672 (2, 0, 1)\n",
      "2023-10-15 01:00:00+02:00 672 (2, 0, 1)\n"
     ]
    },
    {
     "name": "stderr",
     "output_type": "stream",
     "text": [
      "/home/RDC/tramburc/.conda/envs/stock_tft/lib/python3.10/site-packages/pmdarima/arima/_auto_solvers.py:524: ModelFitWarning: Error fitting  ARIMA(4,0,2)(0,0,0)[0]           (if you do not want to see these warnings, run with error_action=\"ignore\").\n",
      "Traceback:\n",
      "Traceback (most recent call last):\n",
      "  File \"/home/RDC/tramburc/.conda/envs/stock_tft/lib/python3.10/site-packages/pmdarima/arima/_auto_solvers.py\", line 508, in _fit_candidate_model\n",
      "    fit.fit(y, X=X, **fit_params)\n",
      "  File \"/home/RDC/tramburc/.conda/envs/stock_tft/lib/python3.10/site-packages/pmdarima/arima/arima.py\", line 603, in fit\n",
      "    self._fit(y, X, **fit_args)\n",
      "  File \"/home/RDC/tramburc/.conda/envs/stock_tft/lib/python3.10/site-packages/pmdarima/arima/arima.py\", line 524, in _fit\n",
      "    fit, self.arima_res_ = _fit_wrapper()\n",
      "  File \"/home/RDC/tramburc/.conda/envs/stock_tft/lib/python3.10/site-packages/pmdarima/arima/arima.py\", line 510, in _fit_wrapper\n",
      "    fitted = arima.fit(\n",
      "  File \"/home/RDC/tramburc/.conda/envs/stock_tft/lib/python3.10/site-packages/statsmodels/tsa/statespace/mlemodel.py\", line 703, in fit\n",
      "    mlefit = super().fit(start_params, method=method,\n",
      "  File \"/home/RDC/tramburc/.conda/envs/stock_tft/lib/python3.10/site-packages/statsmodels/base/model.py\", line 566, in fit\n",
      "    xopt, retvals, optim_settings = optimizer._fit(f, score, start_params,\n",
      "  File \"/home/RDC/tramburc/.conda/envs/stock_tft/lib/python3.10/site-packages/statsmodels/base/optimizer.py\", line 243, in _fit\n",
      "    xopt, retvals = func(objective, gradient, start_params, fargs, kwargs,\n",
      "  File \"/home/RDC/tramburc/.conda/envs/stock_tft/lib/python3.10/site-packages/statsmodels/base/optimizer.py\", line 660, in _fit_lbfgs\n",
      "    retvals = optimize.fmin_l_bfgs_b(func, start_params, maxiter=maxiter,\n",
      "  File \"/home/RDC/tramburc/.conda/envs/stock_tft/lib/python3.10/site-packages/scipy/optimize/_lbfgsb_py.py\", line 237, in fmin_l_bfgs_b\n",
      "    res = _minimize_lbfgsb(fun, x0, args=args, jac=jac, bounds=bounds,\n",
      "  File \"/home/RDC/tramburc/.conda/envs/stock_tft/lib/python3.10/site-packages/scipy/optimize/_lbfgsb_py.py\", line 407, in _minimize_lbfgsb\n",
      "    f, g = func_and_grad(x)\n",
      "  File \"/home/RDC/tramburc/.conda/envs/stock_tft/lib/python3.10/site-packages/scipy/optimize/_differentiable_functions.py\", line 296, in fun_and_grad\n",
      "    self._update_fun()\n",
      "  File \"/home/RDC/tramburc/.conda/envs/stock_tft/lib/python3.10/site-packages/scipy/optimize/_differentiable_functions.py\", line 262, in _update_fun\n",
      "    self._update_fun_impl()\n",
      "  File \"/home/RDC/tramburc/.conda/envs/stock_tft/lib/python3.10/site-packages/scipy/optimize/_differentiable_functions.py\", line 163, in update_fun\n",
      "    self.f = fun_wrapped(self.x)\n",
      "  File \"/home/RDC/tramburc/.conda/envs/stock_tft/lib/python3.10/site-packages/scipy/optimize/_differentiable_functions.py\", line 145, in fun_wrapped\n",
      "    fx = fun(np.copy(x), *args)\n",
      "  File \"/home/RDC/tramburc/.conda/envs/stock_tft/lib/python3.10/site-packages/statsmodels/base/model.py\", line 534, in f\n",
      "    return -self.loglike(params, *args) / nobs\n",
      "  File \"/home/RDC/tramburc/.conda/envs/stock_tft/lib/python3.10/site-packages/statsmodels/tsa/statespace/mlemodel.py\", line 938, in loglike\n",
      "    loglike = self.ssm.loglike(complex_step=complex_step, **kwargs)\n",
      "  File \"/home/RDC/tramburc/.conda/envs/stock_tft/lib/python3.10/site-packages/statsmodels/tsa/statespace/kalman_filter.py\", line 1001, in loglike\n",
      "    kfilter = self._filter(**kwargs)\n",
      "  File \"/home/RDC/tramburc/.conda/envs/stock_tft/lib/python3.10/site-packages/statsmodels/tsa/statespace/kalman_filter.py\", line 921, in _filter\n",
      "    self._initialize_state(prefix=prefix, complex_step=complex_step)\n",
      "  File \"/home/RDC/tramburc/.conda/envs/stock_tft/lib/python3.10/site-packages/statsmodels/tsa/statespace/representation.py\", line 1058, in _initialize_state\n",
      "    self._statespaces[prefix].initialize(self.initialization,\n",
      "  File \"statsmodels/tsa/statespace/_representation.pyx\", line 1362, in statsmodels.tsa.statespace._representation.dStatespace.initialize\n",
      "  File \"statsmodels/tsa/statespace/_initialization.pyx\", line 288, in statsmodels.tsa.statespace._initialization.dInitialization.initialize\n",
      "  File \"statsmodels/tsa/statespace/_initialization.pyx\", line 406, in statsmodels.tsa.statespace._initialization.dInitialization.initialize_stationary_stationary_cov\n",
      "  File \"statsmodels/tsa/statespace/_tools.pyx\", line 1548, in statsmodels.tsa.statespace._tools._dsolve_discrete_lyapunov\n",
      "numpy.linalg.LinAlgError: LU decomposition error.\n",
      "\n",
      "  warnings.warn(warning_str, ModelFitWarning)\n"
     ]
    },
    {
     "name": "stdout",
     "output_type": "stream",
     "text": [
      "2023-10-16 01:00:00+02:00 672 (2, 0, 1)\n",
      "2023-10-17 01:00:00+02:00 672 (2, 0, 1)\n",
      "2023-10-18 01:00:00+02:00 672 (2, 0, 1)\n",
      "2023-10-19 01:00:00+02:00 672 (2, 0, 2)\n",
      "2023-10-20 01:00:00+02:00 672 (3, 0, 0)\n",
      "2023-10-21 01:00:00+02:00 672 (2, 0, 2)\n"
     ]
    },
    {
     "name": "stderr",
     "output_type": "stream",
     "text": [
      "/home/RDC/tramburc/.conda/envs/stock_tft/lib/python3.10/site-packages/pmdarima/arima/_auto_solvers.py:524: ModelFitWarning: Error fitting  ARIMA(3,0,3)(0,0,0)[0]           (if you do not want to see these warnings, run with error_action=\"ignore\").\n",
      "Traceback:\n",
      "Traceback (most recent call last):\n",
      "  File \"/home/RDC/tramburc/.conda/envs/stock_tft/lib/python3.10/site-packages/pmdarima/arima/_auto_solvers.py\", line 508, in _fit_candidate_model\n",
      "    fit.fit(y, X=X, **fit_params)\n",
      "  File \"/home/RDC/tramburc/.conda/envs/stock_tft/lib/python3.10/site-packages/pmdarima/arima/arima.py\", line 603, in fit\n",
      "    self._fit(y, X, **fit_args)\n",
      "  File \"/home/RDC/tramburc/.conda/envs/stock_tft/lib/python3.10/site-packages/pmdarima/arima/arima.py\", line 524, in _fit\n",
      "    fit, self.arima_res_ = _fit_wrapper()\n",
      "  File \"/home/RDC/tramburc/.conda/envs/stock_tft/lib/python3.10/site-packages/pmdarima/arima/arima.py\", line 510, in _fit_wrapper\n",
      "    fitted = arima.fit(\n",
      "  File \"/home/RDC/tramburc/.conda/envs/stock_tft/lib/python3.10/site-packages/statsmodels/tsa/statespace/mlemodel.py\", line 703, in fit\n",
      "    mlefit = super().fit(start_params, method=method,\n",
      "  File \"/home/RDC/tramburc/.conda/envs/stock_tft/lib/python3.10/site-packages/statsmodels/base/model.py\", line 566, in fit\n",
      "    xopt, retvals, optim_settings = optimizer._fit(f, score, start_params,\n",
      "  File \"/home/RDC/tramburc/.conda/envs/stock_tft/lib/python3.10/site-packages/statsmodels/base/optimizer.py\", line 243, in _fit\n",
      "    xopt, retvals = func(objective, gradient, start_params, fargs, kwargs,\n",
      "  File \"/home/RDC/tramburc/.conda/envs/stock_tft/lib/python3.10/site-packages/statsmodels/base/optimizer.py\", line 660, in _fit_lbfgs\n",
      "    retvals = optimize.fmin_l_bfgs_b(func, start_params, maxiter=maxiter,\n",
      "  File \"/home/RDC/tramburc/.conda/envs/stock_tft/lib/python3.10/site-packages/scipy/optimize/_lbfgsb_py.py\", line 237, in fmin_l_bfgs_b\n",
      "    res = _minimize_lbfgsb(fun, x0, args=args, jac=jac, bounds=bounds,\n",
      "  File \"/home/RDC/tramburc/.conda/envs/stock_tft/lib/python3.10/site-packages/scipy/optimize/_lbfgsb_py.py\", line 407, in _minimize_lbfgsb\n",
      "    f, g = func_and_grad(x)\n",
      "  File \"/home/RDC/tramburc/.conda/envs/stock_tft/lib/python3.10/site-packages/scipy/optimize/_differentiable_functions.py\", line 296, in fun_and_grad\n",
      "    self._update_fun()\n",
      "  File \"/home/RDC/tramburc/.conda/envs/stock_tft/lib/python3.10/site-packages/scipy/optimize/_differentiable_functions.py\", line 262, in _update_fun\n",
      "    self._update_fun_impl()\n",
      "  File \"/home/RDC/tramburc/.conda/envs/stock_tft/lib/python3.10/site-packages/scipy/optimize/_differentiable_functions.py\", line 163, in update_fun\n",
      "    self.f = fun_wrapped(self.x)\n",
      "  File \"/home/RDC/tramburc/.conda/envs/stock_tft/lib/python3.10/site-packages/scipy/optimize/_differentiable_functions.py\", line 145, in fun_wrapped\n",
      "    fx = fun(np.copy(x), *args)\n",
      "  File \"/home/RDC/tramburc/.conda/envs/stock_tft/lib/python3.10/site-packages/statsmodels/base/model.py\", line 534, in f\n",
      "    return -self.loglike(params, *args) / nobs\n",
      "  File \"/home/RDC/tramburc/.conda/envs/stock_tft/lib/python3.10/site-packages/statsmodels/tsa/statespace/mlemodel.py\", line 938, in loglike\n",
      "    loglike = self.ssm.loglike(complex_step=complex_step, **kwargs)\n",
      "  File \"/home/RDC/tramburc/.conda/envs/stock_tft/lib/python3.10/site-packages/statsmodels/tsa/statespace/kalman_filter.py\", line 1001, in loglike\n",
      "    kfilter = self._filter(**kwargs)\n",
      "  File \"/home/RDC/tramburc/.conda/envs/stock_tft/lib/python3.10/site-packages/statsmodels/tsa/statespace/kalman_filter.py\", line 921, in _filter\n",
      "    self._initialize_state(prefix=prefix, complex_step=complex_step)\n",
      "  File \"/home/RDC/tramburc/.conda/envs/stock_tft/lib/python3.10/site-packages/statsmodels/tsa/statespace/representation.py\", line 1058, in _initialize_state\n",
      "    self._statespaces[prefix].initialize(self.initialization,\n",
      "  File \"statsmodels/tsa/statespace/_representation.pyx\", line 1362, in statsmodels.tsa.statespace._representation.dStatespace.initialize\n",
      "  File \"statsmodels/tsa/statespace/_initialization.pyx\", line 288, in statsmodels.tsa.statespace._initialization.dInitialization.initialize\n",
      "  File \"statsmodels/tsa/statespace/_initialization.pyx\", line 406, in statsmodels.tsa.statespace._initialization.dInitialization.initialize_stationary_stationary_cov\n",
      "  File \"statsmodels/tsa/statespace/_tools.pyx\", line 1548, in statsmodels.tsa.statespace._tools._dsolve_discrete_lyapunov\n",
      "numpy.linalg.LinAlgError: LU decomposition error.\n",
      "\n",
      "  warnings.warn(warning_str, ModelFitWarning)\n"
     ]
    },
    {
     "name": "stdout",
     "output_type": "stream",
     "text": [
      "2023-10-22 01:00:00+02:00 672 (5, 0, 3)\n"
     ]
    },
    {
     "name": "stderr",
     "output_type": "stream",
     "text": [
      "/home/RDC/tramburc/.conda/envs/stock_tft/lib/python3.10/site-packages/statsmodels/base/model.py:607: ConvergenceWarning: Maximum Likelihood optimization failed to converge. Check mle_retvals\n",
      "  warnings.warn(\"Maximum Likelihood optimization failed to \"\n"
     ]
    },
    {
     "name": "stdout",
     "output_type": "stream",
     "text": [
      "2023-10-23 01:00:00+02:00 672 (4, 0, 1)\n",
      "2023-10-24 01:00:00+02:00 672 (4, 0, 1)\n",
      "2023-10-25 01:00:00+02:00 672 (4, 0, 1)\n",
      "2023-10-26 01:00:00+02:00 672 (2, 1, 1)\n",
      "2023-10-27 01:00:00+02:00 672 (2, 1, 2)\n"
     ]
    },
    {
     "name": "stderr",
     "output_type": "stream",
     "text": [
      "/home/RDC/tramburc/.conda/envs/stock_tft/lib/python3.10/site-packages/statsmodels/tsa/statespace/sarimax.py:978: UserWarning: Non-invertible starting MA parameters found. Using zeros as starting parameters.\n",
      "  warn('Non-invertible starting MA parameters found.'\n"
     ]
    },
    {
     "name": "stdout",
     "output_type": "stream",
     "text": [
      "2023-10-28 01:00:00+02:00 672 (2, 1, 3)\n",
      "2023-10-29 01:00:00+02:00 672 (3, 1, 3)\n"
     ]
    },
    {
     "name": "stderr",
     "output_type": "stream",
     "text": [
      "/home/RDC/tramburc/.conda/envs/stock_tft/lib/python3.10/site-packages/statsmodels/base/model.py:607: ConvergenceWarning: Maximum Likelihood optimization failed to converge. Check mle_retvals\n",
      "  warnings.warn(\"Maximum Likelihood optimization failed to \"\n"
     ]
    },
    {
     "name": "stdout",
     "output_type": "stream",
     "text": [
      "2023-10-30 00:00:00+01:00 672 (5, 1, 1)\n",
      "2023-10-31 00:00:00+01:00 672 (5, 1, 2)\n"
     ]
    },
    {
     "name": "stderr",
     "output_type": "stream",
     "text": [
      "/home/RDC/tramburc/.conda/envs/stock_tft/lib/python3.10/site-packages/statsmodels/tsa/statespace/sarimax.py:966: UserWarning: Non-stationary starting autoregressive parameters found. Using zeros as starting parameters.\n",
      "  warn('Non-stationary starting autoregressive parameters'\n",
      "/home/RDC/tramburc/.conda/envs/stock_tft/lib/python3.10/site-packages/statsmodels/tsa/statespace/sarimax.py:978: UserWarning: Non-invertible starting MA parameters found. Using zeros as starting parameters.\n",
      "  warn('Non-invertible starting MA parameters found.'\n",
      "/home/RDC/tramburc/.conda/envs/stock_tft/lib/python3.10/site-packages/statsmodels/base/model.py:607: ConvergenceWarning: Maximum Likelihood optimization failed to converge. Check mle_retvals\n",
      "  warnings.warn(\"Maximum Likelihood optimization failed to \"\n"
     ]
    },
    {
     "name": "stdout",
     "output_type": "stream",
     "text": [
      "2023-11-01 00:00:00+01:00 672 (5, 0, 1)\n",
      "2023-11-02 00:00:00+01:00 672 (3, 0, 0)\n",
      "2023-11-03 00:00:00+01:00 672 (4, 1, 2)\n"
     ]
    },
    {
     "name": "stderr",
     "output_type": "stream",
     "text": [
      "/home/RDC/tramburc/.conda/envs/stock_tft/lib/python3.10/site-packages/statsmodels/tsa/statespace/sarimax.py:966: UserWarning: Non-stationary starting autoregressive parameters found. Using zeros as starting parameters.\n",
      "  warn('Non-stationary starting autoregressive parameters'\n",
      "/home/RDC/tramburc/.conda/envs/stock_tft/lib/python3.10/site-packages/statsmodels/tsa/statespace/sarimax.py:978: UserWarning: Non-invertible starting MA parameters found. Using zeros as starting parameters.\n",
      "  warn('Non-invertible starting MA parameters found.'\n",
      "/home/RDC/tramburc/.conda/envs/stock_tft/lib/python3.10/site-packages/statsmodels/base/model.py:607: ConvergenceWarning: Maximum Likelihood optimization failed to converge. Check mle_retvals\n",
      "  warnings.warn(\"Maximum Likelihood optimization failed to \"\n"
     ]
    },
    {
     "name": "stdout",
     "output_type": "stream",
     "text": [
      "2023-11-04 00:00:00+01:00 672 (5, 1, 0)\n",
      "2023-11-05 00:00:00+01:00 672 (4, 1, 1)\n",
      "2023-11-06 00:00:00+01:00 672 (5, 1, 0)\n",
      "2023-11-07 00:00:00+01:00 672 (2, 1, 3)\n",
      "2023-11-08 00:00:00+01:00 672 (3, 1, 4)\n",
      "2023-11-09 00:00:00+01:00 672 (5, 1, 1)\n",
      "2023-11-10 00:00:00+01:00 672 (4, 1, 0)\n",
      "2023-11-11 00:00:00+01:00 672 (5, 1, 0)\n",
      "2023-11-12 00:00:00+01:00 672 (5, 1, 0)\n",
      "2023-11-13 00:00:00+01:00 672 (5, 1, 0)\n",
      "2023-11-14 00:00:00+01:00 672 (2, 1, 1)\n",
      "2023-11-15 00:00:00+01:00 672 (2, 1, 1)\n",
      "2023-11-16 00:00:00+01:00 672 (4, 1, 0)\n",
      "2023-11-17 00:00:00+01:00 672 (4, 1, 0)\n",
      "2023-11-18 00:00:00+01:00 672 (2, 1, 1)\n",
      "2023-11-19 00:00:00+01:00 672 (2, 1, 1)\n",
      "2023-11-20 00:00:00+01:00 672 (2, 1, 1)\n",
      "2023-11-21 00:00:00+01:00 672 (2, 1, 1)\n",
      "2023-11-22 00:00:00+01:00 672 (2, 1, 1)\n",
      "2023-11-23 00:00:00+01:00 672 (2, 1, 1)\n",
      "2023-11-24 00:00:00+01:00 672 (2, 1, 1)\n",
      "2023-11-25 00:00:00+01:00 672 (2, 1, 0)\n",
      "2023-11-26 00:00:00+01:00 672 (2, 1, 0)\n",
      "2023-11-27 00:00:00+01:00 672 (2, 1, 0)\n",
      "2023-11-28 00:00:00+01:00 672 (2, 1, 0)\n",
      "2023-11-29 00:00:00+01:00 672 (2, 1, 0)\n",
      "2023-11-30 00:00:00+01:00 672 (2, 1, 0)\n",
      "2023-12-01 00:00:00+01:00 672 (2, 1, 0)\n",
      "2023-12-02 00:00:00+01:00 672 (2, 1, 0)\n",
      "2023-12-03 00:00:00+01:00 672 (2, 1, 0)\n",
      "2023-12-04 00:00:00+01:00 672 (2, 1, 0)\n",
      "2023-12-05 00:00:00+01:00 672 (2, 1, 0)\n",
      "2023-12-06 00:00:00+01:00 672 (2, 1, 0)\n",
      "2023-12-07 00:00:00+01:00 672 (2, 1, 0)\n",
      "2023-12-08 00:00:00+01:00 672 (2, 1, 0)\n",
      "2023-12-09 00:00:00+01:00 672 (2, 1, 0)\n",
      "2023-12-10 00:00:00+01:00 672 (1, 1, 1)\n",
      "2023-12-11 00:00:00+01:00 672 (1, 1, 1)\n",
      "2023-12-12 00:00:00+01:00 672 (1, 1, 1)\n",
      "2023-12-13 00:00:00+01:00 672 (1, 1, 1)\n",
      "2023-12-14 00:00:00+01:00 672 (1, 1, 1)\n",
      "2023-12-15 00:00:00+01:00 672 (1, 1, 2)\n",
      "2023-12-16 00:00:00+01:00 672 (1, 1, 2)\n",
      "2023-12-17 00:00:00+01:00 672 (3, 1, 0)\n",
      "2023-12-18 00:00:00+01:00 672 (3, 0, 2)\n"
     ]
    },
    {
     "name": "stderr",
     "output_type": "stream",
     "text": [
      "/home/RDC/tramburc/.conda/envs/stock_tft/lib/python3.10/site-packages/statsmodels/base/model.py:607: ConvergenceWarning: Maximum Likelihood optimization failed to converge. Check mle_retvals\n",
      "  warnings.warn(\"Maximum Likelihood optimization failed to \"\n"
     ]
    },
    {
     "name": "stdout",
     "output_type": "stream",
     "text": [
      "2023-12-19 00:00:00+01:00 672 (2, 0, 1)\n",
      "2023-12-20 00:00:00+01:00 672 (3, 0, 2)\n"
     ]
    },
    {
     "name": "stderr",
     "output_type": "stream",
     "text": [
      "/home/RDC/tramburc/.conda/envs/stock_tft/lib/python3.10/site-packages/statsmodels/tsa/statespace/sarimax.py:966: UserWarning: Non-stationary starting autoregressive parameters found. Using zeros as starting parameters.\n",
      "  warn('Non-stationary starting autoregressive parameters'\n",
      "/home/RDC/tramburc/.conda/envs/stock_tft/lib/python3.10/site-packages/statsmodels/tsa/statespace/sarimax.py:978: UserWarning: Non-invertible starting MA parameters found. Using zeros as starting parameters.\n",
      "  warn('Non-invertible starting MA parameters found.'\n",
      "/home/RDC/tramburc/.conda/envs/stock_tft/lib/python3.10/site-packages/statsmodels/base/model.py:607: ConvergenceWarning: Maximum Likelihood optimization failed to converge. Check mle_retvals\n",
      "  warnings.warn(\"Maximum Likelihood optimization failed to \"\n"
     ]
    },
    {
     "name": "stdout",
     "output_type": "stream",
     "text": [
      "2023-12-21 00:00:00+01:00 672 (2, 1, 2)\n"
     ]
    },
    {
     "name": "stderr",
     "output_type": "stream",
     "text": [
      "/home/RDC/tramburc/.conda/envs/stock_tft/lib/python3.10/site-packages/statsmodels/tsa/statespace/sarimax.py:966: UserWarning: Non-stationary starting autoregressive parameters found. Using zeros as starting parameters.\n",
      "  warn('Non-stationary starting autoregressive parameters'\n",
      "/home/RDC/tramburc/.conda/envs/stock_tft/lib/python3.10/site-packages/statsmodels/tsa/statespace/sarimax.py:978: UserWarning: Non-invertible starting MA parameters found. Using zeros as starting parameters.\n",
      "  warn('Non-invertible starting MA parameters found.'\n",
      "/home/RDC/tramburc/.conda/envs/stock_tft/lib/python3.10/site-packages/statsmodels/base/model.py:607: ConvergenceWarning: Maximum Likelihood optimization failed to converge. Check mle_retvals\n",
      "  warnings.warn(\"Maximum Likelihood optimization failed to \"\n"
     ]
    },
    {
     "name": "stdout",
     "output_type": "stream",
     "text": [
      "2023-12-22 00:00:00+01:00 672 (2, 1, 2)\n"
     ]
    },
    {
     "name": "stderr",
     "output_type": "stream",
     "text": [
      "/home/RDC/tramburc/.conda/envs/stock_tft/lib/python3.10/site-packages/statsmodels/tsa/statespace/sarimax.py:966: UserWarning: Non-stationary starting autoregressive parameters found. Using zeros as starting parameters.\n",
      "  warn('Non-stationary starting autoregressive parameters'\n",
      "/home/RDC/tramburc/.conda/envs/stock_tft/lib/python3.10/site-packages/statsmodels/tsa/statespace/sarimax.py:978: UserWarning: Non-invertible starting MA parameters found. Using zeros as starting parameters.\n",
      "  warn('Non-invertible starting MA parameters found.'\n"
     ]
    },
    {
     "name": "stdout",
     "output_type": "stream",
     "text": [
      "2023-12-23 00:00:00+01:00 672 (1, 1, 1)\n",
      "2023-12-24 00:00:00+01:00 672 (1, 1, 1)\n",
      "2023-12-25 00:00:00+01:00 672 (1, 1, 1)\n",
      "2023-12-26 00:00:00+01:00 672 (1, 1, 1)\n",
      "2023-12-27 00:00:00+01:00 672 (1, 1, 1)\n",
      "2023-12-28 00:00:00+01:00 672 (1, 1, 1)\n",
      "2023-12-29 00:00:00+01:00 672 (1, 1, 1)\n",
      "2023-12-30 00:00:00+01:00 672 (1, 1, 1)\n",
      "2023-12-31 00:00:00+01:00 672 (1, 1, 1)\n",
      "2024-01-01 00:00:00+01:00 672 (1, 1, 1)\n",
      "2024-01-02 00:00:00+01:00 672 (1, 1, 1)\n",
      "2024-01-03 00:00:00+01:00 672 (1, 1, 1)\n",
      "2024-01-04 00:00:00+01:00 672 (1, 1, 1)\n",
      "2024-01-05 00:00:00+01:00 672 (1, 1, 1)\n",
      "2024-01-06 00:00:00+01:00 672 (1, 1, 1)\n",
      "2024-01-07 00:00:00+01:00 672 (1, 1, 1)\n",
      "2024-01-08 00:00:00+01:00 672 (1, 1, 1)\n",
      "2024-01-09 00:00:00+01:00 672 (1, 1, 1)\n",
      "2024-01-10 00:00:00+01:00 672 (1, 1, 1)\n",
      "2024-01-11 00:00:00+01:00 672 (1, 1, 1)\n",
      "2024-01-12 00:00:00+01:00 672 (1, 1, 1)\n",
      "2024-01-13 00:00:00+01:00 672 (2, 1, 0)\n",
      "2024-01-14 00:00:00+01:00 672 (2, 1, 0)\n",
      "2024-01-15 00:00:00+01:00 672 (1, 1, 1)\n",
      "2024-01-16 00:00:00+01:00 672 (1, 1, 1)\n",
      "2024-01-17 00:00:00+01:00 672 (1, 1, 1)\n",
      "2024-01-18 00:00:00+01:00 672 (1, 1, 0)\n",
      "2024-01-19 00:00:00+01:00 672 (1, 1, 0)\n",
      "2024-01-20 00:00:00+01:00 672 (1, 1, 0)\n",
      "2024-01-21 00:00:00+01:00 672 (2, 1, 0)\n",
      "2024-01-22 00:00:00+01:00 672 (2, 1, 0)\n",
      "2024-01-23 00:00:00+01:00 672 (2, 1, 0)\n",
      "2024-01-24 00:00:00+01:00 672 (2, 1, 1)\n",
      "2024-01-25 00:00:00+01:00 672 (2, 1, 1)\n",
      "2024-01-26 00:00:00+01:00 672 (2, 1, 1)\n",
      "2024-01-27 00:00:00+01:00 672 (2, 1, 1)\n",
      "2024-01-28 00:00:00+01:00 672 (5, 1, 0)\n",
      "2024-01-29 00:00:00+01:00 672 (2, 1, 1)\n",
      "2024-01-30 00:00:00+01:00 672 (5, 1, 0)\n",
      "2024-01-31 00:00:00+01:00 672 (5, 1, 0)\n",
      "2024-02-01 00:00:00+01:00 672 (2, 1, 1)\n",
      "2024-02-02 00:00:00+01:00 672 (5, 1, 0)\n",
      "2024-02-03 00:00:00+01:00 672 (5, 1, 0)\n",
      "2024-02-04 00:00:00+01:00 672 (5, 1, 0)\n",
      "2024-02-05 00:00:00+01:00 672 (5, 1, 0)\n",
      "2024-02-06 00:00:00+01:00 672 (5, 1, 0)\n",
      "2024-02-07 00:00:00+01:00 672 (5, 1, 0)\n",
      "2024-02-08 00:00:00+01:00 672 (2, 1, 1)\n",
      "2024-02-09 00:00:00+01:00 672 (2, 1, 1)\n",
      "2024-02-10 00:00:00+01:00 672 (5, 1, 0)\n",
      "2024-02-11 00:00:00+01:00 672 (5, 1, 0)\n",
      "2024-02-12 00:00:00+01:00 672 (5, 1, 0)\n",
      "2024-02-13 00:00:00+01:00 672 (5, 1, 0)\n",
      "2024-02-14 00:00:00+01:00 672 (5, 1, 0)\n",
      "2024-02-15 00:00:00+01:00 672 (5, 1, 0)\n",
      "2024-02-16 00:00:00+01:00 672 (5, 1, 0)\n",
      "2024-02-17 00:00:00+01:00 672 (5, 1, 0)\n",
      "2024-02-18 00:00:00+01:00 672 (5, 1, 0)\n",
      "2024-02-19 00:00:00+01:00 672 (2, 1, 3)\n",
      "2024-02-20 00:00:00+01:00 672 (2, 1, 1)\n",
      "2024-02-21 00:00:00+01:00 672 (2, 1, 1)\n",
      "2024-02-22 00:00:00+01:00 672 (2, 1, 1)\n",
      "2024-02-23 00:00:00+01:00 672 (5, 1, 0)\n",
      "2024-02-24 00:00:00+01:00 672 (5, 1, 0)\n",
      "2024-02-25 00:00:00+01:00 672 (5, 1, 0)\n",
      "2024-02-26 00:00:00+01:00 672 (5, 1, 0)\n",
      "2024-02-27 00:00:00+01:00 672 (5, 1, 0)\n",
      "2024-02-28 00:00:00+01:00 672 (5, 1, 0)\n",
      "2024-02-29 00:00:00+01:00 672 (2, 1, 3)\n",
      "MAPE Value: 0.1965\n",
      "23\n"
     ]
    },
    {
     "data": {
      "text/html": [
       "<div>\n",
       "<style scoped>\n",
       "    .dataframe tbody tr th:only-of-type {\n",
       "        vertical-align: middle;\n",
       "    }\n",
       "\n",
       "    .dataframe tbody tr th {\n",
       "        vertical-align: top;\n",
       "    }\n",
       "\n",
       "    .dataframe thead th {\n",
       "        text-align: right;\n",
       "    }\n",
       "</style>\n",
       "<table border=\"1\" class=\"dataframe\">\n",
       "  <thead>\n",
       "    <tr style=\"text-align: right;\">\n",
       "      <th></th>\n",
       "      <th>target</th>\n",
       "      <th>Total_Emissions_in_kg</th>\n",
       "      <th>Total_Generation</th>\n",
       "      <th>Biomass</th>\n",
       "      <th>Fossil Brown coal/Lignite</th>\n",
       "      <th>Fossil Gas</th>\n",
       "      <th>Fossil Hard coal</th>\n",
       "      <th>Fossil Oil</th>\n",
       "      <th>Geothermal</th>\n",
       "      <th>Hydro Pumped Storage</th>\n",
       "      <th>...</th>\n",
       "      <th>share_ren</th>\n",
       "      <th>hour_of_day</th>\n",
       "      <th>day_of_month</th>\n",
       "      <th>day_of_year</th>\n",
       "      <th>month_of_year</th>\n",
       "      <th>week_of_year</th>\n",
       "      <th>day_of_week</th>\n",
       "      <th>quarter_of_year</th>\n",
       "      <th>time_idx</th>\n",
       "      <th>50HZ</th>\n",
       "    </tr>\n",
       "  </thead>\n",
       "  <tbody>\n",
       "    <tr>\n",
       "      <th>71472</th>\n",
       "      <td>711.130926</td>\n",
       "      <td>40008937.0</td>\n",
       "      <td>56261.0</td>\n",
       "      <td>4135.0</td>\n",
       "      <td>31670.0</td>\n",
       "      <td>5260.0</td>\n",
       "      <td>4193.0</td>\n",
       "      <td>1140.0</td>\n",
       "      <td>0.0</td>\n",
       "      <td>79.0</td>\n",
       "      <td>...</td>\n",
       "      <td>0.210854</td>\n",
       "      <td>0</td>\n",
       "      <td>2</td>\n",
       "      <td>61</td>\n",
       "      <td>3</td>\n",
       "      <td>9</td>\n",
       "      <td>3</td>\n",
       "      <td>1</td>\n",
       "      <td>71472</td>\n",
       "      <td>50HZ</td>\n",
       "    </tr>\n",
       "  </tbody>\n",
       "</table>\n",
       "<p>1 rows × 40 columns</p>\n",
       "</div>"
      ],
      "text/plain": [
       "           target  Total_Emissions_in_kg  Total_Generation  Biomass  \\\n",
       "71472  711.130926             40008937.0           56261.0   4135.0   \n",
       "\n",
       "       Fossil Brown coal/Lignite  Fossil Gas  Fossil Hard coal  Fossil Oil  \\\n",
       "71472                    31670.0      5260.0            4193.0      1140.0   \n",
       "\n",
       "       Geothermal  Hydro Pumped Storage  ...  share_ren  hour_of_day  \\\n",
       "71472         0.0                  79.0  ...   0.210854            0   \n",
       "\n",
       "       day_of_month  day_of_year  month_of_year  week_of_year  day_of_week  \\\n",
       "71472             2           61              3             9            3   \n",
       "\n",
       "       quarter_of_year  time_idx  50HZ  \n",
       "71472                1     71472  50HZ  \n",
       "\n",
       "[1 rows x 40 columns]"
      ]
     },
     "metadata": {},
     "output_type": "display_data"
    },
    {
     "name": "stdout",
     "output_type": "stream",
     "text": [
      "2023-03-30 01:00:00+02:00 672 (4, 1, 1)\n",
      "2023-03-31 01:00:00+02:00 672 (3, 1, 4)\n"
     ]
    },
    {
     "name": "stderr",
     "output_type": "stream",
     "text": [
      "/home/RDC/tramburc/.conda/envs/stock_tft/lib/python3.10/site-packages/statsmodels/base/model.py:607: ConvergenceWarning: Maximum Likelihood optimization failed to converge. Check mle_retvals\n",
      "  warnings.warn(\"Maximum Likelihood optimization failed to \"\n"
     ]
    },
    {
     "name": "stdout",
     "output_type": "stream",
     "text": [
      "2023-04-01 01:00:00+02:00 672 (4, 1, 1)\n",
      "2023-04-02 01:00:00+02:00 672 (4, 1, 1)\n",
      "2023-04-03 01:00:00+02:00 672 (4, 1, 1)\n",
      "2023-04-04 01:00:00+02:00 672 (2, 1, 4)\n",
      "2023-04-05 01:00:00+02:00 672 (4, 1, 3)\n",
      "2023-04-06 01:00:00+02:00 672 (4, 1, 1)\n",
      "2023-04-07 01:00:00+02:00 672 (4, 1, 1)\n",
      "2023-04-08 01:00:00+02:00 672 (4, 1, 1)\n",
      "2023-04-09 01:00:00+02:00 672 (4, 1, 1)\n",
      "2023-04-10 01:00:00+02:00 672 (4, 1, 1)\n",
      "2023-04-11 01:00:00+02:00 672 (4, 1, 1)\n",
      "2023-04-12 01:00:00+02:00 672 (2, 1, 2)\n"
     ]
    },
    {
     "name": "stderr",
     "output_type": "stream",
     "text": [
      "/home/RDC/tramburc/.conda/envs/stock_tft/lib/python3.10/site-packages/statsmodels/tsa/statespace/sarimax.py:978: UserWarning: Non-invertible starting MA parameters found. Using zeros as starting parameters.\n",
      "  warn('Non-invertible starting MA parameters found.'\n"
     ]
    },
    {
     "name": "stdout",
     "output_type": "stream",
     "text": [
      "2023-04-13 01:00:00+02:00 672 (2, 1, 2)\n"
     ]
    },
    {
     "name": "stderr",
     "output_type": "stream",
     "text": [
      "/home/RDC/tramburc/.conda/envs/stock_tft/lib/python3.10/site-packages/statsmodels/tsa/statespace/sarimax.py:978: UserWarning: Non-invertible starting MA parameters found. Using zeros as starting parameters.\n",
      "  warn('Non-invertible starting MA parameters found.'\n"
     ]
    },
    {
     "name": "stdout",
     "output_type": "stream",
     "text": [
      "2023-04-14 01:00:00+02:00 672 (2, 1, 2)\n"
     ]
    },
    {
     "name": "stderr",
     "output_type": "stream",
     "text": [
      "/home/RDC/tramburc/.conda/envs/stock_tft/lib/python3.10/site-packages/statsmodels/tsa/statespace/sarimax.py:978: UserWarning: Non-invertible starting MA parameters found. Using zeros as starting parameters.\n",
      "  warn('Non-invertible starting MA parameters found.'\n"
     ]
    },
    {
     "name": "stdout",
     "output_type": "stream",
     "text": [
      "2023-04-15 01:00:00+02:00 672 (4, 1, 1)\n",
      "2023-04-16 01:00:00+02:00 672 (2, 1, 2)\n"
     ]
    },
    {
     "name": "stderr",
     "output_type": "stream",
     "text": [
      "/home/RDC/tramburc/.conda/envs/stock_tft/lib/python3.10/site-packages/statsmodels/tsa/statespace/sarimax.py:978: UserWarning: Non-invertible starting MA parameters found. Using zeros as starting parameters.\n",
      "  warn('Non-invertible starting MA parameters found.'\n"
     ]
    },
    {
     "name": "stdout",
     "output_type": "stream",
     "text": [
      "2023-04-17 01:00:00+02:00 672 (2, 1, 2)\n"
     ]
    },
    {
     "name": "stderr",
     "output_type": "stream",
     "text": [
      "/home/RDC/tramburc/.conda/envs/stock_tft/lib/python3.10/site-packages/statsmodels/tsa/statespace/sarimax.py:978: UserWarning: Non-invertible starting MA parameters found. Using zeros as starting parameters.\n",
      "  warn('Non-invertible starting MA parameters found.'\n"
     ]
    },
    {
     "name": "stdout",
     "output_type": "stream",
     "text": [
      "2023-04-18 01:00:00+02:00 672 (2, 1, 2)\n"
     ]
    },
    {
     "name": "stderr",
     "output_type": "stream",
     "text": [
      "/home/RDC/tramburc/.conda/envs/stock_tft/lib/python3.10/site-packages/statsmodels/tsa/statespace/sarimax.py:978: UserWarning: Non-invertible starting MA parameters found. Using zeros as starting parameters.\n",
      "  warn('Non-invertible starting MA parameters found.'\n"
     ]
    },
    {
     "name": "stdout",
     "output_type": "stream",
     "text": [
      "2023-04-19 01:00:00+02:00 672 (2, 1, 2)\n"
     ]
    },
    {
     "name": "stderr",
     "output_type": "stream",
     "text": [
      "/home/RDC/tramburc/.conda/envs/stock_tft/lib/python3.10/site-packages/statsmodels/tsa/statespace/sarimax.py:978: UserWarning: Non-invertible starting MA parameters found. Using zeros as starting parameters.\n",
      "  warn('Non-invertible starting MA parameters found.'\n"
     ]
    },
    {
     "name": "stdout",
     "output_type": "stream",
     "text": [
      "2023-04-20 01:00:00+02:00 672 (5, 1, 5)\n"
     ]
    },
    {
     "name": "stderr",
     "output_type": "stream",
     "text": [
      "/home/RDC/tramburc/.conda/envs/stock_tft/lib/python3.10/site-packages/statsmodels/tsa/statespace/sarimax.py:978: UserWarning: Non-invertible starting MA parameters found. Using zeros as starting parameters.\n",
      "  warn('Non-invertible starting MA parameters found.'\n",
      "/home/RDC/tramburc/.conda/envs/stock_tft/lib/python3.10/site-packages/statsmodels/base/model.py:607: ConvergenceWarning: Maximum Likelihood optimization failed to converge. Check mle_retvals\n",
      "  warnings.warn(\"Maximum Likelihood optimization failed to \"\n"
     ]
    },
    {
     "name": "stdout",
     "output_type": "stream",
     "text": [
      "2023-04-21 01:00:00+02:00 672 (2, 1, 2)\n"
     ]
    },
    {
     "name": "stderr",
     "output_type": "stream",
     "text": [
      "/home/RDC/tramburc/.conda/envs/stock_tft/lib/python3.10/site-packages/statsmodels/tsa/statespace/sarimax.py:978: UserWarning: Non-invertible starting MA parameters found. Using zeros as starting parameters.\n",
      "  warn('Non-invertible starting MA parameters found.'\n"
     ]
    },
    {
     "name": "stdout",
     "output_type": "stream",
     "text": [
      "2023-04-22 01:00:00+02:00 672 (2, 1, 2)\n"
     ]
    },
    {
     "name": "stderr",
     "output_type": "stream",
     "text": [
      "/home/RDC/tramburc/.conda/envs/stock_tft/lib/python3.10/site-packages/statsmodels/tsa/statespace/sarimax.py:978: UserWarning: Non-invertible starting MA parameters found. Using zeros as starting parameters.\n",
      "  warn('Non-invertible starting MA parameters found.'\n"
     ]
    },
    {
     "name": "stdout",
     "output_type": "stream",
     "text": [
      "2023-04-23 01:00:00+02:00 672 (5, 0, 1)\n"
     ]
    },
    {
     "name": "stderr",
     "output_type": "stream",
     "text": [
      "/home/RDC/tramburc/.conda/envs/stock_tft/lib/python3.10/site-packages/statsmodels/tsa/statespace/sarimax.py:978: UserWarning: Non-invertible starting MA parameters found. Using zeros as starting parameters.\n",
      "  warn('Non-invertible starting MA parameters found.'\n"
     ]
    },
    {
     "name": "stdout",
     "output_type": "stream",
     "text": [
      "2023-04-24 01:00:00+02:00 672 (5, 0, 1)\n"
     ]
    },
    {
     "name": "stderr",
     "output_type": "stream",
     "text": [
      "/home/RDC/tramburc/.conda/envs/stock_tft/lib/python3.10/site-packages/statsmodels/tsa/statespace/sarimax.py:978: UserWarning: Non-invertible starting MA parameters found. Using zeros as starting parameters.\n",
      "  warn('Non-invertible starting MA parameters found.'\n"
     ]
    },
    {
     "name": "stdout",
     "output_type": "stream",
     "text": [
      "2023-04-25 01:00:00+02:00 672 (5, 0, 1)\n"
     ]
    },
    {
     "name": "stderr",
     "output_type": "stream",
     "text": [
      "/home/RDC/tramburc/.conda/envs/stock_tft/lib/python3.10/site-packages/statsmodels/tsa/statespace/sarimax.py:978: UserWarning: Non-invertible starting MA parameters found. Using zeros as starting parameters.\n",
      "  warn('Non-invertible starting MA parameters found.'\n"
     ]
    },
    {
     "name": "stdout",
     "output_type": "stream",
     "text": [
      "2023-04-26 01:00:00+02:00 672 (5, 0, 1)\n"
     ]
    },
    {
     "name": "stderr",
     "output_type": "stream",
     "text": [
      "/home/RDC/tramburc/.conda/envs/stock_tft/lib/python3.10/site-packages/statsmodels/tsa/statespace/sarimax.py:978: UserWarning: Non-invertible starting MA parameters found. Using zeros as starting parameters.\n",
      "  warn('Non-invertible starting MA parameters found.'\n"
     ]
    },
    {
     "name": "stdout",
     "output_type": "stream",
     "text": [
      "2023-04-27 01:00:00+02:00 672 (5, 0, 1)\n"
     ]
    },
    {
     "name": "stderr",
     "output_type": "stream",
     "text": [
      "/home/RDC/tramburc/.conda/envs/stock_tft/lib/python3.10/site-packages/statsmodels/tsa/statespace/sarimax.py:978: UserWarning: Non-invertible starting MA parameters found. Using zeros as starting parameters.\n",
      "  warn('Non-invertible starting MA parameters found.'\n"
     ]
    },
    {
     "name": "stdout",
     "output_type": "stream",
     "text": [
      "2023-04-28 01:00:00+02:00 672 (5, 0, 1)\n",
      "2023-04-29 01:00:00+02:00 672 (4, 1, 1)\n",
      "2023-04-30 01:00:00+02:00 672 (4, 1, 1)\n",
      "2023-05-01 01:00:00+02:00 672 (2, 1, 0)\n",
      "2023-05-02 01:00:00+02:00 672 (2, 1, 0)\n",
      "2023-05-03 01:00:00+02:00 672 (2, 1, 0)\n",
      "2023-05-04 01:00:00+02:00 672 (3, 0, 2)\n",
      "2023-05-05 01:00:00+02:00 672 (3, 0, 0)\n",
      "2023-05-06 01:00:00+02:00 672 (3, 0, 0)\n",
      "2023-05-07 01:00:00+02:00 672 (3, 0, 2)\n",
      "2023-05-08 01:00:00+02:00 672 (3, 0, 2)\n",
      "2023-05-09 01:00:00+02:00 672 (3, 0, 0)\n",
      "2023-05-10 01:00:00+02:00 672 (2, 1, 2)\n"
     ]
    },
    {
     "name": "stderr",
     "output_type": "stream",
     "text": [
      "/home/RDC/tramburc/.conda/envs/stock_tft/lib/python3.10/site-packages/statsmodels/tsa/statespace/sarimax.py:978: UserWarning: Non-invertible starting MA parameters found. Using zeros as starting parameters.\n",
      "  warn('Non-invertible starting MA parameters found.'\n"
     ]
    },
    {
     "name": "stdout",
     "output_type": "stream",
     "text": [
      "2023-05-11 01:00:00+02:00 672 (3, 0, 2)\n",
      "2023-05-12 01:00:00+02:00 672 (3, 0, 2)\n",
      "2023-05-13 01:00:00+02:00 672 (3, 0, 2)\n",
      "2023-05-14 01:00:00+02:00 672 (3, 0, 2)\n",
      "2023-05-15 01:00:00+02:00 672 (3, 1, 1)\n",
      "2023-05-16 01:00:00+02:00 672 (5, 1, 0)\n",
      "2023-05-17 01:00:00+02:00 672 (5, 1, 0)\n",
      "2023-05-18 01:00:00+02:00 672 (5, 1, 0)\n",
      "2023-05-19 01:00:00+02:00 672 (3, 1, 2)\n"
     ]
    },
    {
     "name": "stderr",
     "output_type": "stream",
     "text": [
      "/home/RDC/tramburc/.conda/envs/stock_tft/lib/python3.10/site-packages/statsmodels/tsa/statespace/sarimax.py:966: UserWarning: Non-stationary starting autoregressive parameters found. Using zeros as starting parameters.\n",
      "  warn('Non-stationary starting autoregressive parameters'\n",
      "/home/RDC/tramburc/.conda/envs/stock_tft/lib/python3.10/site-packages/statsmodels/tsa/statespace/sarimax.py:978: UserWarning: Non-invertible starting MA parameters found. Using zeros as starting parameters.\n",
      "  warn('Non-invertible starting MA parameters found.'\n",
      "/home/RDC/tramburc/.conda/envs/stock_tft/lib/python3.10/site-packages/statsmodels/base/model.py:607: ConvergenceWarning: Maximum Likelihood optimization failed to converge. Check mle_retvals\n",
      "  warnings.warn(\"Maximum Likelihood optimization failed to \"\n"
     ]
    },
    {
     "name": "stdout",
     "output_type": "stream",
     "text": [
      "2023-05-20 01:00:00+02:00 672 (5, 1, 0)\n",
      "2023-05-21 01:00:00+02:00 672 (3, 0, 0)\n",
      "2023-05-22 01:00:00+02:00 672 (3, 0, 1)\n",
      "2023-05-23 01:00:00+02:00 672 (3, 0, 0)\n",
      "2023-05-24 01:00:00+02:00 672 (3, 0, 0)\n",
      "2023-05-25 01:00:00+02:00 672 (3, 0, 0)\n",
      "2023-05-26 01:00:00+02:00 672 (3, 0, 0)\n",
      "2023-05-27 01:00:00+02:00 672 (3, 0, 0)\n",
      "2023-05-28 01:00:00+02:00 672 (3, 0, 0)\n",
      "2023-05-29 01:00:00+02:00 672 (3, 0, 0)\n",
      "2023-05-30 01:00:00+02:00 672 (2, 1, 0)\n",
      "2023-05-31 01:00:00+02:00 672 (2, 1, 1)\n",
      "2023-06-01 01:00:00+02:00 672 (4, 1, 0)\n",
      "2023-06-02 01:00:00+02:00 672 (4, 1, 0)\n",
      "2023-06-03 01:00:00+02:00 672 (2, 1, 1)\n",
      "2023-06-04 01:00:00+02:00 672 (2, 1, 0)\n",
      "2023-06-05 01:00:00+02:00 672 (2, 1, 0)\n",
      "2023-06-06 01:00:00+02:00 672 (2, 1, 0)\n",
      "2023-06-07 01:00:00+02:00 672 (2, 1, 5)\n",
      "2023-06-08 01:00:00+02:00 672 (3, 1, 1)\n",
      "2023-06-09 01:00:00+02:00 672 (3, 0, 0)\n",
      "2023-06-10 01:00:00+02:00 672 (3, 0, 0)\n",
      "2023-06-11 01:00:00+02:00 672 (3, 0, 0)\n",
      "2023-06-12 01:00:00+02:00 672 (3, 0, 0)\n",
      "2023-06-13 01:00:00+02:00 672 (3, 0, 0)\n",
      "2023-06-14 01:00:00+02:00 672 (3, 0, 0)\n",
      "2023-06-15 01:00:00+02:00 672 (3, 0, 0)\n",
      "2023-06-16 01:00:00+02:00 672 (3, 0, 0)\n",
      "2023-06-17 01:00:00+02:00 672 (2, 1, 0)\n",
      "2023-06-18 01:00:00+02:00 672 (2, 1, 0)\n",
      "2023-06-19 01:00:00+02:00 672 (2, 1, 0)\n",
      "2023-06-20 01:00:00+02:00 672 (2, 1, 0)\n",
      "2023-06-21 01:00:00+02:00 672 (2, 1, 0)\n",
      "2023-06-22 01:00:00+02:00 672 (2, 1, 0)\n",
      "2023-06-23 01:00:00+02:00 672 (3, 1, 1)\n",
      "2023-06-24 01:00:00+02:00 672 (4, 1, 2)\n"
     ]
    },
    {
     "name": "stderr",
     "output_type": "stream",
     "text": [
      "/home/RDC/tramburc/.conda/envs/stock_tft/lib/python3.10/site-packages/statsmodels/base/model.py:607: ConvergenceWarning: Maximum Likelihood optimization failed to converge. Check mle_retvals\n",
      "  warnings.warn(\"Maximum Likelihood optimization failed to \"\n"
     ]
    },
    {
     "name": "stdout",
     "output_type": "stream",
     "text": [
      "2023-06-25 01:00:00+02:00 672 (2, 1, 0)\n",
      "2023-06-26 01:00:00+02:00 672 (2, 1, 0)\n",
      "2023-06-27 01:00:00+02:00 672 (2, 1, 0)\n",
      "2023-06-28 01:00:00+02:00 672 (2, 1, 0)\n",
      "2023-06-29 01:00:00+02:00 672 (2, 1, 0)\n",
      "2023-06-30 01:00:00+02:00 672 (2, 1, 0)\n",
      "2023-07-01 01:00:00+02:00 672 (2, 1, 2)\n",
      "2023-07-02 01:00:00+02:00 672 (3, 0, 0)\n",
      "2023-07-03 01:00:00+02:00 672 (3, 0, 0)\n",
      "2023-07-04 01:00:00+02:00 672 (3, 0, 0)\n",
      "2023-07-05 01:00:00+02:00 672 (3, 0, 0)\n",
      "2023-07-06 01:00:00+02:00 672 (3, 1, 1)\n",
      "2023-07-07 01:00:00+02:00 672 (3, 0, 0)\n",
      "2023-07-08 01:00:00+02:00 672 (3, 0, 0)\n",
      "2023-07-09 01:00:00+02:00 672 (3, 0, 0)\n",
      "2023-07-10 01:00:00+02:00 672 (2, 1, 3)\n",
      "2023-07-11 01:00:00+02:00 672 (2, 1, 3)\n",
      "2023-07-12 01:00:00+02:00 672 (4, 1, 0)\n",
      "2023-07-13 01:00:00+02:00 672 (2, 1, 3)\n",
      "2023-07-14 01:00:00+02:00 672 (2, 1, 2)\n",
      "2023-07-15 01:00:00+02:00 672 (2, 1, 2)\n",
      "2023-07-16 01:00:00+02:00 672 (4, 1, 0)\n",
      "2023-07-17 01:00:00+02:00 672 (4, 1, 0)\n",
      "2023-07-18 01:00:00+02:00 672 (3, 1, 1)\n",
      "2023-07-19 01:00:00+02:00 672 (2, 0, 4)\n",
      "2023-07-20 01:00:00+02:00 672 (3, 0, 0)\n",
      "2023-07-21 01:00:00+02:00 672 (3, 0, 0)\n",
      "2023-07-22 01:00:00+02:00 672 (3, 0, 0)\n",
      "2023-07-23 01:00:00+02:00 672 (3, 0, 0)\n",
      "2023-07-24 01:00:00+02:00 672 (3, 0, 0)\n",
      "2023-07-25 01:00:00+02:00 672 (2, 0, 4)\n",
      "2023-07-26 01:00:00+02:00 672 (3, 0, 0)\n",
      "2023-07-27 01:00:00+02:00 672 (2, 0, 4)\n",
      "2023-07-28 01:00:00+02:00 672 (5, 0, 0)\n",
      "2023-07-29 01:00:00+02:00 672 (4, 1, 2)\n"
     ]
    },
    {
     "name": "stderr",
     "output_type": "stream",
     "text": [
      "/home/RDC/tramburc/.conda/envs/stock_tft/lib/python3.10/site-packages/statsmodels/base/model.py:607: ConvergenceWarning: Maximum Likelihood optimization failed to converge. Check mle_retvals\n",
      "  warnings.warn(\"Maximum Likelihood optimization failed to \"\n"
     ]
    },
    {
     "name": "stdout",
     "output_type": "stream",
     "text": [
      "2023-07-30 01:00:00+02:00 672 (3, 0, 0)\n",
      "2023-07-31 01:00:00+02:00 672 (5, 0, 1)\n",
      "2023-08-01 01:00:00+02:00 672 (5, 0, 1)\n",
      "2023-08-02 01:00:00+02:00 672 (5, 0, 1)\n",
      "2023-08-03 01:00:00+02:00 672 (5, 0, 1)\n",
      "2023-08-04 01:00:00+02:00 672 (2, 1, 0)\n",
      "2023-08-05 01:00:00+02:00 672 (5, 0, 1)\n",
      "2023-08-06 01:00:00+02:00 672 (3, 0, 0)\n",
      "2023-08-07 01:00:00+02:00 672 (3, 0, 0)\n",
      "2023-08-08 01:00:00+02:00 672 (1, 0, 5)\n",
      "2023-08-09 01:00:00+02:00 672 (3, 1, 1)\n",
      "2023-08-10 01:00:00+02:00 672 (3, 1, 1)\n",
      "2023-08-11 01:00:00+02:00 672 (2, 1, 2)\n",
      "2023-08-12 01:00:00+02:00 672 (4, 0, 3)\n"
     ]
    },
    {
     "name": "stderr",
     "output_type": "stream",
     "text": [
      "/home/RDC/tramburc/.conda/envs/stock_tft/lib/python3.10/site-packages/statsmodels/base/model.py:607: ConvergenceWarning: Maximum Likelihood optimization failed to converge. Check mle_retvals\n",
      "  warnings.warn(\"Maximum Likelihood optimization failed to \"\n"
     ]
    },
    {
     "name": "stdout",
     "output_type": "stream",
     "text": [
      "2023-08-13 01:00:00+02:00 672 (3, 0, 0)\n",
      "2023-08-14 01:00:00+02:00 672 (2, 1, 2)\n",
      "2023-08-15 01:00:00+02:00 672 (2, 1, 2)\n",
      "2023-08-16 01:00:00+02:00 672 (3, 0, 0)\n",
      "2023-08-17 01:00:00+02:00 672 (3, 0, 0)\n",
      "2023-08-18 01:00:00+02:00 672 (1, 0, 5)\n",
      "2023-08-19 01:00:00+02:00 672 (5, 1, 1)\n",
      "2023-08-20 01:00:00+02:00 672 (5, 1, 1)\n",
      "2023-08-21 01:00:00+02:00 672 (2, 1, 2)\n",
      "2023-08-22 01:00:00+02:00 672 (5, 1, 2)\n"
     ]
    },
    {
     "name": "stderr",
     "output_type": "stream",
     "text": [
      "/home/RDC/tramburc/.conda/envs/stock_tft/lib/python3.10/site-packages/statsmodels/base/model.py:607: ConvergenceWarning: Maximum Likelihood optimization failed to converge. Check mle_retvals\n",
      "  warnings.warn(\"Maximum Likelihood optimization failed to \"\n"
     ]
    },
    {
     "name": "stdout",
     "output_type": "stream",
     "text": [
      "2023-08-23 01:00:00+02:00 672 (4, 1, 2)\n",
      "2023-08-24 01:00:00+02:00 672 (2, 1, 0)\n",
      "2023-08-25 01:00:00+02:00 672 (2, 1, 0)\n",
      "2023-08-26 01:00:00+02:00 672 (2, 1, 0)\n",
      "2023-08-27 01:00:00+02:00 672 (2, 1, 0)\n",
      "2023-08-28 01:00:00+02:00 672 (2, 1, 0)\n",
      "2023-08-29 01:00:00+02:00 672 (2, 1, 0)\n",
      "2023-08-30 01:00:00+02:00 672 (2, 1, 2)\n",
      "2023-08-31 01:00:00+02:00 672 (2, 1, 2)\n",
      "2023-09-01 01:00:00+02:00 672 (2, 1, 0)\n",
      "2023-09-02 01:00:00+02:00 672 (2, 1, 2)\n",
      "2023-09-03 01:00:00+02:00 672 (2, 1, 0)\n",
      "2023-09-04 01:00:00+02:00 672 (2, 1, 2)\n",
      "2023-09-05 01:00:00+02:00 672 (2, 1, 2)\n",
      "2023-09-06 01:00:00+02:00 672 (2, 1, 2)\n",
      "2023-09-07 01:00:00+02:00 672 (2, 1, 2)\n",
      "2023-09-08 01:00:00+02:00 672 (2, 1, 2)\n",
      "2023-09-09 01:00:00+02:00 672 (2, 1, 2)\n",
      "2023-09-10 01:00:00+02:00 672 (2, 1, 2)\n",
      "2023-09-11 01:00:00+02:00 672 (5, 0, 1)\n"
     ]
    },
    {
     "name": "stderr",
     "output_type": "stream",
     "text": [
      "/home/RDC/tramburc/.conda/envs/stock_tft/lib/python3.10/site-packages/pmdarima/arima/_auto_solvers.py:524: ModelFitWarning: Error fitting  ARIMA(5,0,2)(0,0,0)[0]           (if you do not want to see these warnings, run with error_action=\"ignore\").\n",
      "Traceback:\n",
      "Traceback (most recent call last):\n",
      "  File \"/home/RDC/tramburc/.conda/envs/stock_tft/lib/python3.10/site-packages/pmdarima/arima/_auto_solvers.py\", line 508, in _fit_candidate_model\n",
      "    fit.fit(y, X=X, **fit_params)\n",
      "  File \"/home/RDC/tramburc/.conda/envs/stock_tft/lib/python3.10/site-packages/pmdarima/arima/arima.py\", line 603, in fit\n",
      "    self._fit(y, X, **fit_args)\n",
      "  File \"/home/RDC/tramburc/.conda/envs/stock_tft/lib/python3.10/site-packages/pmdarima/arima/arima.py\", line 524, in _fit\n",
      "    fit, self.arima_res_ = _fit_wrapper()\n",
      "  File \"/home/RDC/tramburc/.conda/envs/stock_tft/lib/python3.10/site-packages/pmdarima/arima/arima.py\", line 510, in _fit_wrapper\n",
      "    fitted = arima.fit(\n",
      "  File \"/home/RDC/tramburc/.conda/envs/stock_tft/lib/python3.10/site-packages/statsmodels/tsa/statespace/mlemodel.py\", line 703, in fit\n",
      "    mlefit = super().fit(start_params, method=method,\n",
      "  File \"/home/RDC/tramburc/.conda/envs/stock_tft/lib/python3.10/site-packages/statsmodels/base/model.py\", line 566, in fit\n",
      "    xopt, retvals, optim_settings = optimizer._fit(f, score, start_params,\n",
      "  File \"/home/RDC/tramburc/.conda/envs/stock_tft/lib/python3.10/site-packages/statsmodels/base/optimizer.py\", line 243, in _fit\n",
      "    xopt, retvals = func(objective, gradient, start_params, fargs, kwargs,\n",
      "  File \"/home/RDC/tramburc/.conda/envs/stock_tft/lib/python3.10/site-packages/statsmodels/base/optimizer.py\", line 660, in _fit_lbfgs\n",
      "    retvals = optimize.fmin_l_bfgs_b(func, start_params, maxiter=maxiter,\n",
      "  File \"/home/RDC/tramburc/.conda/envs/stock_tft/lib/python3.10/site-packages/scipy/optimize/_lbfgsb_py.py\", line 237, in fmin_l_bfgs_b\n",
      "    res = _minimize_lbfgsb(fun, x0, args=args, jac=jac, bounds=bounds,\n",
      "  File \"/home/RDC/tramburc/.conda/envs/stock_tft/lib/python3.10/site-packages/scipy/optimize/_lbfgsb_py.py\", line 407, in _minimize_lbfgsb\n",
      "    f, g = func_and_grad(x)\n",
      "  File \"/home/RDC/tramburc/.conda/envs/stock_tft/lib/python3.10/site-packages/scipy/optimize/_differentiable_functions.py\", line 297, in fun_and_grad\n",
      "    self._update_grad()\n",
      "  File \"/home/RDC/tramburc/.conda/envs/stock_tft/lib/python3.10/site-packages/scipy/optimize/_differentiable_functions.py\", line 267, in _update_grad\n",
      "    self._update_grad_impl()\n",
      "  File \"/home/RDC/tramburc/.conda/envs/stock_tft/lib/python3.10/site-packages/scipy/optimize/_differentiable_functions.py\", line 181, in update_grad\n",
      "    self.g = approx_derivative(fun_wrapped, self.x, f0=self.f,\n",
      "  File \"/home/RDC/tramburc/.conda/envs/stock_tft/lib/python3.10/site-packages/scipy/optimize/_numdiff.py\", line 519, in approx_derivative\n",
      "    return _dense_difference(fun_wrapped, x0, f0, h,\n",
      "  File \"/home/RDC/tramburc/.conda/envs/stock_tft/lib/python3.10/site-packages/scipy/optimize/_numdiff.py\", line 590, in _dense_difference\n",
      "    df = fun(x) - f0\n",
      "  File \"/home/RDC/tramburc/.conda/envs/stock_tft/lib/python3.10/site-packages/scipy/optimize/_numdiff.py\", line 470, in fun_wrapped\n",
      "    f = np.atleast_1d(fun(x, *args, **kwargs))\n",
      "  File \"/home/RDC/tramburc/.conda/envs/stock_tft/lib/python3.10/site-packages/scipy/optimize/_differentiable_functions.py\", line 145, in fun_wrapped\n",
      "    fx = fun(np.copy(x), *args)\n",
      "  File \"/home/RDC/tramburc/.conda/envs/stock_tft/lib/python3.10/site-packages/statsmodels/base/model.py\", line 534, in f\n",
      "    return -self.loglike(params, *args) / nobs\n",
      "  File \"/home/RDC/tramburc/.conda/envs/stock_tft/lib/python3.10/site-packages/statsmodels/tsa/statespace/mlemodel.py\", line 938, in loglike\n",
      "    loglike = self.ssm.loglike(complex_step=complex_step, **kwargs)\n",
      "  File \"/home/RDC/tramburc/.conda/envs/stock_tft/lib/python3.10/site-packages/statsmodels/tsa/statespace/kalman_filter.py\", line 1001, in loglike\n",
      "    kfilter = self._filter(**kwargs)\n",
      "  File \"/home/RDC/tramburc/.conda/envs/stock_tft/lib/python3.10/site-packages/statsmodels/tsa/statespace/kalman_filter.py\", line 921, in _filter\n",
      "    self._initialize_state(prefix=prefix, complex_step=complex_step)\n",
      "  File \"/home/RDC/tramburc/.conda/envs/stock_tft/lib/python3.10/site-packages/statsmodels/tsa/statespace/representation.py\", line 1058, in _initialize_state\n",
      "    self._statespaces[prefix].initialize(self.initialization,\n",
      "  File \"statsmodels/tsa/statespace/_representation.pyx\", line 1362, in statsmodels.tsa.statespace._representation.dStatespace.initialize\n",
      "  File \"statsmodels/tsa/statespace/_initialization.pyx\", line 288, in statsmodels.tsa.statespace._initialization.dInitialization.initialize\n",
      "  File \"statsmodels/tsa/statespace/_initialization.pyx\", line 406, in statsmodels.tsa.statespace._initialization.dInitialization.initialize_stationary_stationary_cov\n",
      "  File \"statsmodels/tsa/statespace/_tools.pyx\", line 1548, in statsmodels.tsa.statespace._tools._dsolve_discrete_lyapunov\n",
      "numpy.linalg.LinAlgError: LU decomposition error.\n",
      "\n",
      "  warnings.warn(warning_str, ModelFitWarning)\n"
     ]
    },
    {
     "name": "stdout",
     "output_type": "stream",
     "text": [
      "2023-09-12 01:00:00+02:00 672 (2, 0, 1)\n",
      "2023-09-13 01:00:00+02:00 672 (2, 0, 1)\n",
      "2023-09-14 01:00:00+02:00 672 (2, 0, 1)\n",
      "2023-09-15 01:00:00+02:00 672 (2, 0, 1)\n",
      "2023-09-16 01:00:00+02:00 672 (2, 0, 1)\n",
      "2023-09-17 01:00:00+02:00 672 (2, 0, 1)\n",
      "2023-09-18 01:00:00+02:00 672 (2, 1, 2)\n",
      "2023-09-19 01:00:00+02:00 672 (2, 1, 2)\n",
      "2023-09-20 01:00:00+02:00 672 (2, 1, 2)\n",
      "2023-09-21 01:00:00+02:00 672 (5, 1, 1)\n",
      "2023-09-22 01:00:00+02:00 672 (5, 1, 1)\n",
      "2023-09-23 01:00:00+02:00 672 (5, 1, 1)\n",
      "2023-09-24 01:00:00+02:00 672 (5, 1, 1)\n",
      "2023-09-25 01:00:00+02:00 672 (5, 1, 1)\n",
      "2023-09-26 01:00:00+02:00 672 (5, 1, 1)\n",
      "2023-09-27 01:00:00+02:00 672 (3, 0, 2)\n",
      "2023-09-28 01:00:00+02:00 672 (5, 0, 0)\n",
      "2023-09-29 01:00:00+02:00 672 (5, 0, 0)\n",
      "2023-09-30 01:00:00+02:00 672 (5, 0, 0)\n",
      "2023-10-01 01:00:00+02:00 672 (5, 0, 2)\n"
     ]
    },
    {
     "name": "stderr",
     "output_type": "stream",
     "text": [
      "/home/RDC/tramburc/.conda/envs/stock_tft/lib/python3.10/site-packages/statsmodels/base/model.py:607: ConvergenceWarning: Maximum Likelihood optimization failed to converge. Check mle_retvals\n",
      "  warnings.warn(\"Maximum Likelihood optimization failed to \"\n"
     ]
    },
    {
     "name": "stdout",
     "output_type": "stream",
     "text": [
      "2023-10-02 01:00:00+02:00 672 (5, 0, 0)\n",
      "2023-10-03 01:00:00+02:00 672 (5, 0, 2)\n"
     ]
    },
    {
     "name": "stderr",
     "output_type": "stream",
     "text": [
      "/home/RDC/tramburc/.conda/envs/stock_tft/lib/python3.10/site-packages/statsmodels/base/model.py:607: ConvergenceWarning: Maximum Likelihood optimization failed to converge. Check mle_retvals\n",
      "  warnings.warn(\"Maximum Likelihood optimization failed to \"\n"
     ]
    },
    {
     "name": "stdout",
     "output_type": "stream",
     "text": [
      "2023-10-04 01:00:00+02:00 672 (5, 0, 2)\n"
     ]
    },
    {
     "name": "stderr",
     "output_type": "stream",
     "text": [
      "/home/RDC/tramburc/.conda/envs/stock_tft/lib/python3.10/site-packages/statsmodels/base/model.py:607: ConvergenceWarning: Maximum Likelihood optimization failed to converge. Check mle_retvals\n",
      "  warnings.warn(\"Maximum Likelihood optimization failed to \"\n"
     ]
    },
    {
     "name": "stdout",
     "output_type": "stream",
     "text": [
      "2023-10-05 01:00:00+02:00 672 (2, 1, 0)\n",
      "2023-10-06 01:00:00+02:00 672 (2, 1, 0)\n",
      "2023-10-07 01:00:00+02:00 672 (2, 1, 0)\n",
      "2023-10-08 01:00:00+02:00 672 (2, 1, 0)\n",
      "2023-10-09 01:00:00+02:00 672 (2, 1, 0)\n",
      "2023-10-10 01:00:00+02:00 672 (2, 1, 0)\n",
      "2023-10-11 01:00:00+02:00 672 (3, 0, 2)\n",
      "2023-10-12 01:00:00+02:00 672 (3, 0, 2)\n",
      "2023-10-13 01:00:00+02:00 672 (3, 0, 2)\n",
      "2023-10-14 01:00:00+02:00 672 (3, 0, 0)\n",
      "2023-10-15 01:00:00+02:00 672 (3, 0, 0)\n",
      "2023-10-16 01:00:00+02:00 672 (3, 0, 0)\n",
      "2023-10-17 01:00:00+02:00 672 (4, 0, 4)\n"
     ]
    },
    {
     "name": "stderr",
     "output_type": "stream",
     "text": [
      "/home/RDC/tramburc/.conda/envs/stock_tft/lib/python3.10/site-packages/statsmodels/base/model.py:607: ConvergenceWarning: Maximum Likelihood optimization failed to converge. Check mle_retvals\n",
      "  warnings.warn(\"Maximum Likelihood optimization failed to \"\n"
     ]
    },
    {
     "name": "stdout",
     "output_type": "stream",
     "text": [
      "2023-10-18 01:00:00+02:00 672 (4, 0, 4)\n"
     ]
    },
    {
     "name": "stderr",
     "output_type": "stream",
     "text": [
      "/home/RDC/tramburc/.conda/envs/stock_tft/lib/python3.10/site-packages/statsmodels/base/model.py:607: ConvergenceWarning: Maximum Likelihood optimization failed to converge. Check mle_retvals\n",
      "  warnings.warn(\"Maximum Likelihood optimization failed to \"\n"
     ]
    },
    {
     "name": "stdout",
     "output_type": "stream",
     "text": [
      "2023-10-19 01:00:00+02:00 672 (5, 0, 1)\n",
      "2023-10-20 01:00:00+02:00 672 (5, 0, 1)\n",
      "2023-10-21 01:00:00+02:00 672 (5, 0, 1)\n",
      "2023-10-22 01:00:00+02:00 672 (5, 0, 1)\n",
      "2023-10-23 01:00:00+02:00 672 (5, 0, 1)\n",
      "2023-10-24 01:00:00+02:00 672 (4, 0, 4)\n"
     ]
    },
    {
     "name": "stderr",
     "output_type": "stream",
     "text": [
      "/home/RDC/tramburc/.conda/envs/stock_tft/lib/python3.10/site-packages/statsmodels/base/model.py:607: ConvergenceWarning: Maximum Likelihood optimization failed to converge. Check mle_retvals\n",
      "  warnings.warn(\"Maximum Likelihood optimization failed to \"\n"
     ]
    },
    {
     "name": "stdout",
     "output_type": "stream",
     "text": [
      "2023-10-25 01:00:00+02:00 672 (3, 0, 5)\n"
     ]
    },
    {
     "name": "stderr",
     "output_type": "stream",
     "text": [
      "/home/RDC/tramburc/.conda/envs/stock_tft/lib/python3.10/site-packages/statsmodels/base/model.py:607: ConvergenceWarning: Maximum Likelihood optimization failed to converge. Check mle_retvals\n",
      "  warnings.warn(\"Maximum Likelihood optimization failed to \"\n"
     ]
    },
    {
     "name": "stdout",
     "output_type": "stream",
     "text": [
      "2023-10-26 01:00:00+02:00 672 (3, 0, 0)\n",
      "2023-10-27 01:00:00+02:00 672 (5, 0, 1)\n",
      "2023-10-28 01:00:00+02:00 672 (4, 0, 4)\n"
     ]
    },
    {
     "name": "stderr",
     "output_type": "stream",
     "text": [
      "/home/RDC/tramburc/.conda/envs/stock_tft/lib/python3.10/site-packages/statsmodels/base/model.py:607: ConvergenceWarning: Maximum Likelihood optimization failed to converge. Check mle_retvals\n",
      "  warnings.warn(\"Maximum Likelihood optimization failed to \"\n"
     ]
    },
    {
     "name": "stdout",
     "output_type": "stream",
     "text": [
      "2023-10-29 01:00:00+02:00 672 (3, 0, 2)\n",
      "2023-10-30 00:00:00+01:00 672 (3, 0, 2)\n",
      "2023-10-31 00:00:00+01:00 672 (3, 0, 0)\n",
      "2023-11-01 00:00:00+01:00 672 (3, 0, 2)\n",
      "2023-11-02 00:00:00+01:00 672 (3, 0, 0)\n",
      "2023-11-03 00:00:00+01:00 672 (3, 0, 0)\n",
      "2023-11-04 00:00:00+01:00 672 (3, 0, 0)\n",
      "2023-11-05 00:00:00+01:00 672 (2, 1, 2)\n",
      "2023-11-06 00:00:00+01:00 672 (5, 1, 1)\n",
      "2023-11-07 00:00:00+01:00 672 (3, 1, 4)\n"
     ]
    },
    {
     "name": "stderr",
     "output_type": "stream",
     "text": [
      "/home/RDC/tramburc/.conda/envs/stock_tft/lib/python3.10/site-packages/statsmodels/base/model.py:607: ConvergenceWarning: Maximum Likelihood optimization failed to converge. Check mle_retvals\n",
      "  warnings.warn(\"Maximum Likelihood optimization failed to \"\n"
     ]
    },
    {
     "name": "stdout",
     "output_type": "stream",
     "text": [
      "2023-11-08 00:00:00+01:00 672 (3, 1, 4)\n"
     ]
    },
    {
     "name": "stderr",
     "output_type": "stream",
     "text": [
      "/home/RDC/tramburc/.conda/envs/stock_tft/lib/python3.10/site-packages/statsmodels/base/model.py:607: ConvergenceWarning: Maximum Likelihood optimization failed to converge. Check mle_retvals\n",
      "  warnings.warn(\"Maximum Likelihood optimization failed to \"\n"
     ]
    },
    {
     "name": "stdout",
     "output_type": "stream",
     "text": [
      "2023-11-09 00:00:00+01:00 672 (5, 1, 1)\n",
      "2023-11-10 00:00:00+01:00 672 (3, 1, 3)\n",
      "2023-11-11 00:00:00+01:00 672 (3, 1, 3)\n",
      "2023-11-12 00:00:00+01:00 672 (3, 1, 3)\n"
     ]
    },
    {
     "name": "stderr",
     "output_type": "stream",
     "text": [
      "/home/RDC/tramburc/.conda/envs/stock_tft/lib/python3.10/site-packages/statsmodels/base/model.py:607: ConvergenceWarning: Maximum Likelihood optimization failed to converge. Check mle_retvals\n",
      "  warnings.warn(\"Maximum Likelihood optimization failed to \"\n"
     ]
    },
    {
     "name": "stdout",
     "output_type": "stream",
     "text": [
      "2023-11-13 00:00:00+01:00 672 (3, 1, 3)\n",
      "2023-11-14 00:00:00+01:00 672 (3, 1, 4)\n"
     ]
    },
    {
     "name": "stderr",
     "output_type": "stream",
     "text": [
      "/home/RDC/tramburc/.conda/envs/stock_tft/lib/python3.10/site-packages/statsmodels/base/model.py:607: ConvergenceWarning: Maximum Likelihood optimization failed to converge. Check mle_retvals\n",
      "  warnings.warn(\"Maximum Likelihood optimization failed to \"\n"
     ]
    },
    {
     "name": "stdout",
     "output_type": "stream",
     "text": [
      "2023-11-15 00:00:00+01:00 672 (2, 1, 2)\n",
      "2023-11-16 00:00:00+01:00 672 (2, 1, 2)\n",
      "2023-11-17 00:00:00+01:00 672 (2, 1, 2)\n",
      "2023-11-18 00:00:00+01:00 672 (2, 1, 0)\n",
      "2023-11-19 00:00:00+01:00 672 (2, 1, 0)\n",
      "2023-11-20 00:00:00+01:00 672 (4, 1, 0)\n",
      "2023-11-21 00:00:00+01:00 672 (2, 1, 2)\n",
      "2023-11-22 00:00:00+01:00 672 (2, 1, 2)\n",
      "2023-11-23 00:00:00+01:00 672 (1, 1, 1)\n",
      "2023-11-24 00:00:00+01:00 672 (1, 1, 1)\n",
      "2023-11-25 00:00:00+01:00 672 (1, 1, 1)\n",
      "2023-11-26 00:00:00+01:00 672 (1, 1, 1)\n",
      "2023-11-27 00:00:00+01:00 672 (5, 1, 3)\n"
     ]
    },
    {
     "name": "stderr",
     "output_type": "stream",
     "text": [
      "/home/RDC/tramburc/.conda/envs/stock_tft/lib/python3.10/site-packages/statsmodels/tsa/statespace/sarimax.py:966: UserWarning: Non-stationary starting autoregressive parameters found. Using zeros as starting parameters.\n",
      "  warn('Non-stationary starting autoregressive parameters'\n",
      "/home/RDC/tramburc/.conda/envs/stock_tft/lib/python3.10/site-packages/statsmodels/tsa/statespace/sarimax.py:978: UserWarning: Non-invertible starting MA parameters found. Using zeros as starting parameters.\n",
      "  warn('Non-invertible starting MA parameters found.'\n",
      "/home/RDC/tramburc/.conda/envs/stock_tft/lib/python3.10/site-packages/statsmodels/base/model.py:607: ConvergenceWarning: Maximum Likelihood optimization failed to converge. Check mle_retvals\n",
      "  warnings.warn(\"Maximum Likelihood optimization failed to \"\n"
     ]
    },
    {
     "name": "stdout",
     "output_type": "stream",
     "text": [
      "2023-11-28 00:00:00+01:00 672 (4, 1, 1)\n",
      "2023-11-29 00:00:00+01:00 672 (1, 1, 1)\n",
      "2023-11-30 00:00:00+01:00 672 (1, 1, 1)\n",
      "2023-12-01 00:00:00+01:00 672 (2, 1, 0)\n",
      "2023-12-02 00:00:00+01:00 672 (4, 1, 1)\n",
      "2023-12-03 00:00:00+01:00 672 (4, 1, 1)\n",
      "2023-12-04 00:00:00+01:00 672 (2, 1, 0)\n",
      "2023-12-05 00:00:00+01:00 672 (2, 1, 0)\n",
      "2023-12-06 00:00:00+01:00 672 (2, 1, 0)\n",
      "2023-12-07 00:00:00+01:00 672 (2, 1, 0)\n",
      "2023-12-08 00:00:00+01:00 672 (2, 1, 0)\n",
      "2023-12-09 00:00:00+01:00 672 (2, 1, 0)\n",
      "2023-12-10 00:00:00+01:00 672 (2, 1, 0)\n",
      "2023-12-11 00:00:00+01:00 672 (2, 1, 0)\n",
      "2023-12-12 00:00:00+01:00 672 (3, 1, 1)\n"
     ]
    },
    {
     "name": "stderr",
     "output_type": "stream",
     "text": [
      "/home/RDC/tramburc/.conda/envs/stock_tft/lib/python3.10/site-packages/statsmodels/base/model.py:607: ConvergenceWarning: Maximum Likelihood optimization failed to converge. Check mle_retvals\n",
      "  warnings.warn(\"Maximum Likelihood optimization failed to \"\n"
     ]
    },
    {
     "name": "stdout",
     "output_type": "stream",
     "text": [
      "2023-12-13 00:00:00+01:00 672 (2, 1, 0)\n",
      "2023-12-14 00:00:00+01:00 672 (2, 1, 0)\n",
      "2023-12-15 00:00:00+01:00 672 (2, 1, 0)\n",
      "2023-12-16 00:00:00+01:00 672 (2, 1, 0)\n",
      "2023-12-17 00:00:00+01:00 672 (3, 1, 1)\n",
      "2023-12-18 00:00:00+01:00 672 (3, 1, 1)\n",
      "2023-12-19 00:00:00+01:00 672 (3, 1, 1)\n",
      "2023-12-20 00:00:00+01:00 672 (3, 1, 1)\n",
      "2023-12-21 00:00:00+01:00 672 (3, 1, 1)\n",
      "2023-12-22 00:00:00+01:00 672 (3, 1, 1)\n",
      "2023-12-23 00:00:00+01:00 672 (3, 1, 1)\n",
      "2023-12-24 00:00:00+01:00 672 (3, 1, 1)\n",
      "2023-12-25 00:00:00+01:00 672 (2, 1, 2)\n",
      "2023-12-26 00:00:00+01:00 672 (4, 1, 2)\n"
     ]
    },
    {
     "name": "stderr",
     "output_type": "stream",
     "text": [
      "/home/RDC/tramburc/.conda/envs/stock_tft/lib/python3.10/site-packages/statsmodels/tsa/statespace/sarimax.py:966: UserWarning: Non-stationary starting autoregressive parameters found. Using zeros as starting parameters.\n",
      "  warn('Non-stationary starting autoregressive parameters'\n",
      "/home/RDC/tramburc/.conda/envs/stock_tft/lib/python3.10/site-packages/statsmodels/tsa/statespace/sarimax.py:978: UserWarning: Non-invertible starting MA parameters found. Using zeros as starting parameters.\n",
      "  warn('Non-invertible starting MA parameters found.'\n",
      "/home/RDC/tramburc/.conda/envs/stock_tft/lib/python3.10/site-packages/statsmodels/base/model.py:607: ConvergenceWarning: Maximum Likelihood optimization failed to converge. Check mle_retvals\n",
      "  warnings.warn(\"Maximum Likelihood optimization failed to \"\n"
     ]
    },
    {
     "name": "stdout",
     "output_type": "stream",
     "text": [
      "2023-12-27 00:00:00+01:00 672 (3, 1, 3)\n"
     ]
    },
    {
     "name": "stderr",
     "output_type": "stream",
     "text": [
      "/home/RDC/tramburc/.conda/envs/stock_tft/lib/python3.10/site-packages/statsmodels/tsa/statespace/sarimax.py:966: UserWarning: Non-stationary starting autoregressive parameters found. Using zeros as starting parameters.\n",
      "  warn('Non-stationary starting autoregressive parameters'\n",
      "/home/RDC/tramburc/.conda/envs/stock_tft/lib/python3.10/site-packages/statsmodels/tsa/statespace/sarimax.py:978: UserWarning: Non-invertible starting MA parameters found. Using zeros as starting parameters.\n",
      "  warn('Non-invertible starting MA parameters found.'\n",
      "/home/RDC/tramburc/.conda/envs/stock_tft/lib/python3.10/site-packages/statsmodels/base/model.py:607: ConvergenceWarning: Maximum Likelihood optimization failed to converge. Check mle_retvals\n",
      "  warnings.warn(\"Maximum Likelihood optimization failed to \"\n"
     ]
    },
    {
     "name": "stdout",
     "output_type": "stream",
     "text": [
      "2023-12-28 00:00:00+01:00 672 (3, 1, 3)\n"
     ]
    },
    {
     "name": "stderr",
     "output_type": "stream",
     "text": [
      "/home/RDC/tramburc/.conda/envs/stock_tft/lib/python3.10/site-packages/statsmodels/tsa/statespace/sarimax.py:966: UserWarning: Non-stationary starting autoregressive parameters found. Using zeros as starting parameters.\n",
      "  warn('Non-stationary starting autoregressive parameters'\n",
      "/home/RDC/tramburc/.conda/envs/stock_tft/lib/python3.10/site-packages/statsmodels/tsa/statespace/sarimax.py:978: UserWarning: Non-invertible starting MA parameters found. Using zeros as starting parameters.\n",
      "  warn('Non-invertible starting MA parameters found.'\n"
     ]
    },
    {
     "name": "stdout",
     "output_type": "stream",
     "text": [
      "2023-12-29 00:00:00+01:00 672 (2, 1, 0)\n",
      "2023-12-30 00:00:00+01:00 672 (2, 1, 0)\n",
      "2023-12-31 00:00:00+01:00 672 (2, 1, 0)\n",
      "2024-01-01 00:00:00+01:00 672 (2, 1, 0)\n",
      "2024-01-02 00:00:00+01:00 672 (2, 1, 0)\n",
      "2024-01-03 00:00:00+01:00 672 (2, 1, 0)\n",
      "2024-01-04 00:00:00+01:00 672 (2, 1, 0)\n",
      "2024-01-05 00:00:00+01:00 672 (2, 1, 0)\n",
      "2024-01-06 00:00:00+01:00 672 (2, 1, 0)\n",
      "2024-01-07 00:00:00+01:00 672 (2, 1, 2)\n",
      "2024-01-08 00:00:00+01:00 672 (2, 1, 2)\n",
      "2024-01-09 00:00:00+01:00 672 (1, 1, 1)\n",
      "2024-01-10 00:00:00+01:00 672 (2, 1, 2)\n"
     ]
    },
    {
     "name": "stderr",
     "output_type": "stream",
     "text": [
      "/home/RDC/tramburc/.conda/envs/stock_tft/lib/python3.10/site-packages/statsmodels/tsa/statespace/sarimax.py:966: UserWarning: Non-stationary starting autoregressive parameters found. Using zeros as starting parameters.\n",
      "  warn('Non-stationary starting autoregressive parameters'\n",
      "/home/RDC/tramburc/.conda/envs/stock_tft/lib/python3.10/site-packages/statsmodels/tsa/statespace/sarimax.py:978: UserWarning: Non-invertible starting MA parameters found. Using zeros as starting parameters.\n",
      "  warn('Non-invertible starting MA parameters found.'\n"
     ]
    },
    {
     "name": "stdout",
     "output_type": "stream",
     "text": [
      "2024-01-11 00:00:00+01:00 672 (4, 1, 0)\n",
      "2024-01-12 00:00:00+01:00 672 (4, 1, 0)\n",
      "2024-01-13 00:00:00+01:00 672 (4, 1, 0)\n",
      "2024-01-14 00:00:00+01:00 672 (4, 1, 0)\n",
      "2024-01-15 00:00:00+01:00 672 (4, 1, 0)\n",
      "2024-01-16 00:00:00+01:00 672 (4, 1, 0)\n",
      "2024-01-17 00:00:00+01:00 672 (4, 1, 0)\n",
      "2024-01-18 00:00:00+01:00 672 (4, 1, 0)\n",
      "2024-01-19 00:00:00+01:00 672 (4, 1, 0)\n",
      "2024-01-20 00:00:00+01:00 672 (4, 1, 0)\n",
      "2024-01-21 00:00:00+01:00 672 (4, 1, 0)\n",
      "2024-01-22 00:00:00+01:00 672 (4, 1, 0)\n",
      "2024-01-23 00:00:00+01:00 672 (4, 1, 0)\n",
      "2024-01-24 00:00:00+01:00 672 (4, 1, 0)\n",
      "2024-01-25 00:00:00+01:00 672 (4, 1, 0)\n",
      "2024-01-26 00:00:00+01:00 672 (4, 1, 0)\n",
      "2024-01-27 00:00:00+01:00 672 (4, 1, 0)\n",
      "2024-01-28 00:00:00+01:00 672 (4, 1, 0)\n",
      "2024-01-29 00:00:00+01:00 672 (4, 1, 0)\n",
      "2024-01-30 00:00:00+01:00 672 (4, 1, 0)\n",
      "2024-01-31 00:00:00+01:00 672 (4, 1, 0)\n",
      "2024-02-01 00:00:00+01:00 672 (2, 1, 3)\n",
      "2024-02-02 00:00:00+01:00 672 (3, 1, 2)\n",
      "2024-02-03 00:00:00+01:00 672 (4, 1, 0)\n",
      "2024-02-04 00:00:00+01:00 672 (3, 1, 2)\n",
      "2024-02-05 00:00:00+01:00 672 (4, 1, 5)\n"
     ]
    },
    {
     "name": "stderr",
     "output_type": "stream",
     "text": [
      "/home/RDC/tramburc/.conda/envs/stock_tft/lib/python3.10/site-packages/statsmodels/base/model.py:607: ConvergenceWarning: Maximum Likelihood optimization failed to converge. Check mle_retvals\n",
      "  warnings.warn(\"Maximum Likelihood optimization failed to \"\n"
     ]
    },
    {
     "name": "stdout",
     "output_type": "stream",
     "text": [
      "2024-02-06 00:00:00+01:00 672 (3, 1, 2)\n",
      "2024-02-07 00:00:00+01:00 672 (4, 1, 4)\n"
     ]
    },
    {
     "name": "stderr",
     "output_type": "stream",
     "text": [
      "/home/RDC/tramburc/.conda/envs/stock_tft/lib/python3.10/site-packages/statsmodels/base/model.py:607: ConvergenceWarning: Maximum Likelihood optimization failed to converge. Check mle_retvals\n",
      "  warnings.warn(\"Maximum Likelihood optimization failed to \"\n"
     ]
    },
    {
     "name": "stdout",
     "output_type": "stream",
     "text": [
      "2024-02-08 00:00:00+01:00 672 (3, 1, 2)\n",
      "2024-02-09 00:00:00+01:00 672 (2, 1, 0)\n",
      "2024-02-10 00:00:00+01:00 672 (4, 1, 0)\n",
      "2024-02-11 00:00:00+01:00 672 (4, 1, 0)\n",
      "2024-02-12 00:00:00+01:00 672 (4, 1, 0)\n",
      "2024-02-13 00:00:00+01:00 672 (4, 1, 2)\n"
     ]
    },
    {
     "name": "stderr",
     "output_type": "stream",
     "text": [
      "/home/RDC/tramburc/.conda/envs/stock_tft/lib/python3.10/site-packages/statsmodels/base/model.py:607: ConvergenceWarning: Maximum Likelihood optimization failed to converge. Check mle_retvals\n",
      "  warnings.warn(\"Maximum Likelihood optimization failed to \"\n"
     ]
    },
    {
     "name": "stdout",
     "output_type": "stream",
     "text": [
      "2024-02-14 00:00:00+01:00 672 (5, 0, 2)\n"
     ]
    },
    {
     "name": "stderr",
     "output_type": "stream",
     "text": [
      "/home/RDC/tramburc/.conda/envs/stock_tft/lib/python3.10/site-packages/statsmodels/tsa/statespace/sarimax.py:966: UserWarning: Non-stationary starting autoregressive parameters found. Using zeros as starting parameters.\n",
      "  warn('Non-stationary starting autoregressive parameters'\n",
      "/home/RDC/tramburc/.conda/envs/stock_tft/lib/python3.10/site-packages/statsmodels/tsa/statespace/sarimax.py:978: UserWarning: Non-invertible starting MA parameters found. Using zeros as starting parameters.\n",
      "  warn('Non-invertible starting MA parameters found.'\n",
      "/home/RDC/tramburc/.conda/envs/stock_tft/lib/python3.10/site-packages/statsmodels/base/model.py:607: ConvergenceWarning: Maximum Likelihood optimization failed to converge. Check mle_retvals\n",
      "  warnings.warn(\"Maximum Likelihood optimization failed to \"\n"
     ]
    },
    {
     "name": "stdout",
     "output_type": "stream",
     "text": [
      "2024-02-15 00:00:00+01:00 672 (4, 0, 1)\n",
      "2024-02-16 00:00:00+01:00 672 (3, 1, 2)\n",
      "2024-02-17 00:00:00+01:00 672 (3, 1, 2)\n",
      "2024-02-18 00:00:00+01:00 672 (4, 1, 0)\n",
      "2024-02-19 00:00:00+01:00 672 (3, 1, 2)\n",
      "2024-02-20 00:00:00+01:00 672 (3, 1, 2)\n",
      "2024-02-21 00:00:00+01:00 672 (4, 1, 3)\n"
     ]
    },
    {
     "name": "stderr",
     "output_type": "stream",
     "text": [
      "/home/RDC/tramburc/.conda/envs/stock_tft/lib/python3.10/site-packages/statsmodels/base/model.py:607: ConvergenceWarning: Maximum Likelihood optimization failed to converge. Check mle_retvals\n",
      "  warnings.warn(\"Maximum Likelihood optimization failed to \"\n"
     ]
    },
    {
     "name": "stdout",
     "output_type": "stream",
     "text": [
      "2024-02-22 00:00:00+01:00 672 (5, 0, 0)\n",
      "2024-02-23 00:00:00+01:00 672 (5, 0, 3)\n",
      "2024-02-24 00:00:00+01:00 672 (4, 0, 5)\n"
     ]
    },
    {
     "name": "stderr",
     "output_type": "stream",
     "text": [
      "/home/RDC/tramburc/.conda/envs/stock_tft/lib/python3.10/site-packages/statsmodels/base/model.py:607: ConvergenceWarning: Maximum Likelihood optimization failed to converge. Check mle_retvals\n",
      "  warnings.warn(\"Maximum Likelihood optimization failed to \"\n"
     ]
    },
    {
     "name": "stdout",
     "output_type": "stream",
     "text": [
      "2024-02-25 00:00:00+01:00 672 (4, 0, 5)\n"
     ]
    },
    {
     "name": "stderr",
     "output_type": "stream",
     "text": [
      "/home/RDC/tramburc/.conda/envs/stock_tft/lib/python3.10/site-packages/statsmodels/base/model.py:607: ConvergenceWarning: Maximum Likelihood optimization failed to converge. Check mle_retvals\n",
      "  warnings.warn(\"Maximum Likelihood optimization failed to \"\n"
     ]
    },
    {
     "name": "stdout",
     "output_type": "stream",
     "text": [
      "2024-02-26 00:00:00+01:00 672 (5, 0, 4)\n"
     ]
    },
    {
     "name": "stderr",
     "output_type": "stream",
     "text": [
      "/home/RDC/tramburc/.conda/envs/stock_tft/lib/python3.10/site-packages/statsmodels/base/model.py:607: ConvergenceWarning: Maximum Likelihood optimization failed to converge. Check mle_retvals\n",
      "  warnings.warn(\"Maximum Likelihood optimization failed to \"\n"
     ]
    },
    {
     "name": "stdout",
     "output_type": "stream",
     "text": [
      "2024-02-27 00:00:00+01:00 672 (3, 0, 3)\n",
      "2024-02-28 00:00:00+01:00 672 (4, 1, 1)\n",
      "2024-02-29 00:00:00+01:00 672 (3, 1, 3)\n",
      "MAPE Value: 0.3655\n",
      "23\n"
     ]
    },
    {
     "data": {
      "text/html": [
       "<div>\n",
       "<style scoped>\n",
       "    .dataframe tbody tr th:only-of-type {\n",
       "        vertical-align: middle;\n",
       "    }\n",
       "\n",
       "    .dataframe tbody tr th {\n",
       "        vertical-align: top;\n",
       "    }\n",
       "\n",
       "    .dataframe thead th {\n",
       "        text-align: right;\n",
       "    }\n",
       "</style>\n",
       "<table border=\"1\" class=\"dataframe\">\n",
       "  <thead>\n",
       "    <tr style=\"text-align: right;\">\n",
       "      <th></th>\n",
       "      <th>target</th>\n",
       "      <th>Total_Emissions_in_kg</th>\n",
       "      <th>Total_Generation</th>\n",
       "      <th>Biomass</th>\n",
       "      <th>Fossil Brown coal/Lignite</th>\n",
       "      <th>Fossil Gas</th>\n",
       "      <th>Fossil Hard coal</th>\n",
       "      <th>Fossil Oil</th>\n",
       "      <th>Geothermal</th>\n",
       "      <th>Hydro Pumped Storage</th>\n",
       "      <th>...</th>\n",
       "      <th>share_ren</th>\n",
       "      <th>hour_of_day</th>\n",
       "      <th>day_of_month</th>\n",
       "      <th>day_of_year</th>\n",
       "      <th>month_of_year</th>\n",
       "      <th>week_of_year</th>\n",
       "      <th>day_of_week</th>\n",
       "      <th>quarter_of_year</th>\n",
       "      <th>time_idx</th>\n",
       "      <th>50HZ</th>\n",
       "    </tr>\n",
       "  </thead>\n",
       "  <tbody>\n",
       "    <tr>\n",
       "      <th>71472</th>\n",
       "      <td>711.130926</td>\n",
       "      <td>40008937.0</td>\n",
       "      <td>56261.0</td>\n",
       "      <td>4135.0</td>\n",
       "      <td>31670.0</td>\n",
       "      <td>5260.0</td>\n",
       "      <td>4193.0</td>\n",
       "      <td>1140.0</td>\n",
       "      <td>0.0</td>\n",
       "      <td>79.0</td>\n",
       "      <td>...</td>\n",
       "      <td>0.210854</td>\n",
       "      <td>0</td>\n",
       "      <td>2</td>\n",
       "      <td>61</td>\n",
       "      <td>3</td>\n",
       "      <td>9</td>\n",
       "      <td>3</td>\n",
       "      <td>1</td>\n",
       "      <td>71472</td>\n",
       "      <td>50HZ</td>\n",
       "    </tr>\n",
       "  </tbody>\n",
       "</table>\n",
       "<p>1 rows × 40 columns</p>\n",
       "</div>"
      ],
      "text/plain": [
       "           target  Total_Emissions_in_kg  Total_Generation  Biomass  \\\n",
       "71472  711.130926             40008937.0           56261.0   4135.0   \n",
       "\n",
       "       Fossil Brown coal/Lignite  Fossil Gas  Fossil Hard coal  Fossil Oil  \\\n",
       "71472                    31670.0      5260.0            4193.0      1140.0   \n",
       "\n",
       "       Geothermal  Hydro Pumped Storage  ...  share_ren  hour_of_day  \\\n",
       "71472         0.0                  79.0  ...   0.210854            0   \n",
       "\n",
       "       day_of_month  day_of_year  month_of_year  week_of_year  day_of_week  \\\n",
       "71472             2           61              3             9            3   \n",
       "\n",
       "       quarter_of_year  time_idx  50HZ  \n",
       "71472                1     71472  50HZ  \n",
       "\n",
       "[1 rows x 40 columns]"
      ]
     },
     "metadata": {},
     "output_type": "display_data"
    },
    {
     "name": "stdout",
     "output_type": "stream",
     "text": [
      "2023-03-30 01:00:00+02:00 672 (2, 1, 3)\n",
      "2023-03-31 01:00:00+02:00 672 (2, 1, 0)\n",
      "2023-04-01 01:00:00+02:00 672 (3, 1, 4)\n"
     ]
    },
    {
     "name": "stderr",
     "output_type": "stream",
     "text": [
      "/home/RDC/tramburc/.conda/envs/stock_tft/lib/python3.10/site-packages/statsmodels/base/model.py:607: ConvergenceWarning: Maximum Likelihood optimization failed to converge. Check mle_retvals\n",
      "  warnings.warn(\"Maximum Likelihood optimization failed to \"\n"
     ]
    },
    {
     "name": "stdout",
     "output_type": "stream",
     "text": [
      "2023-04-02 01:00:00+02:00 672 (2, 1, 3)\n"
     ]
    },
    {
     "name": "stderr",
     "output_type": "stream",
     "text": [
      "/home/RDC/tramburc/.conda/envs/stock_tft/lib/python3.10/site-packages/statsmodels/tsa/statespace/sarimax.py:978: UserWarning: Non-invertible starting MA parameters found. Using zeros as starting parameters.\n",
      "  warn('Non-invertible starting MA parameters found.'\n"
     ]
    },
    {
     "name": "stdout",
     "output_type": "stream",
     "text": [
      "2023-04-03 01:00:00+02:00 672 (2, 1, 3)\n"
     ]
    },
    {
     "name": "stderr",
     "output_type": "stream",
     "text": [
      "/home/RDC/tramburc/.conda/envs/stock_tft/lib/python3.10/site-packages/statsmodels/tsa/statespace/sarimax.py:978: UserWarning: Non-invertible starting MA parameters found. Using zeros as starting parameters.\n",
      "  warn('Non-invertible starting MA parameters found.'\n"
     ]
    },
    {
     "name": "stdout",
     "output_type": "stream",
     "text": [
      "2023-04-04 01:00:00+02:00 672 (4, 1, 1)\n",
      "2023-04-05 01:00:00+02:00 672 (2, 0, 1)\n",
      "2023-04-06 01:00:00+02:00 672 (2, 0, 1)\n",
      "2023-04-07 01:00:00+02:00 672 (2, 0, 1)\n",
      "2023-04-08 01:00:00+02:00 672 (2, 0, 1)\n",
      "2023-04-09 01:00:00+02:00 672 (2, 0, 1)\n",
      "2023-04-10 01:00:00+02:00 672 (4, 1, 1)\n",
      "2023-04-11 01:00:00+02:00 672 (2, 1, 0)\n",
      "2023-04-12 01:00:00+02:00 672 (2, 1, 0)\n",
      "2023-04-13 01:00:00+02:00 672 (3, 1, 4)\n"
     ]
    },
    {
     "name": "stderr",
     "output_type": "stream",
     "text": [
      "/home/RDC/tramburc/.conda/envs/stock_tft/lib/python3.10/site-packages/statsmodels/base/model.py:607: ConvergenceWarning: Maximum Likelihood optimization failed to converge. Check mle_retvals\n",
      "  warnings.warn(\"Maximum Likelihood optimization failed to \"\n"
     ]
    },
    {
     "name": "stdout",
     "output_type": "stream",
     "text": [
      "2023-04-14 01:00:00+02:00 672 (2, 1, 0)\n",
      "2023-04-15 01:00:00+02:00 672 (4, 1, 1)\n",
      "2023-04-16 01:00:00+02:00 672 (4, 1, 1)\n",
      "2023-04-17 01:00:00+02:00 672 (4, 1, 1)\n",
      "2023-04-18 01:00:00+02:00 672 (1, 1, 1)\n",
      "2023-04-19 01:00:00+02:00 672 (2, 0, 1)\n",
      "2023-04-20 01:00:00+02:00 672 (2, 0, 1)\n",
      "2023-04-21 01:00:00+02:00 672 (2, 1, 0)\n",
      "2023-04-22 01:00:00+02:00 672 (2, 1, 3)\n",
      "2023-04-23 01:00:00+02:00 672 (4, 1, 1)\n",
      "2023-04-24 01:00:00+02:00 672 (2, 1, 3)\n",
      "2023-04-25 01:00:00+02:00 672 (2, 1, 1)\n",
      "2023-04-26 01:00:00+02:00 672 (1, 1, 1)\n",
      "2023-04-27 01:00:00+02:00 672 (2, 1, 1)\n",
      "2023-04-28 01:00:00+02:00 672 (2, 1, 1)\n",
      "2023-04-29 01:00:00+02:00 672 (2, 1, 1)\n",
      "2023-04-30 01:00:00+02:00 672 (2, 1, 1)\n",
      "2023-05-01 01:00:00+02:00 672 (2, 1, 1)\n",
      "2023-05-02 01:00:00+02:00 672 (2, 1, 1)\n",
      "2023-05-03 01:00:00+02:00 672 (2, 1, 1)\n",
      "2023-05-04 01:00:00+02:00 672 (4, 1, 1)\n",
      "2023-05-05 01:00:00+02:00 672 (2, 1, 1)\n",
      "2023-05-06 01:00:00+02:00 672 (2, 1, 1)\n",
      "2023-05-07 01:00:00+02:00 672 (2, 1, 1)\n",
      "2023-05-08 01:00:00+02:00 672 (2, 1, 1)\n",
      "2023-05-09 01:00:00+02:00 672 (2, 1, 1)\n",
      "2023-05-10 01:00:00+02:00 672 (2, 0, 0)\n",
      "2023-05-11 01:00:00+02:00 672 (2, 0, 0)\n",
      "2023-05-12 01:00:00+02:00 672 (2, 1, 1)\n",
      "2023-05-13 01:00:00+02:00 672 (2, 1, 1)\n",
      "2023-05-14 01:00:00+02:00 672 (2, 1, 1)\n",
      "2023-05-15 01:00:00+02:00 672 (5, 1, 1)\n",
      "2023-05-16 01:00:00+02:00 672 (2, 1, 1)\n",
      "2023-05-17 01:00:00+02:00 672 (2, 1, 1)\n",
      "2023-05-18 01:00:00+02:00 672 (2, 1, 1)\n",
      "2023-05-19 01:00:00+02:00 672 (2, 1, 1)\n",
      "2023-05-20 01:00:00+02:00 672 (2, 1, 1)\n",
      "2023-05-21 01:00:00+02:00 672 (2, 1, 1)\n",
      "2023-05-22 01:00:00+02:00 672 (2, 1, 1)\n",
      "2023-05-23 01:00:00+02:00 672 (2, 1, 1)\n",
      "2023-05-24 01:00:00+02:00 672 (2, 1, 1)\n",
      "2023-05-25 01:00:00+02:00 672 (2, 1, 1)\n",
      "2023-05-26 01:00:00+02:00 672 (2, 1, 1)\n",
      "2023-05-27 01:00:00+02:00 672 (2, 1, 1)\n",
      "2023-05-28 01:00:00+02:00 672 (2, 1, 1)\n",
      "2023-05-29 01:00:00+02:00 672 (2, 1, 1)\n",
      "2023-05-30 01:00:00+02:00 672 (2, 1, 1)\n"
     ]
    },
    {
     "name": "stderr",
     "output_type": "stream",
     "text": [
      "/home/RDC/tramburc/.conda/envs/stock_tft/lib/python3.10/site-packages/statsmodels/tsa/statespace/sarimax.py:978: UserWarning: Non-invertible starting MA parameters found. Using zeros as starting parameters.\n",
      "  warn('Non-invertible starting MA parameters found.'\n"
     ]
    },
    {
     "name": "stdout",
     "output_type": "stream",
     "text": [
      "2023-05-31 01:00:00+02:00 672 (2, 1, 1)\n",
      "2023-06-01 01:00:00+02:00 672 (2, 1, 1)\n",
      "2023-06-02 01:00:00+02:00 672 (2, 1, 1)\n",
      "2023-06-03 01:00:00+02:00 672 (2, 1, 1)\n",
      "2023-06-04 01:00:00+02:00 672 (2, 1, 1)\n",
      "2023-06-05 01:00:00+02:00 672 (2, 1, 1)\n",
      "2023-06-06 01:00:00+02:00 672 (2, 1, 1)\n",
      "2023-06-07 01:00:00+02:00 672 (2, 1, 1)\n"
     ]
    },
    {
     "name": "stderr",
     "output_type": "stream",
     "text": [
      "/home/RDC/tramburc/.conda/envs/stock_tft/lib/python3.10/site-packages/statsmodels/tsa/statespace/sarimax.py:966: UserWarning: Non-stationary starting autoregressive parameters found. Using zeros as starting parameters.\n",
      "  warn('Non-stationary starting autoregressive parameters'\n",
      "/home/RDC/tramburc/.conda/envs/stock_tft/lib/python3.10/site-packages/statsmodels/tsa/statespace/sarimax.py:978: UserWarning: Non-invertible starting MA parameters found. Using zeros as starting parameters.\n",
      "  warn('Non-invertible starting MA parameters found.'\n"
     ]
    },
    {
     "name": "stdout",
     "output_type": "stream",
     "text": [
      "2023-06-08 01:00:00+02:00 672 (2, 1, 1)\n"
     ]
    },
    {
     "name": "stderr",
     "output_type": "stream",
     "text": [
      "/home/RDC/tramburc/.conda/envs/stock_tft/lib/python3.10/site-packages/statsmodels/tsa/statespace/sarimax.py:966: UserWarning: Non-stationary starting autoregressive parameters found. Using zeros as starting parameters.\n",
      "  warn('Non-stationary starting autoregressive parameters'\n",
      "/home/RDC/tramburc/.conda/envs/stock_tft/lib/python3.10/site-packages/statsmodels/tsa/statespace/sarimax.py:978: UserWarning: Non-invertible starting MA parameters found. Using zeros as starting parameters.\n",
      "  warn('Non-invertible starting MA parameters found.'\n"
     ]
    },
    {
     "name": "stdout",
     "output_type": "stream",
     "text": [
      "2023-06-09 01:00:00+02:00 672 (4, 0, 2)\n"
     ]
    },
    {
     "name": "stderr",
     "output_type": "stream",
     "text": [
      "/home/RDC/tramburc/.conda/envs/stock_tft/lib/python3.10/site-packages/statsmodels/tsa/statespace/sarimax.py:966: UserWarning: Non-stationary starting autoregressive parameters found. Using zeros as starting parameters.\n",
      "  warn('Non-stationary starting autoregressive parameters'\n",
      "/home/RDC/tramburc/.conda/envs/stock_tft/lib/python3.10/site-packages/statsmodels/tsa/statespace/sarimax.py:978: UserWarning: Non-invertible starting MA parameters found. Using zeros as starting parameters.\n",
      "  warn('Non-invertible starting MA parameters found.'\n",
      "/home/RDC/tramburc/.conda/envs/stock_tft/lib/python3.10/site-packages/statsmodels/base/model.py:607: ConvergenceWarning: Maximum Likelihood optimization failed to converge. Check mle_retvals\n",
      "  warnings.warn(\"Maximum Likelihood optimization failed to \"\n"
     ]
    },
    {
     "name": "stdout",
     "output_type": "stream",
     "text": [
      "2023-06-10 01:00:00+02:00 672 (2, 0, 2)\n",
      "2023-06-11 01:00:00+02:00 672 (2, 0, 2)\n",
      "2023-06-12 01:00:00+02:00 672 (4, 0, 2)\n"
     ]
    },
    {
     "name": "stderr",
     "output_type": "stream",
     "text": [
      "/home/RDC/tramburc/.conda/envs/stock_tft/lib/python3.10/site-packages/statsmodels/tsa/statespace/sarimax.py:966: UserWarning: Non-stationary starting autoregressive parameters found. Using zeros as starting parameters.\n",
      "  warn('Non-stationary starting autoregressive parameters'\n",
      "/home/RDC/tramburc/.conda/envs/stock_tft/lib/python3.10/site-packages/statsmodels/tsa/statespace/sarimax.py:978: UserWarning: Non-invertible starting MA parameters found. Using zeros as starting parameters.\n",
      "  warn('Non-invertible starting MA parameters found.'\n",
      "/home/RDC/tramburc/.conda/envs/stock_tft/lib/python3.10/site-packages/statsmodels/base/model.py:607: ConvergenceWarning: Maximum Likelihood optimization failed to converge. Check mle_retvals\n",
      "  warnings.warn(\"Maximum Likelihood optimization failed to \"\n"
     ]
    },
    {
     "name": "stdout",
     "output_type": "stream",
     "text": [
      "2023-06-13 01:00:00+02:00 672 (2, 0, 2)\n",
      "2023-06-14 01:00:00+02:00 672 (2, 0, 2)\n",
      "2023-06-15 01:00:00+02:00 672 (2, 0, 2)\n",
      "2023-06-16 01:00:00+02:00 672 (2, 0, 2)\n",
      "2023-06-17 01:00:00+02:00 672 (4, 0, 2)\n"
     ]
    },
    {
     "name": "stderr",
     "output_type": "stream",
     "text": [
      "/home/RDC/tramburc/.conda/envs/stock_tft/lib/python3.10/site-packages/statsmodels/tsa/statespace/sarimax.py:966: UserWarning: Non-stationary starting autoregressive parameters found. Using zeros as starting parameters.\n",
      "  warn('Non-stationary starting autoregressive parameters'\n",
      "/home/RDC/tramburc/.conda/envs/stock_tft/lib/python3.10/site-packages/statsmodels/tsa/statespace/sarimax.py:978: UserWarning: Non-invertible starting MA parameters found. Using zeros as starting parameters.\n",
      "  warn('Non-invertible starting MA parameters found.'\n",
      "/home/RDC/tramburc/.conda/envs/stock_tft/lib/python3.10/site-packages/statsmodels/base/model.py:607: ConvergenceWarning: Maximum Likelihood optimization failed to converge. Check mle_retvals\n",
      "  warnings.warn(\"Maximum Likelihood optimization failed to \"\n"
     ]
    },
    {
     "name": "stdout",
     "output_type": "stream",
     "text": [
      "2023-06-18 01:00:00+02:00 672 (2, 0, 0)\n",
      "2023-06-19 01:00:00+02:00 672 (2, 0, 0)\n",
      "2023-06-20 01:00:00+02:00 672 (3, 1, 1)\n",
      "2023-06-21 01:00:00+02:00 672 (3, 1, 1)\n",
      "2023-06-22 01:00:00+02:00 672 (5, 1, 2)\n",
      "2023-06-23 01:00:00+02:00 672 (4, 1, 1)\n",
      "2023-06-24 01:00:00+02:00 672 (4, 1, 0)\n",
      "2023-06-25 01:00:00+02:00 672 (2, 0, 0)\n",
      "2023-06-26 01:00:00+02:00 672 (5, 0, 1)\n",
      "2023-06-27 01:00:00+02:00 672 (2, 0, 0)\n",
      "2023-06-28 01:00:00+02:00 672 (3, 0, 1)\n",
      "2023-06-29 01:00:00+02:00 672 (3, 0, 1)\n",
      "2023-06-30 01:00:00+02:00 672 (2, 0, 0)\n",
      "2023-07-01 01:00:00+02:00 672 (2, 0, 0)\n",
      "2023-07-02 01:00:00+02:00 672 (2, 0, 0)\n",
      "2023-07-03 01:00:00+02:00 672 (2, 0, 0)\n",
      "2023-07-04 01:00:00+02:00 672 (2, 0, 0)\n",
      "2023-07-05 01:00:00+02:00 672 (3, 0, 1)\n",
      "2023-07-06 01:00:00+02:00 672 (3, 1, 3)\n"
     ]
    },
    {
     "name": "stderr",
     "output_type": "stream",
     "text": [
      "/home/RDC/tramburc/.conda/envs/stock_tft/lib/python3.10/site-packages/statsmodels/base/model.py:607: ConvergenceWarning: Maximum Likelihood optimization failed to converge. Check mle_retvals\n",
      "  warnings.warn(\"Maximum Likelihood optimization failed to \"\n"
     ]
    },
    {
     "name": "stdout",
     "output_type": "stream",
     "text": [
      "2023-07-07 01:00:00+02:00 672 (4, 1, 1)\n",
      "2023-07-08 01:00:00+02:00 672 (3, 1, 3)\n"
     ]
    },
    {
     "name": "stderr",
     "output_type": "stream",
     "text": [
      "/home/RDC/tramburc/.conda/envs/stock_tft/lib/python3.10/site-packages/statsmodels/base/model.py:607: ConvergenceWarning: Maximum Likelihood optimization failed to converge. Check mle_retvals\n",
      "  warnings.warn(\"Maximum Likelihood optimization failed to \"\n"
     ]
    },
    {
     "name": "stdout",
     "output_type": "stream",
     "text": [
      "2023-07-09 01:00:00+02:00 672 (2, 0, 2)\n",
      "2023-07-10 01:00:00+02:00 672 (2, 0, 2)\n",
      "2023-07-11 01:00:00+02:00 672 (2, 0, 2)\n",
      "2023-07-12 01:00:00+02:00 672 (2, 0, 2)\n",
      "2023-07-13 01:00:00+02:00 672 (2, 0, 2)\n",
      "2023-07-14 01:00:00+02:00 672 (4, 0, 1)\n",
      "2023-07-15 01:00:00+02:00 672 (2, 0, 2)\n",
      "2023-07-16 01:00:00+02:00 672 (2, 0, 2)\n",
      "2023-07-17 01:00:00+02:00 672 (2, 0, 2)\n",
      "2023-07-18 01:00:00+02:00 672 (2, 0, 2)\n",
      "2023-07-19 01:00:00+02:00 672 (5, 0, 2)\n"
     ]
    },
    {
     "name": "stderr",
     "output_type": "stream",
     "text": [
      "/home/RDC/tramburc/.conda/envs/stock_tft/lib/python3.10/site-packages/statsmodels/tsa/statespace/sarimax.py:966: UserWarning: Non-stationary starting autoregressive parameters found. Using zeros as starting parameters.\n",
      "  warn('Non-stationary starting autoregressive parameters'\n",
      "/home/RDC/tramburc/.conda/envs/stock_tft/lib/python3.10/site-packages/statsmodels/tsa/statespace/sarimax.py:978: UserWarning: Non-invertible starting MA parameters found. Using zeros as starting parameters.\n",
      "  warn('Non-invertible starting MA parameters found.'\n",
      "/home/RDC/tramburc/.conda/envs/stock_tft/lib/python3.10/site-packages/statsmodels/base/model.py:607: ConvergenceWarning: Maximum Likelihood optimization failed to converge. Check mle_retvals\n",
      "  warnings.warn(\"Maximum Likelihood optimization failed to \"\n"
     ]
    },
    {
     "name": "stdout",
     "output_type": "stream",
     "text": [
      "2023-07-20 01:00:00+02:00 672 (5, 0, 2)\n"
     ]
    },
    {
     "name": "stderr",
     "output_type": "stream",
     "text": [
      "/home/RDC/tramburc/.conda/envs/stock_tft/lib/python3.10/site-packages/statsmodels/tsa/statespace/sarimax.py:966: UserWarning: Non-stationary starting autoregressive parameters found. Using zeros as starting parameters.\n",
      "  warn('Non-stationary starting autoregressive parameters'\n",
      "/home/RDC/tramburc/.conda/envs/stock_tft/lib/python3.10/site-packages/statsmodels/tsa/statespace/sarimax.py:978: UserWarning: Non-invertible starting MA parameters found. Using zeros as starting parameters.\n",
      "  warn('Non-invertible starting MA parameters found.'\n",
      "/home/RDC/tramburc/.conda/envs/stock_tft/lib/python3.10/site-packages/statsmodels/base/model.py:607: ConvergenceWarning: Maximum Likelihood optimization failed to converge. Check mle_retvals\n",
      "  warnings.warn(\"Maximum Likelihood optimization failed to \"\n"
     ]
    },
    {
     "name": "stdout",
     "output_type": "stream",
     "text": [
      "2023-07-21 01:00:00+02:00 672 (5, 0, 2)\n"
     ]
    },
    {
     "name": "stderr",
     "output_type": "stream",
     "text": [
      "/home/RDC/tramburc/.conda/envs/stock_tft/lib/python3.10/site-packages/statsmodels/tsa/statespace/sarimax.py:966: UserWarning: Non-stationary starting autoregressive parameters found. Using zeros as starting parameters.\n",
      "  warn('Non-stationary starting autoregressive parameters'\n",
      "/home/RDC/tramburc/.conda/envs/stock_tft/lib/python3.10/site-packages/statsmodels/tsa/statespace/sarimax.py:978: UserWarning: Non-invertible starting MA parameters found. Using zeros as starting parameters.\n",
      "  warn('Non-invertible starting MA parameters found.'\n",
      "/home/RDC/tramburc/.conda/envs/stock_tft/lib/python3.10/site-packages/statsmodels/base/model.py:607: ConvergenceWarning: Maximum Likelihood optimization failed to converge. Check mle_retvals\n",
      "  warnings.warn(\"Maximum Likelihood optimization failed to \"\n"
     ]
    },
    {
     "name": "stdout",
     "output_type": "stream",
     "text": [
      "2023-07-22 01:00:00+02:00 672 (2, 0, 0)\n",
      "2023-07-23 01:00:00+02:00 672 (2, 0, 0)\n",
      "2023-07-24 01:00:00+02:00 672 (2, 0, 0)\n"
     ]
    },
    {
     "name": "stderr",
     "output_type": "stream",
     "text": [
      "/home/RDC/tramburc/.conda/envs/stock_tft/lib/python3.10/site-packages/pmdarima/arima/_auto_solvers.py:524: ModelFitWarning: Error fitting  ARIMA(5,0,2)(0,0,0)[0]           (if you do not want to see these warnings, run with error_action=\"ignore\").\n",
      "Traceback:\n",
      "Traceback (most recent call last):\n",
      "  File \"/home/RDC/tramburc/.conda/envs/stock_tft/lib/python3.10/site-packages/pmdarima/arima/_auto_solvers.py\", line 508, in _fit_candidate_model\n",
      "    fit.fit(y, X=X, **fit_params)\n",
      "  File \"/home/RDC/tramburc/.conda/envs/stock_tft/lib/python3.10/site-packages/pmdarima/arima/arima.py\", line 603, in fit\n",
      "    self._fit(y, X, **fit_args)\n",
      "  File \"/home/RDC/tramburc/.conda/envs/stock_tft/lib/python3.10/site-packages/pmdarima/arima/arima.py\", line 524, in _fit\n",
      "    fit, self.arima_res_ = _fit_wrapper()\n",
      "  File \"/home/RDC/tramburc/.conda/envs/stock_tft/lib/python3.10/site-packages/pmdarima/arima/arima.py\", line 510, in _fit_wrapper\n",
      "    fitted = arima.fit(\n",
      "  File \"/home/RDC/tramburc/.conda/envs/stock_tft/lib/python3.10/site-packages/statsmodels/tsa/statespace/mlemodel.py\", line 703, in fit\n",
      "    mlefit = super().fit(start_params, method=method,\n",
      "  File \"/home/RDC/tramburc/.conda/envs/stock_tft/lib/python3.10/site-packages/statsmodels/base/model.py\", line 566, in fit\n",
      "    xopt, retvals, optim_settings = optimizer._fit(f, score, start_params,\n",
      "  File \"/home/RDC/tramburc/.conda/envs/stock_tft/lib/python3.10/site-packages/statsmodels/base/optimizer.py\", line 243, in _fit\n",
      "    xopt, retvals = func(objective, gradient, start_params, fargs, kwargs,\n",
      "  File \"/home/RDC/tramburc/.conda/envs/stock_tft/lib/python3.10/site-packages/statsmodels/base/optimizer.py\", line 660, in _fit_lbfgs\n",
      "    retvals = optimize.fmin_l_bfgs_b(func, start_params, maxiter=maxiter,\n",
      "  File \"/home/RDC/tramburc/.conda/envs/stock_tft/lib/python3.10/site-packages/scipy/optimize/_lbfgsb_py.py\", line 237, in fmin_l_bfgs_b\n",
      "    res = _minimize_lbfgsb(fun, x0, args=args, jac=jac, bounds=bounds,\n",
      "  File \"/home/RDC/tramburc/.conda/envs/stock_tft/lib/python3.10/site-packages/scipy/optimize/_lbfgsb_py.py\", line 407, in _minimize_lbfgsb\n",
      "    f, g = func_and_grad(x)\n",
      "  File \"/home/RDC/tramburc/.conda/envs/stock_tft/lib/python3.10/site-packages/scipy/optimize/_differentiable_functions.py\", line 297, in fun_and_grad\n",
      "    self._update_grad()\n",
      "  File \"/home/RDC/tramburc/.conda/envs/stock_tft/lib/python3.10/site-packages/scipy/optimize/_differentiable_functions.py\", line 267, in _update_grad\n",
      "    self._update_grad_impl()\n",
      "  File \"/home/RDC/tramburc/.conda/envs/stock_tft/lib/python3.10/site-packages/scipy/optimize/_differentiable_functions.py\", line 181, in update_grad\n",
      "    self.g = approx_derivative(fun_wrapped, self.x, f0=self.f,\n",
      "  File \"/home/RDC/tramburc/.conda/envs/stock_tft/lib/python3.10/site-packages/scipy/optimize/_numdiff.py\", line 519, in approx_derivative\n",
      "    return _dense_difference(fun_wrapped, x0, f0, h,\n",
      "  File \"/home/RDC/tramburc/.conda/envs/stock_tft/lib/python3.10/site-packages/scipy/optimize/_numdiff.py\", line 590, in _dense_difference\n",
      "    df = fun(x) - f0\n",
      "  File \"/home/RDC/tramburc/.conda/envs/stock_tft/lib/python3.10/site-packages/scipy/optimize/_numdiff.py\", line 470, in fun_wrapped\n",
      "    f = np.atleast_1d(fun(x, *args, **kwargs))\n",
      "  File \"/home/RDC/tramburc/.conda/envs/stock_tft/lib/python3.10/site-packages/scipy/optimize/_differentiable_functions.py\", line 145, in fun_wrapped\n",
      "    fx = fun(np.copy(x), *args)\n",
      "  File \"/home/RDC/tramburc/.conda/envs/stock_tft/lib/python3.10/site-packages/statsmodels/base/model.py\", line 534, in f\n",
      "    return -self.loglike(params, *args) / nobs\n",
      "  File \"/home/RDC/tramburc/.conda/envs/stock_tft/lib/python3.10/site-packages/statsmodels/tsa/statespace/mlemodel.py\", line 938, in loglike\n",
      "    loglike = self.ssm.loglike(complex_step=complex_step, **kwargs)\n",
      "  File \"/home/RDC/tramburc/.conda/envs/stock_tft/lib/python3.10/site-packages/statsmodels/tsa/statespace/kalman_filter.py\", line 1001, in loglike\n",
      "    kfilter = self._filter(**kwargs)\n",
      "  File \"/home/RDC/tramburc/.conda/envs/stock_tft/lib/python3.10/site-packages/statsmodels/tsa/statespace/kalman_filter.py\", line 921, in _filter\n",
      "    self._initialize_state(prefix=prefix, complex_step=complex_step)\n",
      "  File \"/home/RDC/tramburc/.conda/envs/stock_tft/lib/python3.10/site-packages/statsmodels/tsa/statespace/representation.py\", line 1058, in _initialize_state\n",
      "    self._statespaces[prefix].initialize(self.initialization,\n",
      "  File \"statsmodels/tsa/statespace/_representation.pyx\", line 1362, in statsmodels.tsa.statespace._representation.dStatespace.initialize\n",
      "  File \"statsmodels/tsa/statespace/_initialization.pyx\", line 288, in statsmodels.tsa.statespace._initialization.dInitialization.initialize\n",
      "  File \"statsmodels/tsa/statespace/_initialization.pyx\", line 406, in statsmodels.tsa.statespace._initialization.dInitialization.initialize_stationary_stationary_cov\n",
      "  File \"statsmodels/tsa/statespace/_tools.pyx\", line 1548, in statsmodels.tsa.statespace._tools._dsolve_discrete_lyapunov\n",
      "numpy.linalg.LinAlgError: LU decomposition error.\n",
      "\n",
      "  warnings.warn(warning_str, ModelFitWarning)\n"
     ]
    },
    {
     "name": "stdout",
     "output_type": "stream",
     "text": [
      "2023-07-25 01:00:00+02:00 672 (2, 0, 0)\n",
      "2023-07-26 01:00:00+02:00 672 (2, 0, 0)\n",
      "2023-07-27 01:00:00+02:00 672 (2, 0, 0)\n",
      "2023-07-28 01:00:00+02:00 672 (2, 0, 0)\n",
      "2023-07-29 01:00:00+02:00 672 (2, 0, 0)\n",
      "2023-07-30 01:00:00+02:00 672 (2, 0, 0)\n",
      "2023-07-31 01:00:00+02:00 672 (2, 0, 0)\n",
      "2023-08-01 01:00:00+02:00 672 (2, 0, 2)\n",
      "2023-08-02 01:00:00+02:00 672 (2, 0, 0)\n",
      "2023-08-03 01:00:00+02:00 672 (2, 0, 0)\n",
      "2023-08-04 01:00:00+02:00 672 (2, 0, 0)\n",
      "2023-08-05 01:00:00+02:00 672 (4, 0, 1)\n",
      "2023-08-06 01:00:00+02:00 672 (4, 0, 1)\n",
      "2023-08-07 01:00:00+02:00 672 (3, 1, 0)\n",
      "2023-08-08 01:00:00+02:00 672 (2, 0, 0)\n",
      "2023-08-09 01:00:00+02:00 672 (2, 0, 0)\n",
      "2023-08-10 01:00:00+02:00 672 (2, 0, 0)\n",
      "2023-08-11 01:00:00+02:00 672 (2, 0, 0)\n",
      "2023-08-12 01:00:00+02:00 672 (2, 0, 0)\n",
      "2023-08-13 01:00:00+02:00 672 (2, 0, 0)\n",
      "2023-08-14 01:00:00+02:00 672 (2, 0, 0)\n",
      "2023-08-15 01:00:00+02:00 672 (2, 0, 0)\n",
      "2023-08-16 01:00:00+02:00 672 (2, 0, 2)\n",
      "2023-08-17 01:00:00+02:00 672 (2, 0, 0)\n",
      "2023-08-18 01:00:00+02:00 672 (3, 0, 1)\n",
      "2023-08-19 01:00:00+02:00 672 (3, 0, 1)\n",
      "2023-08-20 01:00:00+02:00 672 (3, 0, 1)\n",
      "2023-08-21 01:00:00+02:00 672 (2, 0, 2)\n",
      "2023-08-22 01:00:00+02:00 672 (2, 0, 1)\n",
      "2023-08-23 01:00:00+02:00 672 (2, 0, 1)\n",
      "2023-08-24 01:00:00+02:00 672 (1, 1, 0)\n",
      "2023-08-25 01:00:00+02:00 672 (1, 1, 0)\n",
      "2023-08-26 01:00:00+02:00 672 (1, 1, 0)\n",
      "2023-08-27 01:00:00+02:00 672 (1, 1, 0)\n",
      "2023-08-28 01:00:00+02:00 672 (1, 1, 0)\n",
      "2023-08-29 01:00:00+02:00 672 (1, 1, 0)\n",
      "2023-08-30 01:00:00+02:00 672 (1, 1, 0)\n",
      "2023-08-31 01:00:00+02:00 672 (1, 1, 0)\n",
      "2023-09-01 01:00:00+02:00 672 (1, 1, 0)\n",
      "2023-09-02 01:00:00+02:00 672 (1, 1, 0)\n",
      "2023-09-03 01:00:00+02:00 672 (1, 1, 0)\n",
      "2023-09-04 01:00:00+02:00 672 (3, 0, 0)\n",
      "2023-09-05 01:00:00+02:00 672 (3, 1, 4)\n",
      "2023-09-06 01:00:00+02:00 672 (1, 1, 0)\n",
      "2023-09-07 01:00:00+02:00 672 (3, 1, 2)\n",
      "2023-09-08 01:00:00+02:00 672 (3, 1, 2)\n",
      "2023-09-09 01:00:00+02:00 672 (3, 1, 2)\n",
      "2023-09-10 01:00:00+02:00 672 (3, 1, 2)\n"
     ]
    },
    {
     "name": "stderr",
     "output_type": "stream",
     "text": [
      "/home/RDC/tramburc/.conda/envs/stock_tft/lib/python3.10/site-packages/statsmodels/tsa/statespace/sarimax.py:978: UserWarning: Non-invertible starting MA parameters found. Using zeros as starting parameters.\n",
      "  warn('Non-invertible starting MA parameters found.'\n"
     ]
    },
    {
     "name": "stdout",
     "output_type": "stream",
     "text": [
      "2023-09-11 01:00:00+02:00 672 (3, 1, 2)\n"
     ]
    },
    {
     "name": "stderr",
     "output_type": "stream",
     "text": [
      "/home/RDC/tramburc/.conda/envs/stock_tft/lib/python3.10/site-packages/statsmodels/tsa/statespace/sarimax.py:978: UserWarning: Non-invertible starting MA parameters found. Using zeros as starting parameters.\n",
      "  warn('Non-invertible starting MA parameters found.'\n"
     ]
    },
    {
     "name": "stdout",
     "output_type": "stream",
     "text": [
      "2023-09-12 01:00:00+02:00 672 (3, 1, 2)\n"
     ]
    },
    {
     "name": "stderr",
     "output_type": "stream",
     "text": [
      "/home/RDC/tramburc/.conda/envs/stock_tft/lib/python3.10/site-packages/statsmodels/tsa/statespace/sarimax.py:978: UserWarning: Non-invertible starting MA parameters found. Using zeros as starting parameters.\n",
      "  warn('Non-invertible starting MA parameters found.'\n"
     ]
    },
    {
     "name": "stdout",
     "output_type": "stream",
     "text": [
      "2023-09-13 01:00:00+02:00 672 (3, 1, 2)\n"
     ]
    },
    {
     "name": "stderr",
     "output_type": "stream",
     "text": [
      "/home/RDC/tramburc/.conda/envs/stock_tft/lib/python3.10/site-packages/statsmodels/tsa/statespace/sarimax.py:978: UserWarning: Non-invertible starting MA parameters found. Using zeros as starting parameters.\n",
      "  warn('Non-invertible starting MA parameters found.'\n"
     ]
    },
    {
     "name": "stdout",
     "output_type": "stream",
     "text": [
      "2023-09-14 01:00:00+02:00 672 (3, 0, 0)\n",
      "2023-09-15 01:00:00+02:00 672 (2, 0, 0)\n",
      "2023-09-16 01:00:00+02:00 672 (4, 0, 1)\n",
      "2023-09-17 01:00:00+02:00 672 (3, 1, 2)\n"
     ]
    },
    {
     "name": "stderr",
     "output_type": "stream",
     "text": [
      "/home/RDC/tramburc/.conda/envs/stock_tft/lib/python3.10/site-packages/statsmodels/tsa/statespace/sarimax.py:978: UserWarning: Non-invertible starting MA parameters found. Using zeros as starting parameters.\n",
      "  warn('Non-invertible starting MA parameters found.'\n",
      "/home/RDC/tramburc/.conda/envs/stock_tft/lib/python3.10/site-packages/statsmodels/base/model.py:607: ConvergenceWarning: Maximum Likelihood optimization failed to converge. Check mle_retvals\n",
      "  warnings.warn(\"Maximum Likelihood optimization failed to \"\n",
      "/home/RDC/tramburc/.conda/envs/stock_tft/lib/python3.10/site-packages/pmdarima/arima/_auto_solvers.py:524: ModelFitWarning: Error fitting  ARIMA(4,1,3)(0,0,0)[0]           (if you do not want to see these warnings, run with error_action=\"ignore\").\n",
      "Traceback:\n",
      "Traceback (most recent call last):\n",
      "  File \"/home/RDC/tramburc/.conda/envs/stock_tft/lib/python3.10/site-packages/pmdarima/arima/_auto_solvers.py\", line 508, in _fit_candidate_model\n",
      "    fit.fit(y, X=X, **fit_params)\n",
      "  File \"/home/RDC/tramburc/.conda/envs/stock_tft/lib/python3.10/site-packages/pmdarima/arima/arima.py\", line 603, in fit\n",
      "    self._fit(y, X, **fit_args)\n",
      "  File \"/home/RDC/tramburc/.conda/envs/stock_tft/lib/python3.10/site-packages/pmdarima/arima/arima.py\", line 524, in _fit\n",
      "    fit, self.arima_res_ = _fit_wrapper()\n",
      "  File \"/home/RDC/tramburc/.conda/envs/stock_tft/lib/python3.10/site-packages/pmdarima/arima/arima.py\", line 510, in _fit_wrapper\n",
      "    fitted = arima.fit(\n",
      "  File \"/home/RDC/tramburc/.conda/envs/stock_tft/lib/python3.10/site-packages/statsmodels/tsa/statespace/mlemodel.py\", line 703, in fit\n",
      "    mlefit = super().fit(start_params, method=method,\n",
      "  File \"/home/RDC/tramburc/.conda/envs/stock_tft/lib/python3.10/site-packages/statsmodels/base/model.py\", line 566, in fit\n",
      "    xopt, retvals, optim_settings = optimizer._fit(f, score, start_params,\n",
      "  File \"/home/RDC/tramburc/.conda/envs/stock_tft/lib/python3.10/site-packages/statsmodels/base/optimizer.py\", line 243, in _fit\n",
      "    xopt, retvals = func(objective, gradient, start_params, fargs, kwargs,\n",
      "  File \"/home/RDC/tramburc/.conda/envs/stock_tft/lib/python3.10/site-packages/statsmodels/base/optimizer.py\", line 660, in _fit_lbfgs\n",
      "    retvals = optimize.fmin_l_bfgs_b(func, start_params, maxiter=maxiter,\n",
      "  File \"/home/RDC/tramburc/.conda/envs/stock_tft/lib/python3.10/site-packages/scipy/optimize/_lbfgsb_py.py\", line 237, in fmin_l_bfgs_b\n",
      "    res = _minimize_lbfgsb(fun, x0, args=args, jac=jac, bounds=bounds,\n",
      "  File \"/home/RDC/tramburc/.conda/envs/stock_tft/lib/python3.10/site-packages/scipy/optimize/_lbfgsb_py.py\", line 407, in _minimize_lbfgsb\n",
      "    f, g = func_and_grad(x)\n",
      "  File \"/home/RDC/tramburc/.conda/envs/stock_tft/lib/python3.10/site-packages/scipy/optimize/_differentiable_functions.py\", line 296, in fun_and_grad\n",
      "    self._update_fun()\n",
      "  File \"/home/RDC/tramburc/.conda/envs/stock_tft/lib/python3.10/site-packages/scipy/optimize/_differentiable_functions.py\", line 262, in _update_fun\n",
      "    self._update_fun_impl()\n",
      "  File \"/home/RDC/tramburc/.conda/envs/stock_tft/lib/python3.10/site-packages/scipy/optimize/_differentiable_functions.py\", line 163, in update_fun\n",
      "    self.f = fun_wrapped(self.x)\n",
      "  File \"/home/RDC/tramburc/.conda/envs/stock_tft/lib/python3.10/site-packages/scipy/optimize/_differentiable_functions.py\", line 145, in fun_wrapped\n",
      "    fx = fun(np.copy(x), *args)\n",
      "  File \"/home/RDC/tramburc/.conda/envs/stock_tft/lib/python3.10/site-packages/statsmodels/base/model.py\", line 534, in f\n",
      "    return -self.loglike(params, *args) / nobs\n",
      "  File \"/home/RDC/tramburc/.conda/envs/stock_tft/lib/python3.10/site-packages/statsmodels/tsa/statespace/mlemodel.py\", line 938, in loglike\n",
      "    loglike = self.ssm.loglike(complex_step=complex_step, **kwargs)\n",
      "  File \"/home/RDC/tramburc/.conda/envs/stock_tft/lib/python3.10/site-packages/statsmodels/tsa/statespace/kalman_filter.py\", line 1001, in loglike\n",
      "    kfilter = self._filter(**kwargs)\n",
      "  File \"/home/RDC/tramburc/.conda/envs/stock_tft/lib/python3.10/site-packages/statsmodels/tsa/statespace/kalman_filter.py\", line 921, in _filter\n",
      "    self._initialize_state(prefix=prefix, complex_step=complex_step)\n",
      "  File \"/home/RDC/tramburc/.conda/envs/stock_tft/lib/python3.10/site-packages/statsmodels/tsa/statespace/representation.py\", line 1058, in _initialize_state\n",
      "    self._statespaces[prefix].initialize(self.initialization,\n",
      "  File \"statsmodels/tsa/statespace/_representation.pyx\", line 1373, in statsmodels.tsa.statespace._representation.dStatespace.initialize\n",
      "  File \"statsmodels/tsa/statespace/_representation.pyx\", line 1362, in statsmodels.tsa.statespace._representation.dStatespace.initialize\n",
      "  File \"statsmodels/tsa/statespace/_initialization.pyx\", line 288, in statsmodels.tsa.statespace._initialization.dInitialization.initialize\n",
      "  File \"statsmodels/tsa/statespace/_initialization.pyx\", line 406, in statsmodels.tsa.statespace._initialization.dInitialization.initialize_stationary_stationary_cov\n",
      "  File \"statsmodels/tsa/statespace/_tools.pyx\", line 1548, in statsmodels.tsa.statespace._tools._dsolve_discrete_lyapunov\n",
      "numpy.linalg.LinAlgError: LU decomposition error.\n",
      "\n",
      "  warnings.warn(warning_str, ModelFitWarning)\n",
      "/home/RDC/tramburc/.conda/envs/stock_tft/lib/python3.10/site-packages/statsmodels/tsa/statespace/sarimax.py:978: UserWarning: Non-invertible starting MA parameters found. Using zeros as starting parameters.\n",
      "  warn('Non-invertible starting MA parameters found.'\n"
     ]
    },
    {
     "name": "stdout",
     "output_type": "stream",
     "text": [
      "2023-09-18 01:00:00+02:00 672 (3, 1, 2)\n"
     ]
    },
    {
     "name": "stderr",
     "output_type": "stream",
     "text": [
      "/home/RDC/tramburc/.conda/envs/stock_tft/lib/python3.10/site-packages/statsmodels/base/model.py:607: ConvergenceWarning: Maximum Likelihood optimization failed to converge. Check mle_retvals\n",
      "  warnings.warn(\"Maximum Likelihood optimization failed to \"\n"
     ]
    },
    {
     "name": "stdout",
     "output_type": "stream",
     "text": [
      "2023-09-19 01:00:00+02:00 672 (4, 1, 1)\n",
      "2023-09-20 01:00:00+02:00 672 (4, 1, 1)\n",
      "2023-09-21 01:00:00+02:00 672 (2, 1, 5)\n",
      "2023-09-22 01:00:00+02:00 672 (4, 1, 1)\n",
      "2023-09-23 01:00:00+02:00 672 (4, 1, 1)\n",
      "2023-09-24 01:00:00+02:00 672 (2, 1, 1)\n",
      "2023-09-25 01:00:00+02:00 672 (2, 1, 1)\n",
      "2023-09-26 01:00:00+02:00 672 (2, 1, 1)\n",
      "2023-09-27 01:00:00+02:00 672 (2, 1, 1)\n",
      "2023-09-28 01:00:00+02:00 672 (3, 1, 3)\n"
     ]
    },
    {
     "name": "stderr",
     "output_type": "stream",
     "text": [
      "/home/RDC/tramburc/.conda/envs/stock_tft/lib/python3.10/site-packages/statsmodels/tsa/statespace/sarimax.py:978: UserWarning: Non-invertible starting MA parameters found. Using zeros as starting parameters.\n",
      "  warn('Non-invertible starting MA parameters found.'\n",
      "/home/RDC/tramburc/.conda/envs/stock_tft/lib/python3.10/site-packages/statsmodels/base/model.py:607: ConvergenceWarning: Maximum Likelihood optimization failed to converge. Check mle_retvals\n",
      "  warnings.warn(\"Maximum Likelihood optimization failed to \"\n"
     ]
    },
    {
     "name": "stdout",
     "output_type": "stream",
     "text": [
      "2023-09-29 01:00:00+02:00 672 (2, 1, 1)\n",
      "2023-09-30 01:00:00+02:00 672 (2, 1, 1)\n",
      "2023-10-01 01:00:00+02:00 672 (2, 1, 1)\n",
      "2023-10-02 01:00:00+02:00 672 (2, 1, 1)\n",
      "2023-10-03 01:00:00+02:00 672 (2, 1, 1)\n",
      "2023-10-04 01:00:00+02:00 672 (3, 0, 1)\n",
      "2023-10-05 01:00:00+02:00 672 (3, 0, 1)\n",
      "2023-10-06 01:00:00+02:00 672 (5, 0, 1)\n",
      "2023-10-07 01:00:00+02:00 672 (5, 0, 2)\n"
     ]
    },
    {
     "name": "stderr",
     "output_type": "stream",
     "text": [
      "/home/RDC/tramburc/.conda/envs/stock_tft/lib/python3.10/site-packages/statsmodels/base/model.py:607: ConvergenceWarning: Maximum Likelihood optimization failed to converge. Check mle_retvals\n",
      "  warnings.warn(\"Maximum Likelihood optimization failed to \"\n"
     ]
    },
    {
     "name": "stdout",
     "output_type": "stream",
     "text": [
      "2023-10-08 01:00:00+02:00 672 (2, 0, 0)\n",
      "2023-10-09 01:00:00+02:00 672 (2, 0, 0)\n",
      "2023-10-10 01:00:00+02:00 672 (5, 0, 0)\n",
      "2023-10-11 01:00:00+02:00 672 (3, 0, 0)\n",
      "2023-10-12 01:00:00+02:00 672 (3, 0, 0)\n",
      "2023-10-13 01:00:00+02:00 672 (4, 1, 1)\n",
      "2023-10-14 01:00:00+02:00 672 (2, 0, 1)\n",
      "2023-10-15 01:00:00+02:00 672 (2, 0, 1)\n",
      "2023-10-16 01:00:00+02:00 672 (2, 0, 1)\n",
      "2023-10-17 01:00:00+02:00 672 (3, 0, 0)\n",
      "2023-10-18 01:00:00+02:00 672 (3, 0, 1)\n",
      "2023-10-19 01:00:00+02:00 672 (3, 0, 1)\n",
      "2023-10-20 01:00:00+02:00 672 (3, 0, 1)\n",
      "2023-10-21 01:00:00+02:00 672 (3, 0, 1)\n",
      "2023-10-22 01:00:00+02:00 672 (3, 0, 1)\n",
      "2023-10-23 01:00:00+02:00 672 (3, 0, 1)\n",
      "2023-10-24 01:00:00+02:00 672 (3, 0, 1)\n",
      "2023-10-25 01:00:00+02:00 672 (3, 0, 1)\n",
      "2023-10-26 01:00:00+02:00 672 (5, 1, 0)\n",
      "2023-10-27 01:00:00+02:00 672 (5, 1, 0)\n",
      "2023-10-28 01:00:00+02:00 672 (5, 1, 0)\n",
      "2023-10-29 01:00:00+02:00 672 (3, 0, 0)\n",
      "2023-10-30 00:00:00+01:00 672 (3, 0, 1)\n",
      "2023-10-31 00:00:00+01:00 672 (3, 0, 0)\n",
      "2023-11-01 00:00:00+01:00 672 (5, 1, 0)\n",
      "2023-11-02 00:00:00+01:00 672 (5, 1, 0)\n",
      "2023-11-03 00:00:00+01:00 672 (5, 1, 0)\n",
      "2023-11-04 00:00:00+01:00 672 (5, 1, 0)\n",
      "2023-11-05 00:00:00+01:00 672 (5, 1, 0)\n",
      "2023-11-06 00:00:00+01:00 672 (4, 1, 1)\n",
      "2023-11-07 00:00:00+01:00 672 (4, 1, 1)\n",
      "2023-11-08 00:00:00+01:00 672 (5, 1, 1)\n",
      "2023-11-09 00:00:00+01:00 672 (5, 1, 1)\n",
      "2023-11-10 00:00:00+01:00 672 (5, 1, 1)\n",
      "2023-11-11 00:00:00+01:00 672 (5, 1, 1)\n",
      "2023-11-12 00:00:00+01:00 672 (4, 1, 5)\n"
     ]
    },
    {
     "name": "stderr",
     "output_type": "stream",
     "text": [
      "/home/RDC/tramburc/.conda/envs/stock_tft/lib/python3.10/site-packages/statsmodels/base/model.py:607: ConvergenceWarning: Maximum Likelihood optimization failed to converge. Check mle_retvals\n",
      "  warnings.warn(\"Maximum Likelihood optimization failed to \"\n"
     ]
    },
    {
     "name": "stdout",
     "output_type": "stream",
     "text": [
      "2023-11-13 00:00:00+01:00 672 (5, 1, 1)\n",
      "2023-11-14 00:00:00+01:00 672 (2, 1, 1)\n",
      "2023-11-15 00:00:00+01:00 672 (2, 1, 1)\n",
      "2023-11-16 00:00:00+01:00 672 (2, 1, 1)\n",
      "2023-11-17 00:00:00+01:00 672 (2, 1, 1)\n",
      "2023-11-18 00:00:00+01:00 672 (2, 1, 1)\n",
      "2023-11-19 00:00:00+01:00 672 (2, 1, 1)\n",
      "2023-11-20 00:00:00+01:00 672 (5, 1, 1)\n",
      "2023-11-21 00:00:00+01:00 672 (5, 1, 1)\n",
      "2023-11-22 00:00:00+01:00 672 (5, 1, 1)\n",
      "2023-11-23 00:00:00+01:00 672 (5, 1, 1)\n",
      "2023-11-24 00:00:00+01:00 672 (5, 1, 2)\n"
     ]
    },
    {
     "name": "stderr",
     "output_type": "stream",
     "text": [
      "/home/RDC/tramburc/.conda/envs/stock_tft/lib/python3.10/site-packages/statsmodels/tsa/statespace/sarimax.py:966: UserWarning: Non-stationary starting autoregressive parameters found. Using zeros as starting parameters.\n",
      "  warn('Non-stationary starting autoregressive parameters'\n",
      "/home/RDC/tramburc/.conda/envs/stock_tft/lib/python3.10/site-packages/statsmodels/tsa/statespace/sarimax.py:978: UserWarning: Non-invertible starting MA parameters found. Using zeros as starting parameters.\n",
      "  warn('Non-invertible starting MA parameters found.'\n"
     ]
    },
    {
     "name": "stdout",
     "output_type": "stream",
     "text": [
      "2023-11-25 00:00:00+01:00 672 (5, 1, 2)\n"
     ]
    },
    {
     "name": "stderr",
     "output_type": "stream",
     "text": [
      "/home/RDC/tramburc/.conda/envs/stock_tft/lib/python3.10/site-packages/statsmodels/tsa/statespace/sarimax.py:966: UserWarning: Non-stationary starting autoregressive parameters found. Using zeros as starting parameters.\n",
      "  warn('Non-stationary starting autoregressive parameters'\n",
      "/home/RDC/tramburc/.conda/envs/stock_tft/lib/python3.10/site-packages/statsmodels/tsa/statespace/sarimax.py:978: UserWarning: Non-invertible starting MA parameters found. Using zeros as starting parameters.\n",
      "  warn('Non-invertible starting MA parameters found.'\n"
     ]
    },
    {
     "name": "stdout",
     "output_type": "stream",
     "text": [
      "2023-11-26 00:00:00+01:00 672 (3, 1, 4)\n"
     ]
    },
    {
     "name": "stderr",
     "output_type": "stream",
     "text": [
      "/home/RDC/tramburc/.conda/envs/stock_tft/lib/python3.10/site-packages/statsmodels/base/model.py:607: ConvergenceWarning: Maximum Likelihood optimization failed to converge. Check mle_retvals\n",
      "  warnings.warn(\"Maximum Likelihood optimization failed to \"\n"
     ]
    },
    {
     "name": "stdout",
     "output_type": "stream",
     "text": [
      "2023-11-27 00:00:00+01:00 672 (5, 1, 2)\n"
     ]
    },
    {
     "name": "stderr",
     "output_type": "stream",
     "text": [
      "/home/RDC/tramburc/.conda/envs/stock_tft/lib/python3.10/site-packages/statsmodels/tsa/statespace/sarimax.py:966: UserWarning: Non-stationary starting autoregressive parameters found. Using zeros as starting parameters.\n",
      "  warn('Non-stationary starting autoregressive parameters'\n",
      "/home/RDC/tramburc/.conda/envs/stock_tft/lib/python3.10/site-packages/statsmodels/tsa/statespace/sarimax.py:978: UserWarning: Non-invertible starting MA parameters found. Using zeros as starting parameters.\n",
      "  warn('Non-invertible starting MA parameters found.'\n"
     ]
    },
    {
     "name": "stdout",
     "output_type": "stream",
     "text": [
      "2023-11-28 00:00:00+01:00 672 (5, 1, 2)\n"
     ]
    },
    {
     "name": "stderr",
     "output_type": "stream",
     "text": [
      "/home/RDC/tramburc/.conda/envs/stock_tft/lib/python3.10/site-packages/statsmodels/tsa/statespace/sarimax.py:966: UserWarning: Non-stationary starting autoregressive parameters found. Using zeros as starting parameters.\n",
      "  warn('Non-stationary starting autoregressive parameters'\n",
      "/home/RDC/tramburc/.conda/envs/stock_tft/lib/python3.10/site-packages/statsmodels/tsa/statespace/sarimax.py:978: UserWarning: Non-invertible starting MA parameters found. Using zeros as starting parameters.\n",
      "  warn('Non-invertible starting MA parameters found.'\n"
     ]
    },
    {
     "name": "stdout",
     "output_type": "stream",
     "text": [
      "2023-11-29 00:00:00+01:00 672 (5, 1, 2)\n"
     ]
    },
    {
     "name": "stderr",
     "output_type": "stream",
     "text": [
      "/home/RDC/tramburc/.conda/envs/stock_tft/lib/python3.10/site-packages/statsmodels/tsa/statespace/sarimax.py:966: UserWarning: Non-stationary starting autoregressive parameters found. Using zeros as starting parameters.\n",
      "  warn('Non-stationary starting autoregressive parameters'\n",
      "/home/RDC/tramburc/.conda/envs/stock_tft/lib/python3.10/site-packages/statsmodels/tsa/statespace/sarimax.py:978: UserWarning: Non-invertible starting MA parameters found. Using zeros as starting parameters.\n",
      "  warn('Non-invertible starting MA parameters found.'\n"
     ]
    },
    {
     "name": "stdout",
     "output_type": "stream",
     "text": [
      "2023-11-30 00:00:00+01:00 672 (5, 1, 3)\n"
     ]
    },
    {
     "name": "stderr",
     "output_type": "stream",
     "text": [
      "/home/RDC/tramburc/.conda/envs/stock_tft/lib/python3.10/site-packages/statsmodels/base/model.py:607: ConvergenceWarning: Maximum Likelihood optimization failed to converge. Check mle_retvals\n",
      "  warnings.warn(\"Maximum Likelihood optimization failed to \"\n"
     ]
    },
    {
     "name": "stdout",
     "output_type": "stream",
     "text": [
      "2023-12-01 00:00:00+01:00 672 (5, 1, 1)\n",
      "2023-12-02 00:00:00+01:00 672 (2, 1, 4)\n"
     ]
    },
    {
     "name": "stderr",
     "output_type": "stream",
     "text": [
      "/home/RDC/tramburc/.conda/envs/stock_tft/lib/python3.10/site-packages/statsmodels/base/model.py:607: ConvergenceWarning: Maximum Likelihood optimization failed to converge. Check mle_retvals\n",
      "  warnings.warn(\"Maximum Likelihood optimization failed to \"\n"
     ]
    },
    {
     "name": "stdout",
     "output_type": "stream",
     "text": [
      "2023-12-03 00:00:00+01:00 672 (3, 1, 3)\n"
     ]
    },
    {
     "name": "stderr",
     "output_type": "stream",
     "text": [
      "/home/RDC/tramburc/.conda/envs/stock_tft/lib/python3.10/site-packages/statsmodels/base/model.py:607: ConvergenceWarning: Maximum Likelihood optimization failed to converge. Check mle_retvals\n",
      "  warnings.warn(\"Maximum Likelihood optimization failed to \"\n"
     ]
    },
    {
     "name": "stdout",
     "output_type": "stream",
     "text": [
      "2023-12-04 00:00:00+01:00 672 (3, 1, 1)\n",
      "2023-12-05 00:00:00+01:00 672 (3, 1, 2)\n"
     ]
    },
    {
     "name": "stderr",
     "output_type": "stream",
     "text": [
      "/home/RDC/tramburc/.conda/envs/stock_tft/lib/python3.10/site-packages/statsmodels/tsa/statespace/sarimax.py:966: UserWarning: Non-stationary starting autoregressive parameters found. Using zeros as starting parameters.\n",
      "  warn('Non-stationary starting autoregressive parameters'\n",
      "/home/RDC/tramburc/.conda/envs/stock_tft/lib/python3.10/site-packages/statsmodels/tsa/statespace/sarimax.py:978: UserWarning: Non-invertible starting MA parameters found. Using zeros as starting parameters.\n",
      "  warn('Non-invertible starting MA parameters found.'\n"
     ]
    },
    {
     "name": "stdout",
     "output_type": "stream",
     "text": [
      "2023-12-06 00:00:00+01:00 672 (3, 1, 1)\n",
      "2023-12-07 00:00:00+01:00 672 (3, 1, 1)\n",
      "2023-12-08 00:00:00+01:00 672 (2, 1, 2)\n",
      "2023-12-09 00:00:00+01:00 672 (2, 1, 2)\n",
      "2023-12-10 00:00:00+01:00 672 (3, 1, 2)\n",
      "2023-12-11 00:00:00+01:00 672 (3, 1, 2)\n"
     ]
    },
    {
     "name": "stderr",
     "output_type": "stream",
     "text": [
      "/home/RDC/tramburc/.conda/envs/stock_tft/lib/python3.10/site-packages/statsmodels/base/model.py:607: ConvergenceWarning: Maximum Likelihood optimization failed to converge. Check mle_retvals\n",
      "  warnings.warn(\"Maximum Likelihood optimization failed to \"\n"
     ]
    },
    {
     "name": "stdout",
     "output_type": "stream",
     "text": [
      "2023-12-12 00:00:00+01:00 672 (3, 1, 2)\n"
     ]
    },
    {
     "name": "stderr",
     "output_type": "stream",
     "text": [
      "/home/RDC/tramburc/.conda/envs/stock_tft/lib/python3.10/site-packages/statsmodels/base/model.py:607: ConvergenceWarning: Maximum Likelihood optimization failed to converge. Check mle_retvals\n",
      "  warnings.warn(\"Maximum Likelihood optimization failed to \"\n"
     ]
    },
    {
     "name": "stdout",
     "output_type": "stream",
     "text": [
      "2023-12-13 00:00:00+01:00 672 (3, 1, 2)\n"
     ]
    },
    {
     "name": "stderr",
     "output_type": "stream",
     "text": [
      "/home/RDC/tramburc/.conda/envs/stock_tft/lib/python3.10/site-packages/statsmodels/base/model.py:607: ConvergenceWarning: Maximum Likelihood optimization failed to converge. Check mle_retvals\n",
      "  warnings.warn(\"Maximum Likelihood optimization failed to \"\n"
     ]
    },
    {
     "name": "stdout",
     "output_type": "stream",
     "text": [
      "2023-12-14 00:00:00+01:00 672 (2, 1, 3)\n",
      "2023-12-15 00:00:00+01:00 672 (2, 1, 2)\n",
      "2023-12-16 00:00:00+01:00 672 (3, 1, 2)\n"
     ]
    },
    {
     "name": "stderr",
     "output_type": "stream",
     "text": [
      "/home/RDC/tramburc/.conda/envs/stock_tft/lib/python3.10/site-packages/statsmodels/tsa/statespace/sarimax.py:966: UserWarning: Non-stationary starting autoregressive parameters found. Using zeros as starting parameters.\n",
      "  warn('Non-stationary starting autoregressive parameters'\n",
      "/home/RDC/tramburc/.conda/envs/stock_tft/lib/python3.10/site-packages/statsmodels/tsa/statespace/sarimax.py:978: UserWarning: Non-invertible starting MA parameters found. Using zeros as starting parameters.\n",
      "  warn('Non-invertible starting MA parameters found.'\n",
      "/home/RDC/tramburc/.conda/envs/stock_tft/lib/python3.10/site-packages/statsmodels/base/model.py:607: ConvergenceWarning: Maximum Likelihood optimization failed to converge. Check mle_retvals\n",
      "  warnings.warn(\"Maximum Likelihood optimization failed to \"\n"
     ]
    },
    {
     "name": "stdout",
     "output_type": "stream",
     "text": [
      "2023-12-17 00:00:00+01:00 672 (2, 1, 1)\n"
     ]
    },
    {
     "name": "stderr",
     "output_type": "stream",
     "text": [
      "/home/RDC/tramburc/.conda/envs/stock_tft/lib/python3.10/site-packages/statsmodels/tsa/statespace/sarimax.py:966: UserWarning: Non-stationary starting autoregressive parameters found. Using zeros as starting parameters.\n",
      "  warn('Non-stationary starting autoregressive parameters'\n",
      "/home/RDC/tramburc/.conda/envs/stock_tft/lib/python3.10/site-packages/statsmodels/tsa/statespace/sarimax.py:978: UserWarning: Non-invertible starting MA parameters found. Using zeros as starting parameters.\n",
      "  warn('Non-invertible starting MA parameters found.'\n"
     ]
    },
    {
     "name": "stdout",
     "output_type": "stream",
     "text": [
      "2023-12-18 00:00:00+01:00 672 (2, 1, 1)\n"
     ]
    },
    {
     "name": "stderr",
     "output_type": "stream",
     "text": [
      "/home/RDC/tramburc/.conda/envs/stock_tft/lib/python3.10/site-packages/statsmodels/tsa/statespace/sarimax.py:978: UserWarning: Non-invertible starting MA parameters found. Using zeros as starting parameters.\n",
      "  warn('Non-invertible starting MA parameters found.'\n"
     ]
    },
    {
     "name": "stdout",
     "output_type": "stream",
     "text": [
      "2023-12-19 00:00:00+01:00 672 (2, 1, 1)\n"
     ]
    },
    {
     "name": "stderr",
     "output_type": "stream",
     "text": [
      "/home/RDC/tramburc/.conda/envs/stock_tft/lib/python3.10/site-packages/statsmodels/tsa/statespace/sarimax.py:978: UserWarning: Non-invertible starting MA parameters found. Using zeros as starting parameters.\n",
      "  warn('Non-invertible starting MA parameters found.'\n"
     ]
    },
    {
     "name": "stdout",
     "output_type": "stream",
     "text": [
      "2023-12-20 00:00:00+01:00 672 (2, 1, 1)\n",
      "2023-12-21 00:00:00+01:00 672 (2, 1, 1)\n"
     ]
    },
    {
     "name": "stderr",
     "output_type": "stream",
     "text": [
      "/home/RDC/tramburc/.conda/envs/stock_tft/lib/python3.10/site-packages/statsmodels/tsa/statespace/sarimax.py:978: UserWarning: Non-invertible starting MA parameters found. Using zeros as starting parameters.\n",
      "  warn('Non-invertible starting MA parameters found.'\n"
     ]
    },
    {
     "name": "stdout",
     "output_type": "stream",
     "text": [
      "2023-12-22 00:00:00+01:00 672 (2, 1, 1)\n"
     ]
    },
    {
     "name": "stderr",
     "output_type": "stream",
     "text": [
      "/home/RDC/tramburc/.conda/envs/stock_tft/lib/python3.10/site-packages/statsmodels/tsa/statespace/sarimax.py:978: UserWarning: Non-invertible starting MA parameters found. Using zeros as starting parameters.\n",
      "  warn('Non-invertible starting MA parameters found.'\n"
     ]
    },
    {
     "name": "stdout",
     "output_type": "stream",
     "text": [
      "2023-12-23 00:00:00+01:00 672 (2, 1, 1)\n"
     ]
    },
    {
     "name": "stderr",
     "output_type": "stream",
     "text": [
      "/home/RDC/tramburc/.conda/envs/stock_tft/lib/python3.10/site-packages/statsmodels/tsa/statespace/sarimax.py:978: UserWarning: Non-invertible starting MA parameters found. Using zeros as starting parameters.\n",
      "  warn('Non-invertible starting MA parameters found.'\n"
     ]
    },
    {
     "name": "stdout",
     "output_type": "stream",
     "text": [
      "2023-12-24 00:00:00+01:00 672 (2, 1, 1)\n"
     ]
    },
    {
     "name": "stderr",
     "output_type": "stream",
     "text": [
      "/home/RDC/tramburc/.conda/envs/stock_tft/lib/python3.10/site-packages/statsmodels/tsa/statespace/sarimax.py:978: UserWarning: Non-invertible starting MA parameters found. Using zeros as starting parameters.\n",
      "  warn('Non-invertible starting MA parameters found.'\n"
     ]
    },
    {
     "name": "stdout",
     "output_type": "stream",
     "text": [
      "2023-12-25 00:00:00+01:00 672 (2, 1, 1)\n",
      "2023-12-26 00:00:00+01:00 672 (2, 1, 1)\n"
     ]
    },
    {
     "name": "stderr",
     "output_type": "stream",
     "text": [
      "/home/RDC/tramburc/.conda/envs/stock_tft/lib/python3.10/site-packages/statsmodels/tsa/statespace/sarimax.py:978: UserWarning: Non-invertible starting MA parameters found. Using zeros as starting parameters.\n",
      "  warn('Non-invertible starting MA parameters found.'\n"
     ]
    },
    {
     "name": "stdout",
     "output_type": "stream",
     "text": [
      "2023-12-27 00:00:00+01:00 672 (2, 1, 1)\n",
      "2023-12-28 00:00:00+01:00 672 (2, 1, 1)\n",
      "2023-12-29 00:00:00+01:00 672 (2, 1, 1)\n",
      "2023-12-30 00:00:00+01:00 672 (2, 1, 1)\n",
      "2023-12-31 00:00:00+01:00 672 (2, 1, 1)\n",
      "2024-01-01 00:00:00+01:00 672 (2, 1, 1)\n",
      "2024-01-02 00:00:00+01:00 672 (2, 1, 1)\n",
      "2024-01-03 00:00:00+01:00 672 (2, 1, 1)\n",
      "2024-01-04 00:00:00+01:00 672 (2, 1, 1)\n",
      "2024-01-05 00:00:00+01:00 672 (2, 1, 1)\n",
      "2024-01-06 00:00:00+01:00 672 (2, 1, 1)\n",
      "2024-01-07 00:00:00+01:00 672 (2, 1, 1)\n",
      "2024-01-08 00:00:00+01:00 672 (2, 1, 1)\n",
      "2024-01-09 00:00:00+01:00 672 (2, 1, 1)\n",
      "2024-01-10 00:00:00+01:00 672 (2, 1, 1)\n",
      "2024-01-11 00:00:00+01:00 672 (2, 1, 1)\n",
      "2024-01-12 00:00:00+01:00 672 (2, 1, 1)\n",
      "2024-01-13 00:00:00+01:00 672 (2, 1, 1)\n",
      "2024-01-14 00:00:00+01:00 672 (2, 1, 1)\n",
      "2024-01-15 00:00:00+01:00 672 (5, 1, 1)\n",
      "2024-01-16 00:00:00+01:00 672 (5, 1, 1)\n",
      "2024-01-17 00:00:00+01:00 672 (5, 1, 1)\n",
      "2024-01-18 00:00:00+01:00 672 (5, 1, 0)\n",
      "2024-01-19 00:00:00+01:00 672 (5, 1, 0)\n",
      "2024-01-20 00:00:00+01:00 672 (2, 1, 1)\n",
      "2024-01-21 00:00:00+01:00 672 (5, 1, 0)\n",
      "2024-01-22 00:00:00+01:00 672 (5, 1, 0)\n",
      "2024-01-23 00:00:00+01:00 672 (2, 1, 1)\n",
      "2024-01-24 00:00:00+01:00 672 (5, 1, 0)\n",
      "2024-01-25 00:00:00+01:00 672 (2, 1, 1)\n",
      "2024-01-26 00:00:00+01:00 672 (4, 1, 1)\n",
      "2024-01-27 00:00:00+01:00 672 (2, 1, 1)\n",
      "2024-01-28 00:00:00+01:00 672 (2, 1, 1)\n",
      "2024-01-29 00:00:00+01:00 672 (4, 1, 4)\n"
     ]
    },
    {
     "name": "stderr",
     "output_type": "stream",
     "text": [
      "/home/RDC/tramburc/.conda/envs/stock_tft/lib/python3.10/site-packages/statsmodels/base/model.py:607: ConvergenceWarning: Maximum Likelihood optimization failed to converge. Check mle_retvals\n",
      "  warnings.warn(\"Maximum Likelihood optimization failed to \"\n"
     ]
    },
    {
     "name": "stdout",
     "output_type": "stream",
     "text": [
      "2024-01-30 00:00:00+01:00 672 (5, 1, 1)\n",
      "2024-01-31 00:00:00+01:00 672 (5, 1, 1)\n",
      "2024-02-01 00:00:00+01:00 672 (5, 1, 1)\n",
      "2024-02-02 00:00:00+01:00 672 (5, 1, 1)\n",
      "2024-02-03 00:00:00+01:00 672 (2, 1, 2)\n"
     ]
    },
    {
     "name": "stderr",
     "output_type": "stream",
     "text": [
      "/home/RDC/tramburc/.conda/envs/stock_tft/lib/python3.10/site-packages/statsmodels/tsa/statespace/sarimax.py:978: UserWarning: Non-invertible starting MA parameters found. Using zeros as starting parameters.\n",
      "  warn('Non-invertible starting MA parameters found.'\n"
     ]
    },
    {
     "name": "stdout",
     "output_type": "stream",
     "text": [
      "2024-02-04 00:00:00+01:00 672 (3, 1, 1)\n",
      "2024-02-05 00:00:00+01:00 672 (3, 1, 2)\n"
     ]
    },
    {
     "name": "stderr",
     "output_type": "stream",
     "text": [
      "/home/RDC/tramburc/.conda/envs/stock_tft/lib/python3.10/site-packages/statsmodels/tsa/statespace/sarimax.py:978: UserWarning: Non-invertible starting MA parameters found. Using zeros as starting parameters.\n",
      "  warn('Non-invertible starting MA parameters found.'\n"
     ]
    },
    {
     "name": "stdout",
     "output_type": "stream",
     "text": [
      "2024-02-06 00:00:00+01:00 672 (3, 1, 2)\n"
     ]
    },
    {
     "name": "stderr",
     "output_type": "stream",
     "text": [
      "/home/RDC/tramburc/.conda/envs/stock_tft/lib/python3.10/site-packages/statsmodels/tsa/statespace/sarimax.py:978: UserWarning: Non-invertible starting MA parameters found. Using zeros as starting parameters.\n",
      "  warn('Non-invertible starting MA parameters found.'\n"
     ]
    },
    {
     "name": "stdout",
     "output_type": "stream",
     "text": [
      "2024-02-07 00:00:00+01:00 672 (3, 1, 2)\n"
     ]
    },
    {
     "name": "stderr",
     "output_type": "stream",
     "text": [
      "/home/RDC/tramburc/.conda/envs/stock_tft/lib/python3.10/site-packages/statsmodels/tsa/statespace/sarimax.py:978: UserWarning: Non-invertible starting MA parameters found. Using zeros as starting parameters.\n",
      "  warn('Non-invertible starting MA parameters found.'\n"
     ]
    },
    {
     "name": "stdout",
     "output_type": "stream",
     "text": [
      "2024-02-08 00:00:00+01:00 672 (3, 1, 2)\n"
     ]
    },
    {
     "name": "stderr",
     "output_type": "stream",
     "text": [
      "/home/RDC/tramburc/.conda/envs/stock_tft/lib/python3.10/site-packages/statsmodels/tsa/statespace/sarimax.py:978: UserWarning: Non-invertible starting MA parameters found. Using zeros as starting parameters.\n",
      "  warn('Non-invertible starting MA parameters found.'\n",
      "/home/RDC/tramburc/.conda/envs/stock_tft/lib/python3.10/site-packages/statsmodels/base/model.py:607: ConvergenceWarning: Maximum Likelihood optimization failed to converge. Check mle_retvals\n",
      "  warnings.warn(\"Maximum Likelihood optimization failed to \"\n"
     ]
    },
    {
     "name": "stdout",
     "output_type": "stream",
     "text": [
      "2024-02-09 00:00:00+01:00 672 (3, 1, 2)\n"
     ]
    },
    {
     "name": "stderr",
     "output_type": "stream",
     "text": [
      "/home/RDC/tramburc/.conda/envs/stock_tft/lib/python3.10/site-packages/statsmodels/tsa/statespace/sarimax.py:978: UserWarning: Non-invertible starting MA parameters found. Using zeros as starting parameters.\n",
      "  warn('Non-invertible starting MA parameters found.'\n",
      "/home/RDC/tramburc/.conda/envs/stock_tft/lib/python3.10/site-packages/statsmodels/base/model.py:607: ConvergenceWarning: Maximum Likelihood optimization failed to converge. Check mle_retvals\n",
      "  warnings.warn(\"Maximum Likelihood optimization failed to \"\n"
     ]
    },
    {
     "name": "stdout",
     "output_type": "stream",
     "text": [
      "2024-02-10 00:00:00+01:00 672 (5, 1, 0)\n",
      "2024-02-11 00:00:00+01:00 672 (5, 1, 0)\n",
      "2024-02-12 00:00:00+01:00 672 (5, 1, 0)\n",
      "2024-02-13 00:00:00+01:00 672 (5, 1, 0)\n",
      "2024-02-14 00:00:00+01:00 672 (3, 1, 1)\n",
      "2024-02-15 00:00:00+01:00 672 (3, 1, 2)\n"
     ]
    },
    {
     "name": "stderr",
     "output_type": "stream",
     "text": [
      "/home/RDC/tramburc/.conda/envs/stock_tft/lib/python3.10/site-packages/statsmodels/tsa/statespace/sarimax.py:978: UserWarning: Non-invertible starting MA parameters found. Using zeros as starting parameters.\n",
      "  warn('Non-invertible starting MA parameters found.'\n",
      "/home/RDC/tramburc/.conda/envs/stock_tft/lib/python3.10/site-packages/statsmodels/base/model.py:607: ConvergenceWarning: Maximum Likelihood optimization failed to converge. Check mle_retvals\n",
      "  warnings.warn(\"Maximum Likelihood optimization failed to \"\n"
     ]
    },
    {
     "name": "stdout",
     "output_type": "stream",
     "text": [
      "2024-02-16 00:00:00+01:00 672 (5, 1, 1)\n",
      "2024-02-17 00:00:00+01:00 672 (3, 1, 1)\n",
      "2024-02-18 00:00:00+01:00 672 (3, 1, 1)\n",
      "2024-02-19 00:00:00+01:00 672 (2, 1, 2)\n"
     ]
    },
    {
     "name": "stderr",
     "output_type": "stream",
     "text": [
      "/home/RDC/tramburc/.conda/envs/stock_tft/lib/python3.10/site-packages/statsmodels/tsa/statespace/sarimax.py:966: UserWarning: Non-stationary starting autoregressive parameters found. Using zeros as starting parameters.\n",
      "  warn('Non-stationary starting autoregressive parameters'\n",
      "/home/RDC/tramburc/.conda/envs/stock_tft/lib/python3.10/site-packages/statsmodels/tsa/statespace/sarimax.py:978: UserWarning: Non-invertible starting MA parameters found. Using zeros as starting parameters.\n",
      "  warn('Non-invertible starting MA parameters found.'\n"
     ]
    },
    {
     "name": "stdout",
     "output_type": "stream",
     "text": [
      "2024-02-20 00:00:00+01:00 672 (3, 1, 1)\n",
      "2024-02-21 00:00:00+01:00 672 (3, 1, 1)\n",
      "2024-02-22 00:00:00+01:00 672 (2, 1, 2)\n"
     ]
    },
    {
     "name": "stderr",
     "output_type": "stream",
     "text": [
      "/home/RDC/tramburc/.conda/envs/stock_tft/lib/python3.10/site-packages/statsmodels/tsa/statespace/sarimax.py:966: UserWarning: Non-stationary starting autoregressive parameters found. Using zeros as starting parameters.\n",
      "  warn('Non-stationary starting autoregressive parameters'\n",
      "/home/RDC/tramburc/.conda/envs/stock_tft/lib/python3.10/site-packages/statsmodels/tsa/statespace/sarimax.py:978: UserWarning: Non-invertible starting MA parameters found. Using zeros as starting parameters.\n",
      "  warn('Non-invertible starting MA parameters found.'\n"
     ]
    },
    {
     "name": "stdout",
     "output_type": "stream",
     "text": [
      "2024-02-23 00:00:00+01:00 672 (2, 1, 2)\n"
     ]
    },
    {
     "name": "stderr",
     "output_type": "stream",
     "text": [
      "/home/RDC/tramburc/.conda/envs/stock_tft/lib/python3.10/site-packages/statsmodels/tsa/statespace/sarimax.py:966: UserWarning: Non-stationary starting autoregressive parameters found. Using zeros as starting parameters.\n",
      "  warn('Non-stationary starting autoregressive parameters'\n",
      "/home/RDC/tramburc/.conda/envs/stock_tft/lib/python3.10/site-packages/statsmodels/tsa/statespace/sarimax.py:978: UserWarning: Non-invertible starting MA parameters found. Using zeros as starting parameters.\n",
      "  warn('Non-invertible starting MA parameters found.'\n"
     ]
    },
    {
     "name": "stdout",
     "output_type": "stream",
     "text": [
      "2024-02-24 00:00:00+01:00 672 (2, 1, 2)\n"
     ]
    },
    {
     "name": "stderr",
     "output_type": "stream",
     "text": [
      "/home/RDC/tramburc/.conda/envs/stock_tft/lib/python3.10/site-packages/statsmodels/tsa/statespace/sarimax.py:966: UserWarning: Non-stationary starting autoregressive parameters found. Using zeros as starting parameters.\n",
      "  warn('Non-stationary starting autoregressive parameters'\n",
      "/home/RDC/tramburc/.conda/envs/stock_tft/lib/python3.10/site-packages/statsmodels/tsa/statespace/sarimax.py:978: UserWarning: Non-invertible starting MA parameters found. Using zeros as starting parameters.\n",
      "  warn('Non-invertible starting MA parameters found.'\n"
     ]
    },
    {
     "name": "stdout",
     "output_type": "stream",
     "text": [
      "2024-02-25 00:00:00+01:00 672 (2, 1, 2)\n"
     ]
    },
    {
     "name": "stderr",
     "output_type": "stream",
     "text": [
      "/home/RDC/tramburc/.conda/envs/stock_tft/lib/python3.10/site-packages/statsmodels/tsa/statespace/sarimax.py:966: UserWarning: Non-stationary starting autoregressive parameters found. Using zeros as starting parameters.\n",
      "  warn('Non-stationary starting autoregressive parameters'\n",
      "/home/RDC/tramburc/.conda/envs/stock_tft/lib/python3.10/site-packages/statsmodels/tsa/statespace/sarimax.py:978: UserWarning: Non-invertible starting MA parameters found. Using zeros as starting parameters.\n",
      "  warn('Non-invertible starting MA parameters found.'\n"
     ]
    },
    {
     "name": "stdout",
     "output_type": "stream",
     "text": [
      "2024-02-26 00:00:00+01:00 672 (2, 1, 1)\n",
      "2024-02-27 00:00:00+01:00 672 (4, 1, 1)\n",
      "2024-02-28 00:00:00+01:00 672 (4, 1, 1)\n",
      "2024-02-29 00:00:00+01:00 672 (2, 0, 1)\n",
      "MAPE Value: 0.2604\n"
     ]
    }
   ],
   "source": [
    "# Run ARIMA rolling window forecast\n",
    "for dframe in liste:\n",
    "    print(dframe)\n",
    "    df = pd.read_parquet(f\"data/{dframe}.parquet\")\n",
    "    display(x.head(1))  \n",
    "    startt =time.time()\n",
    "    # Initialize relevant lists\n",
    "    results = []\n",
    "    iteration = 1\n",
    "\n",
    "    # Sample data series\n",
    "    CI_series = df[\"target\"]\n",
    "    CI_series.index = CI_series.index * np.timedelta64(1, 'h') + pd.Timestamp('2015-01-05 00:00:00+0100', tz='Europe/Berlin')\n",
    "    CI_series.index.freq = 'h'\n",
    "\n",
    "    # Define windows\n",
    "    train_window_size = 28 * 24\n",
    "    forecast_horizon = 24\n",
    "\n",
    "    # Rolling window approach\n",
    "    for start in range(0, len(CI_series) - train_window_size - forecast_horizon + 1, forecast_horizon):\n",
    "\n",
    "        # Define the train and test windows\n",
    "        train_window = CI_series[start:start + train_window_size]\n",
    "        test_window = CI_series[start + train_window_size:start + train_window_size + forecast_horizon]\n",
    "\n",
    "        # Use auto_arima to find the best ARIMA model\n",
    "        pmd_arima = auto_arima(train_window, start_q=0, seasonal=False)\n",
    "        model_order = pmd_arima.get_params().get(\"order\")\n",
    "        #print(CI_series.index[start + train_window_size],len(train_window), pmd_arima.get_params().get(\"order\") )\n",
    "        # Fit the ARIMA model\n",
    "        model = ARIMA(train_window, order=model_order)\n",
    "        model_fit = model.fit()\n",
    "\n",
    "        # Forecast next 24 hours\n",
    "        forecast = model_fit.forecast(steps=forecast_horizon)\n",
    "\n",
    "        # Record results for each forecasted point\n",
    "        for i, (fcst, actual) in enumerate(zip(forecast, test_window)):\n",
    "            date = test_window.index[i]\n",
    "            results.append({\n",
    "                \"date\": date,\n",
    "                \"forecast\": fcst,\n",
    "                \"actual\": actual,\n",
    "                \"iteration\": iteration,\n",
    "                \"start_train_window\": train_window.index[0],\n",
    "                \"end_train_window\": train_window.index[-1],\n",
    "                \"start_test_window\": test_window.index[0],\n",
    "                \"end_test_window\": test_window.index[-1]\n",
    "            })\n",
    "\n",
    "    # Create a DataFrame from the collected results\n",
    "    results_df = pd.DataFrame(results)\n",
    "    results_df.set_index(\"date\", inplace=True)\n",
    "    # Save forecasting results\n",
    "    results_df.to_parquet(f\"data/arima_results_{dframe}.parquet\")\n",
    "\n",
    "\n"
   ]
  },
  {
   "cell_type": "code",
   "execution_count": 50,
   "metadata": {},
   "outputs": [],
   "source": [
    "result_50hz = pd.read_parquet(\"data/arima_results_test_50hz.parquet\")\n",
    "result_amprion = pd.read_parquet(\"data/arima_results_test_amprion.parquet\")\n",
    "result_tennet = pd.read_parquet(\"data/arima_results_test_tennet.parquet\")\n",
    "result_transnet = pd.read_parquet(\"data/arima_results_test_transnet.parquet\")\n",
    "\n"
   ]
  },
  {
   "cell_type": "markdown",
   "metadata": {},
   "source": []
  }
 ],
 "metadata": {
  "kernelspec": {
   "display_name": "MasterEnv",
   "language": "python",
   "name": "masterenv"
  },
  "language_info": {
   "codemirror_mode": {
    "name": "ipython",
    "version": 3
   },
   "file_extension": ".py",
   "mimetype": "text/x-python",
   "name": "python",
   "nbconvert_exporter": "python",
   "pygments_lexer": "ipython3",
   "version": "3.11.7"
  }
 },
 "nbformat": 4,
 "nbformat_minor": 4
}

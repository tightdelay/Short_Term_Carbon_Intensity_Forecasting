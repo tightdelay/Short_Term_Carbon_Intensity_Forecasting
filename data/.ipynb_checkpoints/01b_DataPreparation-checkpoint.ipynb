{
 "cells": [
  {
   "cell_type": "code",
   "execution_count": 285,
   "id": "3316431e",
   "metadata": {
    "ExecuteTime": {
     "end_time": "2024-04-27T22:31:30.300642Z",
     "start_time": "2024-04-27T22:31:30.294545Z"
    }
   },
   "outputs": [
    {
     "data": {
      "text/html": [
       "<style>.container { width:90% !important; }</style>"
      ],
      "text/plain": [
       "<IPython.core.display.HTML object>"
      ]
     },
     "metadata": {},
     "output_type": "display_data"
    }
   ],
   "source": [
    "#optional\n",
    "from IPython.display import display, HTML\n",
    "display(HTML(\"<style>.container { width:90% !important; }</style>\"))"
   ]
  },
  {
   "cell_type": "markdown",
   "id": "f3b93ac4",
   "metadata": {},
   "source": [
    "# Data Preparation <br>\n",
    "\n",
    "-  Missing value\n",
    "-  Merge data from different sources"
   ]
  },
  {
   "cell_type": "code",
   "execution_count": 50,
   "id": "d2afac41",
   "metadata": {
    "ExecuteTime": {
     "end_time": "2024-05-05T06:05:33.416753Z",
     "start_time": "2024-05-05T06:05:33.413130Z"
    }
   },
   "outputs": [],
   "source": [
    "#Import relevant packages\n",
    "import pandas as pd\n",
    "import numpy as np\n",
    "\n",
    "import seaborn as sns\n",
    "import matplotlib.pyplot as plt"
   ]
  },
  {
   "cell_type": "markdown",
   "id": "c8de1339",
   "metadata": {},
   "source": [
    "#### Load data"
   ]
  },
  {
   "cell_type": "code",
   "execution_count": 104,
   "id": "ba7884bb",
   "metadata": {
    "ExecuteTime": {
     "end_time": "2024-05-05T07:18:22.790453Z",
     "start_time": "2024-05-05T07:18:22.701977Z"
    }
   },
   "outputs": [],
   "source": [
    "# Generation data\n",
    "df_50HZ=pd.read_parquet(\"2015-2024_df_50HZ.parquet\")\n",
    "df_AMPRION=pd.read_parquet(\"2015-2024_df_AMPRION.parquet\")\n",
    "df_TRANSNET=pd.read_parquet(\"2015-2024_df_TRANSNET.parquet\")\n",
    "df_TENNET=pd.read_parquet(\"2015-2024_df_TENNET.parquet\")\n",
    "\n",
    "# Create grid dictionary\n",
    "TSO_dict = {\n",
    "    \"DE_50Hertz\" : df_50HZ, \n",
    "    \"DE_AMPRION\" : df_AMPRION, \n",
    "    \"DE_TENNET\"  : df_TENNET, \n",
    "    \"DE_TRANSNET\": df_TRANSNET \n",
    "        }\n",
    "\n",
    "# Day-ahead price\n",
    "dap_de = pd.read_pickle(\"2015-2024_DAP_DE_Series.pkl\")\n",
    "\n",
    "# Weather data\n",
    "weather_50HZ = pd.read_parquet(\"weather_hist_DE_50Hertz.parquet\")\n",
    "weather_AMPRION = pd.read_parquet(\"weather_hist_DE_AMPRION.parquet\") \n",
    "weather_TRANSNET = pd.read_parquet(\"weather_hist_DE_TENNET.parquet\")   \n",
    "weather_TENNET = pd.read_parquet(\"weather_hist_DE_TRANSNET.parquet\")\n",
    "# Create grid weather dictionary\n",
    "Weather_dict = {\n",
    "    \"DE_50Hertz\" : weather_50HZ,\n",
    "    \"DE_AMPRION\" : weather_AMPRION,\n",
    "    \"DE_TENNET\"  : weather_TRANSNET, \n",
    "    \"DE_TRANSNET\": weather_TENNET \n",
    "    }"
   ]
  },
  {
   "cell_type": "markdown",
   "id": "d529f77f",
   "metadata": {},
   "source": [
    "#### Features of each TSO Zone\n",
    "\n",
    "|TSO zone | Biomass | Fossil Brown coal/Lignite | Fossil Coal-derived gas | Fossil Gas | Fossil Hard coal | Fossil Oil | Geothermal | Hydro Pumped Storage | Hydro Run-of-river and poundage | Hydro Water Reservoir | Nuclear | Other | Other renewable | Solar | Waste | Wind Offshore | Wind Onshore |\n",
    "| --- | --- | --- | --- | --- | --- | --- | --- | --- | --- | --- | --- | --- | --- | --- | --- | --- | --- |\n",
    "| DE_50Hertz  | + | + | - | + | + | + | + | + | + | - | - | + | + | + | + | + | + |\n",
    "| DE_AMPRION  | + | + | + | + | + | + | + | + | + | + | + | + | + | + | + | - | + |\n",
    "| DE_TENNET   | + | + | - | + | + | + | + | + | + | + | + | + | + | + | + | + | + |\n",
    "| DE_TRANSNET | + | - | - | + | + | + | - | + | + | + | + | + | + | + | + | - | + |"
   ]
  },
  {
   "cell_type": "markdown",
   "id": "3646264a",
   "metadata": {},
   "source": [
    "## Missing Values and Data Cleaning"
   ]
  },
  {
   "cell_type": "code",
   "execution_count": 105,
   "id": "a80593cd",
   "metadata": {
    "ExecuteTime": {
     "end_time": "2024-05-05T07:18:23.515575Z",
     "start_time": "2024-05-05T07:18:23.500953Z"
    }
   },
   "outputs": [
    {
     "name": "stdout",
     "output_type": "stream",
     "text": [
      "Missing Values in dataset DE_50Hertz: 0\n",
      "Missing Values in dataset DE_AMPRION: 0\n",
      "Missing Values in dataset DE_TENNET: 0\n",
      "Missing Values in dataset DE_TRANSNET: 0\n"
     ]
    }
   ],
   "source": [
    "for i in TSO_dict:\n",
    "    print(f\"Missing Values in dataset {i}: {TSO_dict[i].isna().sum().sum()}\")"
   ]
  },
  {
   "cell_type": "code",
   "execution_count": 106,
   "id": "ee076c9f",
   "metadata": {
    "ExecuteTime": {
     "end_time": "2024-05-05T07:18:23.847325Z",
     "start_time": "2024-05-05T07:18:23.842509Z"
    }
   },
   "outputs": [
    {
     "name": "stdout",
     "output_type": "stream",
     "text": [
      "Missing Values in data series day-ahead price: 0\n"
     ]
    }
   ],
   "source": [
    "print(f\"Missing Values in data series day-ahead price: {dap_de.isna().sum()}\")"
   ]
  },
  {
   "cell_type": "code",
   "execution_count": 107,
   "id": "c8c21046",
   "metadata": {
    "ExecuteTime": {
     "end_time": "2024-05-05T07:18:24.280935Z",
     "start_time": "2024-05-05T07:18:24.270881Z"
    }
   },
   "outputs": [
    {
     "name": "stdout",
     "output_type": "stream",
     "text": [
      "Missing Values in dataset DE_50Hertz: 20503\n",
      "Missing Values in dataset DE_AMPRION: 20447\n",
      "Missing Values in dataset DE_TENNET: 20689\n",
      "Missing Values in dataset DE_TRANSNET: 22206\n"
     ]
    }
   ],
   "source": [
    "for i in Weather_dict:\n",
    "    print(f\"Missing Values in dataset {i}: {Weather_dict[i].isna().sum().sum()}\")"
   ]
  },
  {
   "cell_type": "code",
   "execution_count": 108,
   "id": "f002ec3e",
   "metadata": {
    "ExecuteTime": {
     "end_time": "2024-05-05T07:18:26.081814Z",
     "start_time": "2024-05-05T07:18:26.048063Z"
    }
   },
   "outputs": [
    {
     "name": "stdout",
     "output_type": "stream",
     "text": [
      "DE_50Hertz\n"
     ]
    },
    {
     "data": {
      "text/html": [
       "<div>\n",
       "<style scoped>\n",
       "    .dataframe tbody tr th:only-of-type {\n",
       "        vertical-align: middle;\n",
       "    }\n",
       "\n",
       "    .dataframe tbody tr th {\n",
       "        vertical-align: top;\n",
       "    }\n",
       "\n",
       "    .dataframe thead th {\n",
       "        text-align: right;\n",
       "    }\n",
       "</style>\n",
       "<table border=\"1\" class=\"dataframe\">\n",
       "  <thead>\n",
       "    <tr style=\"text-align: right;\">\n",
       "      <th></th>\n",
       "      <th>COLUMN NAME</th>\n",
       "      <th>MISSING VALUES</th>\n",
       "      <th>TOTAL ROWS</th>\n",
       "      <th>% MISSING</th>\n",
       "    </tr>\n",
       "  </thead>\n",
       "  <tbody>\n",
       "    <tr>\n",
       "      <th>0</th>\n",
       "      <td>radiation_global</td>\n",
       "      <td>179</td>\n",
       "      <td>80377</td>\n",
       "      <td>0.22</td>\n",
       "    </tr>\n",
       "    <tr>\n",
       "      <th>1</th>\n",
       "      <td>sunshine_duration</td>\n",
       "      <td>20090</td>\n",
       "      <td>80377</td>\n",
       "      <td>24.99</td>\n",
       "    </tr>\n",
       "    <tr>\n",
       "      <th>2</th>\n",
       "      <td>temperature_air_mean_200</td>\n",
       "      <td>23</td>\n",
       "      <td>80377</td>\n",
       "      <td>0.03</td>\n",
       "    </tr>\n",
       "    <tr>\n",
       "      <th>3</th>\n",
       "      <td>temperature_dew_point_mean_200</td>\n",
       "      <td>118</td>\n",
       "      <td>80377</td>\n",
       "      <td>0.15</td>\n",
       "    </tr>\n",
       "    <tr>\n",
       "      <th>4</th>\n",
       "      <td>wind_direction</td>\n",
       "      <td>46</td>\n",
       "      <td>80377</td>\n",
       "      <td>0.06</td>\n",
       "    </tr>\n",
       "    <tr>\n",
       "      <th>5</th>\n",
       "      <td>wind_speed</td>\n",
       "      <td>47</td>\n",
       "      <td>80377</td>\n",
       "      <td>0.06</td>\n",
       "    </tr>\n",
       "  </tbody>\n",
       "</table>\n",
       "</div>"
      ],
      "text/plain": [
       "                      COLUMN NAME  MISSING VALUES  TOTAL ROWS  % MISSING\n",
       "0                radiation_global             179       80377       0.22\n",
       "1               sunshine_duration           20090       80377      24.99\n",
       "2        temperature_air_mean_200              23       80377       0.03\n",
       "3  temperature_dew_point_mean_200             118       80377       0.15\n",
       "4                  wind_direction              46       80377       0.06\n",
       "5                      wind_speed              47       80377       0.06"
      ]
     },
     "metadata": {},
     "output_type": "display_data"
    },
    {
     "name": "stdout",
     "output_type": "stream",
     "text": [
      "DE_AMPRION\n"
     ]
    },
    {
     "data": {
      "text/html": [
       "<div>\n",
       "<style scoped>\n",
       "    .dataframe tbody tr th:only-of-type {\n",
       "        vertical-align: middle;\n",
       "    }\n",
       "\n",
       "    .dataframe tbody tr th {\n",
       "        vertical-align: top;\n",
       "    }\n",
       "\n",
       "    .dataframe thead th {\n",
       "        text-align: right;\n",
       "    }\n",
       "</style>\n",
       "<table border=\"1\" class=\"dataframe\">\n",
       "  <thead>\n",
       "    <tr style=\"text-align: right;\">\n",
       "      <th></th>\n",
       "      <th>COLUMN NAME</th>\n",
       "      <th>MISSING VALUES</th>\n",
       "      <th>TOTAL ROWS</th>\n",
       "      <th>% MISSING</th>\n",
       "    </tr>\n",
       "  </thead>\n",
       "  <tbody>\n",
       "    <tr>\n",
       "      <th>0</th>\n",
       "      <td>radiation_global</td>\n",
       "      <td>126</td>\n",
       "      <td>80377</td>\n",
       "      <td>0.16</td>\n",
       "    </tr>\n",
       "    <tr>\n",
       "      <th>1</th>\n",
       "      <td>sunshine_duration</td>\n",
       "      <td>20218</td>\n",
       "      <td>80377</td>\n",
       "      <td>25.15</td>\n",
       "    </tr>\n",
       "    <tr>\n",
       "      <th>2</th>\n",
       "      <td>temperature_air_mean_200</td>\n",
       "      <td>4</td>\n",
       "      <td>80377</td>\n",
       "      <td>0.00</td>\n",
       "    </tr>\n",
       "    <tr>\n",
       "      <th>3</th>\n",
       "      <td>temperature_dew_point_mean_200</td>\n",
       "      <td>8</td>\n",
       "      <td>80377</td>\n",
       "      <td>0.01</td>\n",
       "    </tr>\n",
       "    <tr>\n",
       "      <th>4</th>\n",
       "      <td>wind_direction</td>\n",
       "      <td>8</td>\n",
       "      <td>80377</td>\n",
       "      <td>0.01</td>\n",
       "    </tr>\n",
       "    <tr>\n",
       "      <th>5</th>\n",
       "      <td>wind_speed</td>\n",
       "      <td>83</td>\n",
       "      <td>80377</td>\n",
       "      <td>0.10</td>\n",
       "    </tr>\n",
       "  </tbody>\n",
       "</table>\n",
       "</div>"
      ],
      "text/plain": [
       "                      COLUMN NAME  MISSING VALUES  TOTAL ROWS  % MISSING\n",
       "0                radiation_global             126       80377       0.16\n",
       "1               sunshine_duration           20218       80377      25.15\n",
       "2        temperature_air_mean_200               4       80377       0.00\n",
       "3  temperature_dew_point_mean_200               8       80377       0.01\n",
       "4                  wind_direction               8       80377       0.01\n",
       "5                      wind_speed              83       80377       0.10"
      ]
     },
     "metadata": {},
     "output_type": "display_data"
    },
    {
     "name": "stdout",
     "output_type": "stream",
     "text": [
      "DE_TENNET\n"
     ]
    },
    {
     "data": {
      "text/html": [
       "<div>\n",
       "<style scoped>\n",
       "    .dataframe tbody tr th:only-of-type {\n",
       "        vertical-align: middle;\n",
       "    }\n",
       "\n",
       "    .dataframe tbody tr th {\n",
       "        vertical-align: top;\n",
       "    }\n",
       "\n",
       "    .dataframe thead th {\n",
       "        text-align: right;\n",
       "    }\n",
       "</style>\n",
       "<table border=\"1\" class=\"dataframe\">\n",
       "  <thead>\n",
       "    <tr style=\"text-align: right;\">\n",
       "      <th></th>\n",
       "      <th>COLUMN NAME</th>\n",
       "      <th>MISSING VALUES</th>\n",
       "      <th>TOTAL ROWS</th>\n",
       "      <th>% MISSING</th>\n",
       "    </tr>\n",
       "  </thead>\n",
       "  <tbody>\n",
       "    <tr>\n",
       "      <th>0</th>\n",
       "      <td>radiation_global</td>\n",
       "      <td>98</td>\n",
       "      <td>80377</td>\n",
       "      <td>0.12</td>\n",
       "    </tr>\n",
       "    <tr>\n",
       "      <th>1</th>\n",
       "      <td>sunshine_duration</td>\n",
       "      <td>20214</td>\n",
       "      <td>80377</td>\n",
       "      <td>25.15</td>\n",
       "    </tr>\n",
       "    <tr>\n",
       "      <th>2</th>\n",
       "      <td>temperature_air_mean_200</td>\n",
       "      <td>0</td>\n",
       "      <td>80377</td>\n",
       "      <td>0.00</td>\n",
       "    </tr>\n",
       "    <tr>\n",
       "      <th>3</th>\n",
       "      <td>temperature_dew_point_mean_200</td>\n",
       "      <td>0</td>\n",
       "      <td>80377</td>\n",
       "      <td>0.00</td>\n",
       "    </tr>\n",
       "    <tr>\n",
       "      <th>4</th>\n",
       "      <td>wind_direction</td>\n",
       "      <td>186</td>\n",
       "      <td>80377</td>\n",
       "      <td>0.23</td>\n",
       "    </tr>\n",
       "    <tr>\n",
       "      <th>5</th>\n",
       "      <td>wind_speed</td>\n",
       "      <td>191</td>\n",
       "      <td>80377</td>\n",
       "      <td>0.24</td>\n",
       "    </tr>\n",
       "  </tbody>\n",
       "</table>\n",
       "</div>"
      ],
      "text/plain": [
       "                      COLUMN NAME  MISSING VALUES  TOTAL ROWS  % MISSING\n",
       "0                radiation_global              98       80377       0.12\n",
       "1               sunshine_duration           20214       80377      25.15\n",
       "2        temperature_air_mean_200               0       80377       0.00\n",
       "3  temperature_dew_point_mean_200               0       80377       0.00\n",
       "4                  wind_direction             186       80377       0.23\n",
       "5                      wind_speed             191       80377       0.24"
      ]
     },
     "metadata": {},
     "output_type": "display_data"
    },
    {
     "name": "stdout",
     "output_type": "stream",
     "text": [
      "DE_TRANSNET\n"
     ]
    },
    {
     "data": {
      "text/html": [
       "<div>\n",
       "<style scoped>\n",
       "    .dataframe tbody tr th:only-of-type {\n",
       "        vertical-align: middle;\n",
       "    }\n",
       "\n",
       "    .dataframe tbody tr th {\n",
       "        vertical-align: top;\n",
       "    }\n",
       "\n",
       "    .dataframe thead th {\n",
       "        text-align: right;\n",
       "    }\n",
       "</style>\n",
       "<table border=\"1\" class=\"dataframe\">\n",
       "  <thead>\n",
       "    <tr style=\"text-align: right;\">\n",
       "      <th></th>\n",
       "      <th>COLUMN NAME</th>\n",
       "      <th>MISSING VALUES</th>\n",
       "      <th>TOTAL ROWS</th>\n",
       "      <th>% MISSING</th>\n",
       "    </tr>\n",
       "  </thead>\n",
       "  <tbody>\n",
       "    <tr>\n",
       "      <th>0</th>\n",
       "      <td>radiation_global</td>\n",
       "      <td>143</td>\n",
       "      <td>80377</td>\n",
       "      <td>0.18</td>\n",
       "    </tr>\n",
       "    <tr>\n",
       "      <th>1</th>\n",
       "      <td>sunshine_duration</td>\n",
       "      <td>21595</td>\n",
       "      <td>80377</td>\n",
       "      <td>26.87</td>\n",
       "    </tr>\n",
       "    <tr>\n",
       "      <th>2</th>\n",
       "      <td>temperature_air_mean_200</td>\n",
       "      <td>80</td>\n",
       "      <td>80377</td>\n",
       "      <td>0.10</td>\n",
       "    </tr>\n",
       "    <tr>\n",
       "      <th>3</th>\n",
       "      <td>temperature_dew_point_mean_200</td>\n",
       "      <td>148</td>\n",
       "      <td>80377</td>\n",
       "      <td>0.18</td>\n",
       "    </tr>\n",
       "    <tr>\n",
       "      <th>4</th>\n",
       "      <td>wind_direction</td>\n",
       "      <td>114</td>\n",
       "      <td>80377</td>\n",
       "      <td>0.14</td>\n",
       "    </tr>\n",
       "    <tr>\n",
       "      <th>5</th>\n",
       "      <td>wind_speed</td>\n",
       "      <td>126</td>\n",
       "      <td>80377</td>\n",
       "      <td>0.16</td>\n",
       "    </tr>\n",
       "  </tbody>\n",
       "</table>\n",
       "</div>"
      ],
      "text/plain": [
       "                      COLUMN NAME  MISSING VALUES  TOTAL ROWS  % MISSING\n",
       "0                radiation_global             143       80377       0.18\n",
       "1               sunshine_duration           21595       80377      26.87\n",
       "2        temperature_air_mean_200              80       80377       0.10\n",
       "3  temperature_dew_point_mean_200             148       80377       0.18\n",
       "4                  wind_direction             114       80377       0.14\n",
       "5                      wind_speed             126       80377       0.16"
      ]
     },
     "metadata": {},
     "output_type": "display_data"
    }
   ],
   "source": [
    "def missing_statistics(df):    \n",
    "    statitics = pd.DataFrame(df.isnull().sum()).reset_index()\n",
    "    statitics.columns=['COLUMN NAME',\"MISSING VALUES\"]\n",
    "    statitics['TOTAL ROWS'] = df.shape[0]\n",
    "    statitics['% MISSING'] = round((statitics['MISSING VALUES']/statitics['TOTAL ROWS'])*100,2)\n",
    "    return statitics\n",
    "for i in Weather_dict:\n",
    "    print(i)\n",
    "    display(missing_statistics(Weather_dict[i]))"
   ]
  },
  {
   "cell_type": "code",
   "execution_count": 109,
   "id": "73ef50bb",
   "metadata": {
    "ExecuteTime": {
     "end_time": "2024-05-05T07:18:29.286330Z",
     "start_time": "2024-05-05T07:18:28.926432Z"
    }
   },
   "outputs": [
    {
     "data": {
      "image/png": "[encoded data removed]",
      "text/plain": [
       "<Figure size 1500x800 with 4 Axes>"
      ]
     },
     "metadata": {},
     "output_type": "display_data"
    }
   ],
   "source": [
    "\n",
    "fig, axs = plt.subplots(2, 2, figsize=(15, 8)) \n",
    "fig.tight_layout(pad=4.0)\n",
    "axs = axs.flatten()\n",
    "\n",
    "for idx, i in enumerate(Weather_dict):\n",
    "    slice_TimeAndSunshineDuration = Weather_dict[i][[\"sunshine_duration\"]]\n",
    "    nan_counts_by_hour = slice_TimeAndSunshineDuration.groupby(slice_TimeAndSunshineDuration.index.hour)['sunshine_duration'].apply(lambda x: x.isnull().sum())\n",
    "    nan_counts_df = nan_counts_by_hour.reset_index()\n",
    "    nan_counts_df.columns = ['Hour of the Day', 'NaN Count']\n",
    "    axs[idx].bar(nan_counts_df['Hour of the Day'], nan_counts_df['NaN Count'], color='skyblue')\n",
    "    axs[idx].set_title(f'Count of NaN Values in Sunshine Duration by Hour of the Day ({i})')\n",
    "    axs[idx].set_xlabel('Hour of the Day')\n",
    "    axs[idx].set_ylabel('NaN Count')\n",
    "    axs[idx].set_xticks(nan_counts_df['Hour of the Day'])\n",
    "    axs[idx].grid(axis='y', linestyle='--', alpha=0.7)\n",
    "\n",
    "plt.show()"
   ]
  },
  {
   "cell_type": "markdown",
   "id": "9f5b7687",
   "metadata": {},
   "source": [
    "## Replace  na in sunshine_duration in hours 22 to 04 with 0"
   ]
  },
  {
   "cell_type": "code",
   "execution_count": 110,
   "id": "0d4c442e",
   "metadata": {
    "ExecuteTime": {
     "end_time": "2024-05-05T07:18:31.898752Z",
     "start_time": "2024-05-05T07:18:31.380565Z"
    }
   },
   "outputs": [
    {
     "data": {
      "image/png": "[encoded data removed]",
      "text/plain": [
       "<Figure size 1500x800 with 4 Axes>"
      ]
     },
     "metadata": {},
     "output_type": "display_data"
    }
   ],
   "source": [
    "## Replace  na in sunshine_duration in hours 22 to 04 with 0\n",
    "for i in Weather_dict:\n",
    "    old_sunshine_duration_na = Weather_dict[i].isna().sum()['sunshine_duration']\n",
    "    Weather_dict[i].loc[((Weather_dict[i].index.hour == 22) | (Weather_dict[i].index.hour == 23) | \n",
    "       (Weather_dict[i].index.hour == 0) | (Weather_dict[i].index.hour == 1) | \n",
    "       (Weather_dict[i].index.hour == 2) | (Weather_dict[i].index.hour == 3) | \n",
    "       (Weather_dict[i].index.hour == 4)), 'sunshine_duration'] = Weather_dict[i].loc[((Weather_dict[i].index.hour == 22) | (Weather_dict[i].index.hour == 23) | \n",
    "                                                                                       (Weather_dict[i].index.hour == 0) | (Weather_dict[i].index.hour == 1) | \n",
    "                                                                                       (Weather_dict[i].index.hour == 2) | (Weather_dict[i].index.hour == 3) | \n",
    "                                                                                       (Weather_dict[i].index.hour == 4)), 'sunshine_duration'].fillna(0) \n",
    "\n",
    "fig, axs = plt.subplots(2, 2, figsize=(15, 8)) \n",
    "fig.tight_layout(pad=4.0)\n",
    "axs = axs.flatten()\n",
    "\n",
    "for idx, i in enumerate(Weather_dict):\n",
    "    slice_TimeAndSunshineDuration = Weather_dict[i][[\"sunshine_duration\"]]\n",
    "    nan_counts_by_hour = slice_TimeAndSunshineDuration.groupby(slice_TimeAndSunshineDuration.index.hour)['sunshine_duration'].apply(lambda x: x.isnull().sum())\n",
    "    nan_counts_df = nan_counts_by_hour.reset_index()\n",
    "    nan_counts_df.columns = ['Hour of the Day', 'NaN Count']\n",
    "    axs[idx].bar(nan_counts_df['Hour of the Day'], nan_counts_df['NaN Count'], color='skyblue')\n",
    "    axs[idx].set_title(f'Count of NaN Values in Sunshine Duration by Hour of the Day ({i})')\n",
    "    axs[idx].set_xlabel('Hour of the Day')\n",
    "    axs[idx].set_ylabel('NaN Count')\n",
    "    axs[idx].set_xticks(nan_counts_df['Hour of the Day'])\n",
    "    axs[idx].grid(axis='y', linestyle='--', alpha=0.7)\n",
    "\n",
    "plt.show()"
   ]
  },
  {
   "cell_type": "code",
   "execution_count": 111,
   "id": "fe04d2d9",
   "metadata": {
    "ExecuteTime": {
     "end_time": "2024-05-05T07:18:35.688256Z",
     "start_time": "2024-05-05T07:18:35.657083Z"
    }
   },
   "outputs": [
    {
     "name": "stdout",
     "output_type": "stream",
     "text": [
      "DE_50Hertz\n"
     ]
    },
    {
     "data": {
      "text/html": [
       "<div>\n",
       "<style scoped>\n",
       "    .dataframe tbody tr th:only-of-type {\n",
       "        vertical-align: middle;\n",
       "    }\n",
       "\n",
       "    .dataframe tbody tr th {\n",
       "        vertical-align: top;\n",
       "    }\n",
       "\n",
       "    .dataframe thead th {\n",
       "        text-align: right;\n",
       "    }\n",
       "</style>\n",
       "<table border=\"1\" class=\"dataframe\">\n",
       "  <thead>\n",
       "    <tr style=\"text-align: right;\">\n",
       "      <th></th>\n",
       "      <th>COLUMN NAME</th>\n",
       "      <th>MISSING VALUES</th>\n",
       "      <th>TOTAL ROWS</th>\n",
       "      <th>% MISSING</th>\n",
       "    </tr>\n",
       "  </thead>\n",
       "  <tbody>\n",
       "    <tr>\n",
       "      <th>0</th>\n",
       "      <td>radiation_global</td>\n",
       "      <td>179</td>\n",
       "      <td>80377</td>\n",
       "      <td>0.22</td>\n",
       "    </tr>\n",
       "    <tr>\n",
       "      <th>1</th>\n",
       "      <td>sunshine_duration</td>\n",
       "      <td>168</td>\n",
       "      <td>80377</td>\n",
       "      <td>0.21</td>\n",
       "    </tr>\n",
       "    <tr>\n",
       "      <th>2</th>\n",
       "      <td>temperature_air_mean_200</td>\n",
       "      <td>23</td>\n",
       "      <td>80377</td>\n",
       "      <td>0.03</td>\n",
       "    </tr>\n",
       "    <tr>\n",
       "      <th>3</th>\n",
       "      <td>temperature_dew_point_mean_200</td>\n",
       "      <td>118</td>\n",
       "      <td>80377</td>\n",
       "      <td>0.15</td>\n",
       "    </tr>\n",
       "    <tr>\n",
       "      <th>4</th>\n",
       "      <td>wind_direction</td>\n",
       "      <td>46</td>\n",
       "      <td>80377</td>\n",
       "      <td>0.06</td>\n",
       "    </tr>\n",
       "    <tr>\n",
       "      <th>5</th>\n",
       "      <td>wind_speed</td>\n",
       "      <td>47</td>\n",
       "      <td>80377</td>\n",
       "      <td>0.06</td>\n",
       "    </tr>\n",
       "  </tbody>\n",
       "</table>\n",
       "</div>"
      ],
      "text/plain": [
       "                      COLUMN NAME  MISSING VALUES  TOTAL ROWS  % MISSING\n",
       "0                radiation_global             179       80377       0.22\n",
       "1               sunshine_duration             168       80377       0.21\n",
       "2        temperature_air_mean_200              23       80377       0.03\n",
       "3  temperature_dew_point_mean_200             118       80377       0.15\n",
       "4                  wind_direction              46       80377       0.06\n",
       "5                      wind_speed              47       80377       0.06"
      ]
     },
     "metadata": {},
     "output_type": "display_data"
    },
    {
     "name": "stdout",
     "output_type": "stream",
     "text": [
      "DE_AMPRION\n"
     ]
    },
    {
     "data": {
      "text/html": [
       "<div>\n",
       "<style scoped>\n",
       "    .dataframe tbody tr th:only-of-type {\n",
       "        vertical-align: middle;\n",
       "    }\n",
       "\n",
       "    .dataframe tbody tr th {\n",
       "        vertical-align: top;\n",
       "    }\n",
       "\n",
       "    .dataframe thead th {\n",
       "        text-align: right;\n",
       "    }\n",
       "</style>\n",
       "<table border=\"1\" class=\"dataframe\">\n",
       "  <thead>\n",
       "    <tr style=\"text-align: right;\">\n",
       "      <th></th>\n",
       "      <th>COLUMN NAME</th>\n",
       "      <th>MISSING VALUES</th>\n",
       "      <th>TOTAL ROWS</th>\n",
       "      <th>% MISSING</th>\n",
       "    </tr>\n",
       "  </thead>\n",
       "  <tbody>\n",
       "    <tr>\n",
       "      <th>0</th>\n",
       "      <td>radiation_global</td>\n",
       "      <td>126</td>\n",
       "      <td>80377</td>\n",
       "      <td>0.16</td>\n",
       "    </tr>\n",
       "    <tr>\n",
       "      <th>1</th>\n",
       "      <td>sunshine_duration</td>\n",
       "      <td>288</td>\n",
       "      <td>80377</td>\n",
       "      <td>0.36</td>\n",
       "    </tr>\n",
       "    <tr>\n",
       "      <th>2</th>\n",
       "      <td>temperature_air_mean_200</td>\n",
       "      <td>4</td>\n",
       "      <td>80377</td>\n",
       "      <td>0.00</td>\n",
       "    </tr>\n",
       "    <tr>\n",
       "      <th>3</th>\n",
       "      <td>temperature_dew_point_mean_200</td>\n",
       "      <td>8</td>\n",
       "      <td>80377</td>\n",
       "      <td>0.01</td>\n",
       "    </tr>\n",
       "    <tr>\n",
       "      <th>4</th>\n",
       "      <td>wind_direction</td>\n",
       "      <td>8</td>\n",
       "      <td>80377</td>\n",
       "      <td>0.01</td>\n",
       "    </tr>\n",
       "    <tr>\n",
       "      <th>5</th>\n",
       "      <td>wind_speed</td>\n",
       "      <td>83</td>\n",
       "      <td>80377</td>\n",
       "      <td>0.10</td>\n",
       "    </tr>\n",
       "  </tbody>\n",
       "</table>\n",
       "</div>"
      ],
      "text/plain": [
       "                      COLUMN NAME  MISSING VALUES  TOTAL ROWS  % MISSING\n",
       "0                radiation_global             126       80377       0.16\n",
       "1               sunshine_duration             288       80377       0.36\n",
       "2        temperature_air_mean_200               4       80377       0.00\n",
       "3  temperature_dew_point_mean_200               8       80377       0.01\n",
       "4                  wind_direction               8       80377       0.01\n",
       "5                      wind_speed              83       80377       0.10"
      ]
     },
     "metadata": {},
     "output_type": "display_data"
    },
    {
     "name": "stdout",
     "output_type": "stream",
     "text": [
      "DE_TENNET\n"
     ]
    },
    {
     "data": {
      "text/html": [
       "<div>\n",
       "<style scoped>\n",
       "    .dataframe tbody tr th:only-of-type {\n",
       "        vertical-align: middle;\n",
       "    }\n",
       "\n",
       "    .dataframe tbody tr th {\n",
       "        vertical-align: top;\n",
       "    }\n",
       "\n",
       "    .dataframe thead th {\n",
       "        text-align: right;\n",
       "    }\n",
       "</style>\n",
       "<table border=\"1\" class=\"dataframe\">\n",
       "  <thead>\n",
       "    <tr style=\"text-align: right;\">\n",
       "      <th></th>\n",
       "      <th>COLUMN NAME</th>\n",
       "      <th>MISSING VALUES</th>\n",
       "      <th>TOTAL ROWS</th>\n",
       "      <th>% MISSING</th>\n",
       "    </tr>\n",
       "  </thead>\n",
       "  <tbody>\n",
       "    <tr>\n",
       "      <th>0</th>\n",
       "      <td>radiation_global</td>\n",
       "      <td>98</td>\n",
       "      <td>80377</td>\n",
       "      <td>0.12</td>\n",
       "    </tr>\n",
       "    <tr>\n",
       "      <th>1</th>\n",
       "      <td>sunshine_duration</td>\n",
       "      <td>285</td>\n",
       "      <td>80377</td>\n",
       "      <td>0.35</td>\n",
       "    </tr>\n",
       "    <tr>\n",
       "      <th>2</th>\n",
       "      <td>temperature_air_mean_200</td>\n",
       "      <td>0</td>\n",
       "      <td>80377</td>\n",
       "      <td>0.00</td>\n",
       "    </tr>\n",
       "    <tr>\n",
       "      <th>3</th>\n",
       "      <td>temperature_dew_point_mean_200</td>\n",
       "      <td>0</td>\n",
       "      <td>80377</td>\n",
       "      <td>0.00</td>\n",
       "    </tr>\n",
       "    <tr>\n",
       "      <th>4</th>\n",
       "      <td>wind_direction</td>\n",
       "      <td>186</td>\n",
       "      <td>80377</td>\n",
       "      <td>0.23</td>\n",
       "    </tr>\n",
       "    <tr>\n",
       "      <th>5</th>\n",
       "      <td>wind_speed</td>\n",
       "      <td>191</td>\n",
       "      <td>80377</td>\n",
       "      <td>0.24</td>\n",
       "    </tr>\n",
       "  </tbody>\n",
       "</table>\n",
       "</div>"
      ],
      "text/plain": [
       "                      COLUMN NAME  MISSING VALUES  TOTAL ROWS  % MISSING\n",
       "0                radiation_global              98       80377       0.12\n",
       "1               sunshine_duration             285       80377       0.35\n",
       "2        temperature_air_mean_200               0       80377       0.00\n",
       "3  temperature_dew_point_mean_200               0       80377       0.00\n",
       "4                  wind_direction             186       80377       0.23\n",
       "5                      wind_speed             191       80377       0.24"
      ]
     },
     "metadata": {},
     "output_type": "display_data"
    },
    {
     "name": "stdout",
     "output_type": "stream",
     "text": [
      "DE_TRANSNET\n"
     ]
    },
    {
     "data": {
      "text/html": [
       "<div>\n",
       "<style scoped>\n",
       "    .dataframe tbody tr th:only-of-type {\n",
       "        vertical-align: middle;\n",
       "    }\n",
       "\n",
       "    .dataframe tbody tr th {\n",
       "        vertical-align: top;\n",
       "    }\n",
       "\n",
       "    .dataframe thead th {\n",
       "        text-align: right;\n",
       "    }\n",
       "</style>\n",
       "<table border=\"1\" class=\"dataframe\">\n",
       "  <thead>\n",
       "    <tr style=\"text-align: right;\">\n",
       "      <th></th>\n",
       "      <th>COLUMN NAME</th>\n",
       "      <th>MISSING VALUES</th>\n",
       "      <th>TOTAL ROWS</th>\n",
       "      <th>% MISSING</th>\n",
       "    </tr>\n",
       "  </thead>\n",
       "  <tbody>\n",
       "    <tr>\n",
       "      <th>0</th>\n",
       "      <td>radiation_global</td>\n",
       "      <td>143</td>\n",
       "      <td>80377</td>\n",
       "      <td>0.18</td>\n",
       "    </tr>\n",
       "    <tr>\n",
       "      <th>1</th>\n",
       "      <td>sunshine_duration</td>\n",
       "      <td>1587</td>\n",
       "      <td>80377</td>\n",
       "      <td>1.97</td>\n",
       "    </tr>\n",
       "    <tr>\n",
       "      <th>2</th>\n",
       "      <td>temperature_air_mean_200</td>\n",
       "      <td>80</td>\n",
       "      <td>80377</td>\n",
       "      <td>0.10</td>\n",
       "    </tr>\n",
       "    <tr>\n",
       "      <th>3</th>\n",
       "      <td>temperature_dew_point_mean_200</td>\n",
       "      <td>148</td>\n",
       "      <td>80377</td>\n",
       "      <td>0.18</td>\n",
       "    </tr>\n",
       "    <tr>\n",
       "      <th>4</th>\n",
       "      <td>wind_direction</td>\n",
       "      <td>114</td>\n",
       "      <td>80377</td>\n",
       "      <td>0.14</td>\n",
       "    </tr>\n",
       "    <tr>\n",
       "      <th>5</th>\n",
       "      <td>wind_speed</td>\n",
       "      <td>126</td>\n",
       "      <td>80377</td>\n",
       "      <td>0.16</td>\n",
       "    </tr>\n",
       "  </tbody>\n",
       "</table>\n",
       "</div>"
      ],
      "text/plain": [
       "                      COLUMN NAME  MISSING VALUES  TOTAL ROWS  % MISSING\n",
       "0                radiation_global             143       80377       0.18\n",
       "1               sunshine_duration            1587       80377       1.97\n",
       "2        temperature_air_mean_200              80       80377       0.10\n",
       "3  temperature_dew_point_mean_200             148       80377       0.18\n",
       "4                  wind_direction             114       80377       0.14\n",
       "5                      wind_speed             126       80377       0.16"
      ]
     },
     "metadata": {},
     "output_type": "display_data"
    }
   ],
   "source": [
    "for i in Weather_dict:\n",
    "    print(i)\n",
    "    display(missing_statistics(Weather_dict[i]))"
   ]
  },
  {
   "cell_type": "code",
   "execution_count": 66,
   "id": "aece76f3",
   "metadata": {
    "ExecuteTime": {
     "end_time": "2024-05-05T06:10:19.804352Z",
     "start_time": "2024-05-05T06:10:18.519896Z"
    },
    "scrolled": true
   },
   "outputs": [
    {
     "data": {
      "image/png": "[encoded data removed]",
      "text/plain": [
       "<Figure size 1600x300 with 2 Axes>"
      ]
     },
     "metadata": {},
     "output_type": "display_data"
    }
   ],
   "source": [
    "# Function to combine dataframes with prefixes\n",
    "def combine_with_prefixes(dfs):\n",
    "    result = pd.concat(dfs, axis=1)\n",
    "    result.columns = [f\"{df_name}_{col}\" for df_name, df in dfs.items() for col in df.columns]\n",
    "    return result\n",
    "\n",
    "# Combine DataFrames with prefixes\n",
    "df_combined = combine_with_prefixes(Weather_dict)\n",
    "\n",
    "# Find columns with missing values and create 'missingValue' DataFrame\n",
    "missingValue = df_combined.isnull().any()\n",
    "columns_with_na = missingValue[missingValue].index.tolist()\n",
    "missingValue_df = df_combined[columns_with_na]\n",
    "\n",
    "# Transpose the DataFrame to switch rows and columns\n",
    "missingValue_df_transposed = missingValue_df.T\n",
    "\n",
    "# Plot the heatmap\n",
    "plt.figure(figsize=(16, 3))  # Inverse the dimensions for the rotated view\n",
    "\n",
    "colours = ['white', 'red']\n",
    "sns.heatmap(missingValue_df_transposed.isnull(), cmap=sns.color_palette(colours))\n",
    "\n",
    "plt.show()"
   ]
  },
  {
   "cell_type": "markdown",
   "id": "fc0de6ee",
   "metadata": {},
   "source": [
    "## Correlation of weather feature  "
   ]
  },
  {
   "cell_type": "code",
   "execution_count": 119,
   "id": "38cb305d",
   "metadata": {
    "ExecuteTime": {
     "end_time": "2024-05-05T08:15:05.115257Z",
     "start_time": "2024-05-05T08:15:05.057511Z"
    }
   },
   "outputs": [
    {
     "name": "stdout",
     "output_type": "stream",
     "text": [
      "radiation_global\n"
     ]
    },
    {
     "data": {
      "text/html": [
       "<div>\n",
       "<style scoped>\n",
       "    .dataframe tbody tr th:only-of-type {\n",
       "        vertical-align: middle;\n",
       "    }\n",
       "\n",
       "    .dataframe tbody tr th {\n",
       "        vertical-align: top;\n",
       "    }\n",
       "\n",
       "    .dataframe thead th {\n",
       "        text-align: right;\n",
       "    }\n",
       "</style>\n",
       "<table border=\"1\" class=\"dataframe\">\n",
       "  <thead>\n",
       "    <tr style=\"text-align: right;\">\n",
       "      <th></th>\n",
       "      <th>DE_50Hertz</th>\n",
       "      <th>DE_AMPRION</th>\n",
       "      <th>DE_TENNET</th>\n",
       "      <th>DE_TRANSNET</th>\n",
       "    </tr>\n",
       "  </thead>\n",
       "  <tbody>\n",
       "    <tr>\n",
       "      <th>DE_50Hertz</th>\n",
       "      <td>1.000000</td>\n",
       "      <td>0.843037</td>\n",
       "      <td>0.865537</td>\n",
       "      <td>0.826506</td>\n",
       "    </tr>\n",
       "    <tr>\n",
       "      <th>DE_AMPRION</th>\n",
       "      <td>0.843037</td>\n",
       "      <td>1.000000</td>\n",
       "      <td>0.889693</td>\n",
       "      <td>0.878400</td>\n",
       "    </tr>\n",
       "    <tr>\n",
       "      <th>DE_TENNET</th>\n",
       "      <td>0.865537</td>\n",
       "      <td>0.889693</td>\n",
       "      <td>1.000000</td>\n",
       "      <td>0.885040</td>\n",
       "    </tr>\n",
       "    <tr>\n",
       "      <th>DE_TRANSNET</th>\n",
       "      <td>0.826506</td>\n",
       "      <td>0.878400</td>\n",
       "      <td>0.885040</td>\n",
       "      <td>1.000000</td>\n",
       "    </tr>\n",
       "  </tbody>\n",
       "</table>\n",
       "</div>"
      ],
      "text/plain": [
       "             DE_50Hertz  DE_AMPRION  DE_TENNET  DE_TRANSNET\n",
       "DE_50Hertz     1.000000    0.843037   0.865537     0.826506\n",
       "DE_AMPRION     0.843037    1.000000   0.889693     0.878400\n",
       "DE_TENNET      0.865537    0.889693   1.000000     0.885040\n",
       "DE_TRANSNET    0.826506    0.878400   0.885040     1.000000"
      ]
     },
     "metadata": {},
     "output_type": "display_data"
    },
    {
     "name": "stdout",
     "output_type": "stream",
     "text": [
      "sunshine_duration\n"
     ]
    },
    {
     "data": {
      "text/html": [
       "<div>\n",
       "<style scoped>\n",
       "    .dataframe tbody tr th:only-of-type {\n",
       "        vertical-align: middle;\n",
       "    }\n",
       "\n",
       "    .dataframe tbody tr th {\n",
       "        vertical-align: top;\n",
       "    }\n",
       "\n",
       "    .dataframe thead th {\n",
       "        text-align: right;\n",
       "    }\n",
       "</style>\n",
       "<table border=\"1\" class=\"dataframe\">\n",
       "  <thead>\n",
       "    <tr style=\"text-align: right;\">\n",
       "      <th></th>\n",
       "      <th>DE_50Hertz</th>\n",
       "      <th>DE_AMPRION</th>\n",
       "      <th>DE_TENNET</th>\n",
       "      <th>DE_TRANSNET</th>\n",
       "    </tr>\n",
       "  </thead>\n",
       "  <tbody>\n",
       "    <tr>\n",
       "      <th>DE_50Hertz</th>\n",
       "      <td>1.000000</td>\n",
       "      <td>0.576790</td>\n",
       "      <td>0.638070</td>\n",
       "      <td>0.539422</td>\n",
       "    </tr>\n",
       "    <tr>\n",
       "      <th>DE_AMPRION</th>\n",
       "      <td>0.576790</td>\n",
       "      <td>1.000000</td>\n",
       "      <td>0.713909</td>\n",
       "      <td>0.672147</td>\n",
       "    </tr>\n",
       "    <tr>\n",
       "      <th>DE_TENNET</th>\n",
       "      <td>0.638070</td>\n",
       "      <td>0.713909</td>\n",
       "      <td>1.000000</td>\n",
       "      <td>0.679948</td>\n",
       "    </tr>\n",
       "    <tr>\n",
       "      <th>DE_TRANSNET</th>\n",
       "      <td>0.539422</td>\n",
       "      <td>0.672147</td>\n",
       "      <td>0.679948</td>\n",
       "      <td>1.000000</td>\n",
       "    </tr>\n",
       "  </tbody>\n",
       "</table>\n",
       "</div>"
      ],
      "text/plain": [
       "             DE_50Hertz  DE_AMPRION  DE_TENNET  DE_TRANSNET\n",
       "DE_50Hertz     1.000000    0.576790   0.638070     0.539422\n",
       "DE_AMPRION     0.576790    1.000000   0.713909     0.672147\n",
       "DE_TENNET      0.638070    0.713909   1.000000     0.679948\n",
       "DE_TRANSNET    0.539422    0.672147   0.679948     1.000000"
      ]
     },
     "metadata": {},
     "output_type": "display_data"
    },
    {
     "name": "stdout",
     "output_type": "stream",
     "text": [
      "temperature_air_mean_200\n"
     ]
    },
    {
     "data": {
      "text/html": [
       "<div>\n",
       "<style scoped>\n",
       "    .dataframe tbody tr th:only-of-type {\n",
       "        vertical-align: middle;\n",
       "    }\n",
       "\n",
       "    .dataframe tbody tr th {\n",
       "        vertical-align: top;\n",
       "    }\n",
       "\n",
       "    .dataframe thead th {\n",
       "        text-align: right;\n",
       "    }\n",
       "</style>\n",
       "<table border=\"1\" class=\"dataframe\">\n",
       "  <thead>\n",
       "    <tr style=\"text-align: right;\">\n",
       "      <th></th>\n",
       "      <th>DE_50Hertz</th>\n",
       "      <th>DE_AMPRION</th>\n",
       "      <th>DE_TENNET</th>\n",
       "      <th>DE_TRANSNET</th>\n",
       "    </tr>\n",
       "  </thead>\n",
       "  <tbody>\n",
       "    <tr>\n",
       "      <th>DE_50Hertz</th>\n",
       "      <td>1.000000</td>\n",
       "      <td>0.916534</td>\n",
       "      <td>0.938684</td>\n",
       "      <td>0.905001</td>\n",
       "    </tr>\n",
       "    <tr>\n",
       "      <th>DE_AMPRION</th>\n",
       "      <td>0.916534</td>\n",
       "      <td>1.000000</td>\n",
       "      <td>0.951931</td>\n",
       "      <td>0.947076</td>\n",
       "    </tr>\n",
       "    <tr>\n",
       "      <th>DE_TENNET</th>\n",
       "      <td>0.938684</td>\n",
       "      <td>0.951931</td>\n",
       "      <td>1.000000</td>\n",
       "      <td>0.955681</td>\n",
       "    </tr>\n",
       "    <tr>\n",
       "      <th>DE_TRANSNET</th>\n",
       "      <td>0.905001</td>\n",
       "      <td>0.947076</td>\n",
       "      <td>0.955681</td>\n",
       "      <td>1.000000</td>\n",
       "    </tr>\n",
       "  </tbody>\n",
       "</table>\n",
       "</div>"
      ],
      "text/plain": [
       "             DE_50Hertz  DE_AMPRION  DE_TENNET  DE_TRANSNET\n",
       "DE_50Hertz     1.000000    0.916534   0.938684     0.905001\n",
       "DE_AMPRION     0.916534    1.000000   0.951931     0.947076\n",
       "DE_TENNET      0.938684    0.951931   1.000000     0.955681\n",
       "DE_TRANSNET    0.905001    0.947076   0.955681     1.000000"
      ]
     },
     "metadata": {},
     "output_type": "display_data"
    },
    {
     "name": "stdout",
     "output_type": "stream",
     "text": [
      "temperature_dew_point_mean_200\n"
     ]
    },
    {
     "data": {
      "text/html": [
       "<div>\n",
       "<style scoped>\n",
       "    .dataframe tbody tr th:only-of-type {\n",
       "        vertical-align: middle;\n",
       "    }\n",
       "\n",
       "    .dataframe tbody tr th {\n",
       "        vertical-align: top;\n",
       "    }\n",
       "\n",
       "    .dataframe thead th {\n",
       "        text-align: right;\n",
       "    }\n",
       "</style>\n",
       "<table border=\"1\" class=\"dataframe\">\n",
       "  <thead>\n",
       "    <tr style=\"text-align: right;\">\n",
       "      <th></th>\n",
       "      <th>DE_50Hertz</th>\n",
       "      <th>DE_AMPRION</th>\n",
       "      <th>DE_TENNET</th>\n",
       "      <th>DE_TRANSNET</th>\n",
       "    </tr>\n",
       "  </thead>\n",
       "  <tbody>\n",
       "    <tr>\n",
       "      <th>DE_50Hertz</th>\n",
       "      <td>1.000000</td>\n",
       "      <td>0.842231</td>\n",
       "      <td>0.885478</td>\n",
       "      <td>0.827510</td>\n",
       "    </tr>\n",
       "    <tr>\n",
       "      <th>DE_AMPRION</th>\n",
       "      <td>0.842231</td>\n",
       "      <td>1.000000</td>\n",
       "      <td>0.932125</td>\n",
       "      <td>0.912462</td>\n",
       "    </tr>\n",
       "    <tr>\n",
       "      <th>DE_TENNET</th>\n",
       "      <td>0.885478</td>\n",
       "      <td>0.932125</td>\n",
       "      <td>1.000000</td>\n",
       "      <td>0.920495</td>\n",
       "    </tr>\n",
       "    <tr>\n",
       "      <th>DE_TRANSNET</th>\n",
       "      <td>0.827510</td>\n",
       "      <td>0.912462</td>\n",
       "      <td>0.920495</td>\n",
       "      <td>1.000000</td>\n",
       "    </tr>\n",
       "  </tbody>\n",
       "</table>\n",
       "</div>"
      ],
      "text/plain": [
       "             DE_50Hertz  DE_AMPRION  DE_TENNET  DE_TRANSNET\n",
       "DE_50Hertz     1.000000    0.842231   0.885478     0.827510\n",
       "DE_AMPRION     0.842231    1.000000   0.932125     0.912462\n",
       "DE_TENNET      0.885478    0.932125   1.000000     0.920495\n",
       "DE_TRANSNET    0.827510    0.912462   0.920495     1.000000"
      ]
     },
     "metadata": {},
     "output_type": "display_data"
    },
    {
     "name": "stdout",
     "output_type": "stream",
     "text": [
      "wind_direction\n"
     ]
    },
    {
     "data": {
      "text/html": [
       "<div>\n",
       "<style scoped>\n",
       "    .dataframe tbody tr th:only-of-type {\n",
       "        vertical-align: middle;\n",
       "    }\n",
       "\n",
       "    .dataframe tbody tr th {\n",
       "        vertical-align: top;\n",
       "    }\n",
       "\n",
       "    .dataframe thead th {\n",
       "        text-align: right;\n",
       "    }\n",
       "</style>\n",
       "<table border=\"1\" class=\"dataframe\">\n",
       "  <thead>\n",
       "    <tr style=\"text-align: right;\">\n",
       "      <th></th>\n",
       "      <th>DE_50Hertz</th>\n",
       "      <th>DE_AMPRION</th>\n",
       "      <th>DE_TENNET</th>\n",
       "      <th>DE_TRANSNET</th>\n",
       "    </tr>\n",
       "  </thead>\n",
       "  <tbody>\n",
       "    <tr>\n",
       "      <th>DE_50Hertz</th>\n",
       "      <td>1.000000</td>\n",
       "      <td>0.202833</td>\n",
       "      <td>0.317530</td>\n",
       "      <td>0.077668</td>\n",
       "    </tr>\n",
       "    <tr>\n",
       "      <th>DE_AMPRION</th>\n",
       "      <td>0.202833</td>\n",
       "      <td>1.000000</td>\n",
       "      <td>0.270202</td>\n",
       "      <td>0.312899</td>\n",
       "    </tr>\n",
       "    <tr>\n",
       "      <th>DE_TENNET</th>\n",
       "      <td>0.317530</td>\n",
       "      <td>0.270202</td>\n",
       "      <td>1.000000</td>\n",
       "      <td>0.133268</td>\n",
       "    </tr>\n",
       "    <tr>\n",
       "      <th>DE_TRANSNET</th>\n",
       "      <td>0.077668</td>\n",
       "      <td>0.312899</td>\n",
       "      <td>0.133268</td>\n",
       "      <td>1.000000</td>\n",
       "    </tr>\n",
       "  </tbody>\n",
       "</table>\n",
       "</div>"
      ],
      "text/plain": [
       "             DE_50Hertz  DE_AMPRION  DE_TENNET  DE_TRANSNET\n",
       "DE_50Hertz     1.000000    0.202833   0.317530     0.077668\n",
       "DE_AMPRION     0.202833    1.000000   0.270202     0.312899\n",
       "DE_TENNET      0.317530    0.270202   1.000000     0.133268\n",
       "DE_TRANSNET    0.077668    0.312899   0.133268     1.000000"
      ]
     },
     "metadata": {},
     "output_type": "display_data"
    },
    {
     "name": "stdout",
     "output_type": "stream",
     "text": [
      "wind_speed\n"
     ]
    },
    {
     "data": {
      "text/html": [
       "<div>\n",
       "<style scoped>\n",
       "    .dataframe tbody tr th:only-of-type {\n",
       "        vertical-align: middle;\n",
       "    }\n",
       "\n",
       "    .dataframe tbody tr th {\n",
       "        vertical-align: top;\n",
       "    }\n",
       "\n",
       "    .dataframe thead th {\n",
       "        text-align: right;\n",
       "    }\n",
       "</style>\n",
       "<table border=\"1\" class=\"dataframe\">\n",
       "  <thead>\n",
       "    <tr style=\"text-align: right;\">\n",
       "      <th></th>\n",
       "      <th>DE_50Hertz</th>\n",
       "      <th>DE_AMPRION</th>\n",
       "      <th>DE_TENNET</th>\n",
       "      <th>DE_TRANSNET</th>\n",
       "    </tr>\n",
       "  </thead>\n",
       "  <tbody>\n",
       "    <tr>\n",
       "      <th>DE_50Hertz</th>\n",
       "      <td>1.000000</td>\n",
       "      <td>0.314107</td>\n",
       "      <td>0.469481</td>\n",
       "      <td>0.259566</td>\n",
       "    </tr>\n",
       "    <tr>\n",
       "      <th>DE_AMPRION</th>\n",
       "      <td>0.314107</td>\n",
       "      <td>1.000000</td>\n",
       "      <td>0.549454</td>\n",
       "      <td>0.578915</td>\n",
       "    </tr>\n",
       "    <tr>\n",
       "      <th>DE_TENNET</th>\n",
       "      <td>0.469481</td>\n",
       "      <td>0.549454</td>\n",
       "      <td>1.000000</td>\n",
       "      <td>0.524702</td>\n",
       "    </tr>\n",
       "    <tr>\n",
       "      <th>DE_TRANSNET</th>\n",
       "      <td>0.259566</td>\n",
       "      <td>0.578915</td>\n",
       "      <td>0.524702</td>\n",
       "      <td>1.000000</td>\n",
       "    </tr>\n",
       "  </tbody>\n",
       "</table>\n",
       "</div>"
      ],
      "text/plain": [
       "             DE_50Hertz  DE_AMPRION  DE_TENNET  DE_TRANSNET\n",
       "DE_50Hertz     1.000000    0.314107   0.469481     0.259566\n",
       "DE_AMPRION     0.314107    1.000000   0.549454     0.578915\n",
       "DE_TENNET      0.469481    0.549454   1.000000     0.524702\n",
       "DE_TRANSNET    0.259566    0.578915   0.524702     1.000000"
      ]
     },
     "metadata": {},
     "output_type": "display_data"
    }
   ],
   "source": [
    "correlation_dict = {}\n",
    "for feature in Weather_dict[\"DE_50Hertz\"].columns:\n",
    "    combined_df = pd.DataFrame({\n",
    "        'DE_50Hertz': Weather_dict[\"DE_50Hertz\"][feature],\n",
    "        'DE_AMPRION': Weather_dict[\"DE_AMPRION\"][feature],\n",
    "        'DE_TENNET': Weather_dict[\"DE_TENNET\"][feature],\n",
    "        'DE_TRANSNET': Weather_dict[\"DE_TRANSNET\"][feature]\n",
    "    })\n",
    "    correlation_matrix = combined_df.corr()\n",
    "    correlation_dict[feature] = correlation_matrix\n",
    "for i in correlation_dict:\n",
    "    print(i)\n",
    "    display(correlation_dict[i])"
   ]
  },
  {
   "cell_type": "markdown",
   "id": "e35f5a95",
   "metadata": {},
   "source": [
    "#### Imputation with pd.interpolate"
   ]
  },
  {
   "cell_type": "code",
   "execution_count": 118,
   "id": "a9b1a0eb",
   "metadata": {
    "ExecuteTime": {
     "end_time": "2024-05-05T07:51:56.809065Z",
     "start_time": "2024-05-05T07:51:56.804112Z"
    }
   },
   "outputs": [
    {
     "data": {
      "text/plain": [
       "Index(['radiation_global', 'sunshine_duration', 'temperature_air_mean_200',\n",
       "       'temperature_dew_point_mean_200', 'wind_direction', 'wind_speed'],\n",
       "      dtype='object')"
      ]
     },
     "execution_count": 118,
     "metadata": {},
     "output_type": "execute_result"
    }
   ],
   "source": [
    "Weather_dict[\"DE_50Hertz\"].columns\n",
    "    "
   ]
  },
  {
   "cell_type": "code",
   "execution_count": 93,
   "id": "2db643de",
   "metadata": {
    "ExecuteTime": {
     "end_time": "2024-05-05T06:37:31.342408Z",
     "start_time": "2024-05-05T06:37:30.786984Z"
    }
   },
   "outputs": [
    {
     "name": "stdout",
     "output_type": "stream",
     "text": [
      "581\n",
      "116\n",
      "0.8003442340791739\n",
      "517\n",
      "2\n",
      "0.9961315280464217\n",
      "760\n",
      "245\n",
      "0.6776315789473684\n",
      "2198\n",
      "122\n",
      "0.9444949954504095\n"
     ]
    }
   ],
   "source": [
    "#based on ML_Python_Lazzeri\n",
    "\n",
    "for i in Weather_dict:\n",
    "    y = Weather_dict[i]\n",
    "    na_before_interpolation = y.isna().sum().sum()\n",
    "    print(y.isna().sum().sum())\n",
    "    na_after_interpolation = y.interpolate(limit = 12 , method = 'cubic', limit_direction = 'both').isna().sum().sum()\n",
    "    print(y.interpolate(limit = 12 , method = 'cubic', limit_direction = 'both').isna().sum().sum())\n",
    "    print(1 - na_after_interpolation/na_before_interpolation)\n",
    "    Weather_dict[i] = Weather_dict[i].interpolate(limit = 12 , method = 'cubic', limit_direction = 'both')\n",
    "    "
   ]
  },
  {
   "cell_type": "markdown",
   "id": "63e74ac5",
   "metadata": {},
   "source": [
    "#### Fill leftover missing values with mean of other 3 data set "
   ]
  },
  {
   "cell_type": "code",
   "execution_count": 94,
   "id": "6b872466",
   "metadata": {
    "ExecuteTime": {
     "end_time": "2024-05-05T06:37:51.638280Z",
     "start_time": "2024-05-05T06:37:51.586334Z"
    }
   },
   "outputs": [],
   "source": [
    "def fill_missing_with_cross_mean(weather_dict):\n",
    "    for df_name, df in weather_dict.items():\n",
    "        for col in df.columns:\n",
    "            missing_idx = df[col].isnull()    \n",
    "            other_dfs = {name: other_df[col] for name, other_df in weather_dict.items() if name != df_name}\n",
    "            mean_from_others = pd.concat(other_dfs, axis=1).loc[missing_idx].mean(axis=1)\n",
    "            df.loc[missing_idx, col] = mean_from_others\n",
    "    return weather_dict\n",
    "\n",
    "Weather_dict = fill_missing_with_cross_mean(Weather_dict)\n",
    "\n"
   ]
  },
  {
   "cell_type": "code",
   "execution_count": 115,
   "id": "45e77dae",
   "metadata": {
    "ExecuteTime": {
     "end_time": "2024-05-05T07:50:16.273131Z",
     "start_time": "2024-05-05T07:50:16.244808Z"
    }
   },
   "outputs": [
    {
     "data": {
      "text/plain": [
       "{'DE_50Hertz':                            radiation_global  sunshine_duration  \\\n",
       " date                                                             \n",
       " 2014-12-31 01:00:00+01:00               0.0                0.0   \n",
       " 2014-12-31 02:00:00+01:00               0.0                0.0   \n",
       " 2014-12-31 03:00:00+01:00               0.0                0.0   \n",
       " 2014-12-31 04:00:00+01:00               0.0                0.0   \n",
       " 2014-12-31 05:00:00+01:00               0.0                0.0   \n",
       " ...                                     ...                ...   \n",
       " 2024-03-01 21:00:00+01:00               0.0                0.0   \n",
       " 2024-03-01 22:00:00+01:00               0.0                0.0   \n",
       " 2024-03-01 23:00:00+01:00               0.0                0.0   \n",
       " 2024-03-02 00:00:00+01:00               0.0                0.0   \n",
       " 2024-03-02 01:00:00+01:00               0.0                0.0   \n",
       " \n",
       "                            temperature_air_mean_200  \\\n",
       " date                                                  \n",
       " 2014-12-31 01:00:00+01:00                    273.85   \n",
       " 2014-12-31 02:00:00+01:00                    273.85   \n",
       " 2014-12-31 03:00:00+01:00                    274.15   \n",
       " 2014-12-31 04:00:00+01:00                    274.35   \n",
       " 2014-12-31 05:00:00+01:00                    274.35   \n",
       " ...                                             ...   \n",
       " 2024-03-01 21:00:00+01:00                    279.55   \n",
       " 2024-03-01 22:00:00+01:00                    279.75   \n",
       " 2024-03-01 23:00:00+01:00                    279.55   \n",
       " 2024-03-02 00:00:00+01:00                    279.85   \n",
       " 2024-03-02 01:00:00+01:00                    279.65   \n",
       " \n",
       "                            temperature_dew_point_mean_200  wind_direction  \\\n",
       " date                                                                        \n",
       " 2014-12-31 01:00:00+01:00                          273.75           250.0   \n",
       " 2014-12-31 02:00:00+01:00                          273.75           250.0   \n",
       " 2014-12-31 03:00:00+01:00                          274.05           250.0   \n",
       " 2014-12-31 04:00:00+01:00                          274.25           260.0   \n",
       " 2014-12-31 05:00:00+01:00                          274.25           250.0   \n",
       " ...                                                   ...             ...   \n",
       " 2024-03-01 21:00:00+01:00                          278.55           130.0   \n",
       " 2024-03-01 22:00:00+01:00                          278.65           160.0   \n",
       " 2024-03-01 23:00:00+01:00                          278.55           120.0   \n",
       " 2024-03-02 00:00:00+01:00                          278.65           130.0   \n",
       " 2024-03-02 01:00:00+01:00                          278.65           120.0   \n",
       " \n",
       "                            wind_speed  \n",
       " date                                   \n",
       " 2014-12-31 01:00:00+01:00         4.0  \n",
       " 2014-12-31 02:00:00+01:00         4.2  \n",
       " 2014-12-31 03:00:00+01:00         4.2  \n",
       " 2014-12-31 04:00:00+01:00         4.3  \n",
       " 2014-12-31 05:00:00+01:00         4.5  \n",
       " ...                               ...  \n",
       " 2024-03-01 21:00:00+01:00         2.9  \n",
       " 2024-03-01 22:00:00+01:00         2.1  \n",
       " 2024-03-01 23:00:00+01:00         3.6  \n",
       " 2024-03-02 00:00:00+01:00         2.4  \n",
       " 2024-03-02 01:00:00+01:00         3.1  \n",
       " \n",
       " [80377 rows x 6 columns],\n",
       " 'DE_AMPRION':                            radiation_global  sunshine_duration  \\\n",
       " date                                                             \n",
       " 2014-12-31 01:00:00+01:00               0.0                0.0   \n",
       " 2014-12-31 02:00:00+01:00               0.0                0.0   \n",
       " 2014-12-31 03:00:00+01:00               0.0                0.0   \n",
       " 2014-12-31 04:00:00+01:00               0.0                0.0   \n",
       " 2014-12-31 05:00:00+01:00               0.0                0.0   \n",
       " ...                                     ...                ...   \n",
       " 2024-03-01 21:00:00+01:00               0.0                0.0   \n",
       " 2024-03-01 22:00:00+01:00               0.0                0.0   \n",
       " 2024-03-01 23:00:00+01:00               0.0                0.0   \n",
       " 2024-03-02 00:00:00+01:00               0.0                0.0   \n",
       " 2024-03-02 01:00:00+01:00               0.0                0.0   \n",
       " \n",
       "                            temperature_air_mean_200  \\\n",
       " date                                                  \n",
       " 2014-12-31 01:00:00+01:00                    272.85   \n",
       " 2014-12-31 02:00:00+01:00                    272.95   \n",
       " 2014-12-31 03:00:00+01:00                    272.85   \n",
       " 2014-12-31 04:00:00+01:00                    272.85   \n",
       " 2014-12-31 05:00:00+01:00                    272.85   \n",
       " ...                                             ...   \n",
       " 2024-03-01 21:00:00+01:00                    278.85   \n",
       " 2024-03-01 22:00:00+01:00                    278.25   \n",
       " 2024-03-01 23:00:00+01:00                    278.15   \n",
       " 2024-03-02 00:00:00+01:00                    278.65   \n",
       " 2024-03-02 01:00:00+01:00                    278.45   \n",
       " \n",
       "                            temperature_dew_point_mean_200  wind_direction  \\\n",
       " date                                                                        \n",
       " 2014-12-31 01:00:00+01:00                          272.55           270.0   \n",
       " 2014-12-31 02:00:00+01:00                          272.65           270.0   \n",
       " 2014-12-31 03:00:00+01:00                          272.55           260.0   \n",
       " 2014-12-31 04:00:00+01:00                          272.55           240.0   \n",
       " 2014-12-31 05:00:00+01:00                          272.65           230.0   \n",
       " ...                                                   ...             ...   \n",
       " 2024-03-01 21:00:00+01:00                          276.05           120.0   \n",
       " 2024-03-01 22:00:00+01:00                          275.75            80.0   \n",
       " 2024-03-01 23:00:00+01:00                          275.65            80.0   \n",
       " 2024-03-02 00:00:00+01:00                          275.65            80.0   \n",
       " 2024-03-02 01:00:00+01:00                          275.65            80.0   \n",
       " \n",
       "                            wind_speed  \n",
       " date                                   \n",
       " 2014-12-31 01:00:00+01:00         2.5  \n",
       " 2014-12-31 02:00:00+01:00         1.9  \n",
       " 2014-12-31 03:00:00+01:00         1.7  \n",
       " 2014-12-31 04:00:00+01:00         1.7  \n",
       " 2014-12-31 05:00:00+01:00         1.7  \n",
       " ...                               ...  \n",
       " 2024-03-01 21:00:00+01:00         2.7  \n",
       " 2024-03-01 22:00:00+01:00         1.6  \n",
       " 2024-03-01 23:00:00+01:00         1.6  \n",
       " 2024-03-02 00:00:00+01:00         1.8  \n",
       " 2024-03-02 01:00:00+01:00         1.5  \n",
       " \n",
       " [80377 rows x 6 columns],\n",
       " 'DE_TENNET':                            radiation_global  sunshine_duration  \\\n",
       " date                                                             \n",
       " 2014-12-31 01:00:00+01:00               0.0                0.0   \n",
       " 2014-12-31 02:00:00+01:00               0.0                0.0   \n",
       " 2014-12-31 03:00:00+01:00               0.0                0.0   \n",
       " 2014-12-31 04:00:00+01:00               0.0                0.0   \n",
       " 2014-12-31 05:00:00+01:00               0.0                0.0   \n",
       " ...                                     ...                ...   \n",
       " 2024-03-01 21:00:00+01:00               0.0                0.0   \n",
       " 2024-03-01 22:00:00+01:00               0.0                0.0   \n",
       " 2024-03-01 23:00:00+01:00               0.0                0.0   \n",
       " 2024-03-02 00:00:00+01:00               0.0                0.0   \n",
       " 2024-03-02 01:00:00+01:00               0.0                0.0   \n",
       " \n",
       "                            temperature_air_mean_200  \\\n",
       " date                                                  \n",
       " 2014-12-31 01:00:00+01:00                    273.55   \n",
       " 2014-12-31 02:00:00+01:00                    273.05   \n",
       " 2014-12-31 03:00:00+01:00                    273.35   \n",
       " 2014-12-31 04:00:00+01:00                    273.25   \n",
       " 2014-12-31 05:00:00+01:00                    273.25   \n",
       " ...                                             ...   \n",
       " 2024-03-01 21:00:00+01:00                    280.35   \n",
       " 2024-03-01 22:00:00+01:00                    279.85   \n",
       " 2024-03-01 23:00:00+01:00                    279.55   \n",
       " 2024-03-02 00:00:00+01:00                    279.05   \n",
       " 2024-03-02 01:00:00+01:00                    278.65   \n",
       " \n",
       "                            temperature_dew_point_mean_200  wind_direction  \\\n",
       " date                                                                        \n",
       " 2014-12-31 01:00:00+01:00                          273.15           290.0   \n",
       " 2014-12-31 02:00:00+01:00                          272.75           260.0   \n",
       " 2014-12-31 03:00:00+01:00                          272.95           260.0   \n",
       " 2014-12-31 04:00:00+01:00                          272.55           290.0   \n",
       " 2014-12-31 05:00:00+01:00                          272.65           300.0   \n",
       " ...                                                   ...             ...   \n",
       " 2024-03-01 21:00:00+01:00                          277.35           110.0   \n",
       " 2024-03-01 22:00:00+01:00                          277.55            90.0   \n",
       " 2024-03-01 23:00:00+01:00                          277.45           100.0   \n",
       " 2024-03-02 00:00:00+01:00                          277.55           100.0   \n",
       " 2024-03-02 01:00:00+01:00                          277.75           100.0   \n",
       " \n",
       "                            wind_speed  \n",
       " date                                   \n",
       " 2014-12-31 01:00:00+01:00         2.3  \n",
       " 2014-12-31 02:00:00+01:00         1.2  \n",
       " 2014-12-31 03:00:00+01:00         2.2  \n",
       " 2014-12-31 04:00:00+01:00         2.5  \n",
       " 2014-12-31 05:00:00+01:00         1.8  \n",
       " ...                               ...  \n",
       " 2024-03-01 21:00:00+01:00         1.5  \n",
       " 2024-03-01 22:00:00+01:00         2.3  \n",
       " 2024-03-01 23:00:00+01:00         2.7  \n",
       " 2024-03-02 00:00:00+01:00         3.3  \n",
       " 2024-03-02 01:00:00+01:00         3.2  \n",
       " \n",
       " [80377 rows x 6 columns],\n",
       " 'DE_TRANSNET':                            radiation_global  sunshine_duration  \\\n",
       " date                                                             \n",
       " 2014-12-31 01:00:00+01:00               0.0                0.0   \n",
       " 2014-12-31 02:00:00+01:00               0.0                0.0   \n",
       " 2014-12-31 03:00:00+01:00               0.0                0.0   \n",
       " 2014-12-31 04:00:00+01:00               0.0                0.0   \n",
       " 2014-12-31 05:00:00+01:00               0.0                0.0   \n",
       " ...                                     ...                ...   \n",
       " 2024-03-01 21:00:00+01:00               0.0                0.0   \n",
       " 2024-03-01 22:00:00+01:00               0.0                0.0   \n",
       " 2024-03-01 23:00:00+01:00               0.0                0.0   \n",
       " 2024-03-02 00:00:00+01:00               0.0                0.0   \n",
       " 2024-03-02 01:00:00+01:00               0.0                0.0   \n",
       " \n",
       "                            temperature_air_mean_200  \\\n",
       " date                                                  \n",
       " 2014-12-31 01:00:00+01:00                    272.05   \n",
       " 2014-12-31 02:00:00+01:00                    272.05   \n",
       " 2014-12-31 03:00:00+01:00                    271.95   \n",
       " 2014-12-31 04:00:00+01:00                    271.65   \n",
       " 2014-12-31 05:00:00+01:00                    271.55   \n",
       " ...                                             ...   \n",
       " 2024-03-01 21:00:00+01:00                    278.55   \n",
       " 2024-03-01 22:00:00+01:00                    277.65   \n",
       " 2024-03-01 23:00:00+01:00                    277.25   \n",
       " 2024-03-02 00:00:00+01:00                    277.75   \n",
       " 2024-03-02 01:00:00+01:00                    277.65   \n",
       " \n",
       "                            temperature_dew_point_mean_200  wind_direction  \\\n",
       " date                                                                        \n",
       " 2014-12-31 01:00:00+01:00                          271.25           270.0   \n",
       " 2014-12-31 02:00:00+01:00                          271.25           280.0   \n",
       " 2014-12-31 03:00:00+01:00                          271.25           290.0   \n",
       " 2014-12-31 04:00:00+01:00                          270.95           290.0   \n",
       " 2014-12-31 05:00:00+01:00                          270.95           280.0   \n",
       " ...                                                   ...             ...   \n",
       " 2024-03-01 21:00:00+01:00                          277.65            80.0   \n",
       " 2024-03-01 22:00:00+01:00                          277.05            50.0   \n",
       " 2024-03-01 23:00:00+01:00                          276.65            50.0   \n",
       " 2024-03-02 00:00:00+01:00                          277.15            70.0   \n",
       " 2024-03-02 01:00:00+01:00                          277.15            10.0   \n",
       " \n",
       "                            wind_speed  \n",
       " date                                   \n",
       " 2014-12-31 01:00:00+01:00         1.8  \n",
       " 2014-12-31 02:00:00+01:00         2.1  \n",
       " 2014-12-31 03:00:00+01:00         2.1  \n",
       " 2014-12-31 04:00:00+01:00         1.8  \n",
       " 2014-12-31 05:00:00+01:00         2.0  \n",
       " ...                               ...  \n",
       " 2024-03-01 21:00:00+01:00         1.4  \n",
       " 2024-03-01 22:00:00+01:00         0.8  \n",
       " 2024-03-01 23:00:00+01:00         1.0  \n",
       " 2024-03-02 00:00:00+01:00         2.0  \n",
       " 2024-03-02 01:00:00+01:00         1.6  \n",
       " \n",
       " [80377 rows x 6 columns]}"
      ]
     },
     "execution_count": 115,
     "metadata": {},
     "output_type": "execute_result"
    }
   ],
   "source": [
    "Weather_dict"
   ]
  },
  {
   "cell_type": "markdown",
   "id": "15152815",
   "metadata": {},
   "source": [
    "#### correlation matrices for all weather feature in all 4 TSO zones"
   ]
  },
  {
   "cell_type": "markdown",
   "id": "48135295",
   "metadata": {},
   "source": [
    "#### replace missing value that exist after interpolation by mean of other datasets"
   ]
  },
  {
   "cell_type": "markdown",
   "id": "0b917824",
   "metadata": {},
   "source": [
    "## Calculate Carbon intensity for each TSO zone"
   ]
  },
  {
   "cell_type": "markdown",
   "id": "c3201f3d",
   "metadata": {},
   "source": [
    "#### Carbon emission factors"
   ]
  },
  {
   "cell_type": "code",
   "execution_count": 96,
   "id": "5981b507",
   "metadata": {
    "ExecuteTime": {
     "end_time": "2024-05-05T06:38:51.489724Z",
     "start_time": "2024-05-05T06:38:51.485154Z"
    }
   },
   "outputs": [],
   "source": [
    "#source1:  https://www.ipcc.ch/site/assets/uploads/2018/02/ipcc_wg3_ar5_annex-iii.pdf#page=7\n",
    "#source2: https://www.volker-quaschning.de/datserv/CO2-spez/index_e.php\n",
    "#source3: https://app.electricitymap.org/zone/DE\n",
    "#source4: https://www.sciencedirect.com/science/article/pii/S2211467X19300549\n",
    "#source5: https://github.com/electricityMap/electricitymap-contrib/wiki/Emission-factors\n",
    "\n",
    "#emission in kgCO2eq/MWh resp. gCO2eq/kwh (median value)\n",
    "Co2_intensity={\"Biomass\" : 230,\n",
    "\"Fossil Brown coal/Lignite\" : 966, #source2\n",
    "\"Fossil Coal-derived gas\" : 1401, #https://arxiv.org/pdf/2110.07999.pdf, https://www.sciencedirect.com/science/article/pii/S0196890419307496?casa_token=RUR54mu8iKEAAAAA:cZjmcuxK79vyQAm87Y2wDcV9TkzOmWgPNPsAGgkMHw7BYzrOPJp51bkNNEXF03zCRcU0WerWHWs\n",
    "\"Fossil Gas\" : 490,\n",
    "\"Fossil Hard coal\" : 820,\n",
    "\"Fossil Oil\" : 650, #Source3\n",
    "\"Geothermal\" : 38 , #source3\n",
    "\"Hydro Pumped Storage\" : 281,\n",
    "\"Hydro Run-of-river and poundage\" : 24,\n",
    "\"Hydro Water Reservoir\" : 24,\n",
    "\"Nuclear\" : 12,\n",
    "\"Other\" : 700,\n",
    "\"Other renewable\" : 100 ,\n",
    "\"Solar\" : 45,\n",
    "\"Waste\" : 700,\n",
    "\"Wind Offshore\" : 12,\n",
    "\"Wind Onshore\" : 11\n",
    "}"
   ]
  },
  {
   "cell_type": "markdown",
   "id": "35216932",
   "metadata": {},
   "source": [
    "extend df by carbon intensity, total generation, total emisions"
   ]
  },
  {
   "cell_type": "code",
   "execution_count": 97,
   "id": "68860f86",
   "metadata": {
    "ExecuteTime": {
     "end_time": "2024-05-05T07:10:21.418758Z",
     "start_time": "2024-05-05T07:10:21.405783Z"
    }
   },
   "outputs": [],
   "source": [
    "# Define function for extracting generation columns\n",
    "def get_CO2_emission_per_generation(df):\n",
    "    valid_co2_dict = {k: Co2_intensity[k] for k in df.columns if k in Co2_intensity}\n",
    "    co2_factors = pd.DataFrame(index=df.index, columns=df.columns)\n",
    "    for key, value in valid_co2_dict.items():\n",
    "        co2_factors[key] = value\n",
    "    emissionDF = df.mul(co2_factors, axis=0)\n",
    "    return emissionDF\n",
    "# Define Function to assign carbon intensity, total emissions, total generation\n",
    "def extent_df_by_CI_TG_TE(df): # extend df by carbon intensity, total generation, total emisions\n",
    "    df_emission_in_kgCO2eq = get_CO2_emission_per_generation(df)\n",
    "    total_CO2_Emission = df_emission_in_kgCO2eq.sum(axis=1)\n",
    "    total_generation = df.sum(axis=1)\n",
    "    df.insert(0,\"Total_Generation\", total_generation)\n",
    "    df.insert(0,\"Total_Emissions_in_kg\", total_CO2_Emission)\n",
    "    df.insert(0,\"CO2_intensity_in_gCO2_per_KWh\", total_CO2_Emission/total_generation)\n",
    "    return df"
   ]
  },
  {
   "cell_type": "code",
   "execution_count": 99,
   "id": "f6c939b5",
   "metadata": {
    "ExecuteTime": {
     "end_time": "2024-05-05T07:11:12.284698Z",
     "start_time": "2024-05-05T07:11:12.160761Z"
    },
    "scrolled": true
   },
   "outputs": [
    {
     "ename": "ValueError",
     "evalue": "cannot insert Total_Generation, already exists",
     "output_type": "error",
     "traceback": [
      "\u001b[0;31m---------------------------------------------------------------------------\u001b[0m",
      "\u001b[0;31mValueError\u001b[0m                                Traceback (most recent call last)",
      "\u001b[0;32m/var/folders/5g/lvwxyq7s561_kx52v96mb3dh0000gn/T/ipykernel_11227/221076886.py\u001b[0m in \u001b[0;36m?\u001b[0;34m()\u001b[0m\n\u001b[1;32m      1\u001b[0m \u001b[0;31m# Assign columns to each dataframe\u001b[0m\u001b[0;34m\u001b[0m\u001b[0;34m\u001b[0m\u001b[0m\n\u001b[1;32m      2\u001b[0m \u001b[0;32mfor\u001b[0m \u001b[0mi\u001b[0m \u001b[0;32min\u001b[0m \u001b[0mTSO_dict\u001b[0m\u001b[0;34m:\u001b[0m\u001b[0;34m\u001b[0m\u001b[0;34m\u001b[0m\u001b[0m\n\u001b[1;32m      3\u001b[0m     \u001b[0;31m#display(i.head())\u001b[0m\u001b[0;34m\u001b[0m\u001b[0;34m\u001b[0m\u001b[0m\n\u001b[0;32m----> 4\u001b[0;31m     \u001b[0mi\u001b[0m \u001b[0;34m=\u001b[0m \u001b[0mextent_df_by_CI_TG_TE\u001b[0m\u001b[0;34m(\u001b[0m\u001b[0mTSO_dict\u001b[0m\u001b[0;34m[\u001b[0m\u001b[0mi\u001b[0m\u001b[0;34m]\u001b[0m\u001b[0;34m)\u001b[0m\u001b[0;34m\u001b[0m\u001b[0;34m\u001b[0m\u001b[0m\n\u001b[0m\u001b[1;32m      5\u001b[0m     \u001b[0;31m#i[\"CO2_intensity_in_gCO2_per_KWh\"].plot()\u001b[0m\u001b[0;34m\u001b[0m\u001b[0;34m\u001b[0m\u001b[0m\n\u001b[1;32m      6\u001b[0m     \u001b[0;31m#plt.show()\u001b[0m\u001b[0;34m\u001b[0m\u001b[0;34m\u001b[0m\u001b[0m\n",
      "\u001b[0;32m/var/folders/5g/lvwxyq7s561_kx52v96mb3dh0000gn/T/ipykernel_11227/1958598567.py\u001b[0m in \u001b[0;36m?\u001b[0;34m(df)\u001b[0m\n\u001b[1;32m     10\u001b[0m \u001b[0;32mdef\u001b[0m \u001b[0mextent_df_by_CI_TG_TE\u001b[0m\u001b[0;34m(\u001b[0m\u001b[0mdf\u001b[0m\u001b[0;34m)\u001b[0m\u001b[0;34m:\u001b[0m \u001b[0;31m# extend df by carbon intensity, total generation, total emisions\u001b[0m\u001b[0;34m\u001b[0m\u001b[0;34m\u001b[0m\u001b[0m\n\u001b[1;32m     11\u001b[0m     \u001b[0mdf_emission_in_kgCO2eq\u001b[0m \u001b[0;34m=\u001b[0m \u001b[0mget_CO2_emission_per_generation\u001b[0m\u001b[0;34m(\u001b[0m\u001b[0mdf\u001b[0m\u001b[0;34m)\u001b[0m\u001b[0;34m\u001b[0m\u001b[0;34m\u001b[0m\u001b[0m\n\u001b[1;32m     12\u001b[0m     \u001b[0mtotal_CO2_Emission\u001b[0m \u001b[0;34m=\u001b[0m \u001b[0mdf_emission_in_kgCO2eq\u001b[0m\u001b[0;34m.\u001b[0m\u001b[0msum\u001b[0m\u001b[0;34m(\u001b[0m\u001b[0maxis\u001b[0m\u001b[0;34m=\u001b[0m\u001b[0;36m1\u001b[0m\u001b[0;34m)\u001b[0m\u001b[0;34m\u001b[0m\u001b[0;34m\u001b[0m\u001b[0m\n\u001b[1;32m     13\u001b[0m     \u001b[0mtotal_generation\u001b[0m \u001b[0;34m=\u001b[0m \u001b[0mdf\u001b[0m\u001b[0;34m.\u001b[0m\u001b[0msum\u001b[0m\u001b[0;34m(\u001b[0m\u001b[0maxis\u001b[0m\u001b[0;34m=\u001b[0m\u001b[0;36m1\u001b[0m\u001b[0;34m)\u001b[0m\u001b[0;34m\u001b[0m\u001b[0;34m\u001b[0m\u001b[0m\n\u001b[0;32m---> 14\u001b[0;31m     \u001b[0mdf\u001b[0m\u001b[0;34m.\u001b[0m\u001b[0minsert\u001b[0m\u001b[0;34m(\u001b[0m\u001b[0;36m0\u001b[0m\u001b[0;34m,\u001b[0m\u001b[0;34m\"Total_Generation\"\u001b[0m\u001b[0;34m,\u001b[0m \u001b[0mtotal_generation\u001b[0m\u001b[0;34m)\u001b[0m\u001b[0;34m\u001b[0m\u001b[0;34m\u001b[0m\u001b[0m\n\u001b[0m\u001b[1;32m     15\u001b[0m     \u001b[0mdf\u001b[0m\u001b[0;34m.\u001b[0m\u001b[0minsert\u001b[0m\u001b[0;34m(\u001b[0m\u001b[0;36m0\u001b[0m\u001b[0;34m,\u001b[0m\u001b[0;34m\"Total_Emissions_in_kg\"\u001b[0m\u001b[0;34m,\u001b[0m \u001b[0mtotal_CO2_Emission\u001b[0m\u001b[0;34m)\u001b[0m\u001b[0;34m\u001b[0m\u001b[0;34m\u001b[0m\u001b[0m\n\u001b[1;32m     16\u001b[0m     \u001b[0mdf\u001b[0m\u001b[0;34m.\u001b[0m\u001b[0minsert\u001b[0m\u001b[0;34m(\u001b[0m\u001b[0;36m0\u001b[0m\u001b[0;34m,\u001b[0m\u001b[0;34m\"CO2_intensity_in_gCO2_per_KWh\"\u001b[0m\u001b[0;34m,\u001b[0m \u001b[0mtotal_CO2_Emission\u001b[0m\u001b[0;34m/\u001b[0m\u001b[0mtotal_generation\u001b[0m\u001b[0;34m)\u001b[0m\u001b[0;34m\u001b[0m\u001b[0;34m\u001b[0m\u001b[0m\n\u001b[1;32m     17\u001b[0m     \u001b[0;32mreturn\u001b[0m \u001b[0mdf\u001b[0m\u001b[0;34m\u001b[0m\u001b[0;34m\u001b[0m\u001b[0m\n",
      "\u001b[0;32m~/anaconda3/envs/230821TestEntsoe/lib/python3.11/site-packages/pandas/core/frame.py\u001b[0m in \u001b[0;36m?\u001b[0;34m(self, loc, column, value, allow_duplicates)\u001b[0m\n\u001b[1;32m   5141\u001b[0m                 \u001b[0;34m\"'self.flags.allows_duplicate_labels' is False.\"\u001b[0m\u001b[0;34m\u001b[0m\u001b[0;34m\u001b[0m\u001b[0m\n\u001b[1;32m   5142\u001b[0m             )\n\u001b[1;32m   5143\u001b[0m         \u001b[0;32mif\u001b[0m \u001b[0;32mnot\u001b[0m \u001b[0mallow_duplicates\u001b[0m \u001b[0;32mand\u001b[0m \u001b[0mcolumn\u001b[0m \u001b[0;32min\u001b[0m \u001b[0mself\u001b[0m\u001b[0;34m.\u001b[0m\u001b[0mcolumns\u001b[0m\u001b[0;34m:\u001b[0m\u001b[0;34m\u001b[0m\u001b[0;34m\u001b[0m\u001b[0m\n\u001b[1;32m   5144\u001b[0m             \u001b[0;31m# Should this be a different kind of error??\u001b[0m\u001b[0;34m\u001b[0m\u001b[0;34m\u001b[0m\u001b[0m\n\u001b[0;32m-> 5145\u001b[0;31m             \u001b[0;32mraise\u001b[0m \u001b[0mValueError\u001b[0m\u001b[0;34m(\u001b[0m\u001b[0;34mf\"cannot insert {column}, already exists\"\u001b[0m\u001b[0;34m)\u001b[0m\u001b[0;34m\u001b[0m\u001b[0;34m\u001b[0m\u001b[0m\n\u001b[0m\u001b[1;32m   5146\u001b[0m         \u001b[0;32mif\u001b[0m \u001b[0;32mnot\u001b[0m \u001b[0mis_integer\u001b[0m\u001b[0;34m(\u001b[0m\u001b[0mloc\u001b[0m\u001b[0;34m)\u001b[0m\u001b[0;34m:\u001b[0m\u001b[0;34m\u001b[0m\u001b[0;34m\u001b[0m\u001b[0m\n\u001b[1;32m   5147\u001b[0m             \u001b[0;32mraise\u001b[0m \u001b[0mTypeError\u001b[0m\u001b[0;34m(\u001b[0m\u001b[0;34m\"loc must be int\"\u001b[0m\u001b[0;34m)\u001b[0m\u001b[0;34m\u001b[0m\u001b[0;34m\u001b[0m\u001b[0m\n\u001b[1;32m   5148\u001b[0m         \u001b[0;31m# convert non stdlib ints to satisfy typing checks\u001b[0m\u001b[0;34m\u001b[0m\u001b[0;34m\u001b[0m\u001b[0m\n",
      "\u001b[0;31mValueError\u001b[0m: cannot insert Total_Generation, already exists"
     ]
    }
   ],
   "source": [
    "# Assign columns to each dataframe\n",
    "for i in TSO_dict:\n",
    "    #display(i.head())\n",
    "    i = extent_df_by_CI_TG_TE(TSO_dict[i])\n",
    "    #i[\"CO2_intensity_in_gCO2_per_KWh\"].plot()\n",
    "    #plt.show()"
   ]
  },
  {
   "cell_type": "markdown",
   "id": "f38cbe2e",
   "metadata": {},
   "source": [
    "## concatenate TSO data, day-ahead price, weather data"
   ]
  },
  {
   "cell_type": "code",
   "execution_count": 100,
   "id": "8b544ff2",
   "metadata": {
    "ExecuteTime": {
     "end_time": "2024-05-05T07:11:24.544248Z",
     "start_time": "2024-05-05T07:11:24.466346Z"
    }
   },
   "outputs": [],
   "source": [
    "for i in TSO_dict:\n",
    "    TSO_dict[i][\"day_ahead_price\"] = dap_de\n",
    "    TSO_dict[i] = pd.merge(TSO_dict[i],Weather_dict[i], how='inner', left_index=True, right_index=True)\n"
   ]
  },
  {
   "cell_type": "code",
   "execution_count": 102,
   "id": "a3561e21",
   "metadata": {
    "ExecuteTime": {
     "end_time": "2024-05-05T07:11:29.667014Z",
     "start_time": "2024-05-05T07:11:29.614983Z"
    }
   },
   "outputs": [
    {
     "name": "stdout",
     "output_type": "stream",
     "text": [
      "0\n",
      "0\n",
      "0\n",
      "0\n"
     ]
    }
   ],
   "source": [
    "for i in TSO_dict:\n",
    "    TSO_dict[i].dropna(inplace=True)\n",
    "    print(TSO_dict[i].isna().sum().sum())"
   ]
  },
  {
   "cell_type": "code",
   "execution_count": 103,
   "id": "7a1d275b",
   "metadata": {
    "ExecuteTime": {
     "end_time": "2024-05-05T07:11:53.161084Z",
     "start_time": "2024-05-05T07:11:53.152761Z"
    }
   },
   "outputs": [
    {
     "data": {
      "text/plain": [
       "Index(['CO2_intensity_in_gCO2_per_KWh', 'Total_Emissions_in_kg',\n",
       "       'Total_Generation', 'Biomass', 'Fossil Gas', 'Fossil Hard coal',\n",
       "       'Fossil Oil', 'Hydro Pumped Storage', 'Hydro Run-of-river and poundage',\n",
       "       'Hydro Water Reservoir', 'Nuclear', 'Other', 'Other renewable', 'Solar',\n",
       "       'Waste', 'Wind Onshore', 'day_ahead_price', 'radiation_global',\n",
       "       'sunshine_duration', 'temperature_air_mean_200',\n",
       "       'temperature_dew_point_mean_200', 'wind_direction', 'wind_speed'],\n",
       "      dtype='object')"
      ]
     },
     "execution_count": 103,
     "metadata": {},
     "output_type": "execute_result"
    }
   ],
   "source": [
    "TSO_dict[\"DE_TRANSNET\"].columns"
   ]
  },
  {
   "cell_type": "code",
   "execution_count": 306,
   "id": "40058ae8",
   "metadata": {
    "ExecuteTime": {
     "end_time": "2024-04-27T22:31:43.868998Z",
     "start_time": "2024-04-27T22:31:43.864812Z"
    }
   },
   "outputs": [
    {
     "data": {
      "text/plain": [
       "Index(['CO2_intensity_in_gCO2_per_KWh', 'Total_Emissions_in_kg',\n",
       "       'Total_Generation', 'Biomass', 'Fossil Brown coal/Lignite',\n",
       "       'Fossil Gas', 'Fossil Hard coal', 'Fossil Oil', 'Geothermal',\n",
       "       'Hydro Pumped Storage', 'Hydro Run-of-river and poundage', 'Other',\n",
       "       'Other renewable', 'Solar', 'Waste', 'Wind Offshore', 'Wind Onshore',\n",
       "       'day_ahead_price', 'cloud_cover_total', 'radiation_global',\n",
       "       'sunshine_duration', 'temperature_air_mean_200',\n",
       "       'temperature_dew_point_mean_200', 'visibility_range', 'wind_direction',\n",
       "       'wind_speed'],\n",
       "      dtype='object')"
      ]
     },
     "execution_count": 306,
     "metadata": {},
     "output_type": "execute_result"
    }
   ],
   "source": [
    "TSO_dict['DE_50Hertz'].columns"
   ]
  },
  {
   "cell_type": "code",
   "execution_count": 307,
   "id": "7179e339",
   "metadata": {
    "ExecuteTime": {
     "end_time": "2024-04-27T22:31:45.343592Z",
     "start_time": "2024-04-27T22:31:45.339876Z"
    }
   },
   "outputs": [
    {
     "name": "stdout",
     "output_type": "stream",
     "text": [
      "26\n",
      "28\n",
      "28\n",
      "25\n"
     ]
    }
   ],
   "source": [
    "for i in TSO_dict:\n",
    "    print(len(TSO_dict[i].columns))"
   ]
  },
  {
   "cell_type": "markdown",
   "id": "f5c8d168",
   "metadata": {},
   "source": [
    "# Feature Engineering"
   ]
  },
  {
   "cell_type": "code",
   "execution_count": 308,
   "id": "bd63fddd",
   "metadata": {
    "ExecuteTime": {
     "end_time": "2024-04-27T22:31:46.557879Z",
     "start_time": "2024-04-27T22:31:46.554792Z"
    }
   },
   "outputs": [],
   "source": [
    "from sklearn.preprocessing import FunctionTransformer"
   ]
  },
  {
   "cell_type": "code",
   "execution_count": 309,
   "id": "6eec3e37",
   "metadata": {
    "ExecuteTime": {
     "end_time": "2024-04-27T22:31:46.970305Z",
     "start_time": "2024-04-27T22:31:46.954929Z"
    }
   },
   "outputs": [],
   "source": [
    "def sin_transformer(period):\n",
    "    return FunctionTransformer(lambda x: np.sin(x / period * 2 * np.pi))\n",
    "def cos_transformer(period):\n",
    "    return FunctionTransformer(lambda x: np.cos(x / period * 2 * np.pi))\n",
    "\n",
    "# DateTime Features\n",
    "def add_date_time_feature(df):\n",
    "    df['hour']       = df.index.hour.astype(str).astype(\"category\")\n",
    "    df['quarter']    = df.index.quarter.astype(str).astype(\"category\")\n",
    "    df['month']      = df.index.month.astype(str).astype(\"category\")\n",
    "    df['year']       = df.index.year.astype(str).astype(\"category\")\n",
    "    df['dayofweek']  = df.index.dayofweek.astype(str).astype(\"category\")\n",
    "    df['dayofyear']  = df.index.dayofyear.astype(str).astype(\"category\")\n",
    "    df['dayofmonth'] = df.index.day.astype(str).astype(\"category\")\n",
    "\n",
    "\n",
    "\n",
    "    df[\"sin_day\"] = sin_transformer(7).fit_transform(df.index.dayofweek)\n",
    "    df[\"cos_day\"] = cos_transformer(7).fit_transform(df.index.dayofweek)\n",
    "\n",
    "    df[\"sin_hour_of_day\"] = sin_transformer(24).fit_transform(df.index.hour)\n",
    "    df[\"cos_hour_of_ay\"] = cos_transformer(24).fit_transform(df.index.hour)\n",
    "\n",
    "    df[\"sin_day\"] = sin_transformer(356).fit_transform(df.index.day_of_year)\n",
    "    df[\"cos_day\"] = cos_transformer(365).fit_transform(df.index.day_of_year)\n",
    "    return df"
   ]
  },
  {
   "cell_type": "code",
   "execution_count": 310,
   "id": "0d565719",
   "metadata": {
    "ExecuteTime": {
     "end_time": "2024-04-27T22:31:48.098080Z",
     "start_time": "2024-04-27T22:31:47.663479Z"
    }
   },
   "outputs": [],
   "source": [
    "for i in TSO_dict:\n",
    "    add_date_time_feature(TSO_dict[i])"
   ]
  },
  {
   "cell_type": "code",
   "execution_count": 311,
   "id": "47088f87",
   "metadata": {
    "ExecuteTime": {
     "end_time": "2024-04-27T22:31:48.138967Z",
     "start_time": "2024-04-27T22:31:48.137103Z"
    }
   },
   "outputs": [
    {
     "name": "stdout",
     "output_type": "stream",
     "text": [
      "37\n",
      "39\n",
      "39\n",
      "36\n"
     ]
    }
   ],
   "source": [
    "for i in TSO_dict:\n",
    "    print(len(TSO_dict[i].columns))"
   ]
  },
  {
   "cell_type": "code",
   "execution_count": 312,
   "id": "528d77f3",
   "metadata": {
    "ExecuteTime": {
     "end_time": "2024-04-27T22:31:48.631947Z",
     "start_time": "2024-04-27T22:31:48.623136Z"
    }
   },
   "outputs": [],
   "source": [
    "#################### add co2-values, Total_ren,Total_conv\n",
    "\n",
    "renewables=['Biomass',  \n",
    "            'Geothermal', \n",
    "            'Hydro Pumped Storage',\n",
    "            'Hydro Run-of-river and poundage',\n",
    "            'Hydro Water Reservoir',\n",
    "            'Other renewable', \n",
    "            'Solar',\n",
    "            'Wind Offshore', \n",
    "            'Wind Onshore']\n",
    "\n",
    "conventionals = ['Fossil Brown coal/Lignite',\n",
    "                 'Fossil Coal-derived gas',\n",
    "                 'Fossil Gas',\n",
    "                 'Fossil Hard coal', \n",
    "                 'Fossil Oil',\n",
    "                 'Nuclear' \n",
    "                 'Other',\n",
    "                 'Nuclear' ,\n",
    "                 'Waste']\n",
    "\n",
    "\n",
    "def add_aggregations(df):\n",
    "    existing_renewables = [source for source in renewables if source in df.columns]\n",
    "    existing_conventionals = [source for source in conventionals if source in df.columns]\n",
    "\n",
    "    # Filter for existing columns only\n",
    "    existing_renewables = [source for source in renewables if source in df.columns]\n",
    "    existing_conventionals = [source for source in conventionals if source in df.columns]\n",
    "\n",
    "    # Calculate sums using existing columns\n",
    "    df[\"total_ren\"] = df[existing_renewables].sum(axis=1)\n",
    "    df[\"total_conv\"] = df[existing_conventionals].sum(axis=1)\n",
    "    df[\"share_ren\"] = df[\"total_ren\"]/(df[\"total_ren\"]+df[\"total_conv\"])\n",
    "\n",
    "    print(\"share renewables: \", df[\"total_ren\"].sum().sum()/(df[\"total_conv\"].sum().sum()+df[\"total_ren\"].sum().sum()))\n",
    "    print(\"share conventionals: \", df[\"total_conv\"].sum()/(df[\"total_conv\"].sum().sum()+df[\"total_ren\"].sum().sum()))\n",
    "    return df"
   ]
  },
  {
   "cell_type": "code",
   "execution_count": 314,
   "id": "3329efbb",
   "metadata": {
    "ExecuteTime": {
     "end_time": "2024-04-27T22:31:50.411390Z",
     "start_time": "2024-04-27T22:31:50.334037Z"
    }
   },
   "outputs": [
    {
     "name": "stdout",
     "output_type": "stream",
     "text": [
      "share renewables:  0.45052884430962137\n",
      "share conventionals:  0.5494711556903786\n",
      "share renewables:  0.2428675862493269\n",
      "share conventionals:  0.7571324137506731\n",
      "share renewables:  0.6431554522237313\n",
      "share conventionals:  0.3568445477762688\n",
      "share renewables:  0.4407490166947801\n",
      "share conventionals:  0.5592509833052198\n"
     ]
    }
   ],
   "source": [
    "\n",
    "for i in TSO_dict:\n",
    "    add_aggregations(TSO_dict[i])"
   ]
  },
  {
   "cell_type": "code",
   "execution_count": 317,
   "id": "59b8e957",
   "metadata": {
    "ExecuteTime": {
     "end_time": "2024-04-27T22:32:43.099319Z",
     "start_time": "2024-04-27T22:32:43.093422Z"
    }
   },
   "outputs": [
    {
     "name": "stdout",
     "output_type": "stream",
     "text": [
      "40\n",
      "Index(['CO2_intensity_in_gCO2_per_KWh', 'Total_Emissions_in_kg',\n",
      "       'Total_Generation', 'Biomass', 'Fossil Brown coal/Lignite',\n",
      "       'Fossil Gas', 'Fossil Hard coal', 'Fossil Oil', 'Geothermal',\n",
      "       'Hydro Pumped Storage', 'Hydro Run-of-river and poundage', 'Other',\n",
      "       'Other renewable', 'Solar', 'Waste', 'Wind Offshore', 'Wind Onshore',\n",
      "       'day_ahead_price', 'cloud_cover_total', 'radiation_global',\n",
      "       'sunshine_duration', 'temperature_air_mean_200',\n",
      "       'temperature_dew_point_mean_200', 'visibility_range', 'wind_direction',\n",
      "       'wind_speed', 'hour', 'quarter', 'month', 'year', 'dayofweek',\n",
      "       'dayofyear', 'dayofmonth', 'sin_day', 'cos_day', 'sin_hour_of_day',\n",
      "       'cos_hour_of_ay', 'total_ren', 'total_conv', 'share_ren'],\n",
      "      dtype='object')\n",
      "42\n",
      "Index(['CO2_intensity_in_gCO2_per_KWh', 'Total_Emissions_in_kg',\n",
      "       'Total_Generation', 'Biomass', 'Fossil Brown coal/Lignite',\n",
      "       'Fossil Coal-derived gas', 'Fossil Gas', 'Fossil Hard coal',\n",
      "       'Fossil Oil', 'Geothermal', 'Hydro Pumped Storage',\n",
      "       'Hydro Run-of-river and poundage', 'Hydro Water Reservoir', 'Nuclear',\n",
      "       'Other', 'Other renewable', 'Solar', 'Waste', 'Wind Onshore',\n",
      "       'day_ahead_price', 'cloud_cover_total', 'radiation_global',\n",
      "       'sunshine_duration', 'temperature_air_mean_200',\n",
      "       'temperature_dew_point_mean_200', 'visibility_range', 'wind_direction',\n",
      "       'wind_speed', 'hour', 'quarter', 'month', 'year', 'dayofweek',\n",
      "       'dayofyear', 'dayofmonth', 'sin_day', 'cos_day', 'sin_hour_of_day',\n",
      "       'cos_hour_of_ay', 'total_ren', 'total_conv', 'share_ren'],\n",
      "      dtype='object')\n",
      "42\n",
      "Index(['CO2_intensity_in_gCO2_per_KWh', 'Total_Emissions_in_kg',\n",
      "       'Total_Generation', 'Biomass', 'Fossil Brown coal/Lignite',\n",
      "       'Fossil Gas', 'Fossil Hard coal', 'Fossil Oil', 'Geothermal',\n",
      "       'Hydro Pumped Storage', 'Hydro Run-of-river and poundage',\n",
      "       'Hydro Water Reservoir', 'Nuclear', 'Other', 'Other renewable', 'Solar',\n",
      "       'Waste', 'Wind Offshore', 'Wind Onshore', 'day_ahead_price',\n",
      "       'cloud_cover_total', 'radiation_global', 'sunshine_duration',\n",
      "       'temperature_air_mean_200', 'temperature_dew_point_mean_200',\n",
      "       'visibility_range', 'wind_direction', 'wind_speed', 'hour', 'quarter',\n",
      "       'month', 'year', 'dayofweek', 'dayofyear', 'dayofmonth', 'sin_day',\n",
      "       'cos_day', 'sin_hour_of_day', 'cos_hour_of_ay', 'total_ren',\n",
      "       'total_conv', 'share_ren'],\n",
      "      dtype='object')\n",
      "39\n",
      "Index(['CO2_intensity_in_gCO2_per_KWh', 'Total_Emissions_in_kg',\n",
      "       'Total_Generation', 'Biomass', 'Fossil Gas', 'Fossil Hard coal',\n",
      "       'Fossil Oil', 'Hydro Pumped Storage', 'Hydro Run-of-river and poundage',\n",
      "       'Hydro Water Reservoir', 'Nuclear', 'Other', 'Other renewable', 'Solar',\n",
      "       'Waste', 'Wind Onshore', 'day_ahead_price', 'cloud_cover_total',\n",
      "       'radiation_global', 'sunshine_duration', 'temperature_air_mean_200',\n",
      "       'temperature_dew_point_mean_200', 'visibility_range', 'wind_direction',\n",
      "       'wind_speed', 'hour', 'quarter', 'month', 'year', 'dayofweek',\n",
      "       'dayofyear', 'dayofmonth', 'sin_day', 'cos_day', 'sin_hour_of_day',\n",
      "       'cos_hour_of_ay', 'total_ren', 'total_conv', 'share_ren'],\n",
      "      dtype='object')\n"
     ]
    }
   ],
   "source": [
    "for i in TSO_dict:\n",
    "    print(len(TSO_dict[i].columns))\n",
    "    print(TSO_dict[i].columns)"
   ]
  },
  {
   "cell_type": "code",
   "execution_count": 319,
   "id": "5527d44f",
   "metadata": {
    "ExecuteTime": {
     "end_time": "2024-04-27T22:36:40.358326Z",
     "start_time": "2024-04-27T22:36:40.062799Z"
    }
   },
   "outputs": [],
   "source": [
    "#export dataset:\n",
    "TSO_dict[\"DE_50Hertz\"].to_parquet(\"1final_DE_50Hertz.parquet\")\n",
    "TSO_dict[\"DE_AMPRION\"].to_parquet(\"1final_DE_AMPRION.parquet\")\n",
    "TSO_dict[\"DE_TENNET\"].to_parquet(\"1final_DE_TENNET.parquet\")\n",
    "TSO_dict[\"DE_TRANSNET\"].to_parquet(\"1final_DE_TRANSNET.parquet\")"
   ]
  },
  {
   "cell_type": "markdown",
   "id": "a7b3fe0b",
   "metadata": {},
   "source": [
    "# PPPPPPPP"
   ]
  },
  {
   "cell_type": "code",
   "execution_count": null,
   "id": "a6fd40c0",
   "metadata": {},
   "outputs": [],
   "source": [
    "#Schweizer Taschenmesser vong Docker\n",
    "\n",
    "import pandas as pd\n",
    "import numpy as np\n",
    "from datetime import datetime as dt, timedelta \n",
    "import requests\n",
    "from entsoe import EntsoePandasClient\n",
    "from sklearn.linear_model import LinearRegression\n",
    "from .CO2_dict import *\n",
    "\n",
    "Co2_intensity=Co2_intensity\n",
    "\n",
    "def predict_carbonintensity():\n",
    "    API_KEY = \"55c76530-b737-48af-bf6e-40d4ebde04f2\"\n",
    "    client = EntsoePandasClient(api_key=API_KEY)\n",
    "    end = pd.Timestamp.now(tz='Europe/Berlin')#-pd.DateOffset(hours=6)\n",
    "    start = end - pd.DateOffset(hours=24)\n",
    "    country_code = 'DE'  \n",
    "    df_query = client.query_generation(country_code, start=start,end=end, psr_type=None)\n",
    "\n",
    "    # following columns also \"consume\" power (Hydro, solar, wind Onshore)\n",
    "    drop_consumption = df_query.xs('Actual Consumption', level=1, axis=1,drop_level=False).columns\n",
    "    df_query.xs('Actual Consumption', level=1, axis=1,drop_level=False).columns\n",
    "    # therefore get rid of consumption for the fact that consumption does not produce co2\n",
    "    df_generation_in_MW=df_query.drop(columns = drop_consumption.tolist())\n",
    "    #drop header level 1\n",
    "    df_generation_in_MW.columns= df_generation_in_MW.columns.droplevel(1)\n",
    "    #df_generation_in_MW\n",
    "    #dataframe with mwh\n",
    "    df_generation_in_MWh = df_generation_in_MW/4 #divided by 4[quarter hour] (MW -> MWh),\n",
    "\n",
    "    #dataframe with co2 emissions in kgCO2eq\n",
    "    df_emission_in_kgCO2eq=df_generation_in_MWh.mul(Co2_intensity, axis=1)\n",
    "    df_emission_in_kgCO2eq\n",
    "\n",
    "    total_CO2_Emission = df_emission_in_kgCO2eq.sum(axis=1)\n",
    "    total_generation = df_generation_in_MWh.sum(axis=1)\n",
    "    #df.insert(0,'name_of_column',value=df['Biomass']/40)\n",
    "    df_generation_in_MWh.insert(0,\"Total_Generation\", total_generation)\n",
    "    df_generation_in_MWh.insert(0,\"Total_Emissions_in_kg\", total_CO2_Emission)\n",
    "    df_generation_in_MWh.insert(0,\"CO2_intensity_in_gCO2_per_KWh\", total_CO2_Emission/total_generation)\n",
    "    # add index as column\n",
    "    df_generation_in_MWh[\"timestamp\"] = df_generation_in_MWh.index\n",
    "\n",
    "    simple_ml_df = df_generation_in_MWh.dropna(axis=0)\n",
    "    df = simple_ml_df\n",
    "\n",
    "    # Prepare the data\n",
    "    X = df.index.astype(int).values.reshape(-1, 1)  # Convert timestamps to numerical values\n",
    "    y = df['CO2_intensity_in_gCO2_per_KWh']\n",
    "\n",
    "    # Initialize and train the Linear Regression model\n",
    "    model = LinearRegression()\n",
    "    model.fit(X, y)\n",
    "\n",
    "    # Predict the next 12 hours\n",
    "    last_timestamp = df.index[-1]\n",
    "    future_timestamps = pd.date_range(start=last_timestamp, periods=39, freq='15T')[1:]  # Next 12 hours\n",
    "    future_timestamps_numeric = future_timestamps.astype(int).values.reshape(-1, 1)\n",
    "\n",
    "    future_predictions = model.predict(future_timestamps_numeric)\n",
    "\n",
    "    # Create a DataFrame to store the predictions\n",
    "    future_df = pd.DataFrame({'timestamp': future_timestamps, 'Predicted_CO2_intensity': future_predictions})\n",
    "    future_df.set_index('timestamp', inplace=True)\n",
    "\n",
    "    # Print the predicted CO2 intensity for the next 12 hours\n",
    "    print(\"Predicted CO2 Intensity for the next 12 hours:\")\n",
    "    print(future_df)\n",
    "    #future_df\n",
    "\n",
    "    merged_df = df[[\"timestamp\", \"CO2_intensity_in_gCO2_per_KWh\"]].join(future_df, how='outer')\n",
    "    merged_df[\"timestamp\"] = merged_df.index\n",
    "    merged_df[\"timestamp\"]=merged_df[\"timestamp\"].dt.strftime('%Y-%m-%dT%H:%MZ')\n",
    "    #merged_df = merged_df.replace([np.inf, -np.inf], np.nan).fillna(0)\n",
    "    merged_df = merged_df.fillna('')\n",
    "    return(merged_df)\n",
    "\n",
    "def predict_carbonintensity():\n",
    "    API_KEY = \"55c76530-b737-48af-bf6e-40d4ebde04f2\"\n",
    "    client = EntsoePandasClient(api_key=API_KEY)\n",
    "    end = pd.Timestamp.now(tz='Europe/Berlin')#-pd.DateOffset(hours=6)\n",
    "    start = end - pd.DateOffset(hours=24)\n",
    "    country_code = \"DE\" \n",
    "    df_query = client.query_generation(country_code, start=start,end=end, psr_type=None)\n",
    "\n",
    "    # following columns also \"consume\" power (Hydro, solar, wind Onshore)\n",
    "    drop_consumption = df_query.xs('Actual Consumption', level=1, axis=1,drop_level=False).columns\n",
    "    df_query.xs('Actual Consumption', level=1, axis=1,drop_level=False).columns\n",
    "    # therefore get rid of consumption for the fact that consumption does not produce co2\n",
    "    df_generation_in_MW=df_query.drop(columns = drop_consumption.tolist())\n",
    "    #drop header level 1\n",
    "    df_generation_in_MW.columns= df_generation_in_MW.columns.droplevel(1)\n",
    "    #df_generation_in_MW\n",
    "    #dataframe with mwh\n",
    "    df_generation_in_MWh = df_generation_in_MW/4 #divided by 4[quarter hour] (MW -> MWh),\n",
    "\n",
    "    #dataframe with co2 emissions in kgCO2eq\n",
    "    df_emission_in_kgCO2eq=df_generation_in_MWh.mul(Co2_intensity, axis=1)\n",
    "    df_emission_in_kgCO2eq\n",
    "\n",
    "    total_CO2_Emission = df_emission_in_kgCO2eq.sum(axis=1)\n",
    "    total_generation = df_generation_in_MWh.sum(axis=1)\n",
    "    #df.insert(0,'name_of_column',value=df['Biomass']/40)\n",
    "    df_generation_in_MWh.insert(0,\"Total_Generation\", total_generation)\n",
    "    df_generation_in_MWh.insert(0,\"Total_Emissions_in_kg\", total_CO2_Emission)\n",
    "    df_generation_in_MWh.insert(0,\"CO2_intensity_in_gCO2_per_KWh\", total_CO2_Emission/total_generation)\n",
    "    # add index as column\n",
    "    df_generation_in_MWh[\"timestamp\"] = df_generation_in_MWh.index\n",
    "\n",
    "    simple_ml_df = df_generation_in_MWh.dropna(axis=0)\n",
    "    df = simple_ml_df\n",
    "\n",
    "    # Prepare the data\n",
    "    X = df.index.astype(int).values.reshape(-1, 1)  # Convert timestamps to numerical values\n",
    "    y = df['CO2_intensity_in_gCO2_per_KWh']\n",
    "\n",
    "    # Initialize and train the Linear Regression model\n",
    "    model = LinearRegression()\n",
    "    model.fit(X, y)\n",
    "\n",
    "    # Predict the next 12 hours\n",
    "    last_timestamp = df.index[-1]\n",
    "    future_timestamps = pd.date_range(start=last_timestamp, periods=39, freq='15T')[1:]  # Next 12 hours\n",
    "    future_timestamps_numeric = future_timestamps.astype(int).values.reshape(-1, 1)\n",
    "\n",
    "    future_predictions = model.predict(future_timestamps_numeric)\n",
    "\n",
    "    # Create a DataFrame to store the predictions\n",
    "    future_df = pd.DataFrame({'timestamp': future_timestamps, 'Predicted_CO2_intensity': future_predictions})\n",
    "    future_df.set_index('timestamp', inplace=True)\n",
    "\n",
    "    # Print the predicted CO2 intensity for the next 12 hours\n",
    "    print(\"Predicted CO2 Intensity for the next 12 hours:\")\n",
    "    print(future_df)\n",
    "    #future_df\n",
    "\n",
    "    merged_df = df[[\"timestamp\", \"CO2_intensity_in_gCO2_per_KWh\"]].join(future_df, how='outer')\n",
    "    merged_df[\"timestamp\"] = merged_df.index\n",
    "    merged_df[\"timestamp\"]=merged_df[\"timestamp\"].dt.strftime('%Y-%m-%dT%H:%MZ')\n",
    "    #merged_df = merged_df.replace([np.inf, -np.inf], np.nan).fillna(0)\n",
    "    merged_df = merged_df.fillna('')\n",
    "    return(merged_df)\n",
    "\n",
    "def predict_carbonintensity_with_variable_country_code(country_code):\n",
    "    API_KEY = \"55c76530-b737-48af-bf6e-40d4ebde04f2\"\n",
    "    client = EntsoePandasClient(api_key=API_KEY)\n",
    "    end = pd.Timestamp.now(tz='Europe/Berlin')#-pd.DateOffset(hours=6)\n",
    "    start = end - pd.DateOffset(hours=24)\n",
    "    country_code = country_code \n",
    "    df_query = client.query_generation(country_code, start=start,end=end, psr_type=None)\n",
    "\n",
    "    # following columns also \"consume\" power (Hydro, solar, wind Onshore)\n",
    "    drop_consumption = df_query.xs('Actual Consumption', level=1, axis=1,drop_level=False).columns\n",
    "    df_query.xs('Actual Consumption', level=1, axis=1,drop_level=False).columns\n",
    "    # therefore get rid of consumption for the fact that consumption does not produce co2\n",
    "    df_generation_in_MW=df_query.drop(columns = drop_consumption.tolist())\n",
    "    #drop header level 1\n",
    "    df_generation_in_MW.columns= df_generation_in_MW.columns.droplevel(1)\n",
    "    #df_generation_in_MW\n",
    "    #dataframe with mwh\n",
    "    df_generation_in_MWh = df_generation_in_MW/4 #divided by 4[quarter hour] (MW -> MWh),\n",
    "\n",
    "    #dataframe with co2 emissions in kgCO2eq\n",
    "    #df_emission_in_kgCO2eq=df_generation_in_MWh.mul(Co2_intensity, axis=1)\n",
    "    df_emission_in_kgCO2eq = df_generation_in_MWh.assign(**Co2_intensity).mul(df_generation_in_MWh)\n",
    "    df_emission_in_kgCO2eq\n",
    "\n",
    "    total_CO2_Emission = df_emission_in_kgCO2eq.sum(axis=1)\n",
    "    total_generation = df_generation_in_MWh.sum(axis=1)\n",
    "    #df.insert(0,'name_of_column',value=df['Biomass']/40)\n",
    "    df_generation_in_MWh.insert(0,\"Total_Generation\", total_generation)\n",
    "    df_generation_in_MWh.insert(0,\"Total_Emissions_in_kg\", total_CO2_Emission)\n",
    "    df_generation_in_MWh.insert(0,\"CO2_intensity_in_gCO2_per_KWh\", total_CO2_Emission/total_generation)\n",
    "    # add index as column\n",
    "    df_generation_in_MWh[\"timestamp\"] = df_generation_in_MWh.index\n",
    "\n",
    "    simple_ml_df = df_generation_in_MWh.dropna(axis=0)\n",
    "    df = simple_ml_df\n",
    "\n",
    "    # Prepare the data\n",
    "    X = df.index.astype(int).values.reshape(-1, 1)  # Convert timestamps to numerical values\n",
    "    y = df['CO2_intensity_in_gCO2_per_KWh']\n",
    "\n",
    "    # Initialize and train the Linear Regression model\n",
    "    model = LinearRegression()\n",
    "    model.fit(X, y)\n",
    "\n",
    "    # Predict the next 12 hours\n",
    "    last_timestamp = df.index[-1]\n",
    "    future_timestamps = pd.date_range(start=last_timestamp, periods=39, freq='15T')[1:]  # Next 12 hours\n",
    "    future_timestamps_numeric = future_timestamps.astype(int).values.reshape(-1, 1)\n",
    "\n",
    "    future_predictions = model.predict(future_timestamps_numeric)\n",
    "\n",
    "    # Create a DataFrame to store the predictions\n",
    "    future_df = pd.DataFrame({'timestamp': future_timestamps, 'Predicted_CO2_intensity': future_predictions})\n",
    "    future_df.set_index('timestamp', inplace=True)\n",
    "\n",
    "    # Print the predicted CO2 intensity for the next 12 hours\n",
    "    print(\"Predicted CO2 Intensity for the next 12 hours:\")\n",
    "    print(future_df)\n",
    "    #future_df\n",
    "\n",
    "    merged_df = df[[\"timestamp\", \"CO2_intensity_in_gCO2_per_KWh\"]].join(future_df, how='outer')\n",
    "    merged_df[\"timestamp\"] = merged_df.index\n",
    "    merged_df[\"timestamp\"]=merged_df[\"timestamp\"].dt.strftime('%Y-%m-%dT%H:%MZ')\n",
    "    #merged_df = merged_df.replace([np.inf, -np.inf], np.nan).fillna(0)\n",
    "    merged_df = merged_df.fillna('')\n",
    "    return(merged_df)"
   ]
  }
 ],
 "metadata": {
  "kernelspec": {
   "display_name": "230821TestEntsoe",
   "language": "python",
   "name": "230821testentsoe"
  },
  "language_info": {
   "codemirror_mode": {
    "name": "ipython",
    "version": 3
   },
   "file_extension": ".py",
   "mimetype": "text/x-python",
   "name": "python",
   "nbconvert_exporter": "python",
   "pygments_lexer": "ipython3",
   "version": "3.11.5"
  }
 },
 "nbformat": 4,
 "nbformat_minor": 5
}

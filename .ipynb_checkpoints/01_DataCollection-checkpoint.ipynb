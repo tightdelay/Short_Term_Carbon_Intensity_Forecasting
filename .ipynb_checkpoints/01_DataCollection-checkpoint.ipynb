{
 "cells": [
  {
   "cell_type": "code",
   "execution_count": 138,
   "id": "71cdce9b",
   "metadata": {
    "ExecuteTime": {
     "end_time": "2024-04-27T19:51:10.054239Z",
     "start_time": "2024-04-27T19:51:10.004618Z"
    }
   },
   "outputs": [],
   "source": [
    "# Notification \n",
    "# \n",
    "import requests\n",
    "def telegram_message(msg):\n",
    "    token = \"6793951865:AAEbF021k459kjqKFDhpBynotlKwoocikPw\"\n",
    "    url = f\"https://api.telegram.org/bot{token}\"\n",
    "    params = {\"chat_id\": \"5043550756\", \"text\":msg }\n",
    "    r = requests.get(url + \"/sendMessage\", params=params)\n",
    "    return f\"done {r}\"\n"
   ]
  },
  {
   "cell_type": "code",
   "execution_count": 139,
   "id": "909c8366",
   "metadata": {
    "ExecuteTime": {
     "end_time": "2024-04-27T19:51:10.159133Z",
     "start_time": "2024-04-27T19:51:10.142223Z"
    }
   },
   "outputs": [
    {
     "data": {
      "text/html": [
       "<style>.container { width:90% !important; }</style>"
      ],
      "text/plain": [
       "<IPython.core.display.HTML object>"
      ]
     },
     "metadata": {},
     "output_type": "display_data"
    }
   ],
   "source": [
    "#optional\n",
    "from IPython.display import display, HTML\n",
    "display(HTML(\"<style>.container { width:90% !important; }</style>\"))"
   ]
  },
  {
   "cell_type": "markdown",
   "id": "0d41c874",
   "metadata": {},
   "source": [
    "# Energy Market Data"
   ]
  },
  {
   "cell_type": "code",
   "execution_count": 6,
   "id": "879e2e4b",
   "metadata": {
    "ExecuteTime": {
     "end_time": "2024-04-19T14:20:52.062316Z",
     "start_time": "2024-04-19T14:20:52.057367Z"
    }
   },
   "outputs": [],
   "source": [
    "#define ENTSOE Api Key \n",
    "#(token request(API key) via https://transparency.entsoe.eu/content/static_content/Static%20content/web%20api/Guide.html#_authentication_and_authorisation see \"2. Authentication and Authorisation\")\n",
    "API_KEY = \"55c76530-b737-48af-bf6e-40d4ebde04f2\""
   ]
  },
  {
   "cell_type": "code",
   "execution_count": 1,
   "id": "10aace55",
   "metadata": {
    "ExecuteTime": {
     "end_time": "2024-05-04T21:19:36.393989Z",
     "start_time": "2024-05-04T21:19:35.939788Z"
    }
   },
   "outputs": [],
   "source": [
    "#import relevant packages\n",
    "from entsoe import EntsoePandasClient\n",
    "import pandas as pd\n",
    "import datetime as dt"
   ]
  },
  {
   "cell_type": "code",
   "execution_count": 154,
   "id": "1e681eeb",
   "metadata": {
    "ExecuteTime": {
     "end_time": "2024-04-27T20:05:13.429534Z",
     "start_time": "2024-04-27T20:05:13.424245Z"
    }
   },
   "outputs": [],
   "source": [
    "# Entsoe API Call to retrieve data\n",
    "def get_TSO_generation_data(geozone, start, end):\n",
    "    client = EntsoePandasClient(api_key=API_KEY)\n",
    "    start = pd.Timestamp(start, tz='Europe/Berlin')\n",
    "    end = pd.Timestamp(end, tz='Europe/Berlin')\n",
    "    return client.query_generation(geozone, start=start,end=end, psr_type=None)\n",
    "\n",
    "# Transformation to hourly and erasure of consumption columns    \n",
    "def cleanup_generation_data(df_to_be_cleaned):\n",
    "    # following columns also consume power (Hydro, solar, wind Onshore)\n",
    "    drop_consumption = df_to_be_cleaned.xs('Actual Consumption', level=1, axis=1,drop_level=False).columns\n",
    "    df_to_be_cleaned.xs('Actual Consumption', level=1, axis=1,drop_level=False).columns\n",
    "    # therefore get rid of consumption for the fact that consumption does not produce co2\n",
    "    df_generation_in_MW=df_to_be_cleaned.drop(columns = drop_consumption.tolist())\n",
    "    #drop header level 1\n",
    "    df_generation_in_MW.columns= df_generation_in_MW.columns.droplevel(1)\n",
    "    df_generation_in_MW.head(5)\n",
    "    #df_generation_in_MW.resample('H', closed='right').sum().reset_index().head(5)\n",
    "    df_generation_in_MWh = df_generation_in_MW.resample('h').sum()#.reset_index()\n",
    "    return df_generation_in_MWh\n",
    "    ##df_generation_in_MW.to_csv(\"GenerationDE.csv\")\n",
    "\n"
   ]
  },
  {
   "cell_type": "markdown",
   "id": "0a9bc52b",
   "metadata": {},
   "source": [
    "### Download generation data\n",
    "Duration: about 3 hours"
   ]
  },
  {
   "cell_type": "code",
   "execution_count": 400,
   "id": "693329f1",
   "metadata": {
    "ExecuteTime": {
     "end_time": "2024-03-14T15:37:13.832306Z",
     "start_time": "2024-03-14T13:43:57.375720Z"
    },
    "scrolled": true
   },
   "outputs": [
    {
     "ename": "KeyboardInterrupt",
     "evalue": "",
     "output_type": "error",
     "traceback": [
      "\u001b[0;31m---------------------------------------------------------------------------\u001b[0m",
      "\u001b[0;31mKeyboardInterrupt\u001b[0m                         Traceback (most recent call last)",
      "Cell \u001b[0;32mIn[400], line 14\u001b[0m\n\u001b[1;32m     12\u001b[0m df_50HZ     \u001b[38;5;241m=\u001b[39m cleanup_generation_data(get_TSO_generation_data(country_code50, start, end))\n\u001b[1;32m     13\u001b[0m DoneNotification(\u001b[38;5;241m1\u001b[39m,\u001b[38;5;241m2\u001b[39m,\u001b[38;5;241m3\u001b[39m)\n\u001b[0;32m---> 14\u001b[0m df_AMPRION  \u001b[38;5;241m=\u001b[39m cleanup_generation_data(get_TSO_generation_data(country_codeAMP, start, end))\n\u001b[1;32m     15\u001b[0m DoneNotification(\u001b[38;5;241m1\u001b[39m,\u001b[38;5;241m2\u001b[39m,\u001b[38;5;241m3\u001b[39m)\n\u001b[1;32m     16\u001b[0m df_TRANSNET \u001b[38;5;241m=\u001b[39m cleanup_generation_data(get_TSO_generation_data(country_codeTRA, start, end))\n",
      "Cell \u001b[0;32mIn[397], line 6\u001b[0m, in \u001b[0;36mget_TSO_generation_data\u001b[0;34m(geozone, start, end)\u001b[0m\n\u001b[1;32m      4\u001b[0m \u001b[38;5;66;03m#    start = pd.Timestamp(start, tz='UTC')\u001b[39;00m\n\u001b[1;32m      5\u001b[0m     end \u001b[38;5;241m=\u001b[39m pd\u001b[38;5;241m.\u001b[39mTimestamp(end, tz\u001b[38;5;241m=\u001b[39m\u001b[38;5;124m'\u001b[39m\u001b[38;5;124mEurope/London\u001b[39m\u001b[38;5;124m'\u001b[39m)\n\u001b[0;32m----> 6\u001b[0m     \u001b[38;5;28;01mreturn\u001b[39;00m client\u001b[38;5;241m.\u001b[39mquery_generation(geozone, start\u001b[38;5;241m=\u001b[39mstart,end\u001b[38;5;241m=\u001b[39mend, psr_type\u001b[38;5;241m=\u001b[39m\u001b[38;5;28;01mNone\u001b[39;00m)\n\u001b[1;32m      7\u001b[0m     DoneNotification(pd\u001b[38;5;241m.\u001b[39mTimestamp\u001b[38;5;241m.\u001b[39mnow(), pd\u001b[38;5;241m.\u001b[39mTimestamp\u001b[38;5;241m.\u001b[39mnow(), \u001b[38;5;124m\"\u001b[39m\u001b[38;5;124mCrawler done\u001b[39m\u001b[38;5;124m\"\u001b[39m)\n",
      "File \u001b[0;32m~/anaconda3/envs/230821TestEntsoe/lib/python3.11/site-packages/entsoe/decorators.py:98\u001b[0m, in \u001b[0;36myear_limited.<locals>.year_wrapper\u001b[0;34m(start, end, *args, **kwargs)\u001b[0m\n\u001b[1;32m     96\u001b[0m \u001b[38;5;28;01mfor\u001b[39;00m _start, _end \u001b[38;5;129;01min\u001b[39;00m blocks:\n\u001b[1;32m     97\u001b[0m     \u001b[38;5;28;01mtry\u001b[39;00m:\n\u001b[0;32m---> 98\u001b[0m         frame \u001b[38;5;241m=\u001b[39m func(\u001b[38;5;241m*\u001b[39margs, start\u001b[38;5;241m=\u001b[39m_start, end\u001b[38;5;241m=\u001b[39m_end, \u001b[38;5;241m*\u001b[39m\u001b[38;5;241m*\u001b[39mkwargs)\n\u001b[1;32m     99\u001b[0m     \u001b[38;5;28;01mexcept\u001b[39;00m NoMatchingDataError:\n\u001b[1;32m    100\u001b[0m         logging\u001b[38;5;241m.\u001b[39mdebug(\u001b[38;5;124mf\u001b[39m\u001b[38;5;124m\"\u001b[39m\u001b[38;5;124mNoMatchingDataError: between \u001b[39m\u001b[38;5;132;01m{\u001b[39;00m_start\u001b[38;5;132;01m}\u001b[39;00m\u001b[38;5;124m and \u001b[39m\u001b[38;5;132;01m{\u001b[39;00m_end\u001b[38;5;132;01m}\u001b[39;00m\u001b[38;5;124m\"\u001b[39m)\n",
      "File \u001b[0;32m~/anaconda3/envs/230821TestEntsoe/lib/python3.11/site-packages/entsoe/entsoe.py:1252\u001b[0m, in \u001b[0;36mEntsoePandasClient.query_generation\u001b[0;34m(self, country_code, start, end, psr_type, nett, **kwargs)\u001b[0m\n\u001b[1;32m   1236\u001b[0m \u001b[38;5;250m\u001b[39m\u001b[38;5;124;03m\"\"\"\u001b[39;00m\n\u001b[1;32m   1237\u001b[0m \u001b[38;5;124;03mParameters\u001b[39;00m\n\u001b[1;32m   1238\u001b[0m \u001b[38;5;124;03m----------\u001b[39;00m\n\u001b[0;32m   (...)\u001b[0m\n\u001b[1;32m   1249\u001b[0m \u001b[38;5;124;03mpd.DataFrame\u001b[39;00m\n\u001b[1;32m   1250\u001b[0m \u001b[38;5;124;03m\"\"\"\u001b[39;00m\n\u001b[1;32m   1251\u001b[0m area \u001b[38;5;241m=\u001b[39m lookup_area(country_code)\n\u001b[0;32m-> 1252\u001b[0m text \u001b[38;5;241m=\u001b[39m \u001b[38;5;28msuper\u001b[39m(EntsoePandasClient, \u001b[38;5;28mself\u001b[39m)\u001b[38;5;241m.\u001b[39mquery_generation(\n\u001b[1;32m   1253\u001b[0m     country_code\u001b[38;5;241m=\u001b[39marea, start\u001b[38;5;241m=\u001b[39mstart, end\u001b[38;5;241m=\u001b[39mend, psr_type\u001b[38;5;241m=\u001b[39mpsr_type)\n\u001b[1;32m   1254\u001b[0m df \u001b[38;5;241m=\u001b[39m parse_generation(text, nett\u001b[38;5;241m=\u001b[39mnett)\n\u001b[1;32m   1255\u001b[0m df \u001b[38;5;241m=\u001b[39m df\u001b[38;5;241m.\u001b[39mtz_convert(area\u001b[38;5;241m.\u001b[39mtz)\n",
      "File \u001b[0;32m~/anaconda3/envs/230821TestEntsoe/lib/python3.11/site-packages/entsoe/entsoe.py:340\u001b[0m, in \u001b[0;36mEntsoeRawClient.query_generation\u001b[0;34m(self, country_code, start, end, psr_type, **kwargs)\u001b[0m\n\u001b[1;32m    338\u001b[0m \u001b[38;5;28;01mif\u001b[39;00m psr_type:\n\u001b[1;32m    339\u001b[0m     params\u001b[38;5;241m.\u001b[39mupdate({\u001b[38;5;124m'\u001b[39m\u001b[38;5;124mpsrType\u001b[39m\u001b[38;5;124m'\u001b[39m: psr_type})\n\u001b[0;32m--> 340\u001b[0m response \u001b[38;5;241m=\u001b[39m \u001b[38;5;28mself\u001b[39m\u001b[38;5;241m.\u001b[39m_base_request(params\u001b[38;5;241m=\u001b[39mparams, start\u001b[38;5;241m=\u001b[39mstart, end\u001b[38;5;241m=\u001b[39mend)\n\u001b[1;32m    341\u001b[0m \u001b[38;5;28;01mreturn\u001b[39;00m response\u001b[38;5;241m.\u001b[39mtext\n",
      "File \u001b[0;32m~/anaconda3/envs/230821TestEntsoe/lib/python3.11/site-packages/entsoe/decorators.py:22\u001b[0m, in \u001b[0;36mretry.<locals>.retry_wrapper\u001b[0;34m(*args, **kwargs)\u001b[0m\n\u001b[1;32m     20\u001b[0m \u001b[38;5;28;01mfor\u001b[39;00m _ \u001b[38;5;129;01min\u001b[39;00m \u001b[38;5;28mrange\u001b[39m(\u001b[38;5;28mself\u001b[39m\u001b[38;5;241m.\u001b[39mretry_count):\n\u001b[1;32m     21\u001b[0m     \u001b[38;5;28;01mtry\u001b[39;00m:\n\u001b[0;32m---> 22\u001b[0m         result \u001b[38;5;241m=\u001b[39m func(\u001b[38;5;241m*\u001b[39margs, \u001b[38;5;241m*\u001b[39m\u001b[38;5;241m*\u001b[39mkwargs)\n\u001b[1;32m     23\u001b[0m     \u001b[38;5;28;01mexcept\u001b[39;00m (requests\u001b[38;5;241m.\u001b[39mConnectionError, gaierror) \u001b[38;5;28;01mas\u001b[39;00m e:\n\u001b[1;32m     24\u001b[0m         error \u001b[38;5;241m=\u001b[39m e\n",
      "File \u001b[0;32m~/anaconda3/envs/230821TestEntsoe/lib/python3.11/site-packages/entsoe/entsoe.py:95\u001b[0m, in \u001b[0;36mEntsoeRawClient._base_request\u001b[0;34m(self, params, start, end)\u001b[0m\n\u001b[1;32m     92\u001b[0m params\u001b[38;5;241m.\u001b[39mupdate(base_params)\n\u001b[1;32m     94\u001b[0m logging\u001b[38;5;241m.\u001b[39mdebug(\u001b[38;5;124mf\u001b[39m\u001b[38;5;124m'\u001b[39m\u001b[38;5;124mPerforming request to \u001b[39m\u001b[38;5;132;01m{\u001b[39;00mURL\u001b[38;5;132;01m}\u001b[39;00m\u001b[38;5;124m with params \u001b[39m\u001b[38;5;132;01m{\u001b[39;00mparams\u001b[38;5;132;01m}\u001b[39;00m\u001b[38;5;124m'\u001b[39m)\n\u001b[0;32m---> 95\u001b[0m response \u001b[38;5;241m=\u001b[39m \u001b[38;5;28mself\u001b[39m\u001b[38;5;241m.\u001b[39msession\u001b[38;5;241m.\u001b[39mget(url\u001b[38;5;241m=\u001b[39mURL, params\u001b[38;5;241m=\u001b[39mparams,\n\u001b[1;32m     96\u001b[0m                             proxies\u001b[38;5;241m=\u001b[39m\u001b[38;5;28mself\u001b[39m\u001b[38;5;241m.\u001b[39mproxies, timeout\u001b[38;5;241m=\u001b[39m\u001b[38;5;28mself\u001b[39m\u001b[38;5;241m.\u001b[39mtimeout)\n\u001b[1;32m     97\u001b[0m \u001b[38;5;28;01mtry\u001b[39;00m:\n\u001b[1;32m     98\u001b[0m     response\u001b[38;5;241m.\u001b[39mraise_for_status()\n",
      "File \u001b[0;32m~/anaconda3/envs/230821TestEntsoe/lib/python3.11/site-packages/requests/sessions.py:602\u001b[0m, in \u001b[0;36mSession.get\u001b[0;34m(self, url, **kwargs)\u001b[0m\n\u001b[1;32m    594\u001b[0m \u001b[38;5;250m\u001b[39m\u001b[38;5;124mr\u001b[39m\u001b[38;5;124;03m\"\"\"Sends a GET request. Returns :class:`Response` object.\u001b[39;00m\n\u001b[1;32m    595\u001b[0m \n\u001b[1;32m    596\u001b[0m \u001b[38;5;124;03m:param url: URL for the new :class:`Request` object.\u001b[39;00m\n\u001b[1;32m    597\u001b[0m \u001b[38;5;124;03m:param \\*\\*kwargs: Optional arguments that ``request`` takes.\u001b[39;00m\n\u001b[1;32m    598\u001b[0m \u001b[38;5;124;03m:rtype: requests.Response\u001b[39;00m\n\u001b[1;32m    599\u001b[0m \u001b[38;5;124;03m\"\"\"\u001b[39;00m\n\u001b[1;32m    601\u001b[0m kwargs\u001b[38;5;241m.\u001b[39msetdefault(\u001b[38;5;124m\"\u001b[39m\u001b[38;5;124mallow_redirects\u001b[39m\u001b[38;5;124m\"\u001b[39m, \u001b[38;5;28;01mTrue\u001b[39;00m)\n\u001b[0;32m--> 602\u001b[0m \u001b[38;5;28;01mreturn\u001b[39;00m \u001b[38;5;28mself\u001b[39m\u001b[38;5;241m.\u001b[39mrequest(\u001b[38;5;124m\"\u001b[39m\u001b[38;5;124mGET\u001b[39m\u001b[38;5;124m\"\u001b[39m, url, \u001b[38;5;241m*\u001b[39m\u001b[38;5;241m*\u001b[39mkwargs)\n",
      "File \u001b[0;32m~/anaconda3/envs/230821TestEntsoe/lib/python3.11/site-packages/requests/sessions.py:589\u001b[0m, in \u001b[0;36mSession.request\u001b[0;34m(self, method, url, params, data, headers, cookies, files, auth, timeout, allow_redirects, proxies, hooks, stream, verify, cert, json)\u001b[0m\n\u001b[1;32m    584\u001b[0m send_kwargs \u001b[38;5;241m=\u001b[39m {\n\u001b[1;32m    585\u001b[0m     \u001b[38;5;124m\"\u001b[39m\u001b[38;5;124mtimeout\u001b[39m\u001b[38;5;124m\"\u001b[39m: timeout,\n\u001b[1;32m    586\u001b[0m     \u001b[38;5;124m\"\u001b[39m\u001b[38;5;124mallow_redirects\u001b[39m\u001b[38;5;124m\"\u001b[39m: allow_redirects,\n\u001b[1;32m    587\u001b[0m }\n\u001b[1;32m    588\u001b[0m send_kwargs\u001b[38;5;241m.\u001b[39mupdate(settings)\n\u001b[0;32m--> 589\u001b[0m resp \u001b[38;5;241m=\u001b[39m \u001b[38;5;28mself\u001b[39m\u001b[38;5;241m.\u001b[39msend(prep, \u001b[38;5;241m*\u001b[39m\u001b[38;5;241m*\u001b[39msend_kwargs)\n\u001b[1;32m    591\u001b[0m \u001b[38;5;28;01mreturn\u001b[39;00m resp\n",
      "File \u001b[0;32m~/anaconda3/envs/230821TestEntsoe/lib/python3.11/site-packages/requests/sessions.py:703\u001b[0m, in \u001b[0;36mSession.send\u001b[0;34m(self, request, **kwargs)\u001b[0m\n\u001b[1;32m    700\u001b[0m start \u001b[38;5;241m=\u001b[39m preferred_clock()\n\u001b[1;32m    702\u001b[0m \u001b[38;5;66;03m# Send the request\u001b[39;00m\n\u001b[0;32m--> 703\u001b[0m r \u001b[38;5;241m=\u001b[39m adapter\u001b[38;5;241m.\u001b[39msend(request, \u001b[38;5;241m*\u001b[39m\u001b[38;5;241m*\u001b[39mkwargs)\n\u001b[1;32m    705\u001b[0m \u001b[38;5;66;03m# Total elapsed time of the request (approximately)\u001b[39;00m\n\u001b[1;32m    706\u001b[0m elapsed \u001b[38;5;241m=\u001b[39m preferred_clock() \u001b[38;5;241m-\u001b[39m start\n",
      "File \u001b[0;32m~/anaconda3/envs/230821TestEntsoe/lib/python3.11/site-packages/requests/adapters.py:486\u001b[0m, in \u001b[0;36mHTTPAdapter.send\u001b[0;34m(self, request, stream, timeout, verify, cert, proxies)\u001b[0m\n\u001b[1;32m    483\u001b[0m     timeout \u001b[38;5;241m=\u001b[39m TimeoutSauce(connect\u001b[38;5;241m=\u001b[39mtimeout, read\u001b[38;5;241m=\u001b[39mtimeout)\n\u001b[1;32m    485\u001b[0m \u001b[38;5;28;01mtry\u001b[39;00m:\n\u001b[0;32m--> 486\u001b[0m     resp \u001b[38;5;241m=\u001b[39m conn\u001b[38;5;241m.\u001b[39murlopen(\n\u001b[1;32m    487\u001b[0m         method\u001b[38;5;241m=\u001b[39mrequest\u001b[38;5;241m.\u001b[39mmethod,\n\u001b[1;32m    488\u001b[0m         url\u001b[38;5;241m=\u001b[39murl,\n\u001b[1;32m    489\u001b[0m         body\u001b[38;5;241m=\u001b[39mrequest\u001b[38;5;241m.\u001b[39mbody,\n\u001b[1;32m    490\u001b[0m         headers\u001b[38;5;241m=\u001b[39mrequest\u001b[38;5;241m.\u001b[39mheaders,\n\u001b[1;32m    491\u001b[0m         redirect\u001b[38;5;241m=\u001b[39m\u001b[38;5;28;01mFalse\u001b[39;00m,\n\u001b[1;32m    492\u001b[0m         assert_same_host\u001b[38;5;241m=\u001b[39m\u001b[38;5;28;01mFalse\u001b[39;00m,\n\u001b[1;32m    493\u001b[0m         preload_content\u001b[38;5;241m=\u001b[39m\u001b[38;5;28;01mFalse\u001b[39;00m,\n\u001b[1;32m    494\u001b[0m         decode_content\u001b[38;5;241m=\u001b[39m\u001b[38;5;28;01mFalse\u001b[39;00m,\n\u001b[1;32m    495\u001b[0m         retries\u001b[38;5;241m=\u001b[39m\u001b[38;5;28mself\u001b[39m\u001b[38;5;241m.\u001b[39mmax_retries,\n\u001b[1;32m    496\u001b[0m         timeout\u001b[38;5;241m=\u001b[39mtimeout,\n\u001b[1;32m    497\u001b[0m         chunked\u001b[38;5;241m=\u001b[39mchunked,\n\u001b[1;32m    498\u001b[0m     )\n\u001b[1;32m    500\u001b[0m \u001b[38;5;28;01mexcept\u001b[39;00m (ProtocolError, \u001b[38;5;167;01mOSError\u001b[39;00m) \u001b[38;5;28;01mas\u001b[39;00m err:\n\u001b[1;32m    501\u001b[0m     \u001b[38;5;28;01mraise\u001b[39;00m \u001b[38;5;167;01mConnectionError\u001b[39;00m(err, request\u001b[38;5;241m=\u001b[39mrequest)\n",
      "File \u001b[0;32m~/anaconda3/envs/230821TestEntsoe/lib/python3.11/site-packages/urllib3/connectionpool.py:790\u001b[0m, in \u001b[0;36mHTTPConnectionPool.urlopen\u001b[0;34m(self, method, url, body, headers, retries, redirect, assert_same_host, timeout, pool_timeout, release_conn, chunked, body_pos, preload_content, decode_content, **response_kw)\u001b[0m\n\u001b[1;32m    787\u001b[0m response_conn \u001b[38;5;241m=\u001b[39m conn \u001b[38;5;28;01mif\u001b[39;00m \u001b[38;5;129;01mnot\u001b[39;00m release_conn \u001b[38;5;28;01melse\u001b[39;00m \u001b[38;5;28;01mNone\u001b[39;00m\n\u001b[1;32m    789\u001b[0m \u001b[38;5;66;03m# Make the request on the HTTPConnection object\u001b[39;00m\n\u001b[0;32m--> 790\u001b[0m response \u001b[38;5;241m=\u001b[39m \u001b[38;5;28mself\u001b[39m\u001b[38;5;241m.\u001b[39m_make_request(\n\u001b[1;32m    791\u001b[0m     conn,\n\u001b[1;32m    792\u001b[0m     method,\n\u001b[1;32m    793\u001b[0m     url,\n\u001b[1;32m    794\u001b[0m     timeout\u001b[38;5;241m=\u001b[39mtimeout_obj,\n\u001b[1;32m    795\u001b[0m     body\u001b[38;5;241m=\u001b[39mbody,\n\u001b[1;32m    796\u001b[0m     headers\u001b[38;5;241m=\u001b[39mheaders,\n\u001b[1;32m    797\u001b[0m     chunked\u001b[38;5;241m=\u001b[39mchunked,\n\u001b[1;32m    798\u001b[0m     retries\u001b[38;5;241m=\u001b[39mretries,\n\u001b[1;32m    799\u001b[0m     response_conn\u001b[38;5;241m=\u001b[39mresponse_conn,\n\u001b[1;32m    800\u001b[0m     preload_content\u001b[38;5;241m=\u001b[39mpreload_content,\n\u001b[1;32m    801\u001b[0m     decode_content\u001b[38;5;241m=\u001b[39mdecode_content,\n\u001b[1;32m    802\u001b[0m     \u001b[38;5;241m*\u001b[39m\u001b[38;5;241m*\u001b[39mresponse_kw,\n\u001b[1;32m    803\u001b[0m )\n\u001b[1;32m    805\u001b[0m \u001b[38;5;66;03m# Everything went great!\u001b[39;00m\n\u001b[1;32m    806\u001b[0m clean_exit \u001b[38;5;241m=\u001b[39m \u001b[38;5;28;01mTrue\u001b[39;00m\n",
      "File \u001b[0;32m~/anaconda3/envs/230821TestEntsoe/lib/python3.11/site-packages/urllib3/connectionpool.py:536\u001b[0m, in \u001b[0;36mHTTPConnectionPool._make_request\u001b[0;34m(self, conn, method, url, body, headers, retries, timeout, chunked, response_conn, preload_content, decode_content, enforce_content_length)\u001b[0m\n\u001b[1;32m    534\u001b[0m \u001b[38;5;66;03m# Receive the response from the server\u001b[39;00m\n\u001b[1;32m    535\u001b[0m \u001b[38;5;28;01mtry\u001b[39;00m:\n\u001b[0;32m--> 536\u001b[0m     response \u001b[38;5;241m=\u001b[39m conn\u001b[38;5;241m.\u001b[39mgetresponse()\n\u001b[1;32m    537\u001b[0m \u001b[38;5;28;01mexcept\u001b[39;00m (BaseSSLError, \u001b[38;5;167;01mOSError\u001b[39;00m) \u001b[38;5;28;01mas\u001b[39;00m e:\n\u001b[1;32m    538\u001b[0m     \u001b[38;5;28mself\u001b[39m\u001b[38;5;241m.\u001b[39m_raise_timeout(err\u001b[38;5;241m=\u001b[39me, url\u001b[38;5;241m=\u001b[39murl, timeout_value\u001b[38;5;241m=\u001b[39mread_timeout)\n",
      "File \u001b[0;32m~/anaconda3/envs/230821TestEntsoe/lib/python3.11/site-packages/urllib3/connection.py:461\u001b[0m, in \u001b[0;36mHTTPConnection.getresponse\u001b[0;34m(self)\u001b[0m\n\u001b[1;32m    458\u001b[0m \u001b[38;5;28;01mfrom\u001b[39;00m \u001b[38;5;21;01m.\u001b[39;00m\u001b[38;5;21;01mresponse\u001b[39;00m \u001b[38;5;28;01mimport\u001b[39;00m HTTPResponse\n\u001b[1;32m    460\u001b[0m \u001b[38;5;66;03m# Get the response from http.client.HTTPConnection\u001b[39;00m\n\u001b[0;32m--> 461\u001b[0m httplib_response \u001b[38;5;241m=\u001b[39m \u001b[38;5;28msuper\u001b[39m()\u001b[38;5;241m.\u001b[39mgetresponse()\n\u001b[1;32m    463\u001b[0m \u001b[38;5;28;01mtry\u001b[39;00m:\n\u001b[1;32m    464\u001b[0m     assert_header_parsing(httplib_response\u001b[38;5;241m.\u001b[39mmsg)\n",
      "File \u001b[0;32m~/anaconda3/envs/230821TestEntsoe/lib/python3.11/http/client.py:1378\u001b[0m, in \u001b[0;36mHTTPConnection.getresponse\u001b[0;34m(self)\u001b[0m\n\u001b[1;32m   1376\u001b[0m \u001b[38;5;28;01mtry\u001b[39;00m:\n\u001b[1;32m   1377\u001b[0m     \u001b[38;5;28;01mtry\u001b[39;00m:\n\u001b[0;32m-> 1378\u001b[0m         response\u001b[38;5;241m.\u001b[39mbegin()\n\u001b[1;32m   1379\u001b[0m     \u001b[38;5;28;01mexcept\u001b[39;00m \u001b[38;5;167;01mConnectionError\u001b[39;00m:\n\u001b[1;32m   1380\u001b[0m         \u001b[38;5;28mself\u001b[39m\u001b[38;5;241m.\u001b[39mclose()\n",
      "File \u001b[0;32m~/anaconda3/envs/230821TestEntsoe/lib/python3.11/http/client.py:318\u001b[0m, in \u001b[0;36mHTTPResponse.begin\u001b[0;34m(self)\u001b[0m\n\u001b[1;32m    316\u001b[0m \u001b[38;5;66;03m# read until we get a non-100 response\u001b[39;00m\n\u001b[1;32m    317\u001b[0m \u001b[38;5;28;01mwhile\u001b[39;00m \u001b[38;5;28;01mTrue\u001b[39;00m:\n\u001b[0;32m--> 318\u001b[0m     version, status, reason \u001b[38;5;241m=\u001b[39m \u001b[38;5;28mself\u001b[39m\u001b[38;5;241m.\u001b[39m_read_status()\n\u001b[1;32m    319\u001b[0m     \u001b[38;5;28;01mif\u001b[39;00m status \u001b[38;5;241m!=\u001b[39m CONTINUE:\n\u001b[1;32m    320\u001b[0m         \u001b[38;5;28;01mbreak\u001b[39;00m\n",
      "File \u001b[0;32m~/anaconda3/envs/230821TestEntsoe/lib/python3.11/http/client.py:279\u001b[0m, in \u001b[0;36mHTTPResponse._read_status\u001b[0;34m(self)\u001b[0m\n\u001b[1;32m    278\u001b[0m \u001b[38;5;28;01mdef\u001b[39;00m \u001b[38;5;21m_read_status\u001b[39m(\u001b[38;5;28mself\u001b[39m):\n\u001b[0;32m--> 279\u001b[0m     line \u001b[38;5;241m=\u001b[39m \u001b[38;5;28mstr\u001b[39m(\u001b[38;5;28mself\u001b[39m\u001b[38;5;241m.\u001b[39mfp\u001b[38;5;241m.\u001b[39mreadline(_MAXLINE \u001b[38;5;241m+\u001b[39m \u001b[38;5;241m1\u001b[39m), \u001b[38;5;124m\"\u001b[39m\u001b[38;5;124miso-8859-1\u001b[39m\u001b[38;5;124m\"\u001b[39m)\n\u001b[1;32m    280\u001b[0m     \u001b[38;5;28;01mif\u001b[39;00m \u001b[38;5;28mlen\u001b[39m(line) \u001b[38;5;241m>\u001b[39m _MAXLINE:\n\u001b[1;32m    281\u001b[0m         \u001b[38;5;28;01mraise\u001b[39;00m LineTooLong(\u001b[38;5;124m\"\u001b[39m\u001b[38;5;124mstatus line\u001b[39m\u001b[38;5;124m\"\u001b[39m)\n",
      "File \u001b[0;32m~/anaconda3/envs/230821TestEntsoe/lib/python3.11/socket.py:706\u001b[0m, in \u001b[0;36mSocketIO.readinto\u001b[0;34m(self, b)\u001b[0m\n\u001b[1;32m    704\u001b[0m \u001b[38;5;28;01mwhile\u001b[39;00m \u001b[38;5;28;01mTrue\u001b[39;00m:\n\u001b[1;32m    705\u001b[0m     \u001b[38;5;28;01mtry\u001b[39;00m:\n\u001b[0;32m--> 706\u001b[0m         \u001b[38;5;28;01mreturn\u001b[39;00m \u001b[38;5;28mself\u001b[39m\u001b[38;5;241m.\u001b[39m_sock\u001b[38;5;241m.\u001b[39mrecv_into(b)\n\u001b[1;32m    707\u001b[0m     \u001b[38;5;28;01mexcept\u001b[39;00m timeout:\n\u001b[1;32m    708\u001b[0m         \u001b[38;5;28mself\u001b[39m\u001b[38;5;241m.\u001b[39m_timeout_occurred \u001b[38;5;241m=\u001b[39m \u001b[38;5;28;01mTrue\u001b[39;00m\n",
      "File \u001b[0;32m~/anaconda3/envs/230821TestEntsoe/lib/python3.11/ssl.py:1311\u001b[0m, in \u001b[0;36mSSLSocket.recv_into\u001b[0;34m(self, buffer, nbytes, flags)\u001b[0m\n\u001b[1;32m   1307\u001b[0m     \u001b[38;5;28;01mif\u001b[39;00m flags \u001b[38;5;241m!=\u001b[39m \u001b[38;5;241m0\u001b[39m:\n\u001b[1;32m   1308\u001b[0m         \u001b[38;5;28;01mraise\u001b[39;00m \u001b[38;5;167;01mValueError\u001b[39;00m(\n\u001b[1;32m   1309\u001b[0m           \u001b[38;5;124m\"\u001b[39m\u001b[38;5;124mnon-zero flags not allowed in calls to recv_into() on \u001b[39m\u001b[38;5;132;01m%s\u001b[39;00m\u001b[38;5;124m\"\u001b[39m \u001b[38;5;241m%\u001b[39m\n\u001b[1;32m   1310\u001b[0m           \u001b[38;5;28mself\u001b[39m\u001b[38;5;241m.\u001b[39m\u001b[38;5;18m__class__\u001b[39m)\n\u001b[0;32m-> 1311\u001b[0m     \u001b[38;5;28;01mreturn\u001b[39;00m \u001b[38;5;28mself\u001b[39m\u001b[38;5;241m.\u001b[39mread(nbytes, buffer)\n\u001b[1;32m   1312\u001b[0m \u001b[38;5;28;01melse\u001b[39;00m:\n\u001b[1;32m   1313\u001b[0m     \u001b[38;5;28;01mreturn\u001b[39;00m \u001b[38;5;28msuper\u001b[39m()\u001b[38;5;241m.\u001b[39mrecv_into(buffer, nbytes, flags)\n",
      "File \u001b[0;32m~/anaconda3/envs/230821TestEntsoe/lib/python3.11/ssl.py:1167\u001b[0m, in \u001b[0;36mSSLSocket.read\u001b[0;34m(self, len, buffer)\u001b[0m\n\u001b[1;32m   1165\u001b[0m \u001b[38;5;28;01mtry\u001b[39;00m:\n\u001b[1;32m   1166\u001b[0m     \u001b[38;5;28;01mif\u001b[39;00m buffer \u001b[38;5;129;01mis\u001b[39;00m \u001b[38;5;129;01mnot\u001b[39;00m \u001b[38;5;28;01mNone\u001b[39;00m:\n\u001b[0;32m-> 1167\u001b[0m         \u001b[38;5;28;01mreturn\u001b[39;00m \u001b[38;5;28mself\u001b[39m\u001b[38;5;241m.\u001b[39m_sslobj\u001b[38;5;241m.\u001b[39mread(\u001b[38;5;28mlen\u001b[39m, buffer)\n\u001b[1;32m   1168\u001b[0m     \u001b[38;5;28;01melse\u001b[39;00m:\n\u001b[1;32m   1169\u001b[0m         \u001b[38;5;28;01mreturn\u001b[39;00m \u001b[38;5;28mself\u001b[39m\u001b[38;5;241m.\u001b[39m_sslobj\u001b[38;5;241m.\u001b[39mread(\u001b[38;5;28mlen\u001b[39m)\n",
      "\u001b[0;31mKeyboardInterrupt\u001b[0m: "
     ]
    }
   ],
   "source": [
    "#mappings https://github.com/EnergieID/entsoe-py/blob/079fcd5ce301e2394efa613ea14eb96edc2a77aa/entsoe/mappings.py#L140\n",
    "\n",
    "country_code50 = 'DE_50HZ'  \n",
    "country_codeAMP = 'DE_AMPRION' \n",
    "country_codeTRA = 'DE_TRANSNET' \n",
    "country_codeTEN = 'DE_TENNET' \n",
    "\n",
    "\n",
    "start = dt.datetime(2015,1,1)\n",
    "end = dt.datetime(2024,3,1)\n",
    "\n",
    "telegram_message(\"Los geht es 2015 - 2024\")\n",
    "try:\n",
    "    df_50HZ     = cleanup_generation_data(get_TSO_generation_data(country_code50, start, end))\n",
    "    telegram_message(\"done: df_50HZ done 2015 - 2024\")\n",
    "except:\n",
    "    telegram_message(\"error:df_50HZ done 2015 - 2024\")\n",
    "    \n",
    "\n",
    "try:\n",
    "    df_AMPRION  = cleanup_generation_data(get_TSO_generation_data(country_codeAMP, start, end))\n",
    "    telegram_message(\"done: df_AMPRION done 2015 - 2024\")\n",
    "except:\n",
    "    telegram_message(\"error: df_AMPRION done 2015 - 2024\")\n",
    "    \n",
    "try:    \n",
    "    df_TRANSNET = cleanup_generation_data(get_TSO_generation_data(country_codeTRA, start, end))\n",
    "    telegram_message(\"done: df_TRANSNET done 2015 - 2024\")\n",
    "except:\n",
    "    telegram_message(\"error: df_TRANSNET done 2015 - 2024\")\n",
    "\n",
    "try:\n",
    "    df_TENNET   = cleanup_generation_data(get_TSO_generation_data(country_codeTEN, start, end))\n",
    "    telegram_message(\"done: df_TENNET done 2015 - 2024\")\n",
    "except:\n",
    "    telegram_message(\"error: df_TENNET done 2015 - 2024\")\n",
    "\n",
    "#Export data sets to file\n",
    "df_50HZ.to_parquet(\"data/2015-2024_df_50HZ.parquet\")\n",
    "df_AMPRION.to_parquet(\"data/2015-2024_df_AMPRION.parquet\")\n",
    "df_TRANSNET.to_parquet(\"data/2015-2024_df_TRANSNET.parquet\")\n",
    "df_TENNET.to_parquet(\"data/2015-2024_df_TENNET.parquet\")\n",
    "\n"
   ]
  },
  {
   "cell_type": "markdown",
   "id": "8ed75a88",
   "metadata": {},
   "source": [
    "### Download day-ahead price data\n",
    "\n",
    "Entso-E Api provides day-ahead prices for german geozone:\n",
    "- DE_AT_LU from 2015-01-05 to 2018-09-30\n",
    "- DE_LU from 2018-10-01 to now"
   ]
  },
  {
   "cell_type": "code",
   "execution_count": 156,
   "id": "11c88668",
   "metadata": {
    "ExecuteTime": {
     "end_time": "2024-04-27T20:06:39.276665Z",
     "start_time": "2024-04-27T20:06:39.272139Z"
    }
   },
   "outputs": [],
   "source": [
    "def get_day_ahead_price(geozone, start, end):\n",
    "    client = EntsoePandasClient(api_key=API_KEY)\n",
    "    start = pd.Timestamp(start, tz='Europe/Berlin')\n",
    "    end = pd.Timestamp(end, tz='Europe/Berlin')\n",
    "    return client.query_day_ahead_prices(geozone, start=start,end=end)"
   ]
  },
  {
   "cell_type": "code",
   "execution_count": 170,
   "id": "97228e60",
   "metadata": {
    "ExecuteTime": {
     "end_time": "2024-04-27T20:22:53.738469Z",
     "start_time": "2024-04-27T20:19:26.142507Z"
    }
   },
   "outputs": [],
   "source": [
    "client = EntsoePandasClient(api_key=API_KEY)\n",
    "start_dap = pd.Timestamp('20150101', tz='Europe/Berlin')\n",
    "end_dap = pd.Timestamp('20240301', tz='Europe/Berlin')\n",
    "\n",
    "dap_DE_AT_LU = client.query_day_ahead_prices('DE_AT_LU', start=start_dap, end=end_dap)\n",
    "dap_DE_LU = client.query_day_ahead_prices('DE_LU', start=start_dap, end=end_dap)"
   ]
  },
  {
   "cell_type": "markdown",
   "id": "a17a59c3",
   "metadata": {},
   "source": [
    "### Merge dap_DE_LU & dap_DE_AT_LU and save as file"
   ]
  },
  {
   "cell_type": "code",
   "execution_count": 171,
   "id": "35757ffb",
   "metadata": {
    "ExecuteTime": {
     "end_time": "2024-04-27T20:23:43.786647Z",
     "start_time": "2024-04-27T20:23:43.503025Z"
    },
    "scrolled": true
   },
   "outputs": [
    {
     "data": {
      "text/plain": [
       "2015-01-05 00:00:00+01:00    22.34\n",
       "2015-01-05 01:00:00+01:00    17.93\n",
       "2015-01-05 02:00:00+01:00    15.17\n",
       "2015-01-05 03:00:00+01:00    16.38\n",
       "2015-01-05 04:00:00+01:00    17.38\n",
       "                             ...  \n",
       "2024-02-29 20:00:00+01:00    72.77\n",
       "2024-02-29 21:00:00+01:00    67.25\n",
       "2024-02-29 22:00:00+01:00    64.90\n",
       "2024-02-29 23:00:00+01:00    60.90\n",
       "2024-03-01 00:00:00+01:00    62.04\n",
       "Freq: 60min, Length: 80233, dtype: float64"
      ]
     },
     "execution_count": 171,
     "metadata": {},
     "output_type": "execute_result"
    }
   ],
   "source": [
    "dap_DE = pd.concat([dap_DE_AT_LU, dap_DE_LU])\n",
    "dap_DE.to_pickle(\"data/2015-2024_DAP_DE_Series.pkl\")\n",
    "dap_DE"
   ]
  },
  {
   "cell_type": "markdown",
   "id": "c03faa7e",
   "metadata": {},
   "source": [
    "# Weather data"
   ]
  },
  {
   "cell_type": "markdown",
   "id": "3ef01a96",
   "metadata": {
    "ExecuteTime": {
     "end_time": "2024-03-27T14:21:53.094744Z",
     "start_time": "2024-03-27T14:21:53.083274Z"
    }
   },
   "source": [
    "##### Stations of each TSO zone\n",
    "| Zone | Station Name | station_id obs | station_id forecast | lat | lon | height |\n",
    "|:--------:|:--------:|:--------:|:--------:|:--------:|:--------:|:--------:|\n",
    "| DE_50Hertz   | Potsdam         | 3987| 10379 | 52.23  | 13.04  |  99\n",
    "| DE_AMPRION   | Saarbruecken  | 4336 | 10708 | 49.21  |  7.11 |  320 |\n",
    "| DE_TENNET    | Nuremberg          | 3668 | 10763 | 49.50  |  11.05  |  314 |\n",
    "| DE_TRANSNET  | Konstanz        | 2712 | 10929 | 47.69  |  9.13  |  428 |\n"
   ]
  },
  {
   "cell_type": "code",
   "execution_count": 12,
   "id": "274a0214",
   "metadata": {
    "ExecuteTime": {
     "end_time": "2024-05-05T04:51:02.986783Z",
     "start_time": "2024-05-05T04:51:02.982063Z"
    }
   },
   "outputs": [],
   "source": [
    "#import relevant packages\n",
    "from wetterdienst.provider.dwd.observation import (DwdObservationRequest, \n",
    "                                                   DwdObservationPeriod, \n",
    "                                                   DwdObservationResolution, \n",
    "                                                   DwdObservationParameter, \n",
    "                                                   DwdObservationDataset) # =Observation data (historical data)"
   ]
  },
  {
   "cell_type": "code",
   "execution_count": 13,
   "id": "8eef4342",
   "metadata": {
    "ExecuteTime": {
     "end_time": "2024-05-05T04:51:03.446684Z",
     "start_time": "2024-05-05T04:51:03.442436Z"
    }
   },
   "outputs": [],
   "source": [
    "#define weather params\n",
    "request_parameter = [\n",
    " 'radiation_global',\n",
    " 'sunshine_duration',\n",
    " 'temperature_air_mean_200',\n",
    " 'temperature_dew_point_mean_200',\n",
    " 'wind_direction',\n",
    " 'wind_speed']"
   ]
  },
  {
   "cell_type": "markdown",
   "id": "44f533e4",
   "metadata": {},
   "source": [
    "### Call weather data"
   ]
  },
  {
   "cell_type": "code",
   "execution_count": 14,
   "id": "c05d5a42",
   "metadata": {
    "ExecuteTime": {
     "end_time": "2024-05-05T04:51:07.593477Z",
     "start_time": "2024-05-05T04:51:07.589433Z"
    }
   },
   "outputs": [],
   "source": [
    "start_weather = dt.datetime(2014,12,31)\n",
    "end_weather = dt.datetime(2024,3,2)"
   ]
  },
  {
   "cell_type": "code",
   "execution_count": 16,
   "id": "bec989cc",
   "metadata": {
    "ExecuteTime": {
     "end_time": "2024-05-05T04:51:09.530776Z",
     "start_time": "2024-05-05T04:51:09.521824Z"
    }
   },
   "outputs": [],
   "source": [
    "# DWD Request\n",
    "def dwd_request(request_parameter, start, end, station_id):\n",
    "    request = DwdObservationRequest(\n",
    "        parameter=request_parameter,\n",
    "        resolution=DwdObservationResolution.HOURLY,\n",
    "        start_date=start_weather,\n",
    "        end_date=end_weather,\n",
    "    ).filter_by_station_id(station_id=[station_id])\n",
    "    return request.values.all().df.to_pandas()\n",
    "\n",
    "# function to loop every weather param in one DWD request\n",
    "def concatenate_df(station_id, start_weather, end_weather):\n",
    "    df_list=[]\n",
    "    for req in request_parameter:\n",
    "        print(req)\n",
    "        egal = dwd_request(req,start_weather,end_weather,station_id)#.head(1))\n",
    "        egal = egal.set_index(\"date\")\n",
    "        egal = egal.rename(columns={\"value\":req})\n",
    "        egal = egal.drop(columns=[\"station_id\",\"dataset\",\"parameter\",\"quality\"])\n",
    "        df_list.append(egal)\n",
    "    return pd.concat(df_list, axis=1)"
   ]
  },
  {
   "cell_type": "code",
   "execution_count": 18,
   "id": "5e1aef71",
   "metadata": {
    "ExecuteTime": {
     "end_time": "2024-05-05T04:52:24.956958Z",
     "start_time": "2024-05-05T04:51:39.162867Z"
    },
    "scrolled": true
   },
   "outputs": [
    {
     "name": "stdout",
     "output_type": "stream",
     "text": [
      "radiation_global\n"
     ]
    },
    {
     "name": "stderr",
     "output_type": "stream",
     "text": [
      "sys:1: MapWithoutReturnDtypeWarning: Calling `map_elements` without specifying `return_dtype` can lead to unpredictable results. Specify `return_dtype` to silence this warning.\n",
      "sys:1: MapWithoutReturnDtypeWarning: Calling `map_elements` without specifying `return_dtype` can lead to unpredictable results. Specify `return_dtype` to silence this warning.\n",
      "sys:1: MapWithoutReturnDtypeWarning: Calling `map_elements` without specifying `return_dtype` can lead to unpredictable results. Specify `return_dtype` to silence this warning.\n",
      "sys:1: MapWithoutReturnDtypeWarning: Calling `map_elements` without specifying `return_dtype` can lead to unpredictable results. Specify `return_dtype` to silence this warning.\n",
      "sys:1: MapWithoutReturnDtypeWarning: Calling `map_elements` without specifying `return_dtype` can lead to unpredictable results. Specify `return_dtype` to silence this warning.\n",
      "sys:1: MapWithoutReturnDtypeWarning: Calling `map_elements` without specifying `return_dtype` can lead to unpredictable results. Specify `return_dtype` to silence this warning.\n",
      "sys:1: MapWithoutReturnDtypeWarning: Calling `map_elements` without specifying `return_dtype` can lead to unpredictable results. Specify `return_dtype` to silence this warning.\n",
      "sys:1: MapWithoutReturnDtypeWarning: Calling `map_elements` without specifying `return_dtype` can lead to unpredictable results. Specify `return_dtype` to silence this warning.\n",
      "sys:1: MapWithoutReturnDtypeWarning: Calling `map_elements` without specifying `return_dtype` can lead to unpredictable results. Specify `return_dtype` to silence this warning.\n",
      "sys:1: MapWithoutReturnDtypeWarning: Calling `map_elements` without specifying `return_dtype` can lead to unpredictable results. Specify `return_dtype` to silence this warning.\n",
      "sys:1: MapWithoutReturnDtypeWarning: Calling `map_elements` without specifying `return_dtype` can lead to unpredictable results. Specify `return_dtype` to silence this warning.\n",
      "sys:1: MapWithoutReturnDtypeWarning: Calling `map_elements` without specifying `return_dtype` can lead to unpredictable results. Specify `return_dtype` to silence this warning.\n",
      "sys:1: MapWithoutReturnDtypeWarning: Calling `map_elements` without specifying `return_dtype` can lead to unpredictable results. Specify `return_dtype` to silence this warning.\n",
      "sys:1: MapWithoutReturnDtypeWarning: Calling `map_elements` without specifying `return_dtype` can lead to unpredictable results. Specify `return_dtype` to silence this warning.\n",
      "sys:1: MapWithoutReturnDtypeWarning: Calling `map_elements` without specifying `return_dtype` can lead to unpredictable results. Specify `return_dtype` to silence this warning.\n",
      "sys:1: MapWithoutReturnDtypeWarning: Calling `map_elements` without specifying `return_dtype` can lead to unpredictable results. Specify `return_dtype` to silence this warning.\n",
      "sys:1: MapWithoutReturnDtypeWarning: Calling `map_elements` without specifying `return_dtype` can lead to unpredictable results. Specify `return_dtype` to silence this warning.\n",
      "sys:1: MapWithoutReturnDtypeWarning: Calling `map_elements` without specifying `return_dtype` can lead to unpredictable results. Specify `return_dtype` to silence this warning.\n",
      "sys:1: MapWithoutReturnDtypeWarning: Calling `map_elements` without specifying `return_dtype` can lead to unpredictable results. Specify `return_dtype` to silence this warning.\n",
      "sys:1: MapWithoutReturnDtypeWarning: Calling `map_elements` without specifying `return_dtype` can lead to unpredictable results. Specify `return_dtype` to silence this warning.\n"
     ]
    },
    {
     "name": "stdout",
     "output_type": "stream",
     "text": [
      "sunshine_duration\n",
      "temperature_air_mean_200\n",
      "temperature_dew_point_mean_200\n",
      "wind_direction\n",
      "wind_speed\n",
      "radiation_global\n"
     ]
    },
    {
     "name": "stderr",
     "output_type": "stream",
     "text": [
      "sys:1: MapWithoutReturnDtypeWarning: Calling `map_elements` without specifying `return_dtype` can lead to unpredictable results. Specify `return_dtype` to silence this warning.\n",
      "sys:1: MapWithoutReturnDtypeWarning: Calling `map_elements` without specifying `return_dtype` can lead to unpredictable results. Specify `return_dtype` to silence this warning.\n",
      "sys:1: MapWithoutReturnDtypeWarning: Calling `map_elements` without specifying `return_dtype` can lead to unpredictable results. Specify `return_dtype` to silence this warning.\n",
      "sys:1: MapWithoutReturnDtypeWarning: Calling `map_elements` without specifying `return_dtype` can lead to unpredictable results. Specify `return_dtype` to silence this warning.\n",
      "sys:1: MapWithoutReturnDtypeWarning: Calling `map_elements` without specifying `return_dtype` can lead to unpredictable results. Specify `return_dtype` to silence this warning.\n",
      "sys:1: MapWithoutReturnDtypeWarning: Calling `map_elements` without specifying `return_dtype` can lead to unpredictable results. Specify `return_dtype` to silence this warning.\n",
      "sys:1: MapWithoutReturnDtypeWarning: Calling `map_elements` without specifying `return_dtype` can lead to unpredictable results. Specify `return_dtype` to silence this warning.\n",
      "sys:1: MapWithoutReturnDtypeWarning: Calling `map_elements` without specifying `return_dtype` can lead to unpredictable results. Specify `return_dtype` to silence this warning.\n",
      "sys:1: MapWithoutReturnDtypeWarning: Calling `map_elements` without specifying `return_dtype` can lead to unpredictable results. Specify `return_dtype` to silence this warning.\n",
      "sys:1: MapWithoutReturnDtypeWarning: Calling `map_elements` without specifying `return_dtype` can lead to unpredictable results. Specify `return_dtype` to silence this warning.\n",
      "sys:1: MapWithoutReturnDtypeWarning: Calling `map_elements` without specifying `return_dtype` can lead to unpredictable results. Specify `return_dtype` to silence this warning.\n",
      "sys:1: MapWithoutReturnDtypeWarning: Calling `map_elements` without specifying `return_dtype` can lead to unpredictable results. Specify `return_dtype` to silence this warning.\n",
      "sys:1: MapWithoutReturnDtypeWarning: Calling `map_elements` without specifying `return_dtype` can lead to unpredictable results. Specify `return_dtype` to silence this warning.\n",
      "sys:1: MapWithoutReturnDtypeWarning: Calling `map_elements` without specifying `return_dtype` can lead to unpredictable results. Specify `return_dtype` to silence this warning.\n",
      "sys:1: MapWithoutReturnDtypeWarning: Calling `map_elements` without specifying `return_dtype` can lead to unpredictable results. Specify `return_dtype` to silence this warning.\n",
      "sys:1: MapWithoutReturnDtypeWarning: Calling `map_elements` without specifying `return_dtype` can lead to unpredictable results. Specify `return_dtype` to silence this warning.\n",
      "sys:1: MapWithoutReturnDtypeWarning: Calling `map_elements` without specifying `return_dtype` can lead to unpredictable results. Specify `return_dtype` to silence this warning.\n",
      "sys:1: MapWithoutReturnDtypeWarning: Calling `map_elements` without specifying `return_dtype` can lead to unpredictable results. Specify `return_dtype` to silence this warning.\n",
      "sys:1: MapWithoutReturnDtypeWarning: Calling `map_elements` without specifying `return_dtype` can lead to unpredictable results. Specify `return_dtype` to silence this warning.\n",
      "sys:1: MapWithoutReturnDtypeWarning: Calling `map_elements` without specifying `return_dtype` can lead to unpredictable results. Specify `return_dtype` to silence this warning.\n"
     ]
    },
    {
     "name": "stdout",
     "output_type": "stream",
     "text": [
      "sunshine_duration\n",
      "temperature_air_mean_200\n",
      "temperature_dew_point_mean_200\n",
      "wind_direction\n",
      "wind_speed\n",
      "radiation_global\n"
     ]
    },
    {
     "name": "stderr",
     "output_type": "stream",
     "text": [
      "sys:1: MapWithoutReturnDtypeWarning: Calling `map_elements` without specifying `return_dtype` can lead to unpredictable results. Specify `return_dtype` to silence this warning.\n",
      "sys:1: MapWithoutReturnDtypeWarning: Calling `map_elements` without specifying `return_dtype` can lead to unpredictable results. Specify `return_dtype` to silence this warning.\n",
      "sys:1: MapWithoutReturnDtypeWarning: Calling `map_elements` without specifying `return_dtype` can lead to unpredictable results. Specify `return_dtype` to silence this warning.\n",
      "sys:1: MapWithoutReturnDtypeWarning: Calling `map_elements` without specifying `return_dtype` can lead to unpredictable results. Specify `return_dtype` to silence this warning.\n",
      "sys:1: MapWithoutReturnDtypeWarning: Calling `map_elements` without specifying `return_dtype` can lead to unpredictable results. Specify `return_dtype` to silence this warning.\n",
      "sys:1: MapWithoutReturnDtypeWarning: Calling `map_elements` without specifying `return_dtype` can lead to unpredictable results. Specify `return_dtype` to silence this warning.\n",
      "sys:1: MapWithoutReturnDtypeWarning: Calling `map_elements` without specifying `return_dtype` can lead to unpredictable results. Specify `return_dtype` to silence this warning.\n",
      "sys:1: MapWithoutReturnDtypeWarning: Calling `map_elements` without specifying `return_dtype` can lead to unpredictable results. Specify `return_dtype` to silence this warning.\n",
      "sys:1: MapWithoutReturnDtypeWarning: Calling `map_elements` without specifying `return_dtype` can lead to unpredictable results. Specify `return_dtype` to silence this warning.\n",
      "sys:1: MapWithoutReturnDtypeWarning: Calling `map_elements` without specifying `return_dtype` can lead to unpredictable results. Specify `return_dtype` to silence this warning.\n",
      "sys:1: MapWithoutReturnDtypeWarning: Calling `map_elements` without specifying `return_dtype` can lead to unpredictable results. Specify `return_dtype` to silence this warning.\n",
      "sys:1: MapWithoutReturnDtypeWarning: Calling `map_elements` without specifying `return_dtype` can lead to unpredictable results. Specify `return_dtype` to silence this warning.\n",
      "sys:1: MapWithoutReturnDtypeWarning: Calling `map_elements` without specifying `return_dtype` can lead to unpredictable results. Specify `return_dtype` to silence this warning.\n",
      "sys:1: MapWithoutReturnDtypeWarning: Calling `map_elements` without specifying `return_dtype` can lead to unpredictable results. Specify `return_dtype` to silence this warning.\n",
      "sys:1: MapWithoutReturnDtypeWarning: Calling `map_elements` without specifying `return_dtype` can lead to unpredictable results. Specify `return_dtype` to silence this warning.\n",
      "sys:1: MapWithoutReturnDtypeWarning: Calling `map_elements` without specifying `return_dtype` can lead to unpredictable results. Specify `return_dtype` to silence this warning.\n",
      "sys:1: MapWithoutReturnDtypeWarning: Calling `map_elements` without specifying `return_dtype` can lead to unpredictable results. Specify `return_dtype` to silence this warning.\n",
      "sys:1: MapWithoutReturnDtypeWarning: Calling `map_elements` without specifying `return_dtype` can lead to unpredictable results. Specify `return_dtype` to silence this warning.\n",
      "sys:1: MapWithoutReturnDtypeWarning: Calling `map_elements` without specifying `return_dtype` can lead to unpredictable results. Specify `return_dtype` to silence this warning.\n",
      "sys:1: MapWithoutReturnDtypeWarning: Calling `map_elements` without specifying `return_dtype` can lead to unpredictable results. Specify `return_dtype` to silence this warning.\n"
     ]
    },
    {
     "name": "stdout",
     "output_type": "stream",
     "text": [
      "sunshine_duration\n",
      "temperature_air_mean_200\n",
      "temperature_dew_point_mean_200\n",
      "wind_direction\n",
      "wind_speed\n",
      "radiation_global\n"
     ]
    },
    {
     "name": "stderr",
     "output_type": "stream",
     "text": [
      "sys:1: MapWithoutReturnDtypeWarning: Calling `map_elements` without specifying `return_dtype` can lead to unpredictable results. Specify `return_dtype` to silence this warning.\n",
      "sys:1: MapWithoutReturnDtypeWarning: Calling `map_elements` without specifying `return_dtype` can lead to unpredictable results. Specify `return_dtype` to silence this warning.\n",
      "sys:1: MapWithoutReturnDtypeWarning: Calling `map_elements` without specifying `return_dtype` can lead to unpredictable results. Specify `return_dtype` to silence this warning.\n",
      "sys:1: MapWithoutReturnDtypeWarning: Calling `map_elements` without specifying `return_dtype` can lead to unpredictable results. Specify `return_dtype` to silence this warning.\n",
      "sys:1: MapWithoutReturnDtypeWarning: Calling `map_elements` without specifying `return_dtype` can lead to unpredictable results. Specify `return_dtype` to silence this warning.\n",
      "sys:1: MapWithoutReturnDtypeWarning: Calling `map_elements` without specifying `return_dtype` can lead to unpredictable results. Specify `return_dtype` to silence this warning.\n",
      "sys:1: MapWithoutReturnDtypeWarning: Calling `map_elements` without specifying `return_dtype` can lead to unpredictable results. Specify `return_dtype` to silence this warning.\n",
      "sys:1: MapWithoutReturnDtypeWarning: Calling `map_elements` without specifying `return_dtype` can lead to unpredictable results. Specify `return_dtype` to silence this warning.\n",
      "sys:1: MapWithoutReturnDtypeWarning: Calling `map_elements` without specifying `return_dtype` can lead to unpredictable results. Specify `return_dtype` to silence this warning.\n",
      "sys:1: MapWithoutReturnDtypeWarning: Calling `map_elements` without specifying `return_dtype` can lead to unpredictable results. Specify `return_dtype` to silence this warning.\n",
      "sys:1: MapWithoutReturnDtypeWarning: Calling `map_elements` without specifying `return_dtype` can lead to unpredictable results. Specify `return_dtype` to silence this warning.\n",
      "sys:1: MapWithoutReturnDtypeWarning: Calling `map_elements` without specifying `return_dtype` can lead to unpredictable results. Specify `return_dtype` to silence this warning.\n",
      "sys:1: MapWithoutReturnDtypeWarning: Calling `map_elements` without specifying `return_dtype` can lead to unpredictable results. Specify `return_dtype` to silence this warning.\n",
      "sys:1: MapWithoutReturnDtypeWarning: Calling `map_elements` without specifying `return_dtype` can lead to unpredictable results. Specify `return_dtype` to silence this warning.\n",
      "sys:1: MapWithoutReturnDtypeWarning: Calling `map_elements` without specifying `return_dtype` can lead to unpredictable results. Specify `return_dtype` to silence this warning.\n",
      "sys:1: MapWithoutReturnDtypeWarning: Calling `map_elements` without specifying `return_dtype` can lead to unpredictable results. Specify `return_dtype` to silence this warning.\n",
      "sys:1: MapWithoutReturnDtypeWarning: Calling `map_elements` without specifying `return_dtype` can lead to unpredictable results. Specify `return_dtype` to silence this warning.\n",
      "sys:1: MapWithoutReturnDtypeWarning: Calling `map_elements` without specifying `return_dtype` can lead to unpredictable results. Specify `return_dtype` to silence this warning.\n",
      "sys:1: MapWithoutReturnDtypeWarning: Calling `map_elements` without specifying `return_dtype` can lead to unpredictable results. Specify `return_dtype` to silence this warning.\n",
      "sys:1: MapWithoutReturnDtypeWarning: Calling `map_elements` without specifying `return_dtype` can lead to unpredictable results. Specify `return_dtype` to silence this warning.\n"
     ]
    },
    {
     "name": "stdout",
     "output_type": "stream",
     "text": [
      "sunshine_duration\n",
      "temperature_air_mean_200\n",
      "temperature_dew_point_mean_200\n",
      "wind_direction\n",
      "wind_speed\n"
     ]
    }
   ],
   "source": [
    "start_weather = dt.datetime(2014,12,31)\n",
    "end_weather = dt.datetime(2024,3,2)\n",
    "\n",
    "# call weather data\n",
    "weather_hist_DE_50Hertz  = concatenate_df(\"03987\", start_weather, end_weather)\n",
    "weather_hist_DE_AMPRION  = concatenate_df(\"4336\", start_weather, end_weather)\n",
    "weather_hist_DE_TENNET   = concatenate_df(\"3668\", start_weather, end_weather)\n",
    "weather_hist_DE_TRANSNET = concatenate_df(\"2712\", start_weather, end_weather)\n",
    "\n",
    "# convert timezone to Europe/Berlin (aligned with generation data)\n",
    "weather_hist_DE_50Hertz  = weather_hist_DE_50Hertz.tz_convert(\"Europe/Berlin\")\n",
    "weather_hist_DE_AMPRION  = weather_hist_DE_AMPRION.tz_convert(\"Europe/Berlin\")\n",
    "weather_hist_DE_TENNET   = weather_hist_DE_TENNET.tz_convert(\"Europe/Berlin\")\n",
    "weather_hist_DE_TRANSNET = weather_hist_DE_TRANSNET.tz_convert(\"Europe/Berlin\")"
   ]
  },
  {
   "cell_type": "code",
   "execution_count": 20,
   "id": "99368ccf",
   "metadata": {
    "ExecuteTime": {
     "end_time": "2024-05-05T04:53:10.828837Z",
     "start_time": "2024-05-05T04:53:10.734278Z"
    }
   },
   "outputs": [],
   "source": [
    "#save weather data\n",
    "weather_hist_DE_50Hertz.to_parquet(\"data/weather_hist_DE_50Hertz.parquet\")\n",
    "weather_hist_DE_AMPRION.to_parquet(\"data/weather_hist_DE_AMPRION.parquet\") \n",
    "weather_hist_DE_TENNET.to_parquet(\"data/weather_hist_DE_TENNET.parquet\")   \n",
    "weather_hist_DE_TRANSNET.to_parquet(\"data/weather_hist_DE_TRANSNET.parquet\")\n",
    "\n"
   ]
  }
 ],
 "metadata": {
  "kernelspec": {
   "display_name": "230821TestEntsoe",
   "language": "python",
   "name": "230821testentsoe"
  },
  "language_info": {
   "codemirror_mode": {
    "name": "ipython",
    "version": 3
   },
   "file_extension": ".py",
   "mimetype": "text/x-python",
   "name": "python",
   "nbconvert_exporter": "python",
   "pygments_lexer": "ipython3",
   "version": "3.11.5"
  }
 },
 "nbformat": 4,
 "nbformat_minor": 5
}
